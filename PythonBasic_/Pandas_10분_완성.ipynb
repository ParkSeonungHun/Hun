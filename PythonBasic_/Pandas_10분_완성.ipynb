{
  "nbformat": 4,
  "nbformat_minor": 0,
  "metadata": {
    "colab": {
      "name": "Pandas 10분 완성.ipynb",
      "provenance": [],
      "toc_visible": true,
      "authorship_tag": "ABX9TyPeKgY0waH61oo12UpJ3mGt",
      "include_colab_link": true
    },
    "kernelspec": {
      "name": "python3",
      "display_name": "Python 3"
    }
  },
  "cells": [
    {
      "cell_type": "markdown",
      "metadata": {
        "id": "view-in-github",
        "colab_type": "text"
      },
      "source": [
        "<a href=\"https://colab.research.google.com/github/ParkSeonungHun/Hun/blob/main/PythonBasic_/Pandas_10%EB%B6%84_%EC%99%84%EC%84%B1.ipynb\" target=\"_parent\"><img src=\"https://colab.research.google.com/assets/colab-badge.svg\" alt=\"Open In Colab\"/></a>"
      ]
    },
    {
      "cell_type": "code",
      "metadata": {
        "id": "Q9jZHcscQcOg"
      },
      "source": [
        "import pandas as pd"
      ],
      "execution_count": null,
      "outputs": []
    },
    {
      "cell_type": "code",
      "metadata": {
        "id": "8Z88Y0Kid7i6"
      },
      "source": [
        ""
      ],
      "execution_count": null,
      "outputs": []
    },
    {
      "cell_type": "code",
      "metadata": {
        "id": "GADKMG4DQx5n"
      },
      "source": [
        "import numpy as np"
      ],
      "execution_count": null,
      "outputs": []
    },
    {
      "cell_type": "code",
      "metadata": {
        "id": "irRF-PhVQ1eS"
      },
      "source": [
        "import matplotlib.pyplot as plt"
      ],
      "execution_count": null,
      "outputs": []
    },
    {
      "cell_type": "markdown",
      "metadata": {
        "id": "br5x7KR5TKj-"
      },
      "source": [
        "# 1.Object Creation (객체 생성)\n",
        "데이터 구조 소개 섹션을 참조하세요.\n",
        "\n",
        "Pandas는 값을 가지고 있는 리스트를 통해 Series를 만들고, 정수로 만들어진 인덱스를 기본값으로 불러올 것입니다."
      ]
    },
    {
      "cell_type": "code",
      "metadata": {
        "id": "q0M32b2WQ78K"
      },
      "source": [
        "s = pd.Series([1,3,5,np.nan,6,8])"
      ],
      "execution_count": null,
      "outputs": []
    },
    {
      "cell_type": "code",
      "metadata": {
        "id": "c3A4wFLLRDdL"
      },
      "source": [
        "s"
      ],
      "execution_count": null,
      "outputs": []
    },
    {
      "cell_type": "markdown",
      "metadata": {
        "id": "o-3v47HcTbfH"
      },
      "source": [
        "datetime  인덱스와 레이블이 있는 열을 가지고 있는 numpy 배열을 전달하여 데이터프레임을 만듭니다."
      ]
    },
    {
      "cell_type": "code",
      "metadata": {
        "id": "reqmrFrQRF-j"
      },
      "source": [
        "dates = pd.date_range('20130101', periods=6)"
      ],
      "execution_count": null,
      "outputs": []
    },
    {
      "cell_type": "code",
      "metadata": {
        "id": "V-XY5tKsRZ-6"
      },
      "source": [
        "dates"
      ],
      "execution_count": null,
      "outputs": []
    },
    {
      "cell_type": "code",
      "metadata": {
        "id": "trWxdxljRcGM"
      },
      "source": [
        "df = pd.DataFrame(np.random.randn(6,4), index=dates, columns=list('ABCD'))"
      ],
      "execution_count": null,
      "outputs": []
    },
    {
      "cell_type": "code",
      "metadata": {
        "id": "CRHXNA7lRqXa"
      },
      "source": [
        "df"
      ],
      "execution_count": null,
      "outputs": []
    },
    {
      "cell_type": "markdown",
      "metadata": {
        "id": "47KknXU6Tjxe"
      },
      "source": [
        "Series와 같은 것으로 변환될 수 있는 객체들의 dict로 구성된 데이터프레임을 만듭니다."
      ]
    },
    {
      "cell_type": "code",
      "metadata": {
        "id": "PzGhy0pZSAI2"
      },
      "source": [
        "df2 = pd.DataFrame({'A' : 1.,\n",
        "                    'B' : pd.Timestamp('20130102'),\n",
        "                    'C' : pd.Series(1,index=list(range(4)),dtype='float32'),\n",
        "                    'D' : np.array([3] * 4,dtype='int32'),\n",
        "                    'E' : pd.Categorical([\"test\",\"train\",\"test\",\"train\"]),\n",
        "                    'F' : 'foo' })"
      ],
      "execution_count": null,
      "outputs": []
    },
    {
      "cell_type": "code",
      "metadata": {
        "id": "2OE3ogNPSrh1"
      },
      "source": [
        "df2"
      ],
      "execution_count": null,
      "outputs": []
    },
    {
      "cell_type": "markdown",
      "metadata": {
        "id": "a-mJpZv8TsKN"
      },
      "source": [
        "데이터프레임 결과물의 열은 다양한 데이터 타입 (dtypes)으로 구성됩니다."
      ]
    },
    {
      "cell_type": "code",
      "metadata": {
        "id": "NkoBjxpKTAmF"
      },
      "source": [
        "df2.dtypes"
      ],
      "execution_count": null,
      "outputs": []
    },
    {
      "cell_type": "markdown",
      "metadata": {
        "id": "hBL8MRp5T1Ft"
      },
      "source": [
        "IPython을 이용하고 계시다면 (공용 속성을 포함한) 열 이름에 대한 Tap 자동완성 기능이 자동으로 활성화 됩니다.다음은 완성될 속성에 대한 부분집합 (subset)입니다.\n",
        "\n",
        "역자 주 : 아래 제시된 코드의 경우,IPython이 아닌 환경 (Google Colaborartory,Jupyer 등)에서는 사용이 불가능한 코드인 점에 주의하세요."
      ]
    },
    {
      "cell_type": "code",
      "metadata": {
        "id": "MJnLYu1wUaUI"
      },
      "source": [
        "# df2.<TAB>"
      ],
      "execution_count": null,
      "outputs": []
    },
    {
      "cell_type": "markdown",
      "metadata": {
        "id": "tE_xR77fUdh2"
      },
      "source": [
        "역자 주 : IPython에서 실행하면 다음과 같은 결과값이 나옵니다.\n",
        "\n",
        "df2.A                  \n",
        "df2.abs\n",
        "\n",
        "df2.add\n",
        "\n",
        "df2.add_prefix\n",
        "\n",
        "df2.add_suffix\n",
        "\n",
        "df2.align\n",
        "\n",
        "df2.all\n",
        "\n",
        "df2.any\n",
        "\n",
        "df2.append\n",
        "\n",
        "df2.apply\n",
        "\n",
        "df2.applymap\n",
        "\n",
        "df2.D\n",
        "\n",
        "df2.bool\n",
        "\n",
        "df2.boxplot\n",
        "\n",
        "df2.C\n",
        "\n",
        "df2.clip\n",
        "\n",
        "df2.clip_lower\n",
        "\n",
        "df2.clip_upper\n",
        "\n",
        "df2.columns\n",
        "\n",
        "df2.combine\n",
        "\n",
        "df2.combine_first\n",
        "\n",
        "df2.compound\n",
        "\n",
        "df2.consolidate"
      ]
    },
    {
      "cell_type": "markdown",
      "metadata": {
        "id": "VWO27hGwVM90"
      },
      "source": [
        "보시다시피A,B,C,D열이 탭 자동완성 기능으로 실행됩니다. 물론 E도 있습니다. 나머지 속성들은 간결하게 잘라 버렸습니다."
      ]
    },
    {
      "cell_type": "markdown",
      "metadata": {
        "id": "XnT_NRxnVWCG"
      },
      "source": [
        "# 2.Viewing Data (데이터 확인하기)\n",
        "\n",
        "Basic Section을 참조하세요.\n",
        "\n",
        "데이터프레임의 가장 윗 줄과 마지막 줄을 확인하고 싶을 때에 사용하는 방법은 다음과 같습니다.\n",
        "\n",
        "역자 주:괄호()안에는 숫자가 들어갈 수도 있고 안 들어갈 수도 있습니다.숫자가 들어간다면,윗/마지막 줄의 특정 줄을 불러올 수 있습니다.숫자가 들어가지 않다면,기본값인 5로 처리됩니다.\n",
        "\n",
        "\n",
        "예시\n",
        "\n",
        "df.tail(3)  # 끝에서 마지막 3줄을 불러옴\n",
        "\n",
        "df.tail() # 끝에서 마지막 5줄 불러옴\n"
      ]
    },
    {
      "cell_type": "code",
      "metadata": {
        "id": "Dqi4mZv0V4xs"
      },
      "source": [
        "df.head()"
      ],
      "execution_count": null,
      "outputs": []
    },
    {
      "cell_type": "code",
      "metadata": {
        "id": "I2sHWWz1V8S7"
      },
      "source": [
        "df.tail(3)"
      ],
      "execution_count": null,
      "outputs": []
    },
    {
      "cell_type": "markdown",
      "metadata": {
        "id": "nhNmxoOsWBsK"
      },
      "source": [
        "인덱스 (index), 열(column)그리고 numpy 데이터에 대한 세부 정보를 봅니다."
      ]
    },
    {
      "cell_type": "code",
      "metadata": {
        "id": "D1cywIyZWI_D"
      },
      "source": [
        "df.index"
      ],
      "execution_count": null,
      "outputs": []
    },
    {
      "cell_type": "code",
      "metadata": {
        "id": "kSSkia9VWLz_"
      },
      "source": [
        "df.columns"
      ],
      "execution_count": null,
      "outputs": []
    },
    {
      "cell_type": "code",
      "metadata": {
        "id": "-IFuypcfWRgn"
      },
      "source": [
        "df.values"
      ],
      "execution_count": null,
      "outputs": []
    },
    {
      "cell_type": "markdown",
      "metadata": {
        "id": "QGWjGhlPWVg4"
      },
      "source": [
        "describe()는 데이터의 대략적인 통계적 정보 요약을 보여줍니다."
      ]
    },
    {
      "cell_type": "code",
      "metadata": {
        "id": "XHZfaReFWaej"
      },
      "source": [
        "df.describe()"
      ],
      "execution_count": null,
      "outputs": []
    },
    {
      "cell_type": "markdown",
      "metadata": {
        "id": "-CU1SJfPWjol"
      },
      "source": [
        "데이터를 전치합니다."
      ]
    },
    {
      "cell_type": "code",
      "metadata": {
        "id": "gHiuzdPEWlIb"
      },
      "source": [
        "df.T"
      ],
      "execution_count": null,
      "outputs": []
    },
    {
      "cell_type": "markdown",
      "metadata": {
        "id": "8BjRTp6NWrV2"
      },
      "source": [
        "축 별로 정렬합니다."
      ]
    },
    {
      "cell_type": "code",
      "metadata": {
        "id": "MAU1HkExWsm4"
      },
      "source": [
        "df.sort_index(axis=1, ascending=False)"
      ],
      "execution_count": null,
      "outputs": []
    },
    {
      "cell_type": "markdown",
      "metadata": {
        "id": "0LIdpBMeWygf"
      },
      "source": [
        "값 별로 정렬합니다."
      ]
    },
    {
      "cell_type": "code",
      "metadata": {
        "id": "jmK6wl7VW0Gr"
      },
      "source": [
        "df.sort_values(by='B')"
      ],
      "execution_count": null,
      "outputs": []
    },
    {
      "cell_type": "markdown",
      "metadata": {
        "id": "rHxP2l1xW51j"
      },
      "source": [
        "# 3.Selection (선택)\n",
        "\n",
        "주석 (Note) : 선택과 설정을 위한 Python/Numpy의 표준화된 표현들이 직관적이며,코드 작성을 위한 양방향 작업에 유용하지만 우리는 Pandas에 최적화된 데이터 접근 방법인 .at, .iat, .iloc을 추천합니다.\n",
        "\n",
        "데이터 인덱싱 및 선택 문서와 다중 인덱싱 / 심화 인덱싱 문서를 참조하세요."
      ]
    },
    {
      "cell_type": "markdown",
      "metadata": {
        "id": "sS1Y_lbjXSSK"
      },
      "source": [
        "## Getting (데이터 얻기)\n",
        "\n",
        "df.A 와 동일한 Series를 생성하는 단일 열을 선택합니다."
      ]
    },
    {
      "cell_type": "code",
      "metadata": {
        "id": "QUp4Tg2WXZR2"
      },
      "source": [
        "df['A']"
      ],
      "execution_count": null,
      "outputs": []
    },
    {
      "cell_type": "markdown",
      "metadata": {
        "id": "qrq0Bu4UXhS6"
      },
      "source": [
        "행을 분할하는 []를 통해 선택합니다."
      ]
    },
    {
      "cell_type": "code",
      "metadata": {
        "id": "OtCZUAZYXj4B"
      },
      "source": [
        "df[0:3]"
      ],
      "execution_count": null,
      "outputs": []
    },
    {
      "cell_type": "code",
      "metadata": {
        "id": "AqPVNuk_XnYL"
      },
      "source": [
        "df['20130102':'20130104']"
      ],
      "execution_count": null,
      "outputs": []
    },
    {
      "cell_type": "markdown",
      "metadata": {
        "id": "Goq8I19HXsnP"
      },
      "source": [
        "## Selection by Label (Label 을 통한 선택)\n",
        "\n",
        "Label을 통한 선택에서 더 많은 내용을 확인하세요.\n",
        "\n",
        "라벨을 사용하여 횡단면을 얻습니다."
      ]
    },
    {
      "cell_type": "code",
      "metadata": {
        "id": "3ViA3BfNX3AY"
      },
      "source": [
        "df.loc[dates[0]]"
      ],
      "execution_count": null,
      "outputs": []
    },
    {
      "cell_type": "markdown",
      "metadata": {
        "id": "S0nCL-_-X62F"
      },
      "source": [
        "라벨을 사용하여 여러 축 (의 데이터)을 얻습니다."
      ]
    },
    {
      "cell_type": "code",
      "metadata": {
        "id": "jcViv5ExX_rq"
      },
      "source": [
        "df.loc[:,['A','B']]"
      ],
      "execution_count": null,
      "outputs": []
    },
    {
      "cell_type": "markdown",
      "metadata": {
        "id": "nCD8B9A4YGhx"
      },
      "source": [
        "양쪽 종단점을 포함한 라벨 슬라이싱을 봅니다."
      ]
    },
    {
      "cell_type": "code",
      "metadata": {
        "id": "GjcGR5CeYI0Q"
      },
      "source": [
        "df.loc['20130102':'20130104',['A','B']]"
      ],
      "execution_count": null,
      "outputs": []
    },
    {
      "cell_type": "markdown",
      "metadata": {
        "id": "MuWjBQUUYPc-"
      },
      "source": [
        "반환되는 객체의 차원을 줄입니다."
      ]
    },
    {
      "cell_type": "code",
      "metadata": {
        "id": "pCqbngVBYT0n"
      },
      "source": [
        "df.loc['20130102',['A','B']]"
      ],
      "execution_count": null,
      "outputs": []
    },
    {
      "cell_type": "markdown",
      "metadata": {
        "id": "6yW2wx05Ya3F"
      },
      "source": [
        "스킬라 값을 얻습니다."
      ]
    },
    {
      "cell_type": "code",
      "metadata": {
        "id": "nyorkyc8YctF"
      },
      "source": [
        "df.loc[dates[0],'A']"
      ],
      "execution_count": null,
      "outputs": []
    },
    {
      "cell_type": "markdown",
      "metadata": {
        "id": "EosLU_O2YhiM"
      },
      "source": [
        "스킬라 값을 더 빠르게 구하는 방법입니다(앞선 메소드와 동일합니다)."
      ]
    },
    {
      "cell_type": "code",
      "metadata": {
        "id": "gj8yBs7vYnT8"
      },
      "source": [
        "df.at[dates[0],'A']"
      ],
      "execution_count": null,
      "outputs": []
    },
    {
      "cell_type": "markdown",
      "metadata": {
        "id": "0U6svN_MYtcD"
      },
      "source": [
        "## Selection by Position (위치로 선택하기)\n",
        "\n",
        "자세한 내용은 위치로 선택하기를 참고해주세요.\n",
        "\n",
        "넘겨받은 정수의 위치를 기준으로 선택합니다."
      ]
    },
    {
      "cell_type": "code",
      "metadata": {
        "id": "c_riiE1VY2WM"
      },
      "source": [
        "df.iloc[3]"
      ],
      "execution_count": null,
      "outputs": []
    },
    {
      "cell_type": "markdown",
      "metadata": {
        "id": "Bol8lLmJY4db"
      },
      "source": [
        "정수로 표기된 슬라이스들을 통해,numpt/python과 유사하게 작동합니다."
      ]
    },
    {
      "cell_type": "code",
      "metadata": {
        "id": "XJZvttP5Y86E"
      },
      "source": [
        "df.iloc[3:5,0:2]"
      ],
      "execution_count": null,
      "outputs": []
    },
    {
      "cell_type": "markdown",
      "metadata": {
        "id": "cJYmPWe7ZABj"
      },
      "source": [
        "정수로 표기된 위치값의 리스트들을 통해, numpy/python의 스타일과 유사해집니다."
      ]
    },
    {
      "cell_type": "code",
      "metadata": {
        "id": "vcoP6tM4ZHTu"
      },
      "source": [
        "df.iloc[[1,2,4],[0,2]]"
      ],
      "execution_count": null,
      "outputs": []
    },
    {
      "cell_type": "markdown",
      "metadata": {
        "id": "WfoopZjaZLa9"
      },
      "source": [
        "명시적으로 행을 나누고자 하는 경우입니다."
      ]
    },
    {
      "cell_type": "code",
      "metadata": {
        "id": "xc0z6arkZPPM"
      },
      "source": [
        "df.iloc[1:3,:]"
      ],
      "execution_count": null,
      "outputs": []
    },
    {
      "cell_type": "markdown",
      "metadata": {
        "id": "LT33tzaLZS5g"
      },
      "source": [
        "명시적으로 열을 나누고자 하는 경우입니다."
      ]
    },
    {
      "cell_type": "code",
      "metadata": {
        "id": "vra33-hFZVd2"
      },
      "source": [
        "df.iloc[:,1:3]"
      ],
      "execution_count": null,
      "outputs": []
    },
    {
      "cell_type": "markdown",
      "metadata": {
        "id": "CQaiRUnAZauR"
      },
      "source": [
        "명시적으로 (특정한)값을 얻고자 하는 경우입니다."
      ]
    },
    {
      "cell_type": "code",
      "metadata": {
        "id": "WlYWdDUXZdyd"
      },
      "source": [
        "df.iloc[1,1]"
      ],
      "execution_count": null,
      "outputs": []
    },
    {
      "cell_type": "markdown",
      "metadata": {
        "id": "7itD9fQIZgi0"
      },
      "source": [
        "스킬라 값을 빠르게 얻는 방법입니다(위의 방식과 동일합니다)."
      ]
    },
    {
      "cell_type": "code",
      "metadata": {
        "id": "rVpXB6PyZlil"
      },
      "source": [
        "df.iat[1,1]"
      ],
      "execution_count": null,
      "outputs": []
    },
    {
      "cell_type": "markdown",
      "metadata": {
        "id": "ca6Ps9N_ZpeW"
      },
      "source": [
        "## Boolean indexing\n",
        "\n",
        "데이터를 선택하기 위한 단일 열의 값을 사용합니다."
      ]
    },
    {
      "cell_type": "code",
      "metadata": {
        "id": "4mtICxbSZv4k"
      },
      "source": [
        "df[df.A > 0]"
      ],
      "execution_count": null,
      "outputs": []
    },
    {
      "cell_type": "markdown",
      "metadata": {
        "id": "qpatzaVmZ1dc"
      },
      "source": [
        "Boolean 조건을 충족하는 데이터프레임에서 값을 선택합니다."
      ]
    },
    {
      "cell_type": "code",
      "metadata": {
        "id": "4V14s14EZ44-"
      },
      "source": [
        "df[df > 0]"
      ],
      "execution_count": null,
      "outputs": []
    },
    {
      "cell_type": "markdown",
      "metadata": {
        "id": "2mnjk8afZ84n"
      },
      "source": [
        "필터링을 위한 메소드 isin()을 사용하니다."
      ]
    },
    {
      "cell_type": "code",
      "metadata": {
        "id": "rwBBfHynaAVO"
      },
      "source": [
        "df2 = df.copy()"
      ],
      "execution_count": null,
      "outputs": []
    },
    {
      "cell_type": "code",
      "metadata": {
        "id": "B2Z9LSuSaCN2"
      },
      "source": [
        "df2['E'] = ['one', 'one', 'two', 'three', 'four', 'three']"
      ],
      "execution_count": null,
      "outputs": []
    },
    {
      "cell_type": "code",
      "metadata": {
        "id": "f14ABai_aL1A"
      },
      "source": [
        "df2"
      ],
      "execution_count": null,
      "outputs": []
    },
    {
      "cell_type": "code",
      "metadata": {
        "id": "x0Nby-BGaUoC"
      },
      "source": [
        "df2[df2['E'].isin(['two','four'])]"
      ],
      "execution_count": null,
      "outputs": []
    },
    {
      "cell_type": "markdown",
      "metadata": {
        "id": "MwYFo9qBadc2"
      },
      "source": [
        "## Setting (설정)\n",
        "\n",
        "새 열을 설정하면 데이터가 인덱스 별로 자동 정렬됩니다."
      ]
    },
    {
      "cell_type": "code",
      "metadata": {
        "id": "6qUmoYbnalrN"
      },
      "source": [
        "s1 = pd.Series([1,2,3,4,5,6], index=pd.date_range('20130102',periods=6))"
      ],
      "execution_count": null,
      "outputs": []
    },
    {
      "cell_type": "code",
      "metadata": {
        "id": "O4mE2PmBavAA"
      },
      "source": [
        "s1"
      ],
      "execution_count": null,
      "outputs": []
    },
    {
      "cell_type": "code",
      "metadata": {
        "id": "xo1yp48QayNc"
      },
      "source": [
        "df['F'] = s1"
      ],
      "execution_count": null,
      "outputs": []
    },
    {
      "cell_type": "markdown",
      "metadata": {
        "id": "i846ngYXa0uZ"
      },
      "source": [
        "라벨에 의해 값을 설정합니다."
      ]
    },
    {
      "cell_type": "code",
      "metadata": {
        "id": "wKC7x8lTa2OR"
      },
      "source": [
        "df.at[dates[0],'A'] = 0"
      ],
      "execution_count": null,
      "outputs": []
    },
    {
      "cell_type": "markdown",
      "metadata": {
        "id": "C-BR0oasa7is"
      },
      "source": [
        "위치에 의해 값을 설정합니다."
      ]
    },
    {
      "cell_type": "code",
      "metadata": {
        "id": "zOn6J6_fa9iX"
      },
      "source": [
        "df.iat[0,1] = 0"
      ],
      "execution_count": null,
      "outputs": []
    },
    {
      "cell_type": "markdown",
      "metadata": {
        "id": "OhgGfulkbBDM"
      },
      "source": [
        "Numpy 배열을 사용한 할당에 의해 값을 설정합니다."
      ]
    },
    {
      "cell_type": "code",
      "metadata": {
        "id": "XEVQUTGBbEME"
      },
      "source": [
        "df.loc[:,'D'] = np.array([5] * len(df))"
      ],
      "execution_count": null,
      "outputs": []
    },
    {
      "cell_type": "markdown",
      "metadata": {
        "id": "wqMOcJWwbK8o"
      },
      "source": [
        "위 설정대로 작동한 결과입니다."
      ]
    },
    {
      "cell_type": "code",
      "metadata": {
        "id": "yQfoHrYobMpy"
      },
      "source": [
        "df"
      ],
      "execution_count": null,
      "outputs": []
    },
    {
      "cell_type": "markdown",
      "metadata": {
        "id": "yVg_PrwFbOzu"
      },
      "source": [
        "where 연산을 설정합니다."
      ]
    },
    {
      "cell_type": "code",
      "metadata": {
        "id": "x7fW6Ue0bSge"
      },
      "source": [
        "df2 = df.copy()"
      ],
      "execution_count": null,
      "outputs": []
    },
    {
      "cell_type": "code",
      "metadata": {
        "id": "N16kMnrBbUr9"
      },
      "source": [
        "df2[df2 > 0] = -df2"
      ],
      "execution_count": null,
      "outputs": []
    },
    {
      "cell_type": "code",
      "metadata": {
        "id": "9AC4wF9bbZ8U"
      },
      "source": [
        "df2"
      ],
      "execution_count": null,
      "outputs": []
    },
    {
      "cell_type": "markdown",
      "metadata": {
        "id": "MXZQVPhCbdM9"
      },
      "source": [
        "# 4.Missing Data (결측치)\n",
        "\n",
        "pandas는 결측치를 표현하기 위해 주로 np.nan 값을 사용합니다.이 방법은 기본 설정값이지만 계산에는 포함되지 않습니다.Missing data section을 참조하세요.\n",
        "\n",
        "Reindexing으로 지정된 축 상의 인덱스를 변경/추가/삭제할 수 있습니다.Reindexing은 데이터의 복사본을 반환합니다."
      ]
    },
    {
      "cell_type": "code",
      "metadata": {
        "id": "DeDj0HvWbxCa"
      },
      "source": [
        "df1 = df.reindex(index=dates[0:4], columns=list(df.columns) + ['E'])"
      ],
      "execution_count": null,
      "outputs": []
    },
    {
      "cell_type": "code",
      "metadata": {
        "id": "t0WioeW9b7_e"
      },
      "source": [
        "df1.loc[dates[0]:dates[1],'E'] = 1"
      ],
      "execution_count": null,
      "outputs": []
    },
    {
      "cell_type": "code",
      "metadata": {
        "id": "yTzYGLGxcAYP"
      },
      "source": [
        "df1"
      ],
      "execution_count": null,
      "outputs": []
    },
    {
      "cell_type": "markdown",
      "metadata": {
        "id": "cNterG6GcCg7"
      },
      "source": [
        "결측치를 가지고 있는 행들을 지웁니다."
      ]
    },
    {
      "cell_type": "code",
      "metadata": {
        "id": "svDsCxtDcF4P"
      },
      "source": [
        "df1.dropna(how='any')"
      ],
      "execution_count": null,
      "outputs": []
    },
    {
      "cell_type": "markdown",
      "metadata": {
        "id": "qgze6pVyeDBR"
      },
      "source": [
        "결측치를 채워 넣습니다."
      ]
    },
    {
      "cell_type": "code",
      "metadata": {
        "id": "Hiwk-VNveEYT"
      },
      "source": [
        "df1.fillna(value=5)"
      ],
      "execution_count": null,
      "outputs": []
    },
    {
      "cell_type": "markdown",
      "metadata": {
        "id": "dPqrBJ7meICE"
      },
      "source": [
        "nan인 값에 boolean을 통한 표식을 얻습니다.\n",
        "\n",
        "역자 주 : 데이터프레임의 모든 값이 boolean형태로 표시되도록 하며, nan의 값에만 True가 표시되게 하는 함수입니다."
      ]
    },
    {
      "cell_type": "code",
      "metadata": {
        "id": "Sp3P4o_1eU0z"
      },
      "source": [
        "pd.isna(df1)"
      ],
      "execution_count": null,
      "outputs": []
    },
    {
      "cell_type": "markdown",
      "metadata": {
        "id": "rTH-WQRmeYGr"
      },
      "source": [
        "# 5.Operation (연산)\n",
        "\n",
        "이진 (Binary) 연산의 기본 섹션을 참조하세요."
      ]
    },
    {
      "cell_type": "markdown",
      "metadata": {
        "id": "9tLCjzBQegEi"
      },
      "source": [
        "## Stats (통계)\n",
        "\n",
        "일반적으로 결측치를 제외한 후 연산됩니다.\n",
        "\n",
        "기술통계를 수행합니다."
      ]
    },
    {
      "cell_type": "code",
      "metadata": {
        "id": "Bx8n74qCeo5T"
      },
      "source": [
        "df.mean()"
      ],
      "execution_count": null,
      "outputs": []
    },
    {
      "cell_type": "markdown",
      "metadata": {
        "id": "sRyjtWeies0L"
      },
      "source": [
        "다른 축에서 동일한 연산을 수행합니다."
      ]
    },
    {
      "cell_type": "code",
      "metadata": {
        "id": "k6or4TMKeu-q"
      },
      "source": [
        "df.mean(1)"
      ],
      "execution_count": null,
      "outputs": []
    },
    {
      "cell_type": "markdown",
      "metadata": {
        "id": "iH09haLFex9C"
      },
      "source": [
        "정렬이 필요하며, 차원이 다른 객체로 연산해보겠습니다. 또한, pandas는 지정된 차원을 따라 자동으로 브로드 캐스팅됩니다.\n",
        "\n",
        "역자 주 : broadcast란 numpy에서 유래한 용어로, n차원이나 스칼라 값으로 연산을 수행할 때 도출되는 결과의 규칙을 설명하는 것을 의미합니다."
      ]
    },
    {
      "cell_type": "code",
      "metadata": {
        "id": "AY6GBS8ee08R"
      },
      "source": [
        "s = pd.Series([1,3,5,np.nan,6,8], index=dates).shift(2)"
      ],
      "execution_count": 77,
      "outputs": []
    },
    {
      "cell_type": "code",
      "metadata": {
        "id": "5QocguCre9VB"
      },
      "source": [
        "s"
      ],
      "execution_count": null,
      "outputs": []
    },
    {
      "cell_type": "code",
      "metadata": {
        "id": "bcTCm9EPe_zx"
      },
      "source": [
        "df.sub(s, axis='index')"
      ],
      "execution_count": null,
      "outputs": []
    },
    {
      "cell_type": "markdown",
      "metadata": {
        "id": "62zN3_xzfDwk"
      },
      "source": [
        "## Apply (적용)\n",
        "\n",
        "데이터에 함수를 적용합니다."
      ]
    },
    {
      "cell_type": "code",
      "metadata": {
        "id": "Fj9hNrEzfG7M"
      },
      "source": [
        "df.apply(np.cumsum)"
      ],
      "execution_count": null,
      "outputs": []
    },
    {
      "cell_type": "code",
      "metadata": {
        "id": "mOFfE3_1fRax"
      },
      "source": [
        ""
      ],
      "execution_count": null,
      "outputs": []
    },
    {
      "cell_type": "code",
      "metadata": {
        "id": "EQchogByfKl8"
      },
      "source": [
        "df.apply(lambda x: x.max() - x.min())"
      ],
      "execution_count": null,
      "outputs": []
    },
    {
      "cell_type": "markdown",
      "metadata": {
        "id": "1Y8tkR5vfU08"
      },
      "source": [
        "## histogramming (히스토그래밍)\n",
        "\n",
        "더 많은 내용은 Histogramming and Discretizaion (히스토그래밍과 이산화)항목을 참조하세요."
      ]
    },
    {
      "cell_type": "code",
      "metadata": {
        "id": "pZUbxxxafgzH"
      },
      "source": [
        "s = pd.Series(np.random.randint(0, 7, size=10))"
      ],
      "execution_count": 92,
      "outputs": []
    },
    {
      "cell_type": "code",
      "metadata": {
        "id": "HjfGgT45fndX",
        "outputId": "33634326-3c09-40ef-d5f8-c894429e8934",
        "colab": {
          "base_uri": "https://localhost:8080/",
          "height": 143
        }
      },
      "source": [
        "s.value_counts()"
      ],
      "execution_count": 91,
      "outputs": [
        {
          "output_type": "execute_result",
          "data": {
            "text/plain": [
              "3    2\n",
              "2    2\n",
              "1    2\n",
              "0    2\n",
              "6    1\n",
              "5    1\n",
              "dtype: int64"
            ]
          },
          "metadata": {
            "tags": []
          },
          "execution_count": 91
        }
      ]
    },
    {
      "cell_type": "markdown",
      "metadata": {
        "id": "orHvixIEgBqQ"
      },
      "source": [
        "## Srting Methods (문자열 메소드)\n",
        "\n",
        "Series는 다음의 코드와 같이 문자열 처리 메소드 모음 (set)을 가지고 있습니다.\n",
        "이 모음은 배열의 각 요소를 쉽게 조작할 수 있도록 만들어주는 문자열의 속성에 포함되어 있습니다.\n",
        "\n",
        "문자열의 패턴 일치 확인은 기본적으로 정규 표현식을 사용하며, 몇몇 경우에는 항상 정규 표현식을 사용함에 유의하십시오.\n",
        "\n",
        "좀 더 자세한 내용은 벡터화된 문자열 메소드 부분에서 확인할 수 있습니다."
      ]
    },
    {
      "cell_type": "code",
      "metadata": {
        "id": "ZcXwmlr7gHyN"
      },
      "source": [
        "s = pd.Series(['A','B','C','Aaba','Baca',np.nan, 'CABA','dog','cat'])"
      ],
      "execution_count": 93,
      "outputs": []
    },
    {
      "cell_type": "code",
      "metadata": {
        "id": "SSMTYRZwgWt-"
      },
      "source": [
        "s.str.lower()"
      ],
      "execution_count": null,
      "outputs": []
    },
    {
      "cell_type": "markdown",
      "metadata": {
        "id": "lDW6FHwHgamu"
      },
      "source": [
        "# 6.Merge (병합)"
      ]
    },
    {
      "cell_type": "markdown",
      "metadata": {
        "id": "CWNeuu_Jgdu-"
      },
      "source": [
        "## concat (연결)\n",
        "\n",
        "결합 (join) / 병합 (merge) 형태의 연산에 대한 인덱스, 관계 대수 기능을 위한 다양한 형태의 논리를 포함한 Series, 데이터프레임, Panel 객체를 손쉽게 결합할 수 있도록 하는 다양한 기능을 pandas 에서 제공합니다.\n",
        "\n",
        "Merging 부분을 참조하세요.\n",
        "\n",
        "concat()으로 pandas 객체를 연결합니다."
      ]
    },
    {
      "cell_type": "code",
      "metadata": {
        "id": "cvJCXaEWgjQ1"
      },
      "source": [
        "df = pd.DataFrame(np.random.randn(10, 4))"
      ],
      "execution_count": 95,
      "outputs": []
    },
    {
      "cell_type": "code",
      "metadata": {
        "id": "MEgil8Y0gqai"
      },
      "source": [
        "df"
      ],
      "execution_count": null,
      "outputs": []
    },
    {
      "cell_type": "code",
      "metadata": {
        "id": "skt79eCUgsTp"
      },
      "source": [
        "# break it into pieces\n",
        "pieces = [df[:3],df[3:7],df[7:]]"
      ],
      "execution_count": 97,
      "outputs": []
    },
    {
      "cell_type": "code",
      "metadata": {
        "id": "NLBQVCUagznF"
      },
      "source": [
        "pd.concat(pieces)"
      ],
      "execution_count": null,
      "outputs": []
    },
    {
      "cell_type": "markdown",
      "metadata": {
        "id": "KCOY0cn7g4Tn"
      },
      "source": [
        "## Join (결합)\n",
        "\n",
        "SQL 방식으로 병합합니다.데이터베이스 스타일 결합 부분을 참고하세요."
      ]
    },
    {
      "cell_type": "code",
      "metadata": {
        "id": "6o5RwuSCg-f-"
      },
      "source": [
        "left = pd.DataFrame({'key': ['foo', 'foo'], 'lval': [1, 2]})"
      ],
      "execution_count": 99,
      "outputs": []
    },
    {
      "cell_type": "code",
      "metadata": {
        "id": "eUxh7iSHhIvW"
      },
      "source": [
        "right = pd.DataFrame({'key': ['foo', 'foo'], 'rval': [4, 5]})"
      ],
      "execution_count": 100,
      "outputs": []
    },
    {
      "cell_type": "code",
      "metadata": {
        "id": "KEYHbv-hhSw3"
      },
      "source": [
        "left"
      ],
      "execution_count": null,
      "outputs": []
    },
    {
      "cell_type": "code",
      "metadata": {
        "id": "x1jr_HTnhUyC"
      },
      "source": [
        "right"
      ],
      "execution_count": null,
      "outputs": []
    },
    {
      "cell_type": "code",
      "metadata": {
        "id": "RoNAXXFzhWfZ"
      },
      "source": [
        "pd.merge(left,right, on= 'key')"
      ],
      "execution_count": null,
      "outputs": []
    },
    {
      "cell_type": "markdown",
      "metadata": {
        "id": "UR_iavE8ha0e"
      },
      "source": [
        "다른 예시입니다."
      ]
    },
    {
      "cell_type": "code",
      "metadata": {
        "id": "zZCarIKGhb0v"
      },
      "source": [
        "left = pd.DataFrame({'key' : ['foo', 'bar'], 'lval' : [1, 2]})"
      ],
      "execution_count": 104,
      "outputs": []
    },
    {
      "cell_type": "code",
      "metadata": {
        "id": "l30iZruXhlin"
      },
      "source": [
        "right = pd.DataFrame({'key' : ['foo', 'bar'], 'rval': [4, 5]})"
      ],
      "execution_count": 105,
      "outputs": []
    },
    {
      "cell_type": "code",
      "metadata": {
        "id": "e17Hc2lvhwHz"
      },
      "source": [
        "left"
      ],
      "execution_count": null,
      "outputs": []
    },
    {
      "cell_type": "code",
      "metadata": {
        "id": "n9qFtmaLhyP4"
      },
      "source": [
        "right"
      ],
      "execution_count": null,
      "outputs": []
    },
    {
      "cell_type": "code",
      "metadata": {
        "id": "7FwVjLG-h0cX"
      },
      "source": [
        "pd.merge(left, right, on= 'key')"
      ],
      "execution_count": null,
      "outputs": []
    },
    {
      "cell_type": "markdown",
      "metadata": {
        "id": "bHbYpDRbh48n"
      },
      "source": [
        "## Append (추가)\n",
        "\n",
        "데이터프레임에 행을 추가합니다.Appending 부분을 참조하세요."
      ]
    },
    {
      "cell_type": "code",
      "metadata": {
        "id": "Mutq1RsekHNA"
      },
      "source": [
        "df = pd.DataFrame(np.random.randn(8,4), columns=['A','B','C','D'])"
      ],
      "execution_count": 109,
      "outputs": []
    },
    {
      "cell_type": "code",
      "metadata": {
        "id": "8-f_Ev5QkRe4"
      },
      "source": [
        "df"
      ],
      "execution_count": null,
      "outputs": []
    },
    {
      "cell_type": "code",
      "metadata": {
        "id": "gcIYrTMRkS-K"
      },
      "source": [
        "s = df.iloc[3]"
      ],
      "execution_count": 111,
      "outputs": []
    },
    {
      "cell_type": "code",
      "metadata": {
        "id": "-RtVjFGbkUth"
      },
      "source": [
        "df.append(s, ignore_index=True)"
      ],
      "execution_count": null,
      "outputs": []
    },
    {
      "cell_type": "markdown",
      "metadata": {
        "id": "cdh3OOr5kwzm"
      },
      "source": [
        "# 7.Groping (그룹화)\n",
        "\n",
        "그룹화는 다음 단계 중 하나 이사을 포함하는 과정을 가리킵니다.\n",
        "\n",
        "\n",
        "\n",
        "*   몇몇 기준에 따라 여러 그룹으로 데이터를 분할 (splitting)\n",
        "*   각 그룹에 독립적으로 함수를 적용 (applying)\n",
        "\n",
        "*   결과물들을 하나의 데이터 구조로 결합(combining)\n",
        "\n",
        "자세한 내용은 그룹화 부분 참조하세요.\n",
        "\n",
        "\n",
        "\n"
      ]
    },
    {
      "cell_type": "code",
      "metadata": {
        "id": "rDodL0uRlJb5"
      },
      "source": [
        "df = pd.DataFrame(\n",
        "    {\n",
        "        'A' : ['foo', 'bar', 'foo', 'bar', 'foo', 'bar', 'foo', 'foo'],\n",
        "        'B' : ['one', 'one', 'two', 'three', 'two', 'two','one','three'],\n",
        "        'C' : np.random.randn(8),\n",
        "        'D' : np.random.randn(8)\n",
        "    })"
      ],
      "execution_count": 113,
      "outputs": []
    },
    {
      "cell_type": "code",
      "metadata": {
        "id": "OsSxyAOPlveX"
      },
      "source": [
        "df"
      ],
      "execution_count": null,
      "outputs": []
    },
    {
      "cell_type": "markdown",
      "metadata": {
        "id": "YHBtMkqClxqN"
      },
      "source": [
        "생성된 데이텊프레임을 그룹화한 후 각 그룹게 sum() 함수를 적용합니다."
      ]
    },
    {
      "cell_type": "code",
      "metadata": {
        "id": "u8nEGKrSl3fd"
      },
      "source": [
        "df.groupby('A').sum()"
      ],
      "execution_count": null,
      "outputs": []
    },
    {
      "cell_type": "markdown",
      "metadata": {
        "id": "k9hR5emel75C"
      },
      "source": [
        "여러 열을 기준으로 그룹화하면 계층적 인덱스가 형성됩니다. 여기에도 sum 함수를 적용할 수 있습니다."
      ]
    },
    {
      "cell_type": "code",
      "metadata": {
        "id": "OWgkIW6bmC5x"
      },
      "source": [
        "df.groupby(['A','B']).sum()"
      ],
      "execution_count": null,
      "outputs": []
    },
    {
      "cell_type": "markdown",
      "metadata": {
        "id": "D7985AFimJkX"
      },
      "source": [
        "# 8.Reshaping (변형)\n",
        "\n",
        "계층적 인덱싱 및 변형 부분을 참조하세요."
      ]
    },
    {
      "cell_type": "markdown",
      "metadata": {
        "id": "5VvVLbaxmOpg"
      },
      "source": [
        "## Stack (스택)"
      ]
    },
    {
      "cell_type": "code",
      "metadata": {
        "id": "_VrS5KqxmQ3w"
      },
      "source": [
        "tuples = list(zip(*[['bar','bar','baz','baz',\n",
        "                     'foo','foo','qux','qux'],\n",
        "                    ['one','two','one','two',\n",
        "                     'one','two','one','two']]))"
      ],
      "execution_count": 117,
      "outputs": []
    },
    {
      "cell_type": "code",
      "metadata": {
        "id": "af9vWzMNmsOy"
      },
      "source": [
        "index = pd.MultiIndex.from_tuples(tuples, names=['first','second'])"
      ],
      "execution_count": 118,
      "outputs": []
    },
    {
      "cell_type": "code",
      "metadata": {
        "id": "OmRpZC2Km2IS"
      },
      "source": [
        "df = pd.DataFrame(np.random.randn(8, 2), index=index, columns= ['A','B'])"
      ],
      "execution_count": 119,
      "outputs": []
    },
    {
      "cell_type": "code",
      "metadata": {
        "id": "0jq95wHNnDKx"
      },
      "source": [
        "df2 = df[:4]"
      ],
      "execution_count": 120,
      "outputs": []
    },
    {
      "cell_type": "code",
      "metadata": {
        "id": "aUn9XUounE5s"
      },
      "source": [
        "df2"
      ],
      "execution_count": null,
      "outputs": []
    },
    {
      "cell_type": "markdown",
      "metadata": {
        "id": "rw_01mAvnHNx"
      },
      "source": [
        "stack()메소드는 데이터프레임 열들의 계층을 \"압축\"합니다."
      ]
    },
    {
      "cell_type": "code",
      "metadata": {
        "id": "LugkUCUMnMFe"
      },
      "source": [
        "stacked = df2.stack()"
      ],
      "execution_count": 122,
      "outputs": []
    },
    {
      "cell_type": "code",
      "metadata": {
        "id": "y-wrd8DDnP4p"
      },
      "source": [
        "stacked"
      ],
      "execution_count": null,
      "outputs": []
    },
    {
      "cell_type": "markdown",
      "metadata": {
        "id": "_YhZdMqWnSBP"
      },
      "source": [
        "\"Stack된\"데이터프레임 또는 (MultiIndex를 인덱스로 사용하는) Series인 경우, stack()의 역 연산은 unstack()이며,기본적으로 마지막 계층을 unstack합니다."
      ]
    },
    {
      "cell_type": "code",
      "metadata": {
        "id": "mb3gZStonjFK"
      },
      "source": [
        "stacked.unstack()"
      ],
      "execution_count": null,
      "outputs": []
    },
    {
      "cell_type": "code",
      "metadata": {
        "id": "HAA85bYgnnTi"
      },
      "source": [
        "stacked.unstack(1)"
      ],
      "execution_count": null,
      "outputs": []
    },
    {
      "cell_type": "code",
      "metadata": {
        "id": "Z-wzCxSEnstC"
      },
      "source": [
        "stacked.unstack(0)"
      ],
      "execution_count": null,
      "outputs": []
    },
    {
      "cell_type": "markdown",
      "metadata": {
        "id": "2mtaE6Y2nvyg"
      },
      "source": [
        "## Pivot Table (피봇 테이블)\n",
        "\n",
        "피봇 테이블 부분을 참조하세요."
      ]
    },
    {
      "cell_type": "code",
      "metadata": {
        "id": "L4jiPpIQn2m4"
      },
      "source": [
        "df = pd.DataFrame({'A' : ['one', 'one', 'two', 'three'] * 3,\n",
        "                   'B' : ['A', 'B', 'C'] * 4,\n",
        "                   'C' : ['foo', 'foo', 'foo', 'bar', 'bar', 'bar'] * 2,\n",
        "                   'D' : np.random.randn(12),\n",
        "                   'E' : np.random.randn(12)})"
      ],
      "execution_count": 129,
      "outputs": []
    },
    {
      "cell_type": "code",
      "metadata": {
        "id": "kIJT9SLGoZxm"
      },
      "source": [
        "df"
      ],
      "execution_count": null,
      "outputs": []
    },
    {
      "cell_type": "markdown",
      "metadata": {
        "id": "04O2TxghobAa"
      },
      "source": [
        "이 데이터로부터 피봇 테이블을 매우 쉽게 생성할 수 있습니다."
      ]
    },
    {
      "cell_type": "code",
      "metadata": {
        "id": "K65cH3kxoea5"
      },
      "source": [
        "pd.pivot_table(df, values='D', index=['A', 'B'], columns=['C'])"
      ],
      "execution_count": null,
      "outputs": []
    },
    {
      "cell_type": "markdown",
      "metadata": {
        "id": "7dHemjAuoqoq"
      },
      "source": [
        "# 9.Time Series (시계열)\n",
        "\n",
        "Pandas는 자주 일어나는 변환 (예시 : 5분마다 일어나는 데이터에 대한 2차 데이터 변환) 사이에 수행하는 리샘플링 연산을 위한 간단하고, 강력하며, 효율적인 함수를 제공합니다. 이는 재무 (금융) 응용에서 매우 일반적이지만 이에 국한되지는 않습니다. 시계열 부분을 참고하세요."
      ]
    },
    {
      "cell_type": "code",
      "metadata": {
        "id": "tIF5ZrS_oxZj"
      },
      "source": [
        "rng = pd.date_range('1/1/2012', periods=100, freq='S')"
      ],
      "execution_count": 132,
      "outputs": []
    },
    {
      "cell_type": "code",
      "metadata": {
        "id": "a2_u2EUKo5TV"
      },
      "source": [
        "ts = pd.Series(np.random.randint(0, 500, len(rng)), index=rng)"
      ],
      "execution_count": 133,
      "outputs": []
    },
    {
      "cell_type": "code",
      "metadata": {
        "id": "q-qA8qd7pC5y"
      },
      "source": [
        "ts.resample('5Min').sum()"
      ],
      "execution_count": null,
      "outputs": []
    },
    {
      "cell_type": "markdown",
      "metadata": {
        "id": "ydjHNlfgpJeb"
      },
      "source": [
        "시간대를 표현합니다."
      ]
    },
    {
      "cell_type": "code",
      "metadata": {
        "id": "Us7D8NEtpLbj"
      },
      "source": [
        "rng = pd.date_range('3/6/2012 00:00', periods=5, freq='D')"
      ],
      "execution_count": 135,
      "outputs": []
    },
    {
      "cell_type": "code",
      "metadata": {
        "id": "NtLucN8vpTQj"
      },
      "source": [
        "ts = pd.Series(np.random.randn(len(rng)), rng)"
      ],
      "execution_count": 136,
      "outputs": []
    },
    {
      "cell_type": "code",
      "metadata": {
        "id": "gCIoufwnpZvi"
      },
      "source": [
        "ts"
      ],
      "execution_count": null,
      "outputs": []
    },
    {
      "cell_type": "code",
      "metadata": {
        "id": "vcyqcP4apcea"
      },
      "source": [
        "ts_utc = ts.tz_localize('UTC')"
      ],
      "execution_count": 138,
      "outputs": []
    },
    {
      "cell_type": "code",
      "metadata": {
        "id": "yr01KzkDpgwa"
      },
      "source": [
        "ts_utc"
      ],
      "execution_count": null,
      "outputs": []
    },
    {
      "cell_type": "markdown",
      "metadata": {
        "id": "XYxfAFNGpkUj"
      },
      "source": [
        "다른 시간대로 변환합니다."
      ]
    },
    {
      "cell_type": "code",
      "metadata": {
        "id": "DKwQOAXLplvn"
      },
      "source": [
        "ts_utc.tz_convert('US/Eastern')"
      ],
      "execution_count": null,
      "outputs": []
    },
    {
      "cell_type": "markdown",
      "metadata": {
        "id": "uzWS2wIqptSK"
      },
      "source": [
        "시간 표현 <-> 기간 표현으로 변환합니다."
      ]
    },
    {
      "cell_type": "code",
      "metadata": {
        "id": "SVF95hOJpxgz"
      },
      "source": [
        "rng = pd.date_range('1/1/2012', periods=5, freq='M')"
      ],
      "execution_count": 141,
      "outputs": []
    },
    {
      "cell_type": "code",
      "metadata": {
        "id": "Ato9tbyEp4ES"
      },
      "source": [
        "ts = pd.Series(np.random.randn(len(rng)), index=rng)"
      ],
      "execution_count": 143,
      "outputs": []
    },
    {
      "cell_type": "code",
      "metadata": {
        "id": "4-UGeOMjqO16"
      },
      "source": [
        "ts"
      ],
      "execution_count": null,
      "outputs": []
    },
    {
      "cell_type": "code",
      "metadata": {
        "id": "h8te_V3FqQTi"
      },
      "source": [
        "ps = ts.to_period()"
      ],
      "execution_count": 145,
      "outputs": []
    },
    {
      "cell_type": "code",
      "metadata": {
        "id": "5bQcBQ0IqSU8"
      },
      "source": [
        "ps"
      ],
      "execution_count": null,
      "outputs": []
    },
    {
      "cell_type": "code",
      "metadata": {
        "id": "WS5m--RZqTqi"
      },
      "source": [
        "ps.to_timestamp()"
      ],
      "execution_count": null,
      "outputs": []
    },
    {
      "cell_type": "markdown",
      "metadata": {
        "id": "MRZ53D0oqWgs"
      },
      "source": [
        "기간 <-> 시간 변환은 편리한 산술 기능들을 사용할 수 있도록 만들어줍니다. 다음 예제에서, 우리는 11월에 끝나는 연말 결산의 분기별 빈도를 분기말 익월의 월말일 오전 9시로 변환합니다."
      ]
    },
    {
      "cell_type": "code",
      "metadata": {
        "id": "eat86LK2qg58"
      },
      "source": [
        "prng = pd.period_range('1990Q1', '2000Q4', freq='Q-NOV')"
      ],
      "execution_count": 149,
      "outputs": []
    },
    {
      "cell_type": "code",
      "metadata": {
        "id": "_nhsqWkIqqrD"
      },
      "source": [
        "ts = pd.Series(np.random.randn(len(prng)), prng)"
      ],
      "execution_count": 150,
      "outputs": []
    },
    {
      "cell_type": "code",
      "metadata": {
        "id": "KnnccBdAqw7G"
      },
      "source": [
        "ts.index = (prng.asfreq('M','e') + 1).asfreq('H', 's') + 9"
      ],
      "execution_count": 151,
      "outputs": []
    },
    {
      "cell_type": "code",
      "metadata": {
        "id": "6A54D76jq6Ec"
      },
      "source": [
        "ts.head()"
      ],
      "execution_count": null,
      "outputs": []
    },
    {
      "cell_type": "markdown",
      "metadata": {
        "id": "hUvyDe7mq9_s"
      },
      "source": [
        "# 10.Categoricals (범주화)\n",
        "\n",
        "Pandas는 데이터프레임 내에 범주형 데이터를 포함할 수 있습니다. 범주형 소개 와 API 문서 부분을 참조하세요."
      ]
    },
    {
      "cell_type": "code",
      "metadata": {
        "id": "GAYvuiVTrCxP"
      },
      "source": [
        "df = pd.DataFrame({\"id\":[1,2,3,4,5,6], \"raw_grade\":['a','b','b','a','a','e']})"
      ],
      "execution_count": 153,
      "outputs": []
    },
    {
      "cell_type": "markdown",
      "metadata": {
        "id": "59AZLiF7rRQs"
      },
      "source": [
        "가공하지 않은 성적을 범주형 데이터로 변환합니다."
      ]
    },
    {
      "cell_type": "code",
      "metadata": {
        "id": "hptbaa0lrTpU"
      },
      "source": [
        "df[\"grade\"] = df[\"raw_grade\"].astype(\"category\")"
      ],
      "execution_count": 154,
      "outputs": []
    },
    {
      "cell_type": "code",
      "metadata": {
        "id": "G-1vKn4QraWD"
      },
      "source": [
        "df[\"grade\"]"
      ],
      "execution_count": null,
      "outputs": []
    },
    {
      "cell_type": "markdown",
      "metadata": {
        "id": "fiWFygdvrdPM"
      },
      "source": [
        "범주에 더 의미 있는 이름을 붙여주세요 (Series.cat.categories로 할당하는 것이 적합 합니다.)"
      ]
    },
    {
      "cell_type": "code",
      "metadata": {
        "id": "MxZIDmvorj7E"
      },
      "source": [
        "df[\"grade\"].cat.categories = [\"very good\",\"good\",\"very bad\"]"
      ],
      "execution_count": 156,
      "outputs": []
    },
    {
      "cell_type": "markdown",
      "metadata": {
        "id": "P_Ptxqcart0p"
      },
      "source": [
        "범주의 순서를 바꾸고 동시에 누락된 범주를 추가합니다 (Series.cat에 속하는 메소드는 기본적으로 새로운 Series를 반환합니다)."
      ]
    },
    {
      "cell_type": "code",
      "metadata": {
        "id": "kt7NOoB3rurB"
      },
      "source": [
        "df[\"grade\"] = df[\"grade\"].cat.set_categories([\"very bad\",\"bad\",\"medium\",\"good\",\"very good\"])"
      ],
      "execution_count": 157,
      "outputs": []
    },
    {
      "cell_type": "code",
      "metadata": {
        "id": "2r2IGaKVr-Xi"
      },
      "source": [
        "df[\"grade\"]"
      ],
      "execution_count": null,
      "outputs": []
    },
    {
      "cell_type": "markdown",
      "metadata": {
        "id": "-a7KER2fsCDq"
      },
      "source": [
        "정렬은 사전 순서가 아닌, 해당 범주에서 지정된 순서대로 배열합니다.\n",
        "\n",
        "역자 주 : 131번에서 very bad, bad, medium, good, very good 의 순서로 기재되어 있기 때문에 정렬 결과도 해당 순서대로 배열됩니다."
      ]
    },
    {
      "cell_type": "code",
      "metadata": {
        "id": "GilAKIZ-sETu"
      },
      "source": [
        "df.sort_values(by=\"grade\")"
      ],
      "execution_count": null,
      "outputs": []
    },
    {
      "cell_type": "markdown",
      "metadata": {
        "id": "rjsCO-twsJrU"
      },
      "source": [
        "범주의 열을 기준으로 그룹화하면 빈 범주도 표시됩니다."
      ]
    },
    {
      "cell_type": "code",
      "metadata": {
        "id": "ano7on3xsK-J"
      },
      "source": [
        "df.groupby(\"grade\").size()"
      ],
      "execution_count": null,
      "outputs": []
    },
    {
      "cell_type": "markdown",
      "metadata": {
        "id": "64kzHa89sPDk"
      },
      "source": [
        "# 11.Plotting (그래프)\n",
        "\n",
        "plotting 부분을 참조하세요."
      ]
    },
    {
      "cell_type": "code",
      "metadata": {
        "id": "xQo5P8J_sTHE"
      },
      "source": [
        "ts = pd.Series(np.random.randn(1000), index=pd.date_range('1/1/2000', periods=1000))"
      ],
      "execution_count": 162,
      "outputs": []
    },
    {
      "cell_type": "code",
      "metadata": {
        "id": "38In9Cdasn7u"
      },
      "source": [
        "ts = ts.cumsum()"
      ],
      "execution_count": 163,
      "outputs": []
    },
    {
      "cell_type": "code",
      "metadata": {
        "id": "E9tAveKtsqpV"
      },
      "source": [
        "ts.plot()"
      ],
      "execution_count": null,
      "outputs": []
    },
    {
      "cell_type": "markdown",
      "metadata": {
        "id": "3N0gv78ysuhA"
      },
      "source": [
        "데이터프레임에서 plot() 메소드는 라벨이 존재하는 모든 열을 그릴 때 편리합니다."
      ]
    },
    {
      "cell_type": "code",
      "metadata": {
        "id": "hKtXS7egsvT9"
      },
      "source": [
        "df = pd.DataFrame(np.random.randn(1000, 4), index=ts.index,\n",
        "                  columns=['A','B','C','D'])"
      ],
      "execution_count": 165,
      "outputs": []
    },
    {
      "cell_type": "code",
      "metadata": {
        "id": "Gd1y5Pqvs8Ov"
      },
      "source": [
        "df = df.cumsum()"
      ],
      "execution_count": 166,
      "outputs": []
    },
    {
      "cell_type": "code",
      "metadata": {
        "id": "1Hw-LKtLs-gJ"
      },
      "source": [
        "plt.figure(); df.plot(); plt.legend(loc='best')"
      ],
      "execution_count": null,
      "outputs": []
    },
    {
      "cell_type": "markdown",
      "metadata": {
        "id": "yaxY4GBXtIMF"
      },
      "source": [
        "# 12.Getting Data In/Out (데이터 입/출력)"
      ]
    },
    {
      "cell_type": "markdown",
      "metadata": {
        "id": "tdzwrh39tO1I"
      },
      "source": [
        "## csv\n",
        "\n",
        "csv 파일에 씁니다."
      ]
    },
    {
      "cell_type": "code",
      "metadata": {
        "id": "LRQI7HuDtTDg"
      },
      "source": [
        "df.to_csv('foo.csv')"
      ],
      "execution_count": 168,
      "outputs": []
    },
    {
      "cell_type": "markdown",
      "metadata": {
        "id": "NUTBPZiItXll"
      },
      "source": [
        "csv 파일을 읽습니다."
      ]
    },
    {
      "cell_type": "code",
      "metadata": {
        "id": "yzBpOsGFtZwQ"
      },
      "source": [
        "pd.read_csv('foo.csv')"
      ],
      "execution_count": null,
      "outputs": []
    },
    {
      "cell_type": "markdown",
      "metadata": {
        "id": "_ZxYg7pMtgeV"
      },
      "source": [
        "## HDF5\n",
        "\n",
        "HDFStores에 읽고 씁니다.\n",
        "\n",
        "HDF5 Store에 씁니다."
      ]
    },
    {
      "cell_type": "code",
      "metadata": {
        "id": "D7pv5yz6trbF"
      },
      "source": [
        "df.to_hdf('foo.h5','df')"
      ],
      "execution_count": 170,
      "outputs": []
    },
    {
      "cell_type": "markdown",
      "metadata": {
        "id": "ecD1JoFgtvRt"
      },
      "source": [
        "HDf5 Store에서 읽어옵니다."
      ]
    },
    {
      "cell_type": "code",
      "metadata": {
        "id": "ZKhGuyBIty-N"
      },
      "source": [
        "pd.read_hdf('foo.h5','df')"
      ],
      "execution_count": null,
      "outputs": []
    },
    {
      "cell_type": "markdown",
      "metadata": {
        "id": "qEIySc0ut4RN"
      },
      "source": [
        "## Excel\n",
        "\n",
        "MS Excel에 읽고 씁니다.\n",
        "\n",
        "엑셀 파일에 씁니다."
      ]
    },
    {
      "cell_type": "code",
      "metadata": {
        "id": "x8vZUtktt-pd"
      },
      "source": [
        "df.to_excel('foo.xlsx', sheet_name='sheet1')"
      ],
      "execution_count": 172,
      "outputs": []
    },
    {
      "cell_type": "markdown",
      "metadata": {
        "id": "_wqlDkrxuEZG"
      },
      "source": [
        "엑셀 파일을 읽어옵니다."
      ]
    },
    {
      "cell_type": "code",
      "metadata": {
        "id": "PbGXzbq9uHWN"
      },
      "source": [
        "pd.read_excel('foo.xlsx', 'Sheet1', index_col=None, na_values=['NA'])"
      ],
      "execution_count": null,
      "outputs": []
    },
    {
      "cell_type": "markdown",
      "metadata": {
        "id": "BtlOoNzpud3g"
      },
      "source": [
        "# 13.Gotchas (잡았다!)\n",
        "\n",
        "연산 수행 시 다음과 같은 예외 상황을 볼 수도 있습니다."
      ]
    },
    {
      "cell_type": "code",
      "metadata": {
        "id": "toEjYNeQujBA"
      },
      "source": [
        "if pd.Series([False, True, False]):\n",
        "  print(\"I was true\")"
      ],
      "execution_count": null,
      "outputs": []
    },
    {
      "cell_type": "markdown",
      "metadata": {
        "id": "mLdhEPMrurK6"
      },
      "source": [
        "이러한 경우에는 any(), all(), empty 등을 사용해서 무엇을 원하는지를 선택 (반영)해주어야 합니다."
      ]
    },
    {
      "cell_type": "code",
      "metadata": {
        "id": "DUuvu-MtusWy"
      },
      "source": [
        "if pd.Series([False, True, False])is not None:\n",
        "  print(\"I was not None\")"
      ],
      "execution_count": null,
      "outputs": []
    },
    {
      "cell_type": "markdown",
      "metadata": {
        "id": "pk1TF477u3Q9"
      },
      "source": [
        "위에 대한 설명과 자세한 내용은 비교 부분을 참조하세요.\n",
        "\n",
        "Gotchas 부분도 참조하세요.\n",
        "\n"
      ]
    },
    {
      "cell_type": "markdown",
      "metadata": {
        "id": "JacD9DXju5ny"
      },
      "source": [
        "본 자료의 저작권은 BSD-3-Clause인 점을 참조하여 주세요.\n",
        "\n",
        "This documentation is a Korean translation material of ‘10 Minutes to Pandas’. Every members of DATAITGIRLS2 program participated in the translation. If you want to know about DATAITGIRLS2 program, please visit DATAITGIRLS2 program’s homepage.\n",
        "\n",
        "The copyright conditions of this documentation are BSD-3-Clause."
      ]
    }
  ]
}