{
  "nbformat": 4,
  "nbformat_minor": 0,
  "metadata": {
    "colab": {
      "name": "범주 형 데이터로 플로팅 하기.ipynb",
      "provenance": [],
      "toc_visible": true,
      "authorship_tag": "ABX9TyMcD2AgOm0sZesYf2uGXJaQ",
      "include_colab_link": true
    },
    "kernelspec": {
      "name": "python3",
      "display_name": "Python 3"
    }
  },
  "cells": [
    {
      "cell_type": "markdown",
      "metadata": {
        "id": "view-in-github",
        "colab_type": "text"
      },
      "source": [
        "<a href=\"https://colab.research.google.com/github/ParkSeonungHun/Hun/blob/main/python_basic/%EB%B2%94%EC%A3%BC_%ED%98%95_%EB%8D%B0%EC%9D%B4%ED%84%B0%EB%A1%9C_%ED%94%8C%EB%A1%9C%ED%8C%85_%ED%95%98%EA%B8%B0.ipynb\" target=\"_parent\"><img src=\"https://colab.research.google.com/assets/colab-badge.svg\" alt=\"Open In Colab\"/></a>"
      ]
    },
    {
      "cell_type": "code",
      "metadata": {
        "id": "3mHgMAsZgUL5"
      },
      "source": [
        "import numpy as np\n",
        "import pandas as pd\n",
        "import matplotlib.pyplot as plt\n",
        "import seaborn as sns\n",
        "sns.set_theme(style=\"darkgrid\")"
      ],
      "execution_count": null,
      "outputs": []
    },
    {
      "cell_type": "markdown",
      "metadata": {
        "id": "hQUFVc2ogcAy"
      },
      "source": [
        "# 범주 형 데이터로 플로팅하기\n",
        "\n",
        "에 관계 플롯 튜토리얼 우리는 데이터 집합의 여러 변수 사이의 관계를 보여주기 위해 다른 시각적 표현을 사용하는 방법을 보았다. 예제에서는 두 숫자 변수 사이에 주요 관계가있는 경우에 중점을 두었습니다. 주요 변수 중 하나가 \"범주 적\"(이산 그룹으로 나뉘어 짐) 인 경우 시각화에보다 전문적인 접근 방식을 사용하는 것이 도움이 될 수 있습니다.\n",
        "\n",
        "seaborn에는 범주 형 데이터와 관련된 관계를 시각화하는 여러 가지 방법이 있습니다. relplot()과 scatterplot()또는 또는 사이의 관계 와 유사 lineplot()하게 이러한 플롯을 만드는 데는 두 가지 방법이 있습니다. 범주 형 데이터를 다양한 방식으로 플로팅하기위한 여러 축 수준 함수와 이에 대한 catplot()통합 된 상위 수준 액세스를 제공 하는 그림 수준 인터페이스 가 있습니다.\n",
        "\n",
        "다른 범주 형 플롯 종류를 세 가지 다른 가족에 속하는 것으로 생각하면 도움이됩니다. 이에 대해서는 아래에서 자세히 설명하겠습니다. 그들은:\n",
        "\n",
        "범주 형 산점도:\n",
        "\n",
        "*   stripplot() (사용 kind=\"strip\";기본값)\n",
        "*   swarplot() (와 함께 kind=\"swarm\")\n",
        "\n",
        "범주 형 분포도:\n",
        "\n",
        "*   boxplot() (와 함께 kind=\"box\")\n",
        "*   violinplot() (와 함께 kind=\"violin\")\n",
        "*   boxenplot() (와 함께 kind=\"boxen\")\n",
        "\n",
        "범주 형 추정 플롯:\n",
        "\n",
        "*   pointplot() (와 함께 kind=\"point\")\n",
        "*   barplot() (와 함께 kind=\"bar\")\n",
        "*   countplot() (와 함께 kind=\"count\")\n",
        "\n",
        "\n",
        "이러한 계열은 다양한 수준의 세분성을 사용하여 데이터를 나타냅니다. 어떤 것을 사용할지 결정할 때 대답하고 싶은 질문에 대해 생각해야합니다. 통합 API를 사용하면 다른 종류간에 쉽게 전환하고 여러 관점에서 데이터를 볼 수 있습니다.\n",
        "\n",
        "이 자습서에서는 주로 그림 수준 인터페이스 인 catplot(). 이 함수는 위의 각 함수의 상위 수준 인터페이스이므로 각 종류의 플롯을 표시 할 때 참조하여보다 자세한 종류별 API 문서를 준비합니다.\n",
        "\n",
        "\n"
      ]
    },
    {
      "cell_type": "code",
      "metadata": {
        "id": "rqgN1gzthe60"
      },
      "source": [
        "import seaborn as sns\n",
        "import matplotlib.pyplot as plt\n",
        "sns.set_theme(style=\"ticks\", color_codes=True)"
      ],
      "execution_count": null,
      "outputs": []
    },
    {
      "cell_type": "markdown",
      "metadata": {
        "id": "PfZfO8iLhhRo"
      },
      "source": [
        "## 범주 형 산점도\n",
        "\n",
        "의 데이터의 기본 표현은 catplot()산점도 를 사용합니다. 실제로 seaborn에는 두 가지 범주 형 산점도가 있습니다. 그들은 산점도를 사용하여 범주 형 데이터를 표현하는 주요 문제를 해결하기 위해 다른 접근 방식을 취합니다. 즉, 한 범주에 속하는 모든 포인트가 범주 형 변수에 해당하는 축을 따라 동일한 위치에 속하게됩니다. 의 stripplot()기본 \"종류\"인에서 사용하는 접근 방식 catplot()은 소량의 임의 \"지터\"를 사용하여 범주 형 축에서 점의 위치를 ​​조정하는 것입니다."
      ]
    },
    {
      "cell_type": "code",
      "metadata": {
        "id": "vKAhrUYHhkt5"
      },
      "source": [
        "tips = sns.load_dataset(\"tips\")\n",
        "sns.catplot(x=\"day\", y=\"total_bill\", data=tips);"
      ],
      "execution_count": null,
      "outputs": []
    },
    {
      "cell_type": "markdown",
      "metadata": {
        "id": "Mh9p0cw3htvR"
      },
      "source": [
        "jitter매개 변수는 지터의 크기를 조절하거나 아예 사용 불가 :"
      ]
    },
    {
      "cell_type": "code",
      "metadata": {
        "id": "8AHGwb3GhusJ"
      },
      "source": [
        "sns.catplot(x=\"day\", y=\"total_bill\", jitter=False, data=tips);"
      ],
      "execution_count": null,
      "outputs": []
    },
    {
      "cell_type": "markdown",
      "metadata": {
        "id": "yoHJr8E6h5Kx"
      },
      "source": [
        "두 번째 방법은 겹치는 것을 방지하는 알고리즘을 사용하여 범주 축을 따라 점을 조정합니다. 상대적으로 작은 데이터 세트에서만 잘 작동하지만 관측치 분포를 더 잘 표현할 수 있습니다. 이러한 종류의 음모는 때때로 \"벌 따기\"라고 불리며에서 swarmplot()설정 kind=\"swarm\"하여 활성화되는에 의해 seaborn에 그려집니다 catplot()."
      ]
    },
    {
      "cell_type": "code",
      "metadata": {
        "id": "9uUOMpU_h6Ph"
      },
      "source": [
        "sns.catplot(x=\"day\", y=\"total_bill\", kind=\"swarm\", data=tips);"
      ],
      "execution_count": null,
      "outputs": []
    },
    {
      "cell_type": "markdown",
      "metadata": {
        "id": "pysc4j6IiB2B"
      },
      "source": [
        "관계형 플롯과 유사하게 hue의미 체계 를 사용하여 범주 형 플롯에 다른 차원을 추가 할 수 있습니다 . (범주 형 플롯은 현재 size또는 style의미 체계를 지원하지 않습니다 ). 각기 다른 범주 형 플로팅 함수는 hue의미 체계를 다르게 처리합니다 . 산점도의 경우 점의 색상 만 변경하면됩니다."
      ]
    },
    {
      "cell_type": "code",
      "metadata": {
        "id": "dgH3Uay1iCrx"
      },
      "source": [
        "sns.catplot(x=\"day\", y=\"total_bill\", hue=\"sex\", kind=\"swarm\", data=tips);"
      ],
      "execution_count": null,
      "outputs": []
    },
    {
      "cell_type": "markdown",
      "metadata": {
        "id": "9Akzx9ppiNE4"
      },
      "source": [
        "숫자 데이터와 달리 축을 따라 범주 형 변수의 수준을 정렬하는 방법이 항상 분명하지는 않습니다. 일반적으로 Seaborn 범주 형 플로팅 함수는 데이터에서 범주 순서를 추론하려고합니다. 데이터에 pandas Categorical데이터 유형 이있는 경우 카테고리의 기본 순서를 설정할 수 있습니다. 범주 형 축에 전달 된 변수가 숫자로 표시되면 수준이 정렬됩니다. 그러나 데이터는 여전히 범주 형으로 취급되고 범주 형 축의 서수 위치 (특히 0, 1,…)에 숫자를 사용하여 레이블을 지정하는 경우에도 그려집니다."
      ]
    },
    {
      "cell_type": "code",
      "metadata": {
        "id": "rmevYk3IiO9A"
      },
      "source": [
        "sns.catplot(x=\"size\", y=\"total_bill\", data=tips);"
      ],
      "execution_count": null,
      "outputs": []
    },
    {
      "cell_type": "markdown",
      "metadata": {
        "id": "UuNoLYAXiVjY"
      },
      "source": [
        "기본 순서를 선택하는 다른 옵션은 데이터 세트에 나타나는 카테고리 수준을 취하는 것입니다. order매개 변수를 사용하여 플롯별로 순서를 제어 할 수도 있습니다 . 이것은 같은 그림에서 여러 범주 형 플롯을 그릴 때 중요 할 수 있으며 아래에서 더 많이 볼 수 있습니다."
      ]
    },
    {
      "cell_type": "code",
      "metadata": {
        "id": "ULBzzr5QiWWY"
      },
      "source": [
        "sns.catplot(x=\"smoker\", y=\"tip\", order=[\"No\", \"Yes\"], data=tips);"
      ],
      "execution_count": null,
      "outputs": []
    },
    {
      "cell_type": "markdown",
      "metadata": {
        "id": "Uo0R8rlOifqB"
      },
      "source": [
        "우리는“범주 적 축”이라는 개념을 언급했습니다. 이 예에서는 항상 가로축에 해당합니다. 그러나 세로 축에 범주 형 변수를 배치하는 것이 도움이되는 경우가 많습니다 (특히 범주 이름이 비교적 길거나 범주가 많은 경우). 이렇게하려면 축에 대한 변수 할당을 바꿉니다."
      ]
    },
    {
      "cell_type": "code",
      "metadata": {
        "id": "MVdlcXvmigbh"
      },
      "source": [
        "sns.catplot(x=\"total_bill\", y=\"day\", hue=\"time\", kind=\"swarm\", data=tips);"
      ],
      "execution_count": null,
      "outputs": []
    },
    {
      "cell_type": "markdown",
      "metadata": {
        "id": "X95Vm2mViqHB"
      },
      "source": [
        "## 범주 내 관찰 분포\n",
        "\n",
        "데이터 세트의 크기가 커짐에 따라 범주 형 산점도는 각 범주 내의 값 분포에 대해 제공 할 수있는 정보가 제한됩니다. 이러한 상황이 발생하면 범주 수준에서 쉽게 비교할 수있는 방식으로 분포 정보를 요약하는 몇 가지 방법이 있습니다."
      ]
    },
    {
      "cell_type": "markdown",
      "metadata": {
        "id": "lhAtEvsBitaR"
      },
      "source": [
        "### 박스 플롯\n",
        "\n",
        "첫 번째는 익숙한 boxplot(). 이러한 종류의 그림은 극단 값과 함께 분포의 3 사 분위수 값을 보여줍니다. \"수염\"은 하위 사 분위수 및 상위 사 분위수의 1.5 IQR 내에있는 점까지 확장 된 다음이 범위를 벗어나는 관측치는 독립적으로 표시됩니다. 이는 상자 그림의 각 값이 데이터의 실제 관측치에 해당함을 의미합니다."
      ]
    },
    {
      "cell_type": "code",
      "metadata": {
        "id": "Ixcn_u_DivGI"
      },
      "source": [
        "sns.catplot(x='day', y=\"total_bill\", kind=\"box\", data=tips);"
      ],
      "execution_count": null,
      "outputs": []
    },
    {
      "cell_type": "markdown",
      "metadata": {
        "id": "AUVWh_VFi6Wp"
      },
      "source": [
        "hue의미 체계를 추가 할 때 의미 체계 변수의 각 수준에 대한 상자가 범주 축을 따라 이동하여 겹치지 않습니다."
      ]
    },
    {
      "cell_type": "code",
      "metadata": {
        "id": "9NVlt6Ewi7wh"
      },
      "source": [
        "sns.catplot(x=\"day\", y=\"total_bill\", hue=\"smoker\", kind=\"box\", data=tips);"
      ],
      "execution_count": null,
      "outputs": []
    },
    {
      "cell_type": "markdown",
      "metadata": {
        "id": "6yBNMpPXjFYw"
      },
      "source": [
        "이 동작을 \"회피\"라고하며 의미 변수가 기본 범주 형 변수 내에 중첩되어 있다고 가정하므로 기본적으로 켜져 있습니다. 그렇지 않은 경우 회피를 비활성화 할 수 있습니다."
      ]
    },
    {
      "cell_type": "code",
      "metadata": {
        "id": "dDzGzCFxjGaC"
      },
      "source": [
        "tips[\"weekend\"] = tips[\"day\"].isin([\"Sat\", \"Sun\"])\n",
        "sns.catplot(x=\"day\", y=\"total_bill\", hue=\"weekend\",\n",
        "            kind=\"box\", dodge=False, data=tips);"
      ],
      "execution_count": null,
      "outputs": []
    },
    {
      "cell_type": "markdown",
      "metadata": {
        "id": "YnpTPuxXjZV5"
      },
      "source": [
        "관련 함수 boxenplot()는 상자 그림과 유사하지만 분포 모양에 대한 추가 정보를 표시하도록 최적화 된 그림을 그립니다. 더 큰 데이터 세트에 가장 적합합니다."
      ]
    },
    {
      "cell_type": "code",
      "metadata": {
        "id": "LEVpe_AajaVJ"
      },
      "source": [
        "diamonds = sns.load_dataset(\"diamonds\")\n",
        "sns.catplot(x=\"color\", y=\"price\", kind=\"boxen\",\n",
        "            data=diamonds.sort_values(\"color\"));"
      ],
      "execution_count": null,
      "outputs": []
    },
    {
      "cell_type": "markdown",
      "metadata": {
        "id": "1IHK_8mEjpcT"
      },
      "source": [
        "### 바이올린 플롯\n",
        "\n",
        "다른 접근 방식은이며 violinplot(), 분포 자습서에 설명 된 커널 밀도 추정 절차와 상자 그림을 결합합니다 ."
      ]
    },
    {
      "cell_type": "code",
      "metadata": {
        "id": "kfeucWoOjs-R"
      },
      "source": [
        "sns.catplot(x=\"total_bill\", y=\"day\", hue=\"sex\",\n",
        "            kind=\"violin\", data=tips);"
      ],
      "execution_count": null,
      "outputs": []
    },
    {
      "cell_type": "markdown",
      "metadata": {
        "id": "BuBLSh08j3CR"
      },
      "source": [
        "이 접근 방식은 커널 밀도 추정을 사용하여 값 분포에 대한보다 풍부한 설명을 제공합니다. 또한 상자 그림의 사 분위수 및 수염 값이 바이올린 내부에 표시됩니다. 단점은 violinplot이 KDE를 사용하기 때문에 조정이 필요한 몇 가지 다른 매개 변수가있어 간단한 상자 그림에 비해 약간의 복잡성이 추가된다는 것입니다."
      ]
    },
    {
      "cell_type": "code",
      "metadata": {
        "id": "xQc_o-bmj5ga"
      },
      "source": [
        "sns.catplot(x=\"total_bill\", y=\"day\", hue=\"sex\",\n",
        "            kind=\"violin\", bw=.15, cut=0,\n",
        "            data=tips);"
      ],
      "execution_count": null,
      "outputs": []
    },
    {
      "cell_type": "markdown",
      "metadata": {
        "id": "y4eLGXMHkEih"
      },
      "source": [
        "또한 색조 매개 변수에 2 개의 레벨 만있을 때 바이올린을 \"분할\"할 수 있으므로 공간을보다 효율적으로 사용할 수 있습니다."
      ]
    },
    {
      "cell_type": "code",
      "metadata": {
        "id": "fz-Ya_WlkFTB"
      },
      "source": [
        "sns.catplot(x=\"day\", y=\"total_bill\", hue=\"sex\",\n",
        "            kind=\"violin\", split=True, data=tips);"
      ],
      "execution_count": null,
      "outputs": []
    },
    {
      "cell_type": "markdown",
      "metadata": {
        "id": "ddY9IpcAkPq5"
      },
      "source": [
        "마지막으로 요약 상자 그림 값 대신 각 개별 관찰을 표시하는 방법을 포함하여 바이올린 내부에 그려진 플롯에 대한 몇 가지 옵션이 있습니다."
      ]
    },
    {
      "cell_type": "code",
      "metadata": {
        "id": "ZjUxv3r4kQ0p"
      },
      "source": [
        "sns.catplot(x=\"day\", y=\"total_bill\", hue=\"sex\",\n",
        "            kind=\"violin\", inner=\"stick\", split=True,\n",
        "            palette=\"pastel\", data=tips);"
      ],
      "execution_count": null,
      "outputs": []
    },
    {
      "cell_type": "markdown",
      "metadata": {
        "id": "1zKT0pCNkhtL"
      },
      "source": [
        "분포 요약과 함께 각 관측치를 표시하기 위해 상자 플롯 또는 바이올린 플롯 을 결합 swarmplot()하거나 결합하는 것도 유용 할 수 있습니다 striplot()."
      ]
    },
    {
      "cell_type": "code",
      "metadata": {
        "id": "GULVXfILkihk"
      },
      "source": [
        "g = sns.catplot(x=\"day\", y=\"total_bill\", kind=\"violin\", inner=None, data=tips)\n",
        "sns.swarmplot(x=\"day\", y=\"total_bill\", color=\"k\", size=3, data=tips, ax=g.ax);"
      ],
      "execution_count": null,
      "outputs": []
    },
    {
      "cell_type": "markdown",
      "metadata": {
        "id": "FUgEDYFykygq"
      },
      "source": [
        "## 카테고리 내 통계적 추정\n",
        "\n",
        "다른 응용 프로그램의 경우 각 범주 내의 분포를 표시하는 대신 값의 중심 경향에 대한 추정치를 표시 할 수 있습니다. Seaborn에는이 정보를 표시하는 두 가지 주요 방법이 있습니다. 중요한 것은 이러한 함수의 기본 API가 위에서 설명한 것과 동일하다는 것입니다."
      ]
    },
    {
      "cell_type": "markdown",
      "metadata": {
        "id": "BQp5dD_Ok2SL"
      },
      "source": [
        "### 막대 그래프\n",
        "\n",
        "이 목표를 달성하는 친숙한 스타일의 플롯은 막대 플롯입니다. seaborn에서이 barplot()함수는 전체 데이터 세트에서 작동하고 추정치를 얻기 위해 함수를 적용합니다 (기본적으로 평균 사용). 각 범주에 여러 관측치가있는 경우 부트 스트래핑을 사용하여 추정값 주위의 신뢰 구간을 계산하고 오차 막대를 사용하여 플롯합니다."
      ]
    },
    {
      "cell_type": "code",
      "metadata": {
        "id": "4RVjvYINk4t7"
      },
      "source": [
        "titanic = sns.load_dataset(\"titanic\")\n",
        "sns.catplot(x=\"sex\", y=\"survived\", hue=\"class\", kind=\"bar\", data=titanic);"
      ],
      "execution_count": null,
      "outputs": []
    },
    {
      "cell_type": "markdown",
      "metadata": {
        "id": "GJXI5TC2lGYa"
      },
      "source": [
        "막대 그림의 특별한 경우는 두 번째 변수에 대한 통계를 계산하는 대신 각 범주의 관측치 수를 표시하려는 경우입니다. 이는 양적 변수가 아닌 범주 형 변수에 대한 히스토그램과 유사합니다. seaborn에서는 다음 countplot()기능을 사용하여 쉽게 수행 할 수 있습니다."
      ]
    },
    {
      "cell_type": "code",
      "metadata": {
        "id": "svzQI405lHcq"
      },
      "source": [
        "sns.catplot(x=\"deck\", kind=\"count\", palette=\"ch:.25\", data=titanic);"
      ],
      "execution_count": null,
      "outputs": []
    },
    {
      "cell_type": "markdown",
      "metadata": {
        "id": "BztFR2LDlPzj"
      },
      "source": [
        "barplot()및 둘 다 countplot()위에서 설명한 모든 옵션과 함께 각 기능에 대한 자세한 문서에 설명 된 다른 옵션과 함께 호출 할 수 있습니다."
      ]
    },
    {
      "cell_type": "code",
      "metadata": {
        "id": "rIqZukmplRca"
      },
      "source": [
        "sns.catplot(y=\"deck\", hue=\"class\", kind=\"count\",\n",
        "            palette=\"pastel\", edgecolor=\".6\",\n",
        "            data=titanic);"
      ],
      "execution_count": null,
      "outputs": []
    },
    {
      "cell_type": "markdown",
      "metadata": {
        "id": "iWbB-Ym-ldea"
      },
      "source": [
        "### 포인트 플롯\n",
        "\n",
        "동일한 정보를 시각화하기위한 대체 스타일이 pointplot()기능에 의해 제공됩니다 . 이 함수는 또한 다른 축의 높이로 추정값을 인코딩하지만 전체 막대를 표시하는 대신 점 추정치 및 신뢰 구간을 표시합니다. 또한 pointplot()동일한 hue카테고리의 포인트를 연결합니다 . 이렇게하면 눈이 경사의 차이를 잘 파악할 수 있기 때문에 주요 관계가 색조 의미 체계의 함수로 어떻게 변하는 지 쉽게 알 수 있습니다."
      ]
    },
    {
      "cell_type": "code",
      "metadata": {
        "id": "y2MZy_f0lhOr"
      },
      "source": [
        "sns.catplot(x=\"sex\", y=\"survived\", hue=\"class\", kind=\"point\", data=titanic);"
      ],
      "execution_count": null,
      "outputs": []
    },
    {
      "cell_type": "markdown",
      "metadata": {
        "id": "k3c6mtB6lpkK"
      },
      "source": [
        "범주 형 함수 style에는 관계형 함수 의 의미가 없지만 색상과 함께 마커 및 / 또는 선 스타일을 변경하여 최대로 액세스 할 수 있고 흑백으로 잘 재현되는 그림을 만드는 것이 좋습니다."
      ]
    },
    {
      "cell_type": "code",
      "metadata": {
        "id": "5eCAJQ2xlqeq"
      },
      "source": [
        "sns.catplot(x=\"class\", y=\"survived\", hue=\"sex\",\n",
        "            palette={\"male\": \"g\", \"female\": \"m\"},\n",
        "            markers=[\"^\", \"o\"], linestyles=[\"-\", \"--\"],\n",
        "            kind=\"point\", data=titanic);"
      ],
      "execution_count": null,
      "outputs": []
    },
    {
      "cell_type": "markdown",
      "metadata": {
        "id": "kKfsfacimJRl"
      },
      "source": [
        "## \"와이드 형식\"데이터 플로팅\n",
        "\n",
        "\"긴 형식\"또는 \"정리\"데이터를 사용하는 것이 선호되지만 이러한 함수는 pandas DataFrames 또는 2 차원 numpy 배열을 포함하여 다양한 형식의 \"와이드 형식\"데이터에 적용 할 수도 있습니다. 이러한 개체는 data매개 변수에 직접 전달되어야합니다 ."
      ]
    },
    {
      "cell_type": "code",
      "metadata": {
        "id": "_To1nCGwmNIj"
      },
      "source": [
        "iris = sns.load_dataset(\"iris\")\n",
        "sns.catplot(data=iris, orient=\"h\", kind=\"box\");"
      ],
      "execution_count": null,
      "outputs": []
    },
    {
      "cell_type": "markdown",
      "metadata": {
        "id": "DDWFYBj2mVne"
      },
      "source": [
        "또한 축 수준 함수는 a의 변수 대신 Pandas 또는 numpy 개체의 벡터를 허용합니다 DataFrame."
      ]
    },
    {
      "cell_type": "code",
      "metadata": {
        "id": "XMyCRPO2mWoU"
      },
      "source": [
        "sns.violinplot(x=iris.species, y=iris.sepal_length);"
      ],
      "execution_count": null,
      "outputs": []
    },
    {
      "cell_type": "markdown",
      "metadata": {
        "id": "tSXzPkF5mbyz"
      },
      "source": [
        "위에서 설명한 함수로 만든 플롯의 크기와 모양을 제어하려면 matplotlib 명령을 사용하여 Figure를 직접 설정해야합니다."
      ]
    },
    {
      "cell_type": "code",
      "metadata": {
        "id": "fV0B48OEmclq"
      },
      "source": [
        "f, ax = plt.subplots(figsize=(7, 3))\n",
        "sns.countplot(y=\"deck\", data=titanic, color=\"c\");"
      ],
      "execution_count": null,
      "outputs": []
    },
    {
      "cell_type": "markdown",
      "metadata": {
        "id": "toqzKbqTmnPr"
      },
      "source": [
        "이것은 다른 종류의 그림과 더 복잡한 그림에서 행복하게 공존하기 위해 범주 형 그림이 필요할 때 취해야하는 접근 방식입니다.\n",
        "\n"
      ]
    },
    {
      "cell_type": "markdown",
      "metadata": {
        "id": "2vl09SL_moTD"
      },
      "source": [
        "## 패싯이있는 여러 관계 표시\n",
        "\n",
        "와 마찬가지로 relplot()에 catplot()구축 된다는 사실 은 FacetGrid더 높은 차원의 관계를 시각화하기 위해 패싯 변수를 추가하기 쉽다 는 것을 의미합니다."
      ]
    },
    {
      "cell_type": "code",
      "metadata": {
        "id": "2jawKM--mr1r"
      },
      "source": [
        "sns.catplot(x=\"day\", y=\"total_bill\", hue=\"smoker\",\n",
        "            col=\"time\", aspect=.7,\n",
        "            kind=\"swarm\", data=tips);"
      ],
      "execution_count": null,
      "outputs": []
    },
    {
      "cell_type": "markdown",
      "metadata": {
        "id": "EYr_pe29m4bk"
      },
      "source": [
        "플롯의 추가 사용자 정의를 위해 FacetGrid반환 되는 객체 에 대한 메서드를 사용할 수 있습니다 ."
      ]
    },
    {
      "cell_type": "code",
      "metadata": {
        "id": "TMIIpIwkm5Qc"
      },
      "source": [
        "g = sns.catplot(x=\"fare\", y=\"survived\", row=\"class\",\n",
        "                kind=\"box\", orient=\"h\", height=1.5, aspect=4,\n",
        "                data=titanic.query(\"fare > 0\"))\n",
        "g.set(xscale=\"log\");"
      ],
      "execution_count": null,
      "outputs": []
    }
  ]
}