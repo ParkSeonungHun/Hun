{
  "nbformat": 4,
  "nbformat_minor": 0,
  "metadata": {
    "colab": {
      "name": "matplotlib이용 안내.ipynb",
      "provenance": [],
      "authorship_tag": "ABX9TyM3PCnyxo+fwMuU27tGtoQO",
      "include_colab_link": true
    },
    "kernelspec": {
      "name": "python3",
      "display_name": "Python 3"
    }
  },
  "cells": [
    {
      "cell_type": "markdown",
      "metadata": {
        "id": "view-in-github",
        "colab_type": "text"
      },
      "source": [
        "<a href=\"https://colab.research.google.com/github/ParkSeonungHun/Hun/blob/main/python_basic/matplotlib%EC%9D%B4%EC%9A%A9_%EC%95%88%EB%82%B4.ipynb\" target=\"_parent\"><img src=\"https://colab.research.google.com/assets/colab-badge.svg\" alt=\"Open In Colab\"/></a>"
      ]
    },
    {
      "cell_type": "code",
      "metadata": {
        "id": "jX56psEHdJdN"
      },
      "source": [
        "# 사용 가이드\n",
        "\n",
        "이 자습서에서는 Matplotlib를 시작하는 데 도움이되는 몇 가지 기본 사용 패턴과 모범 사례를 다룹니다."
      ],
      "execution_count": null,
      "outputs": []
    },
    {
      "cell_type": "code",
      "metadata": {
        "id": "xGESoKTifpCw"
      },
      "source": [
        "import matplotlib.pyplot as plt\n",
        "import numpy as np"
      ],
      "execution_count": 1,
      "outputs": []
    },
    {
      "cell_type": "markdown",
      "metadata": {
        "id": "cVJuU9OHf11E"
      },
      "source": [
        "## 간단한 예\n",
        "\n",
        "Matplotlib는 Figures (예 : 창, Jupyter 위젯 등) 에 데이터를 그래프로 표시 하며, 각 요소에는 하나 이상의 Axes(예 : xy 좌표 (또는 극좌표에서 theta-r)로 포인트를 지정할 수있는 영역) , 또는 3D 플롯에서 xyz 등). 축이있는 도형을 만드는 가장 간단한 방법은를 사용하는 것 pyplot.subplots입니다. 그런 다음을 사용 Axes.plot하여 축에 데이터를 그릴 수 있습니다 ."
      ]
    },
    {
      "cell_type": "code",
      "metadata": {
        "id": "XlDxGBmhf4kV"
      },
      "source": [
        "fig, ax = plt.subplots() # create a figure containing a single axes.\n",
        "ax.plot([1, 2, 3, 4], [1, 4, 2, 3]) # Plot some data on the axes."
      ],
      "execution_count": null,
      "outputs": []
    },
    {
      "cell_type": "markdown",
      "metadata": {
        "id": "pviJ_73OgUAV"
      },
      "source": [
        "다른 많은 플로팅 라이브러리 또는 언어에서는 축을 명시 적으로 생성 할 필요가 없습니다. 예를 들어, MATLAB에서는"
      ]
    },
    {
      "cell_type": "code",
      "metadata": {
        "id": "qO5QpEemgVWN"
      },
      "source": [
        "plot([1, 2, 3, 4], [1, 4, 2, 3])"
      ],
      "execution_count": null,
      "outputs": []
    },
    {
      "cell_type": "markdown",
      "metadata": {
        "id": "Sv8HJZPUglz9"
      },
      "source": [
        "원하는 그래프를 얻습니다.\n",
        "\n",
        "실제로 Matplotlib에서 동일한 작업을 수행 할 수 있습니다. 각 Axes그래프 방법에 대해 matplotlib.pyplot 모듈에는 \"현재\"축에서 해당 플롯을 수행 하는 해당 함수가 있으며 존재하지 않는 경우 해당 축 (및 상위 그림)을 생성합니다. 아직. 따라서 이전 예제는 다음과 같이 더 짧게 작성할 수 있습니다."
      ]
    },
    {
      "cell_type": "code",
      "metadata": {
        "id": "IIh5b5a4gna3"
      },
      "source": [
        "plt.plot([1, 2, 3, 4], [1, 4, 2, 3]) # Matplotlib plot."
      ],
      "execution_count": null,
      "outputs": []
    },
    {
      "cell_type": "markdown",
      "metadata": {
        "id": "2cpvoKOkgxUu"
      },
      "source": [
        "## 그림의 일부\n",
        "\n",
        "이제 Matplotlib 그림의 구성 요소를 자세히 살펴 보겠습니다"
      ]
    },
    {
      "cell_type": "markdown",
      "metadata": {
        "id": "vDXUoA95g3Sz"
      },
      "source": [
        "### Figure\n",
        "\n",
        "전체 그림. 그림은 모든 어린이 Axes, '특별한'예술가 (제목, 그림 전설 등) 및 캔버스 를 추적 합니다 . (캔버스에 대해 너무 걱정하지 마십시오. 실제로 그림을 그리는 것이 당신의 플롯을 얻는 객체이기 때문에 중요하지만 사용자로서 그것은 당신에게 거의 보이지 않습니다). Figure는 개수에 관계없이를 포함 할 수 Axes있지만 일반적으로 적어도 하나는 포함합니다.\n",
        "\n",
        "새 그림을 만드는 가장 쉬운 방법은 pyplot을 사용하는 것입니다."
      ]
    },
    {
      "cell_type": "code",
      "metadata": {
        "id": "MdvK-u70g8rR"
      },
      "source": [
        "fig = plt.figure() # an empty figure with no Axes\n",
        "fig, ax = plt.subplots() # a figure with a single Axes\n",
        "fig, axs = plt.subplots(2, 2) # a figure with a 2x2 grid of Axes "
      ],
      "execution_count": null,
      "outputs": []
    },
    {
      "cell_type": "markdown",
      "metadata": {
        "id": "t73qEHWthRmK"
      },
      "source": [
        "그림과 함께 축을 만드는 것이 편리하지만 나중에 축을 추가하여 더 복잡한 축 레이아웃을 허용 할 수도 있습니다."
      ]
    },
    {
      "cell_type": "markdown",
      "metadata": {
        "id": "cwlJFwYhhSig"
      },
      "source": [
        "### Axes\n",
        "\n",
        "이것은 당신이 '플롯'이라고 생각하는 것이며, 데이터 공간이있는 이미지의 영역입니다. 주어진 Figure는 많은 축을 포함 할 수 있지만 주어진 Axes 객체는 하나의 Figure. Axes에는 데이터 제한을 처리하는 2 개 (또는 3D의 경우 3 개) Axis개체 ( Axes 및 Axis 의 차이에 유의 )가 포함되어 있습니다 (데이터 제한은 axes.Axes.set_xlim()및 axes.Axes.set_ylim()메서드 를 통해 제어 할 수도 있음 ). 각각 Axes은 제목 (를 통해 설정 set_title()), x- 라벨 (를 통해 설정 set_xlabel()) 및 y- 라벨을 통해 설정됩니다 set_ylabel().\n",
        "\n",
        "Axes클래스와 그 멤버 함수는 OO 인터페이스 작업에 대한 기본 진입 점입니다."
      ]
    },
    {
      "cell_type": "markdown",
      "metadata": {
        "id": "6tqcCZgmhU-3"
      },
      "source": [
        "### Axis\n",
        "\n",
        "이것은 수선과 같은 개체입니다. 그들은 그래프 한계를 설정하고 눈금 (축의 표시)과 눈금 (틱을 표시하는 문자열)을 생성합니다. 눈금의 위치는 Locator객체에 의해 결정되고 ticklabel 문자열은 Formatter. 올바른 조합 Locator과 Formatter눈금 위치 및 레이블을 매우 정밀하게 제어 할 수 있습니다."
      ]
    },
    {
      "cell_type": "markdown",
      "metadata": {
        "id": "Vzcf0_tkhbC-"
      },
      "source": [
        "### Artist\n",
        "\n",
        "당신이 그림에서 볼 수 기본적으로 모든 예술가 (심지어이다 Figure, Axes및 Axis객체). 여기에는 Text사물, Line2D사물, collections사물, Patch 사물 이 포함 됩니다 . 그림이 렌더링되면 모든 아티스트가 캔버스에 그려집니다 . 대부분의 아티스트는 축에 묶여 있습니다. 이러한 아티스트는 여러 축에서 공유하거나 하나에서 다른 축으로 이동할 수 없습니다."
      ]
    },
    {
      "cell_type": "markdown",
      "metadata": {
        "id": "8RdY9rlhhdg0"
      },
      "source": [
        "## 플로팅 함수에 대한 입력 유형\n",
        "\n",
        "모든 플로팅 함수는 예상 numpy.array하거나 numpy.ma.masked_array입력으로 사용됩니다. pandas데이터 객체와 같이 '배열과 유사하고' numpy.matrix의도 한대로 작동 할 수도 있고 작동하지 않을 수도있는 클래스 . numpy.array플로팅하기 전에이를 객체 로 변환하는 것이 가장 좋습니다 .\n",
        "\n",
        "예를 들어, pandas.DataFrame"
      ]
    },
    {
      "cell_type": "code",
      "metadata": {
        "id": "xbjRdhe6hgd9"
      },
      "source": [
        "a = pands.DataFrame(np.random.rend(4, 5), columns = list('abcde'))\n",
        "a_asarray = a.values"
      ],
      "execution_count": null,
      "outputs": []
    },
    {
      "cell_type": "markdown",
      "metadata": {
        "id": "Q9XM5bBMhv4O"
      },
      "source": [
        "및 변환 numpy.matrix"
      ]
    },
    {
      "cell_type": "code",
      "metadata": {
        "id": "n_eVRd8HhxkX"
      },
      "source": [
        "b = np.matrix([[1, 2], [3, 4]])\n",
        "b_asarray = np.asarray(b)"
      ],
      "execution_count": 13,
      "outputs": []
    },
    {
      "cell_type": "markdown",
      "metadata": {
        "id": "gqES0x7Ph0LW"
      },
      "source": [
        "## 객체 지향 인터페이스와 pyplot 인터페이스\n",
        "\n",
        "위에서 언급했듯이 기본적으로 Matplotlib를 사용하는 두 가지 방법이 있습니다.\n",
        "\n",
        "*   그림과 축을 명시 적으로 만들고 그에 대한 메서드를 호출합니다 (\"객체 지향 (OO) 스타일\").\n",
        "*   pyplot을 사용하여 그림과 축을 자동으로 생성 및 관리하고 플로팅에 pyplot함수를 사용합니다.\n",
        "\n",
        "그래서 하나는 할 수 있습니다(OO 스타일)\n",
        "\n"
      ]
    },
    {
      "cell_type": "code",
      "metadata": {
        "id": "2_GAOtrXiL9l"
      },
      "source": [
        "x = np.linspace(0, 2, 100)\n",
        "\n",
        "# Note that even in the OO-style, we use `.pyplot.figure` to create the figure.\n",
        "fig, ax = plt.subplots()  # Create a figure and an axes.\n",
        "ax.plot(x, x, label='linear')  # Plot some data on the axes.\n",
        "ax.plot(x, x**2, label='quadratic')  # Plot more data on the axes...\n",
        "ax.plot(x, x**3, label='cubic')  # ... and some more.\n",
        "ax.set_xlabel('x label')  # Add an x-label to the axes.\n",
        "ax.set_ylabel('y label')  # Add a y-label to the axes.\n",
        "ax.set_title(\"Simple Plot\")  # Add a title to the axes.\n",
        "ax.legend()  # Add a legend."
      ],
      "execution_count": null,
      "outputs": []
    },
    {
      "cell_type": "markdown",
      "metadata": {
        "id": "xUVuHoP7iQ0W"
      },
      "source": [
        "또는 (pyplot 스타일)"
      ]
    },
    {
      "cell_type": "code",
      "metadata": {
        "id": "8VKik8JviTOe"
      },
      "source": [
        "x = np.linspace(0, 2, 100)\n",
        "\n",
        "plt.plot(x, x, label='linear') # PLot some data on the (implicit) axes.\n",
        "plt.plot(x, x**2, label='quadratic') # etc\n",
        "plt.plot(x, x**3, label='cubic')\n",
        "plt.xlabel('x label')\n",
        "plt.ylabel('y label')\n",
        "plt.title(\"Simple Plot\")\n",
        "plt.legend()"
      ],
      "execution_count": null,
      "outputs": []
    },
    {
      "cell_type": "markdown",
      "metadata": {
        "id": "rxU_d7rpi68h"
      },
      "source": [
        "실제로 GUI 응용 프로그램에 Matplotlib를 포함하는 경우 세 번째 접근 방식이 있습니다.이 경우 그림 생성시에도 pyplot을 완전히 삭제합니다. 여기서 논의하지 않겠습니다. 자세한 내용은 갤러리의 해당 섹션 ( 그래픽 사용자 인터페이스에 Matplotlib 포함 )을 참조하십시오.\n",
        "\n",
        "Matplotlib의 문서와 예제는 OO와 pyplot 접근 방식을 모두 사용합니다 (동일하게 강력 함). 둘 중 하나를 자유롭게 사용할 수 있습니다 (하지만 둘 중 하나를 선택하고 혼합하는 대신 고수하는 것이 좋습니다). 일반적으로 Pyplot을 대화 형 플로팅 (예 : Jupyter 노트북)으로 제한하고, 비대화 형 플로팅 (대규모 프로젝트의 일부로 재사용하려는 함수 및 스크립트에서)을 위해 OO 스타일을 선호하는 것이 좋습니다."
      ]
    },
    {
      "cell_type": "markdown",
      "metadata": {
        "id": "3OaB4hoQi84L"
      },
      "source": [
        "### 노트\n",
        "\n",
        "이전 예에서는을 pylab통해 소위 인터페이스 를 대신 사용한 예를 찾을 수 있습니다 . 이 star-import는 pyplot과에서 모든 것을 가져 와서 할 수 있습니다.from pylab import *numpy\n",
        "\n",
        "x = linspace(0, 2, 100)\n",
        "\n",
        "plot(x, x, label='linear')\n",
        "\n",
        "...\n",
        "\n",
        "훨씬 더 MATLAB과 유사한 스타일. 이 접근 방식은 오늘날 강력히 권장되지 않으며 더 이상 사용되지 않습니다. 야생에서 여전히 만날 수 있기 때문에 여기에서만 언급됩니다."
      ]
    },
    {
      "cell_type": "markdown",
      "metadata": {
        "id": "rAKL9T-CjYfd"
      },
      "source": [
        "일반적으로 동일한 플롯을 반복해서 작성하지만 데이터 세트가 다르기 때문에 플로팅을 수행하기 위해 특수 함수를 작성해야합니다. 권장되는 함수 서명은 다음과 같습니다."
      ]
    },
    {
      "cell_type": "code",
      "metadata": {
        "id": "kXGGrmsyjZcI"
      },
      "source": [
        "def my_plotter(ax, data1, data2, param_dict):\n",
        "    \"\"\"\n",
        "    A helper function to make a graph\n",
        "\n",
        "    Parameters\n",
        "    ----------\n",
        "    ax : Axes\n",
        "        The axes to draw to\n",
        "\n",
        "    data1 : array\n",
        "       The x data\n",
        "\n",
        "    data2 : array\n",
        "       The y data\n",
        "\n",
        "    param_dict : dict\n",
        "       Dictionary of kwargs to pass to ax.plot\n",
        "\n",
        "    Returns\n",
        "    -------\n",
        "    out : list\n",
        "        list of artists added\n",
        "    \"\"\"\n",
        "    out = ax.plot(data1, data2, **param_dict)\n",
        "    return out"
      ],
      "execution_count": 16,
      "outputs": []
    },
    {
      "cell_type": "markdown",
      "metadata": {
        "id": "xfORxbDejfhU"
      },
      "source": [
        "그러면 다음과 같이 사용할 수 있습니다."
      ]
    },
    {
      "cell_type": "code",
      "metadata": {
        "id": "uqG9m7u_ji3t"
      },
      "source": [
        "data1, data2, data3, data4 = np.random.randn(4, 100)\n",
        "fig, ax = plt.subplots(1, 1)\n",
        "my_plotter(ax, data1, data2, {'marker': 'x'})"
      ],
      "execution_count": null,
      "outputs": []
    },
    {
      "cell_type": "markdown",
      "metadata": {
        "id": "_BN1rNhPjz7u"
      },
      "source": [
        "또는 2 개의 하위 플롯을 원할 경우 :"
      ]
    },
    {
      "cell_type": "code",
      "metadata": {
        "id": "FFCnFQC7j1wk"
      },
      "source": [
        "fig, (ax1, ax2) = plt.subplots(1, 2)\n",
        "my_plotter(ax1, data1, data2, {'marker': 'x'})\n",
        "my_plotter(ax2, data3, data4, {'marker': 'o'})"
      ],
      "execution_count": null,
      "outputs": []
    },
    {
      "cell_type": "markdown",
      "metadata": {
        "id": "gbDa7RdFkPu9"
      },
      "source": [
        "이 간단한 예제의 경우이 스타일은 과잉처럼 보이지만 그래프가 약간 더 복잡해지면 효과가 있습니다."
      ]
    },
    {
      "cell_type": "markdown",
      "metadata": {
        "id": "PXR5tOCOkQ19"
      },
      "source": [
        "## 백엔드\n",
        "\n",
        "백엔드 란 무엇입니까? \n",
        "웹 사이트와 메일 링리스트에있는 많은 문서는 \"백엔드\"를 언급하고 있으며 많은 신규 사용자들이이 용어로 혼동합니다. matplotlib는 다양한 사용 사례와 출력 형식을 대상으로합니다. 어떤 사람들은 파이썬 셸에서 대화식으로 matplotlib를 사용하고 명령을 입력 할 때 플로팅 창이 팝업됩니다. 어떤 사람들은 Jupyter 노트북을 실행 하고 빠른 데이터 분석을 위해 인라인 플롯을 그립니다. 다른 사람들은 wxpython 또는 pygtk와 같은 그래픽 사용자 인터페이스에 matplotlib를 포함하여 풍부한 애플리케이션을 구축합니다. 어떤 사람들은 배치 스크립트에서 matplotlib를 사용하여 수치 시뮬레이션에서 포스트 스크립트 이미지를 생성하고 다른 사람들은 웹 애플리케이션 서버를 실행하여 그래프를 동적으로 제공합니다.\n",
        "\n",
        "이러한 모든 사용 사례를 지원하기 위해 matplotlib는 다른 출력을 대상으로 할 수 있으며 이러한 각 기능을 백엔드라고합니다. \"프론트 엔드\"는 사용자가 직면하는 코드, 즉 플로팅 코드이고 \"백엔드\"는 그림을 만들기 위해 모든 노력을 뒤에서 수행합니다. 백엔드에는 두 가지 유형이 있습니다. 사용자 인터페이스 백엔드 (pygtk, wxpython, tkinter, qt4 또는 macosx에서 사용; \"대화 형 백엔드\"라고도 함)와 이미지 파일을 만들기위한 하드 카피 백엔드 (PNG, SVG, PDF, PS; \"비대화 형 백엔드\"라고도 함).\n"
      ]
    },
    {
      "cell_type": "markdown",
      "metadata": {
        "id": "INc8C1cnkVy-"
      },
      "source": [
        "### 백엔드 선택\n",
        "\n",
        "백엔드를 구성하는 세 가지 방법이 있습니다.\n",
        "\n",
        "\n",
        "1.   rcParams[\"backend\"](기본값:'agg')당신의 매개 변수 matplotlibrc파일\n",
        "2.   그만큼 MPLBACKEND 환경 변수\n",
        "3.   함수 matplotlib.use()"
      ]
    },
    {
      "cell_type": "markdown",
      "metadata": {
        "id": "CgDrMvu4lEoU"
      },
      "source": [
        "자세한 설명은 아래에 나와 있습니다.\n",
        "\n",
        "이러한 구성이 여러 개있는 경우 목록의 마지막 구성이 우선합니다. 예를 들어 호출 matplotlib.use()하면 matplotlibrc.\n",
        "\n",
        "백엔드가 명시 적으로 설정되지 않은 경우 Matplotlib는 시스템에서 사용할 수있는 항목과 GUI 이벤트 루프가 이미 실행 중인지 여부에 따라 사용 가능한 백엔드를 자동으로 감지합니다. Linux에서 환경 변수가 DISPLAY 설정되지 않은 경우 \"이벤트 루프\"는 \"헤드리스\"로 식별되어 비대화 형 백엔드 (agg)로 대체됩니다.\n",
        "\n",
        "다음은 구성 방법에 대한 자세한 설명입니다."
      ]
    },
    {
      "cell_type": "markdown",
      "metadata": {
        "id": "ivZrrn1MlHjv"
      },
      "source": [
        "1. 파일 에서 설정 rcParams[\"backend\"](기본값:):'agg'matplotlibrc"
      ]
    },
    {
      "cell_type": "code",
      "metadata": {
        "id": "d_5sn5hSlR-I"
      },
      "source": [
        "backend : qt5agg # use pyqt5 with antigrain (agg) rendering"
      ],
      "execution_count": null,
      "outputs": []
    },
    {
      "cell_type": "markdown",
      "metadata": {
        "id": "xC-2JHM5lgRG"
      },
      "source": [
        "스타일 시트 및 rcParams로 Matplotlib 사용자 정의를 참조하십시오.\n",
        "\n",
        "2. 설정 MPLBACKEND 환경 변수:\n",
        "현재 셀 또는 단일 스크립트에 대해 환경 변수를 설정할 수 있습니다.\n",
        "\n",
        "Unix에서:"
      ]
    },
    {
      "cell_type": "code",
      "metadata": {
        "id": "yGalpINglvS9"
      },
      "source": [
        "export MPLBACKEND=qt5agg\n",
        "python simple_plot.py\n",
        "\n",
        "MPLBACKEND=qt5agg python simple_plot.py"
      ],
      "execution_count": null,
      "outputs": []
    },
    {
      "cell_type": "markdown",
      "metadata": {
        "id": "wXLljfn1l84K"
      },
      "source": [
        "Windows에서는 전자 만 가능합니다."
      ]
    },
    {
      "cell_type": "code",
      "metadata": {
        "id": "ylQylo6DmAjI"
      },
      "source": [
        "set MPLBACKEND=qt5agg\n",
        "python simple_plot.py"
      ],
      "execution_count": null,
      "outputs": []
    },
    {
      "cell_type": "markdown",
      "metadata": {
        "id": "a9TbNBcSmIzg"
      },
      "source": [
        "이 환경 변수를 설정하면 현재 작업 디렉토리에 가 있더라도 모든 의 backend매개 변수가 재정의됩니다 . 따라서 설정 matplotlibrcmatplotlibrcMPLBACKEND 전 세계적으로, 예를 들어 .bashrc또는 .profile에서 반 직관적 인 동작으로 이어질 수 있으므로 권장하지 않습니다.\n",
        "\n"
      ]
    },
    {
      "cell_type": "markdown",
      "metadata": {
        "id": "kGUrRTq-mKDp"
      },
      "source": [
        "3. 스크립트가 특정 백엔드에 의존하는 경우 다음 함수를 사용할 수 있습니다 matplotlib.use()."
      ]
    },
    {
      "cell_type": "code",
      "metadata": {
        "id": "xdLYALjkmQAm"
      },
      "source": [
        "import matplotlib\n",
        "matplotlib.use('qt5agg')"
      ],
      "execution_count": 25,
      "outputs": []
    },
    {
      "cell_type": "markdown",
      "metadata": {
        "id": "5_lRZrDRmlF8"
      },
      "source": [
        "그림을 만들기 전에이 작업을 수행해야합니다. 그렇지 않으면 Matplotlib가 백엔드를 전환하지 못하고 ImportError가 발생할 수 있습니다.\n",
        "\n",
        "사용하여 use사용자가 다른 백엔드를 사용하려면 코드에서 변경이 필요합니다. 따라서 use절대적으로 필요한 경우가 아니면 명시 적으로 호출 하지 않아야합니다."
      ]
    },
    {
      "cell_type": "markdown",
      "metadata": {
        "id": "7lBMl5XZmmKv"
      },
      "source": [
        "### 내장 백엔드\n",
        "\n",
        "기본적으로 Matplotlib는 대화 형 작업과 스크립트에서 플로팅을 모두 허용하는 기본 백엔드를 자동으로 선택해야하며 화면 및 / 또는 파일로 출력해야하므로 적어도 처음에는 백엔드에 대해 걱정할 필요가 없습니다. 가장 일반적인 예외는 Python 배포판이없이 제공 tkinter되고 다른 GUI 툴킷이 설치되지 않은 경우입니다. 이것은 특정 Linux 배포판에서 발생하며, 여기서 이름이 지정된 python-tk(또는 이와 유사한) Linux 패키지를 설치해야합니다 .\n",
        "\n",
        "그러나 그래픽 사용자 인터페이스 또는 웹 응용 프로그램 서버 (웹 응용 프로그램 서버 에서 Matplotlib를 사용하는 방법 )를 작성하거나 진행 상황을 더 잘 이해해야하는 경우 계속 읽으십시오. 그래픽 사용자 인터페이스에 대해 좀 더 사용자 정의 할 수 있도록하기 위해 matplotlib는 렌더러 (실제로 드로잉을 수행하는 작업)의 개념을 캔버스 (그림이 이동하는 위치)에서 분리합니다. 사용자 인터페이스를위한 표준 렌더러 Agg는 Anti-Grain Geometry C ++ 라이브러리를 사용하여 그림의 래스터 (픽셀) 이미지를 만드는 것입니다. 그것은에 의해 사용되는 Qt5Agg, Qt4Agg, GTK3Agg, wxAgg, TkAgg, 및 macosx백엔드. 대안 렌더러가 사용하는 카이로 라이브러리에 기반 Qt5Cairo, Qt4Cairo등\n",
        "\n",
        "렌더링 엔진의 경우 벡터 또는 래스터 렌더러를 구별 할 수도 있습니다 . 벡터 그래픽 언어는 \"이 지점에서이 지점까지 선을 그립니다\"와 같은 그리기 명령을 실행하므로 배율이 자유롭고 래스터 백엔드는 DPI 설정에 따라 정확도가 달라지는 선의 픽셀 표현을 생성합니다.\n",
        "\n",
        "다음은 matplotlib 렌더러의 요약입니다 (각각에 대한 시조 백엔드가 있습니다. 이들은 파일에 쓸 수있는 비대화 형 백엔드입니다 )."
      ]
    },
    {
      "cell_type": "markdown",
      "metadata": {
        "id": "66AyIwgzmpqg"
      },
      "source": [
        "렌더러,파일형식,기술,\n",
        "\n",
        "---\n",
        "AGG,png,래스터 그래픽- Anti-Grain Geometry 엔진을 사용한 고품질 이미지\n",
        "\n",
        "PDF,pdf,벡터 그래픽- Portable Document Format\n",
        "\n",
        "추신, 추신,eps, 백터 그래픽- 포스트 스크립트 출력\n",
        "\n",
        "SVG, svg, 벡터 그래픽- 확장 가능한 벡터 그래픽\n",
        "\n",
        "PGF, pgf,pdf, 벡터 그래픽- pgf패키지 사용\n",
        "\n",
        "카이로, png,ps,pdf,svg, 래스터 또는 벡터 그래픽- Cairo 라이브러리 **사용**"
      ]
    },
    {
      "cell_type": "markdown",
      "metadata": {
        "id": "rreQFRtKnr9o"
      },
      "source": [
        "비대화 형 백엔드를 사용하여 플롯을 저장하려면 matplotlib.pyplot.savefig('filename')방법을 사용하십시오 .\n",
        "\n",
        "지원되는 사용자 인터페이스 및 렌더러 조합은 다음과 같습니다. 이들은 화면에 표시 할 수 있고 위 표의 적절한 렌더러를 사용하여 파일에 쓸 수있는 대화 형 백엔드입니다 ."
      ]
    },
    {
      "cell_type": "markdown",
      "metadata": {
        "id": "8P8EJdYJnttL"
      },
      "source": [
        "\n",
        "백엔드, 기술\n",
        "---\n",
        "Qt5Agg, Qt5 캔버스 에서 Agg 렌더링 ( PyQt5 필요 ). 이 백엔드는 IPython에서 .%matplotlib qt5\n",
        "\n",
        "ipympl, Jupyter 위젯에 포함 된 Agg 렌더링. (ipympl 필요). 이 백엔드는 .%matplotlib ipympl\n",
        "\n",
        "GTK3Agg, \tGTK 3.x 캔버스에 Agg 렌더링 ( PyGObject 및 pycairo 또는 cairocffi 필요 ). 이 백엔드는 IPython에서 .%matplotlib gtk3\n",
        "\n",
        "맥 OS X, OSX에서 Cocoa 캔버스로 Agg 렌더링. 이 백엔드는 IPython에서 .%matplotlib osx\n",
        "\n",
        "\n",
        "TkAgg,\tTk 캔버스 로의 Agg 렌더링 ( TkInter 필요 ). 이 백엔드는 IPython에서 .%matplotlib tk\n",
        "\n",
        "nbAgg, Jupyter 클래식 노트북에 대화 형 그림을 삽입합니다. 이 백엔드는를 통해 Jupyter 노트북에서 사용 설정할 수 있습니다 .%matplotlib notebook\n",
        "\n",
        "WebAgg, On show()은 대화 형 그림으로 토네이도 서버를 시작합니다.\n",
        "\n",
        "GTX3 카이로, GTK 3.x 캔버스 로 카이로 렌더링 ( PyGObject 및 pycairo 또는 cairocffi 필요 ).\n",
        "\n",
        "Qt4Agg, Qt4 캔버스 로의 Agg 렌더링 ( PyQt4 또는 필요 pyside). 이 백엔드는 IPython에서 .%matplotlib qt4\n",
        "\n",
        "wxAgg, wxWidgets 캔버스에 Agg 렌더링 ( wxPython 4 필요 ). 이 백엔드는 IPython에서 .%matplotlib wx"
      ]
    },
    {
      "cell_type": "markdown",
      "metadata": {
        "id": "ywdenzTxogxX"
      },
      "source": [
        "노트\n",
        "\n",
        "내장 백엔드의 이름은 대소 문자를 구분하지 않습니다. 예를 들어 'Qt5Agg'와 'qt5agg'는 동일합니다."
      ]
    },
    {
      "cell_type": "markdown",
      "metadata": {
        "id": "Fsk3Kh_0okqD"
      },
      "source": [
        "ipympl \n",
        "Jupyter 위젯 생태계는 Matplotlib에서 직접 지원하기에는 너무 빠르게 이동하고 있습니다. ipympl을 설치하려면\n",
        "\n",
        "pip install ipympl\n",
        "\n",
        "jupyter nbextension enable --py --sys-prefix ipympl\n",
        "\n",
        "또는\n",
        "\n",
        "conda install ipympl -c conda-forge"
      ]
    },
    {
      "cell_type": "code",
      "metadata": {
        "id": "n3lFbIixowmi"
      },
      "source": [
        "pip install ipympl\n",
        "jupyter nbextension enable --py --sys-prefix ipympl"
      ],
      "execution_count": null,
      "outputs": []
    },
    {
      "cell_type": "code",
      "metadata": {
        "id": "YHdWP4Zgoycd"
      },
      "source": [
        "conda install ipympl -c conda-forge"
      ],
      "execution_count": null,
      "outputs": []
    },
    {
      "cell_type": "markdown",
      "metadata": {
        "id": "ZYwViCPJoz7t"
      },
      "source": [
        "자세한 내용은 jupyter-matplotlib 를 참조하십시오.\n",
        "\n",
        "PyQt4 또는 PySide를 어떻게 선택합니까? \n",
        "그만큼 QT_API환경 변수에 어느 설정할 수 pyqt또는 pyside발을 사용 PyQt4하거나 PySide각각.\n",
        "\n",
        "사용할 바인딩의 기본값이 PyQt4이므로 Matplotlib는 먼저 가져 오기를 시도하고 가져 오기에 실패하면 가져 오기를 시도합니다 PySide.\n",
        "\n",
        "내장되지 않은 백엔드 사용 \n",
        "보다 일반적으로 위의 방법 중 하나를 사용하여 가져올 수있는 백엔드를 선택할 수 있습니다. name.of.the.backend백엔드를 포함하는 모듈 인 경우 module://name.of.the.backend백엔드 이름으로 사용합니다 (예 : matplotlib.use('module://name.of.the.backend')."
      ]
    },
    {
      "cell_type": "markdown",
      "metadata": {
        "id": "QYoYSgcAo06Y"
      },
      "source": [
        "## 대화형 모드 란 무엇입니까?\n",
        "\n",
        "대화 형 백엔드 (백엔드 란 무엇입니까? 참조 )를 사용하면 화면에 플로팅이 가능하지만 자체적으로 필요하거나 보장하지는 않습니다. 화면에 플로팅이 발생하는지 여부와 플롯이 화면에 그려진 후 스크립트 또는 셸 세션이 계속되는지 여부는 호출되는 함수 및 메서드와 matplotlib가 \"대화 형 모드인지 여부를 결정하는 상태 변수에 따라 다릅니다. \". 기본 부울 값은 matplotlibrc파일에 의해 설정되며 다른 구성 매개 변수처럼 사용자 정의 할 수 있습니다 ( 스타일 시트 및 rcParams로 Matplotlib 사용자 정의 참조 ). 또한을 통해 설정할 수 있습니다 matplotlib.interactive(), 그 값을 통해 조회 할 수있다matplotlib.is_interactive(). 스크립트에서든 셸에서든 상관없이 플로팅 명령 스트림 중간에 대화 형 모드를 켜고 끄는 것은 거의 필요하지 않으며 잠재적으로 혼란 스러울 수 있으므로 다음에서는 모든 플로팅이 대화 형 모드를 켜거나 끄는 것으로 가정합니다."
      ]
    },
    {
      "cell_type": "markdown",
      "metadata": {
        "id": "jqHU8l-Do8vC"
      },
      "source": [
        "노트\n",
        "\n",
        "상호 작용과 관련된 주요 변경 사항, 특히의 역할 및 동작은 show()matplotlib 버전 1.0으로 전환 할 때 이루어졌으며 버그는 1.0.1에서 수정되었습니다. 여기에서는 macosx 의 부분적인 예외를 제외하고 기본 대화 형 백엔드에 대한 버전 1.0.1 동작을 설명합니다 ."
      ]
    },
    {
      "cell_type": "markdown",
      "metadata": {
        "id": "CQj2v9XPo9k2"
      },
      "source": [
        "대화 형 모드 matplotlib.pyplot.ion()는를 통해 켜고 끌 수도 있습니다 matplotlib.pyplot.ioff()."
      ]
    },
    {
      "cell_type": "markdown",
      "metadata": {
        "id": "mMbv11BJo-mO"
      },
      "source": [
        "노트\n",
        "\n",
        "대화 형 모드는 ipython 및 일반 Python 셸에서 적합한 백엔드와 함께 작동하지만 IDLE IDE 에서는 작동 하지 않습니다 . 기본 백엔드가 상호 작용을 지원하지 않는 경우 백엔드 란?에 설명 된 방법 중 하나를 사용하여 대화 형 백엔드를 명시 적으로 활성화 할 수 있습니다."
      ]
    },
    {
      "cell_type": "markdown",
      "metadata": {
        "id": "eUK9CeoKpAYM"
      },
      "source": [
        "### 대화형 예제\n",
        "\n",
        "일반 파이썬 프롬프트에서 또는 옵션없이 ipython을 호풀 한 후 다음을 시도하십시오."
      ]
    },
    {
      "cell_type": "code",
      "metadata": {
        "id": "5QDvqylCpLt-"
      },
      "source": [
        "import matplotlib.pyplot as plt\n",
        "plt.ion()\n",
        "plt.plot([1.6, 2.7])"
      ],
      "execution_count": null,
      "outputs": []
    },
    {
      "cell_type": "markdown",
      "metadata": {
        "id": "gFjeMqjlpNbp"
      },
      "source": [
        "플롯 창이 나타납니다. 터미널 프롬프트는 활성 상태로 유지되므로 다음과 같은 추가 명령을 입력 할 수 있습니다"
      ]
    },
    {
      "cell_type": "code",
      "metadata": {
        "id": "mDPJTpdCpOpR"
      },
      "source": [
        "plt.title(\"interactive test\")\n",
        "plt.xlabel(\"index\")"
      ],
      "execution_count": null,
      "outputs": []
    },
    {
      "cell_type": "markdown",
      "metadata": {
        "id": "iPo1Xp9kpQn7"
      },
      "source": [
        "대부분의 대화 형 백엔드에서 객체 지향 인터페이스를 통해 변경하면 Figure 창도 업데이트됩니다. 예를 Axes들어 인스턴스에 대한 참조를 가져 오고 해당 인스턴스의 메서드를 호출합니다."
      ]
    },
    {
      "cell_type": "code",
      "metadata": {
        "id": "Iobld3AopRjn"
      },
      "source": [
        "ax = plt.gca()\n",
        "ax.plot([3.1, 2.2])"
      ],
      "execution_count": null,
      "outputs": []
    },
    {
      "cell_type": "markdown",
      "metadata": {
        "id": "J2lL4q3ApTHx"
      },
      "source": [
        "특정 백엔드 (예 :) macosx또는 이전 버전의 matplotlib를 사용하는 경우 플롯에 새 줄이 즉시 추가되지 않을 수 있습니다. 이 경우 draw() 플롯을 업데이트하기 위해 명시 적으로 호출해야합니다 ."
      ]
    },
    {
      "cell_type": "code",
      "metadata": {
        "id": "QKLTHjDupUbY"
      },
      "source": [
        "plt.draw()"
      ],
      "execution_count": null,
      "outputs": []
    },
    {
      "cell_type": "markdown",
      "metadata": {
        "id": "HrZT2ZE_pWcR"
      },
      "source": [
        "### 비대화형 예제\n",
        "\n",
        "이전 예에서와 같이 새 세션을 시작하지만 이제 대화형 모드를 끕니다."
      ]
    },
    {
      "cell_type": "code",
      "metadata": {
        "id": "tOAA2x-PpbrX"
      },
      "source": [
        "import matplotlib.pyplot as plt\n",
        "plt.ioff()\n",
        "plt.plot([1.6, 2.7])"
      ],
      "execution_count": null,
      "outputs": []
    },
    {
      "cell_type": "markdown",
      "metadata": {
        "id": "6BHHIhQ1pd9Y"
      },
      "source": [
        "아무 일도 일어나지 않았거나 적어도 화면에 아무것도 표시되지 않았습니다 ( 비정상적인 macosx 백엔드를 사용하지 않는 한 ). 플롯을 표시하려면 다음을 수행해야합니다."
      ]
    },
    {
      "cell_type": "code",
      "metadata": {
        "id": "RJo0IbKMpffA"
      },
      "source": [
        "plt.show()"
      ],
      "execution_count": 35,
      "outputs": []
    },
    {
      "cell_type": "markdown",
      "metadata": {
        "id": "Snosda56phQ3"
      },
      "source": [
        "이제 플롯이 표시되지만 터미널 명령 줄이 응답하지 않습니다. 플롯 창을 수동으로 종료 할 때까지 추가 명령 입력을 차단 합니다.pyplot.show()\n",
        "\n",
        "차단 기능을 사용하도록 강요받는 것이 무슨 소용입니까? 파일의 내용을 화면에 표시하는 스크립트가 필요하다고 가정합니다. 해당 플롯을보고 스크립트를 종료하려고합니다. 와 같은 차단 명령이 없으면 show()스크립트가 플롯을 표시 한 다음 즉시 종료되어 화면에 아무것도 남지 않습니다.\n",
        "\n",
        "또한 비대화 형 모드는를 show()호출 할 때까지 모든 그리기를 지연시킵니다 . 이것은 스크립트의 라인이 새로운 기능을 추가 할 때마다 플롯을 다시 그리는 것보다 효율적입니다.\n",
        "\n",
        "버전 1.0 이전에는 show()일반적으로 단일 스크립트에서 두 번 이상 호출 할 수 없었습니다 (때로는 빠져 나갈 수도 있지만); 버전 1.0.1 이상에서는이 제한이 해제되므로 다음과 같은 스크립트를 작성할 수 있습니다."
      ]
    },
    {
      "cell_type": "code",
      "metadata": {
        "id": "yW-zp1XGpiR5"
      },
      "source": [
        "import numpy as np\n",
        "import matplotlib.pyplot as plt\n",
        "\n",
        "plt.ioff()\n",
        "for i in range(3):\n",
        "    plt.plot(np.random.rand(10))\n",
        "    plt.show()"
      ],
      "execution_count": null,
      "outputs": []
    },
    {
      "cell_type": "markdown",
      "metadata": {
        "id": "OjllZ41apk4J"
      },
      "source": [
        "한 번에 하나씩 세 개의 플롯을 만듭니다. 즉, 첫 번째 플롯이 닫히면 두 번째 플롯이 표시됩니다."
      ]
    },
    {
      "cell_type": "markdown",
      "metadata": {
        "id": "oCVN_ug0pmfM"
      },
      "source": [
        "요약 \n",
        "대화 형 모드에서 pyplot 함수는 자동으로 화면에 그립니다.\n",
        "\n",
        "대화식으로 플로팅 할 때 pyplot 함수 외에 객체 메서드 호출을 사용하는 경우 draw()플롯을 새로 고치고 싶을 때마다 호출 하십시오.\n",
        "\n",
        "하나 이상의 그림을 생성하고 새 그림 세트를 종료하거나 생성하기 전에 표시하려는 스크립트에서 비대화 형 모드를 사용하십시오. 이 경우 show()그림을 표시하고 수동으로 삭제할 때까지 실행을 차단하는 데 사용하십시오."
      ]
    },
    {
      "cell_type": "markdown",
      "metadata": {
        "id": "tiHjK6Z5pntR"
      },
      "source": [
        "## 성능\n",
        "\n",
        "대화 형 모드에서 데이터를 탐색하든 프로그래밍 방식으로 많은 플롯을 저장하든 관계없이 렌더링 성능은 파이프 라인에서 고통스러운 병목 현상이 될 수 있습니다. Matplotlib는 플롯의 모양에 약간의 변경 (설정 가능한 허용 오차)을 사용하여 렌더링 시간을 크게 줄일 수있는 몇 가지 방법을 제공합니다. 렌더링 시간을 줄이는 데 사용할 수있는 방법은 작성중인 플롯 유형에 따라 다릅니다."
      ]
    },
    {
      "cell_type": "markdown",
      "metadata": {
        "id": "qWly3aqapqN3"
      },
      "source": [
        "### 선분 단순화\n",
        "\n",
        "선분이있는 플롯 (예 : 일반적인 선 플롯, 다각형 윤곽선 등)의 경우 렌더링 성능을 rcParams[\"path.simplify\"](기본값 :)True 및 rcParams[\"path.simplify_threshold\"](기본값 :)으로 제어0.111111111111 할 수 있으며, 이는 예를 들어 matplotlibrc파일 에서 정의 할 수 있습니다 ( 스타일로 Matplotlib 사용자 지정 참조). matplotlibrc파일 에 대한 자세한 정보는 시트 및 rcParams 참조 ). rcParams[\"path.simplify\"](기본값 True:)은 선 세그먼트가 전혀 단순화되었는지 여부를 나타내는 부울입니다. rcParams[\"path.simplify_threshold\"](기본값 0.111111111111:) 라인 세그먼트가 단순화되는 정도를 제어합니다. 임계 값이 높을수록 렌더링 속도가 빨라집니다.\n",
        "\n",
        "다음 스크립트는 먼저 단순화없이 데이터를 표시 한 다음 단순화 된 동일한 데이터를 표시합니다. 두 가지 모두와 상호 작용 해보십시오."
      ]
    },
    {
      "cell_type": "code",
      "metadata": {
        "id": "9EYhWrTkpsff"
      },
      "source": [
        "import numpy as np\n",
        "import matplotlib.pyplot as plt\n",
        "import matplotlib as mpl\n",
        "\n",
        "# Setup, and create the data to plot\n",
        "y = np.random.rand(100000)\n",
        "y[50000:] *= 2\n",
        "y[np.geomspace(10, 50000, 400).astype(int)] = -1\n",
        "mpl.rcParams['path.simplify'] = True\n",
        "\n",
        "mpl.rcParams['path.simplify_threshold'] = 0.0\n",
        "plt.plot(y)\n",
        "plt.show()\n",
        "\n",
        "mpl.rcParams['path.simplify_threshold'] = 1.0\n",
        "plt.plot(y)\n",
        "plt.show()"
      ],
      "execution_count": null,
      "outputs": []
    },
    {
      "cell_type": "markdown",
      "metadata": {
        "id": "gN_x5DszpwHH"
      },
      "source": [
        "Matplotlib는 현재 기본적으로 보수적 인 단순화 임계 값 인 1/9. 다른 값을 사용하도록 기본 설정을 변경하려는 경우 matplotlibrc 파일을 변경할 수 있습니다. 또는 대화식 플로팅 (최대 단순화)을위한 새 스타일과 출판 품질 플로팅 (최소 단순화)을위한 다른 스타일을 만들고 필요에 따라 활성화 할 수 있습니다. 이러한 작업을 수행하는 방법에 대한 지침은 스타일 시트 및 rcParams 로 Matplotlib 사용자 정의를 참조하십시오 .\n",
        "\n",
        "단순화는 벡터에 대한 다음 선분의 수직 거리 (디스플레이 좌표 공간에서 측정)가 path.simplify_threshold매개 변수 보다 클 때까지 선분을 단일 벡터로 반복적으로 병합하는 방식으로 작동합니다 ."
      ]
    },
    {
      "cell_type": "markdown",
      "metadata": {
        "id": "7Nt7ExbFpw_y"
      },
      "source": [
        "노트\n",
        "\n",
        "라인 세그먼트가 단순화되는 방식과 관련된 변경 사항은 버전 2.1에서 이루어졌습니다. 2.1 이전에는 이러한 매개 변수에 의해 렌더링 시간이 여전히 개선되지만 일부 데이터 유형의 렌더링 시간은 버전 2.1 이상에서 크게 향상됩니다."
      ]
    },
    {
      "cell_type": "markdown",
      "metadata": {
        "id": "PCoPkhxzpymi"
      },
      "source": [
        "### 마커 단순화\n",
        "\n",
        "마커는 라인 세그먼트보다 덜 견고하지만 단순화 될 수도 있습니다. 마커 단순화는 속성을 Line2D통해 개체 에만 사용할 수 있습니다 markevery. 목적지 Line2D구성 파라미터 등을 통해 전달 matplotlib.pyplot.plot()하고 matplotlib.axes.Axes.plot()상기 markevery 매개 변수를 사용할 수있다 :"
      ]
    },
    {
      "cell_type": "code",
      "metadata": {
        "id": "d_2tno9jp1fP"
      },
      "source": [
        "plt.plot(x, y, markevery=10)"
      ],
      "execution_count": null,
      "outputs": []
    },
    {
      "cell_type": "markdown",
      "metadata": {
        "id": "IQ3Mki7Hp3O0"
      },
      "source": [
        "markevery 인수는 순진한 서브 샘플링 또는 균일 한 간격 ( x 축을 따라 ) 샘플링 시도를 허용합니다 . 자세한 내용은 Markevery 데모 를 참조하십시오."
      ]
    },
    {
      "cell_type": "markdown",
      "metadata": {
        "id": "Y65b-SGpp4Tn"
      },
      "source": [
        "### 줄을 더 작은 덩어리로 나누기\n",
        "\n",
        "Agg 백엔드 (백엔드 란 무엇입니까? 참조 )를 사용하는 경우 rcParams[\"agg.path.chunksize\"](기본값 0:) 청크 크기를 지정할 수 있으며 그보다 많은 정점이있는 모든 라인은 여러 라인으로 분할됩니다. , 각각에는 agg.path.chunksize 많은 정점이 있습니다. ( agg.path.chunksize0이 아니면 청킹이없는 경우가 아닙니다.) 어떤 종류의 데이터의 경우 라인을 합리적인 크기로 청킹하면 렌더링 시간을 크게 줄일 수 있습니다.\n",
        "\n",
        "다음 스크립트는 먼저 청크 크기 제한없이 데이터를 표시 한 다음 청크 크기가 10,000 인 동일한 데이터를 표시합니다. 차이는 수치가 클 때 가장 잘 알 수 있습니다. GUI를 최대화 한 다음 상호 작용하십시오."
      ]
    },
    {
      "cell_type": "code",
      "metadata": {
        "id": "PilyB6fcp6tm"
      },
      "source": [
        "import numpy as np\n",
        "import matplotlib.pyplot as plt\n",
        "import matplotlib as mpl\n",
        "mpl.rcParams['path.simplify_threshold'] = 1.0\n",
        "\n",
        "# Setup, and create the data to plot\n",
        "y = np.random.rand(100000)\n",
        "y[50000:] *= 2\n",
        "y[np.geomspace(10, 50000, 400).astype(int)] = -1\n",
        "mpl.rcParams['path.simplify'] = True\n",
        "\n",
        "mpl.rcParams['agg.path.chunksize'] = 0\n",
        "plt.plot(y)\n",
        "plt.show()\n",
        "\n",
        "mpl.rcParams['agg.path.chunksize'] = 10000\n",
        "plt.plot(y)\n",
        "plt.show()"
      ],
      "execution_count": null,
      "outputs": []
    },
    {
      "cell_type": "markdown",
      "metadata": {
        "id": "18VBhumcp-qB"
      },
      "source": [
        "범례\n",
        "\n",
        "좌표축의 기본 범례 동작은 가장 적은 데이터 포인트 ( loc='best') 를 포함하는 위치를 찾으려고 시도합니다 . 데이터 포인트가 많은 경우 이는 매우 비싼 계산이 될 수 있습니다. 이 경우 특정 위치를 제공 할 수 있습니다.\n",
        "\n",
        "빠른 스타일 사용하기 \n",
        "\n",
        "빠른 스타일은 자동으로 설정 단순화하는 데 사용할 수있는 합리적인 설정 매개 변수를 청크하는 것은 많은 양의 데이터를 플로팅 속도. 다음을 실행하여 간단히 사용할 수 있습니다."
      ]
    },
    {
      "cell_type": "code",
      "metadata": {
        "id": "p9_N5hE-qABY"
      },
      "source": [
        "import matplotlib.style as mplstyle\n",
        "mplstyle.use('fast')"
      ],
      "execution_count": 41,
      "outputs": []
    },
    {
      "cell_type": "markdown",
      "metadata": {
        "id": "nCdEERfeqGvP"
      },
      "source": [
        "매우 가볍기 때문에 다른 스타일과 잘 어울립니다. 다른 스타일이 설정을 덮어 쓰지 않도록 빠른 스타일이 마지막에 적용되었는지 확인하세요."
      ]
    },
    {
      "cell_type": "code",
      "metadata": {
        "id": "-CO7-8uMqHNo"
      },
      "source": [
        "mplstyle.use(['dark_background', 'ggplot', 'fast'])"
      ],
      "execution_count": 42,
      "outputs": []
    }
  ]
}