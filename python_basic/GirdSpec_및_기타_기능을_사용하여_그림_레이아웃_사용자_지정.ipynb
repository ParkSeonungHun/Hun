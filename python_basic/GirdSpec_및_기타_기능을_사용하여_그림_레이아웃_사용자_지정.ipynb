{
  "nbformat": 4,
  "nbformat_minor": 0,
  "metadata": {
    "colab": {
      "name": "GirdSpec 및 기타 기능을 사용하여 그림 레이아웃 사용자 지정.ipynb",
      "provenance": [],
      "toc_visible": true,
      "authorship_tag": "ABX9TyPh1UeghJ66p2syKEizFZdm",
      "include_colab_link": true
    },
    "kernelspec": {
      "name": "python3",
      "display_name": "Python 3"
    }
  },
  "cells": [
    {
      "cell_type": "markdown",
      "metadata": {
        "id": "view-in-github",
        "colab_type": "text"
      },
      "source": [
        "<a href=\"https://colab.research.google.com/github/ParkSeonungHun/Hun/blob/main/python_basic/GirdSpec_%EB%B0%8F_%EA%B8%B0%ED%83%80_%EA%B8%B0%EB%8A%A5%EC%9D%84_%EC%82%AC%EC%9A%A9%ED%95%98%EC%97%AC_%EA%B7%B8%EB%A6%BC_%EB%A0%88%EC%9D%B4%EC%95%84%EC%9B%83_%EC%82%AC%EC%9A%A9%EC%9E%90_%EC%A7%80%EC%A0%95.ipynb\" target=\"_parent\"><img src=\"https://colab.research.google.com/assets/colab-badge.svg\" alt=\"Open In Colab\"/></a>"
      ]
    },
    {
      "cell_type": "markdown",
      "metadata": {
        "id": "fV-J96I1ambV"
      },
      "source": [
        "# GridSpec 및 기타 기능을 사용하여 그림 레이아웃 사용자 지정\n",
        "\n",
        "격자 모양의 축 조합을 만드는 방법.\n",
        "\n",
        "> subplots()\n",
        "\n",
        "> 아마도 도형과 축을 만드는 데 사용되는 주요 기능 일 것입니다. 또한와 비슷 matplotlib.pyplot.subplot()하지만 한 번에 그림에 모든 축을 만들고 배치합니다. 을 (를) 참조하십시오 matplotlib.figure.Figure.subplots.\n",
        "\n",
        "> GridSpec\n",
        "\n",
        "> 서브 플롯이 배치 될 그리드의 지오메트리를 지정합니다. 그리드의 행 수와 열 수를 설정해야합니다. 선택적으로 서브 플롯 레이아웃 \n",
        "매개 변수 (예 : 왼쪽, 오른쪽 등)를 조정할 수 있습니다.\n",
        "\n",
        "> SubplotSpec\n",
        "\n",
        "> 주어진 GridSpec 에서 서브 플롯의 위치를 ​​지정합니다 .\n",
        "\n",
        "> subplot2grid()\n",
        "\n",
        "> 유사 subplot()하지만 0 기반 인덱싱을 사용하고 서브 플롯이 여러 셀을 차지하도록 하는 도우미 함수입니다 . 이 기능은이 튜토리얼에서 다루지 않습니다."
      ]
    },
    {
      "cell_type": "code",
      "metadata": {
        "id": "EzQ8Ts1XbODN"
      },
      "source": [
        "import matplotlib\n",
        "import matplotlib.pyplot as plt\n",
        "import matplotlib.gridspec as gridspec"
      ],
      "execution_count": 1,
      "outputs": []
    },
    {
      "cell_type": "markdown",
      "metadata": {
        "id": "BDgZ6vRBbR_7"
      },
      "source": [
        "## 기본 빠른 시작 가이드\n",
        "\n",
        "이 최초의 두 가지 예 모두 사용하여 기본이 별 2 그리드를 만드는 방법 subplots()과 gridspec.\n",
        "\n",
        "사용 subplots()은 아주 간단합니다. Figure인스턴스와 Axes객체 배열을 반환 합니다."
      ]
    },
    {
      "cell_type": "code",
      "metadata": {
        "id": "esR8vDv-bVT7"
      },
      "source": [
        "fig1, f1_axes = plt.subplots(ncols=2, nrows=2, constrained_layout=True)"
      ],
      "execution_count": null,
      "outputs": []
    },
    {
      "cell_type": "markdown",
      "metadata": {
        "id": "Cw8JJYJxbXG4"
      },
      "source": [
        "이와 같은 간단한 사용 사례의 경우 gridspec지나치게 장황 할 수 있습니다. Figure와 GridSpec 인스턴스를 별도로 만든 다음 gridspec 인스턴스의 요소를 add_subplot()메서드에 전달하여 axes 객체를 만들어야합니다. gridspec의 요소는 일반적으로 numpy 배열과 동일한 방식으로 액세스됩니다."
      ]
    },
    {
      "cell_type": "code",
      "metadata": {
        "id": "jbnObKSLbYZJ"
      },
      "source": [
        "fig2 = plt.figure(constrained_layout=True)\n",
        "spec2 = gridspec.GridSpec(ncols=2, nrows=2, figure=fig2)\n",
        "f2_ax1 = fig2.add_subplot(spec2[0, 0])\n",
        "f2_ax2 = fig2.add_subplot(spec2[0, 1])\n",
        "f2_ax3 = fig2.add_subplot(spec2[1, 0])\n",
        "f2_ax4 = fig2.add_subplot(spec2[1, 1])"
      ],
      "execution_count": null,
      "outputs": []
    },
    {
      "cell_type": "markdown",
      "metadata": {
        "id": "3KonRkfkbadr"
      },
      "source": [
        "gridspec의 힘은 행과 열에 걸쳐있는 서브 플롯을 생성 할 수 있다는 것입니다. 각 서브 플롯이 차지할 gridspec의 일부를 선택하기위한 NumPy 슬라이스 구문 에 유의하십시오 .\n",
        "\n",
        "Figure.add_gridspec 대신에 편의 메서드 를 사용하여 gridspec.GridSpec잠재적으로 사용자에게 가져 오기를 저장하고 네임 스페이스를 깔끔하게 유지했습니다."
      ]
    },
    {
      "cell_type": "code",
      "metadata": {
        "id": "QlBqUSx3bbuS"
      },
      "source": [
        "fig3 = plt.figure(constrained_layout=True)\n",
        "gs = fig3.add_gridspec(3, 3)\n",
        "f3_ax1 = fig3.add_subplot(gs[0, :])\n",
        "f3_ax1.set_title('gs[0, :]')\n",
        "f3_ax2 = fig3.add_subplot(gs[1, :-1])\n",
        "f3_ax2.set_title('gs[1, :-1]')\n",
        "f3_ax3 = fig3.add_subplot(gs[1:, -1])\n",
        "f3_ax3.set_title('gs[1:, -1]')\n",
        "f3_ax4 = fig3.add_subplot(gs[-1, 0])\n",
        "f3_ax4.set_title('gs[-1, 0]')\n",
        "f3_ax5 = fig3.add_subplot(gs[-1, -2])\n",
        "f3_ax5.set_title('gs[-1, -2]')"
      ],
      "execution_count": null,
      "outputs": []
    },
    {
      "cell_type": "markdown",
      "metadata": {
        "id": "zr-blbyEbd2j"
      },
      "source": [
        "gridspec 또한 몇 가지 방법을 통해 서로 다른 너비의 서브 플롯을 생성하는 데 없어서는 안됩니다.\n",
        "\n",
        "여기에 표시된 방법은 위의 방법과 유사하며 균일 한 그리드 사양을 초기화 한 다음 numpy 인덱싱 및 슬라이스를 사용하여 주어진 서브 플롯에 대해 여러 \"셀\"을 할당합니다."
      ]
    },
    {
      "cell_type": "code",
      "metadata": {
        "id": "4ubf0arabe3v"
      },
      "source": [
        "fig4 = plt.figure(constrained_layout=True)\n",
        "spec4 = fig4.add_gridspec(ncols=2, nrows=2)\n",
        "anno_opts = dict(xy=(0.5, 0.5), xycoords='axes fraction',\n",
        "                 va='center', ha='center')\n",
        "\n",
        "f4_ax1 = fig4.add_subplot(spec4[0, 0])\n",
        "f4_ax1.annotate('GridSpec[0, 0]', **anno_opts)\n",
        "fig4.add_subplot(spec4[0, 1]).annotate('GridSpec[0, 1:]', **anno_opts)\n",
        "fig4.add_subplot(spec4[1, 0]).annotate('GridSpec[1:, 0]', **anno_opts)\n",
        "fig4.add_subplot(spec4[1, 1]).annotate('GridSpec[1:, 1:]', **anno_opts)"
      ],
      "execution_count": null,
      "outputs": []
    },
    {
      "cell_type": "markdown",
      "metadata": {
        "id": "YnwwTJhFbhx6"
      },
      "source": [
        "또 다른 옵션은 width_ratios및 height_ratios 매개 변수 를 사용하는 것 입니다. 이러한 키워드 인수는 숫자 목록입니다. 절대 값은 의미가 없으며 상대 비율 만 중요합니다. 그 수단 에 상당 동일 다양한 도면 내의. 데모를 위해 나중에 필요하지 않으므로 루프 내에 축을 맹목적으로 생성합니다 .width_ratios=[2, 4, 8]width_ratios=[1, 2, 4]for"
      ]
    },
    {
      "cell_type": "code",
      "metadata": {
        "id": "sXW5ZOIibimU"
      },
      "source": [
        "fig5 = plt.figure(constrained_layout=True)\n",
        "widths = [2, 3, 1.5]\n",
        "heights = [1, 3, 2]\n",
        "spec5 = fig5.add_gridspec(ncols=3, nrows=3, width_ratios=widths,\n",
        "                          height_ratios=heights)\n",
        "for row in range(3):\n",
        "    for col in range(3):\n",
        "        ax = fig5.add_subplot(spec5[row, col])\n",
        "        label = 'Width: {}\\nHeight: {}'.format(widths[col], heights[row])\n",
        "        ax.annotate(label, (0.1, 0.5), xycoords='axes fraction', va='center')"
      ],
      "execution_count": null,
      "outputs": []
    },
    {
      "cell_type": "markdown",
      "metadata": {
        "id": "ARyxeyLnblHu"
      },
      "source": [
        "사용하는 학습 width_ratios및 height_ratios최상위 기능이 있기 때문에 특히 유용 subplots() 내에서이를 수용 gridspec_kw매개 변수입니다. 이를 위해에서 수락 한 모든 매개 변수 는 매개 변수 GridSpec를 subplots()통해 전달 될 수 있습니다 gridspec_kw. 이 예제는 gridspec 인스턴스를 직접 사용하지 않고 이전 그림을 다시 만듭니다."
      ]
    },
    {
      "cell_type": "code",
      "metadata": {
        "id": "IW9pi4Wnbl-Y"
      },
      "source": [
        "gs_kw = dict(width_ratios=widths, height_ratios=heights)\n",
        "fig6, f6_axes = plt.subplots(ncols=3, nrows=3, constrained_layout=True,\n",
        "                             gridspec_kw=gs_kw)\n",
        "for r, row in enumerate(f6_axes):\n",
        "    for c, ax in enumerate(row):\n",
        "        label = 'Width: {}\\nHeight: {}'.format(widths[c], heights[r])\n",
        "        ax.annotate(label, (0.1, 0.5), xycoords='axes fraction', va='center')"
      ],
      "execution_count": null,
      "outputs": []
    },
    {
      "cell_type": "markdown",
      "metadata": {
        "id": "zXzhI1ulbpJV"
      },
      "source": [
        "subplots하고 get_gridspec가끔 사용하는 줄거리의 대부분을 만들기 위해 더 편리하기 때문에 방법이 결합 될 수 있습니다 subplots 다음 몇 가지를 제거하고 그들을 결합. 여기서 우리는 마지막 열의 아래쪽 두 축이 결합 된 레이아웃을 만듭니다."
      ]
    },
    {
      "cell_type": "code",
      "metadata": {
        "id": "5IIx_Wnwbqtk"
      },
      "source": [
        "fig7, f7_axs = plt.subplots(ncols=3, nrows=3)\n",
        "gs = f7_axs[1, 2].get_gridspec()\n",
        "# remove the underlying axes\n",
        "for ax in f7_axs[1:, -1]:\n",
        "    ax.remove()\n",
        "axbig = fig7.add_subplot(gs[1:, -1])\n",
        "axbig.annotate('Big Axes \\nGridSpec[1:, -1]', (0.1, 0.5),\n",
        "               xycoords='axes fraction', va='center')\n",
        "\n",
        "fig7.tight_layout()"
      ],
      "execution_count": null,
      "outputs": []
    },
    {
      "cell_type": "markdown",
      "metadata": {
        "id": "E-1kVPQ4bvob"
      },
      "source": [
        "## Gridspec 레이아웃에 대한 미세 조정\n",
        "\n",
        "GridSpec이 명시 적으로 사용되면 GridSpec에서 생성 된 서브 플롯의 레이아웃 매개 변수를 조정할 수 있습니다. 이 옵션은 호환되지 constrained_layout않거나 Figure.tight_layout둘 다 그림을 채우기 위해 서브 플롯 크기를 조정합니다."
      ]
    },
    {
      "cell_type": "code",
      "metadata": {
        "id": "KmISS9Pxb1AF"
      },
      "source": [
        "fig8 = plt.figure(constrained_layout=False)\n",
        "gs1 = fig8.add_gridspec(nrows=3, ncols=3, left=0.05, right=0.48, wspace=0.05)\n",
        "f8_ax1 = fig8.add_subplot(gs1[:-1, :])\n",
        "f8_ax2 = fig8.add_subplot(gs1[-1, :-1])\n",
        "f8_ax3 = fig8.add_subplot(gs1[-1, -1])"
      ],
      "execution_count": null,
      "outputs": []
    },
    {
      "cell_type": "markdown",
      "metadata": {
        "id": "-TNatJWcb3Gg"
      },
      "source": [
        "subplots_adjust()이는와 유사 하지만 주어진 GridSpec에서 생성 된 서브 플롯에만 영향을줍니다.\n",
        "\n",
        "예를 들어,이 그림의 왼쪽과 오른쪽을 비교하십시오."
      ]
    },
    {
      "cell_type": "code",
      "metadata": {
        "id": "nSw7MZRmb4Cy"
      },
      "source": [
        "fig9 = plt.figure(constrained_layout=False)\n",
        "gs1 = fig9.add_gridspec(nrows=3, ncols=3, left=0.05, right=0.48,\n",
        "                        wspace=0.05)\n",
        "f9_ax1 = fig9.add_subplot(gs1[:-1, :])\n",
        "f9_ax2 = fig9.add_subplot(gs1[-1, :-1])\n",
        "f9_ax3 = fig9.add_subplot(gs1[-1, -1])\n",
        "\n",
        "gs2 = fig9.add_gridspec(nrows=3, ncols=3, left=0.55, right=0.98,\n",
        "                        hspace=0.05)\n",
        "f9_ax4 = fig9.add_subplot(gs2[:, :-1])\n",
        "f9_ax5 = fig9.add_subplot(gs2[:-1, -1])\n",
        "f9_ax6 = fig9.add_subplot(gs2[-1, -1])"
      ],
      "execution_count": null,
      "outputs": []
    },
    {
      "cell_type": "markdown",
      "metadata": {
        "id": "9jducRPab6I9"
      },
      "source": [
        "## SubplotSpec을 사용한 GridSpec\n",
        "\n",
        "에서 GridSpec을 생성 할 수 있으며 SubplotSpec,이 경우 해당 레이아웃 매개 변수가 주어진 SubplotSpec의 위치로 설정됩니다.\n",
        "\n",
        "이것은 더 자세한 정보에서도 사용할 수 있습니다 gridspec.GridSpecFromSubplotSpec."
      ]
    },
    {
      "cell_type": "code",
      "metadata": {
        "id": "sXTtMWy-b-za"
      },
      "source": [
        "fig10 = plt.figure(constrained_layout=True)\n",
        "gs0 = fig10.add_gridspec(1, 2)\n",
        "\n",
        "gs00 = gs0[0].subgridspec(2, 3)\n",
        "gs01 = gs0[1].subgridspec(3, 2)\n",
        "\n",
        "for a in range(2):\n",
        "    for b in range(3):\n",
        "        fig10.add_subplot(gs00[a, b])\n",
        "        fig10.add_subplot(gs01[b, a])"
      ],
      "execution_count": null,
      "outputs": []
    },
    {
      "cell_type": "markdown",
      "metadata": {
        "id": "roVm9IeWcCTN"
      },
      "source": [
        "## SubplotSpec을 사용하는 복잡한 중첩 GridSpec\n",
        "\n",
        "다음은 내부 3x3 그리드 각각에 적절한 척추를 숨겨서 외부 4x4 그리드의 각 셀 주위에 상자를 배치하는 중첩 된 GridSpec의보다 정교한 예입니다."
      ]
    },
    {
      "cell_type": "code",
      "metadata": {
        "id": "8DBPFfIpcHKZ"
      },
      "source": [
        "import numpy as np\n",
        "\n",
        "\n",
        "def squiggle_xy(a, b, c, d, i=np.arange(0.0, 2*np.pi, 0.05)):\n",
        "    return np.sin(i*a)*np.cos(i*b), np.sin(i*c)*np.cos(i*d)\n",
        "\n",
        "\n",
        "fig11 = plt.figure(figsize=(8, 8), constrained_layout=False)\n",
        "outer_grid = fig11.add_gridspec(4, 4, wspace=0, hspace=0)\n",
        "\n",
        "for a in range(4):\n",
        "    for b in range(4):\n",
        "        inner_grid = outer_grid[a, b].subgridspec(3, 3, wspace=0, hspace=0)\n",
        "        axs = inner_grid.subplots()\n",
        "        for (c, d), ax in np.ndenumerate(axs):\n",
        "            ax.plot(*squiggle_xy(a + 1, b + 1, c + 1, d + 1))\n",
        "            ax.set(xticks=[], yticks=[])\n",
        "\n",
        "\n",
        "for ax in fig11.get_axes():\n",
        "    ax.spines['top'].set_visible(ax.is_first_row())\n",
        "    ax.spines['bottom'].set_visible(ax.is_last_row())\n",
        "    ax.spines['left'].set_visible(ax.is_first_col())\n",
        "    ax.spines['right'].set_visible(ax.is_last_col())\n",
        "\n",
        "plt.show()"
      ],
      "execution_count": null,
      "outputs": []
    },
    {
      "cell_type": "markdown",
      "metadata": {
        "id": "k3TGaop7cV80"
      },
      "source": [
        "참조 \n",
        "이 예에서는 다음 함수 및 메서드의 사용법을 보여줍니다."
      ]
    },
    {
      "cell_type": "code",
      "metadata": {
        "id": "ql0H-D9WcWza"
      },
      "source": [
        "matplotlib.pyplot.subplots\n",
        "matplotlib.figure.Figure.add_gridspec\n",
        "matplotlib.figure.Figure.add_subplot\n",
        "matplotlib.gridspec.GridSpec\n",
        "matplotlib.gridspec.SubplotSpec.subgridspec\n",
        "matplotlib.gridspec.GridSpecFromSubplotSpec"
      ],
      "execution_count": null,
      "outputs": []
    }
  ]
}