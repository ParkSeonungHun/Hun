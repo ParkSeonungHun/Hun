{
  "nbformat": 4,
  "nbformat_minor": 0,
  "metadata": {
    "colab": {
      "name": "경로 튜토리얼.ipynb",
      "provenance": [],
      "authorship_tag": "ABX9TyOEYlw7r+3Cjh57vLhy9ByL",
      "include_colab_link": true
    },
    "kernelspec": {
      "name": "python3",
      "display_name": "Python 3"
    }
  },
  "cells": [
    {
      "cell_type": "markdown",
      "metadata": {
        "id": "view-in-github",
        "colab_type": "text"
      },
      "source": [
        "<a href=\"https://colab.research.google.com/github/ParkSeonungHun/Hun/blob/main/python_basic/%EA%B2%BD%EB%A1%9C_%ED%8A%9C%ED%86%A0%EB%A6%AC%EC%96%BC.ipynb\" target=\"_parent\"><img src=\"https://colab.research.google.com/assets/colab-badge.svg\" alt=\"Open In Colab\"/></a>"
      ]
    },
    {
      "cell_type": "markdown",
      "metadata": {
        "id": "Z7vZ_ucAv24V"
      },
      "source": [
        "# 경로 튜토리얼\n",
        "\n",
        "Matplotlib 시각화에서 경로를 정의합니다.\n",
        "\n",
        "모든 오브젝트의 기본이되는 matplotlib.patches오브젝트는 Path선 세그먼트와 스플라인으로 구성된 단순 및 복합 윤곽선을 그리는 moveto, lineto, curveto 명령의 표준 세트를 지원하는입니다. 는 PathA (N, 2) (x, y)는 정점 어레이 및 패스 코드의 N 길이 배열 인스턴스화된다. 예를 들어 (0, 0)에서 (1, 1)까지 단위 사각형을 그리려면 다음 코드를 사용할 수 있습니다."
      ]
    },
    {
      "cell_type": "code",
      "metadata": {
        "id": "EixXlCnwv5ka"
      },
      "source": [
        "import matplotlib.pyplot as plt\n",
        "from matplotlib.path import Path\n",
        "import matplotlib.patches as patches\n",
        "\n",
        "verts = [\n",
        "   (0., 0.),  # left, bottom\n",
        "   (0., 1.),  # left, top\n",
        "   (1., 1.),  # right, top\n",
        "   (1., 0.),  # right, bottom\n",
        "   (0., 0.),  # ignored\n",
        "]\n",
        "\n",
        "codes = [\n",
        "    Path.MOVETO,\n",
        "    Path.LINETO,\n",
        "    Path.LINETO,\n",
        "    Path.LINETO,\n",
        "    Path.CLOSEPOLY,\n",
        "]\n",
        "\n",
        "path = Path(verts, codes)\n",
        "\n",
        "fig, ax = plt.subplots()\n",
        "patch = patches.PathPatch(path, facecolor='orange', lw=2)\n",
        "ax.add_patch(patch)\n",
        "ax.set_xlim(-2, 2)\n",
        "ax.set_ylim(-2, 2)\n",
        "plt.show()"
      ],
      "execution_count": null,
      "outputs": []
    },
    {
      "cell_type": "markdown",
      "metadata": {
        "id": "EHUqUpUGv_Vn"
      },
      "source": [
        "다음 경로 코드가 인식됩니다."
      ]
    },
    {
      "cell_type": "markdown",
      "metadata": {
        "id": "DZdKL7iYwAHf"
      },
      "source": [
        "암호 : 정점 : 기술\n",
        "\n",
        "STOP : 1 (무시 됨) : 전체 경로의 끝을 나타내는 마커 (현재는 필요하지 않으며 무시 됨).\n",
        "\n",
        "MOVETO : 1 : 펜을 들고 주어진 정점으로 이동합니다.\n",
        "\n",
        "LINETO : 1 : 현재 위치에서 주어진 정점까지 선을 그립니다.\n",
        "\n",
        "CURVE3 : 2 : 제어점 1개, 끝점 1개 : 주어진 제어점을 사용하여 현재 위치에서 주어진 끝점까지 2 차 베 지어 곡선을 그립니다.\n",
        "\n",
        "CURVE4 : 3 : 제어점2개, 끝점 1개 : 주어진 제어점을 사용하여 현재 위치에서 주어진 끝점까지 3 차 베 지어 곡선을 그립니다.\n",
        "\n",
        "CLOSEPOLY : 1 (점은 무시됨) : 현재 폴리 라인의 시작점까지 선 세그먼트를 그립니다."
      ]
    },
    {
      "cell_type": "markdown",
      "metadata": {
        "id": "hPGzM-oYwfPe"
      },
      "source": [
        "## 베 지어 예제\n",
        "\n",
        "경로 구성 요소 중 일부는이를 지정하기 위해 여러 정점이 필요합니다. 예를 들어 CURVE 3은 하나의 제어점과 하나의 끝 점이 있는 베 지어 곡선이고 CURVE4에는 두 개의 제어점과 끝점에 대한 세 개의 정점이 있습니다. 아래 예는 CURVE4 베 지어 스플라인을 보여줍니다. 베 지어 곡선은 시작점, 두 제어점 및 끝점의 볼록한 선체에 포함됩니다."
      ]
    },
    {
      "cell_type": "code",
      "metadata": {
        "id": "e-FbTvnCwi37"
      },
      "source": [
        "verts = [\n",
        "   (0., 0.),   # P0\n",
        "   (0.2, 1.),  # P1\n",
        "   (1., 0.8),  # P2\n",
        "   (0.8, 0.),  # P3\n",
        "]\n",
        "\n",
        "codes = [\n",
        "    Path.MOVETO,\n",
        "    Path.CURVE4,\n",
        "    Path.CURVE4,\n",
        "    Path.CURVE4,\n",
        "]\n",
        "\n",
        "path = Path(verts, codes)\n",
        "\n",
        "fig, ax = plt.subplots()\n",
        "patch = patches.PathPatch(path, facecolor='none', lw=2)\n",
        "ax.add_patch(patch)\n",
        "\n",
        "xs, ys = zip(*verts)\n",
        "ax.plot(xs, ys, 'x--', lw=2, color='black', ms=10)\n",
        "\n",
        "ax.text(-0.05, -0.05, 'P0')\n",
        "ax.text(0.15, 1.05, 'P1')\n",
        "ax.text(1.05, 0.85, 'P2')\n",
        "ax.text(0.85, -0.05, 'P3')\n",
        "\n",
        "ax.set_xlim(-0.1, 1.1)\n",
        "ax.set_ylim(-0.1, 1.1)\n",
        "plt.show()"
      ],
      "execution_count": null,
      "outputs": []
    },
    {
      "cell_type": "markdown",
      "metadata": {
        "id": "OguF1_iYwk8P"
      },
      "source": [
        "## 복합 경로\n",
        "\n",
        "matplotlib, Rectangle, Circle, Polygon 등의 모든 간단한 패치 프리미티브는 간단한 경로로 구현됩니다. 플로팅 같은 함수 hist()및 bar()예 프리미티브 숫자, 직사각형 다발을 만들고, 일반적으로 합성 경로를 사용하여 효율적으로 구현 될 수있다. 그 이유 bar는 복합 경로가 아닌 직사각형 목록을 생성하는 이유 는 대체로 역사적입니다. Path코드는 비교적 새롭고 bar 이전 버전입니다. 지금 변경할 수는 있지만 이전 코드가 손상 될 수 있으므로 여기서는 효율성을 위해 자체 코드에서 수행해야하는 경우 (예 : 애니메이션 막대 플롯.\n",
        "\n",
        "각 히스토그램 막대에 대해 일련의 직사각형을 생성하여 히스토그램 차트를 만듭니다. 직사각형 너비는 빈 너비이고 직사각형 높이는 해당 빈의 데이터 포인트 수입니다. 먼저 임의의 정규 분포를 따르는 데이터를 생성하고 히스토그램을 계산합니다. numpy는 중심이 아닌 빈 가장자리를 반환하기 때문에 bins의 길이는 n아래 예제 의 길이보다 1이 큽니다 ."
      ]
    },
    {
      "cell_type": "code",
      "metadata": {
        "id": "7ckbQ4Pewm7f"
      },
      "source": [
        "# histogram our data with numpy\n",
        "data = np.random.randn(1000)\n",
        "n, bins = np.histogram(data, 100)"
      ],
      "execution_count": null,
      "outputs": []
    },
    {
      "cell_type": "markdown",
      "metadata": {
        "id": "xCGIYJBwwoWo"
      },
      "source": [
        "이제 직사각형의 모서리를 추출합니다. 각각의 left, bottom, 등, 아래 배열 인 len(n)경우, n각각의 히스토그램 카운트 바의 배열은 :"
      ]
    },
    {
      "cell_type": "code",
      "metadata": {
        "id": "sEqy4xsXwpSp"
      },
      "source": [
        "# get the corners of the rectangles for the histogram\n",
        "left = np.array(bins[:-1])\n",
        "right = np.array(bins[1:])\n",
        "bottom = np.zeros(len(left))\n",
        "top = bottom + n"
      ],
      "execution_count": null,
      "outputs": []
    },
    {
      "cell_type": "markdown",
      "metadata": {
        "id": "SV7phyYpwq8o"
      },
      "source": [
        "이제 우리는 일련의 구성됩니다 우리의 화합물 경로를 구축해야 할 MOVETO, LINETO그리고 CLOSEPOLY각각의 구형을. 각 직사각형에 대해 5 개의 꼭지점이 필요합니다. 1 개는 MOVETO, 3 개는 LINETO, 1 개는 CLOSEPOLY. 위의 표에서 알 수 있듯이 closepoly의 정점은 무시되지만 코드를 정점과 정렬하기 위해 여전히 필요합니다."
      ]
    },
    {
      "cell_type": "code",
      "metadata": {
        "id": "QBVqP-3Hwr5n"
      },
      "source": [
        "nverts = nrects*(1+3+1)\n",
        "verts = np.zeros((nverts, 2))\n",
        "codes = np.ones(nverts, int) * path.Path.LINETO\n",
        "codes[0::5] = path.Path.MOVETO\n",
        "codes[4::5] = path.Path.CLOSEPOLY\n",
        "verts[0::5, 0] = left\n",
        "verts[0::5, 1] = bottom\n",
        "verts[1::5, 0] = left\n",
        "verts[1::5, 1] = top\n",
        "verts[2::5, 0] = right\n",
        "verts[2::5, 1] = top\n",
        "verts[3::5, 0] = right\n",
        "verts[3::5, 1] = bottom"
      ],
      "execution_count": null,
      "outputs": []
    },
    {
      "cell_type": "markdown",
      "metadata": {
        "id": "A65P7yzuwtcm"
      },
      "source": [
        "남은 것은 경로를 만들고에 연결 한 다음 PathPatch축에 추가하는 것입니다."
      ]
    },
    {
      "cell_type": "code",
      "metadata": {
        "id": "f_rP8VvHwuso",
        "outputId": "0e0d3fc3-e341-45c9-af03-3e7be58211e5",
        "colab": {
          "base_uri": "https://localhost:8080/",
          "height": 226
        }
      },
      "source": [
        "barpath = path.Path(verts, codes)\n",
        "patch = patches.PathPatch(barpath, facecolor='green',\n",
        "  edgecolor='yellow', alpha=0.5)\n",
        "ax.add_patch(patch)"
      ],
      "execution_count": 6,
      "outputs": [
        {
          "output_type": "error",
          "ename": "AttributeError",
          "evalue": "ignored",
          "traceback": [
            "\u001b[0;31m---------------------------------------------------------------------------\u001b[0m",
            "\u001b[0;31mAttributeError\u001b[0m                            Traceback (most recent call last)",
            "\u001b[0;32m<ipython-input-6-5e73c5eebdcb>\u001b[0m in \u001b[0;36m<module>\u001b[0;34m()\u001b[0m\n\u001b[0;32m----> 1\u001b[0;31m \u001b[0mbarpath\u001b[0m \u001b[0;34m=\u001b[0m \u001b[0mpath\u001b[0m\u001b[0;34m.\u001b[0m\u001b[0mPath\u001b[0m\u001b[0;34m(\u001b[0m\u001b[0mverts\u001b[0m\u001b[0;34m,\u001b[0m \u001b[0mcodes\u001b[0m\u001b[0;34m)\u001b[0m\u001b[0;34m\u001b[0m\u001b[0;34m\u001b[0m\u001b[0m\n\u001b[0m\u001b[1;32m      2\u001b[0m patch = patches.PathPatch(barpath, facecolor='green',\n\u001b[1;32m      3\u001b[0m   edgecolor='yellow', alpha=0.5)\n\u001b[1;32m      4\u001b[0m \u001b[0max\u001b[0m\u001b[0;34m.\u001b[0m\u001b[0madd_patch\u001b[0m\u001b[0;34m(\u001b[0m\u001b[0mpatch\u001b[0m\u001b[0;34m)\u001b[0m\u001b[0;34m\u001b[0m\u001b[0;34m\u001b[0m\u001b[0m\n",
            "\u001b[0;31mAttributeError\u001b[0m: 'Path' object has no attribute 'Path'"
          ]
        }
      ]
    },
    {
      "cell_type": "code",
      "metadata": {
        "id": "qdyHJYzHwwGf"
      },
      "source": [
        "import numpy as np\n",
        "import matplotlib.patches as patches\n",
        "import matplotlib.path as path\n",
        "\n",
        "fig, ax = plt.subplots()\n",
        "# Fixing random state for reproducibility\n",
        "np.random.seed(19680801)\n",
        "\n",
        "# histogram our data with numpy\n",
        "data = np.random.randn(1000)\n",
        "n, bins = np.histogram(data, 100)\n",
        "\n",
        "# get the corners of the rectangles for the histogram\n",
        "left = np.array(bins[:-1])\n",
        "right = np.array(bins[1:])\n",
        "bottom = np.zeros(len(left))\n",
        "top = bottom + n\n",
        "nrects = len(left)\n",
        "\n",
        "nverts = nrects*(1+3+1)\n",
        "verts = np.zeros((nverts, 2))\n",
        "codes = np.ones(nverts, int) * path.Path.LINETO\n",
        "codes[0::5] = path.Path.MOVETO\n",
        "codes[4::5] = path.Path.CLOSEPOLY\n",
        "verts[0::5, 0] = left\n",
        "verts[0::5, 1] = bottom\n",
        "verts[1::5, 0] = left\n",
        "verts[1::5, 1] = top\n",
        "verts[2::5, 0] = right\n",
        "verts[2::5, 1] = top\n",
        "verts[3::5, 0] = right\n",
        "verts[3::5, 1] = bottom\n",
        "\n",
        "barpath = path.Path(verts, codes)\n",
        "patch = patches.PathPatch(barpath, facecolor='green',\n",
        "                          edgecolor='yellow', alpha=0.5)\n",
        "ax.add_patch(patch)\n",
        "\n",
        "ax.set_xlim(left[0], right[-1])\n",
        "ax.set_ylim(bottom.min(), top.max())\n",
        "\n",
        "plt.show()"
      ],
      "execution_count": null,
      "outputs": []
    }
  ]
}