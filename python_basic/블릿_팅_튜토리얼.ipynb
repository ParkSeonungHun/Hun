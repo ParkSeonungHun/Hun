{
  "nbformat": 4,
  "nbformat_minor": 0,
  "metadata": {
    "colab": {
      "name": "블릿 팅 튜토리얼.ipynb",
      "provenance": [],
      "authorship_tag": "ABX9TyOUa99XKIELMAK0VheOHc/5",
      "include_colab_link": true
    },
    "kernelspec": {
      "name": "python3",
      "display_name": "Python 3"
    }
  },
  "cells": [
    {
      "cell_type": "markdown",
      "metadata": {
        "id": "view-in-github",
        "colab_type": "text"
      },
      "source": [
        "<a href=\"https://colab.research.google.com/github/ParkSeonungHun/Hun/blob/main/python_basic/%EB%B8%94%EB%A6%BF_%ED%8C%85_%ED%8A%9C%ED%86%A0%EB%A6%AC%EC%96%BC.ipynb\" target=\"_parent\"><img src=\"https://colab.research.google.com/assets/colab-badge.svg\" alt=\"Open In Colab\"/></a>"
      ]
    },
    {
      "cell_type": "markdown",
      "metadata": {
        "id": "191gxGFVu-9D"
      },
      "source": [
        "# 블릿 팅 튜토리얼\n",
        "\n",
        "'블릿 팅'은 래스터 그래픽 의 표준 기술 로 Matplotlib의 맥락에서 대화 형 그림의 성능을 (극적으로) 향상시키는 데 사용할 수 있습니다. 예를 들어 animation및 widgets모듈은 내부적으로 블리 팅을 사용합니다. 여기에서는 이러한 클래스 외부에서 자체 블리 팅을 구현하는 방법을 보여줍니다.\n",
        "\n",
        "성능 향상의 원천은 우리가 할 필요가없는 작업을 다시 수행하지 않기 때문입니다. 축의 한계가 변경되지 않았다면 모든 눈금과 눈금 레이블을 다시 그릴 필요가 없습니다 (특히 텍스트는 렌더링하는 데 더 많은 비용이 들기 때문입니다).\n",
        "\n",
        "작업을 저장하는 절차는 대략 다음과 같습니다.\n",
        "\n",
        "* 그림을 그리지 만 '애니메이션'으로 표시된 아티스트는 제외\n",
        "* RBGA 버퍼의 사본 저장\n",
        "\n",
        "앞으로 '애니메이션'아티스트를 업데이트하기 위해\n",
        "\n",
        "* RGBA 버퍼의 복사본을 복원합니다.\n",
        "* 애니메이션 아티스트 만 다시 그리기\n",
        "* 화면에 결과 이미지 표시\n",
        "\n",
        "따라서 애니메이션이 아닌 모든 것을 다시 그릴 필요가 없습니다. 이 절차의 한 가지 결과는 애니메이션 아티스트가 항상 정적 아티스트보다 높은 z 순서로 그려진다는 것입니다.\n",
        "\n",
        "모든 백엔드가 블리 팅을 지원하는 것은 아닙니다. 특정 캔버스가 FigureCanvasBase.supports_blit속성을 통해 수행되는지 확인할 수 있습니다 ."
      ]
    },
    {
      "cell_type": "markdown",
      "metadata": {
        "id": "3b5ZnzIOvLdX"
      },
      "source": [
        "**경고**\n",
        "\n",
        "이 코드는 OSX 백엔드에서는 작동하지 않지만 Mac의 다른 GUI 백엔드에서는 작동합니다."
      ]
    },
    {
      "cell_type": "markdown",
      "metadata": {
        "id": "7Zlvpij7vSfX"
      },
      "source": [
        "## 최소한의 예\n",
        "\n",
        "우리는 사용 FigureCanvasAgg방법 copy_from_bbox및 restore_region설정과 함께 animated=True사용이 렌더링을 가속화 블리 팅하는 최소한의 예를 구현하기 위해 우리의 아티스트를"
      ]
    },
    {
      "cell_type": "code",
      "metadata": {
        "id": "NaBwk-sYvWN3"
      },
      "source": [
        "import matplotlib.pyplot as plt\n",
        "import numpy as np\n",
        "\n",
        "x = np.linspace(0, 2 * np.pi, 100)\n",
        "\n",
        "fig, ax = plt.subplots()\n",
        "\n",
        "# animated=True tells matplotlib to only draw the artist when we\n",
        "# explicitly request it\n",
        "(ln,) = ax.plot(x, np.sin(x), animated=True)\n",
        "\n",
        "# make sure the window is raised, but the script keeps going\n",
        "plt.show(block=False)\n",
        "\n",
        "# stop to admire our empty window axes and ensure it is rendered at\n",
        "# least once.\n",
        "#\n",
        "# We need to fully draw the figure at its final size on the screen\n",
        "# before we continue on so that :\n",
        "#  a) we have the correctly sized and drawn background to grab\n",
        "#  b) we have a cached renderer so that ``ax.draw_artist`` works\n",
        "# so we spin the event loop to let the backend process any pending operations\n",
        "plt.pause(0.1)\n",
        "\n",
        "# get copy of entire figure (everything inside fig.bbox) sans animated artist\n",
        "bg = fig.canvas.copy_from_bbox(fig.bbox)\n",
        "# draw the animated artist, this uses a cached renderer\n",
        "ax.draw_artist(ln)\n",
        "# show the result to the screen, this pushes the updated RGBA buffer from the\n",
        "# renderer to the GUI framework so you can see it\n",
        "fig.canvas.blit(fig.bbox)\n",
        "\n",
        "for j in range(100):\n",
        "    # reset the background back in the canvas state, screen unchanged\n",
        "    fig.canvas.restore_region(bg)\n",
        "    # update the artist, neither the canvas state nor the screen have changed\n",
        "    ln.set_ydata(np.sin(x + (j / 100) * np.pi))\n",
        "    # re-render the artist, updating the canvas state, but not the screen\n",
        "    ax.draw_artist(ln)\n",
        "    # copy the image to the GUI state, but screen might not changed yet\n",
        "    fig.canvas.blit(fig.bbox)\n",
        "    # flush any pending GUI events, re-painting the screen if needed\n",
        "    fig.canvas.flush_events()\n",
        "    # you can put a pause in if you want to slow things down\n",
        "    # plt.pause(.1)"
      ],
      "execution_count": null,
      "outputs": []
    },
    {
      "cell_type": "markdown",
      "metadata": {
        "id": "v2mAEnDHvb3n"
      },
      "source": [
        "이 예제는 작동하고 간단한 애니메이션을 보여줍니다. 그러나 배경을 한 번만 잡기 때문에 그림의 크기가 픽셀 단위로 변경되면 (그림의 크기 또는 dpi 변경으로 인해) 배경이 유효하지 않고 결과가 발생합니다. 부정확 한 (하지만 때로는 멋져 보이는!) 이미지. 또한 전역 변수와 상당한 양의 보일러 플레이트가있어이를 클래스로 래핑해야합니다."
      ]
    },
    {
      "cell_type": "markdown",
      "metadata": {
        "id": "WALIHZvbvctG"
      },
      "source": [
        "## 클래스 기반 예제\n",
        "\n",
        "클래스를 사용하여 보일러 플레이트 로직과 배경 복원 상태를 캡슐화하고 아티스트를 그린 다음 결과를 화면에 블리 팅 할 수 있습니다. 또한 'draw_event' 전체 다시 그리기가 발생할 때마다 콜백을 사용하여 크기 조정을 올바르게 처리 할 때마다 새 배경을 캡처 할 수 있습니다."
      ]
    },
    {
      "cell_type": "code",
      "metadata": {
        "id": "Z_Ybe5K5vgN-"
      },
      "source": [
        "class BlitManager:\n",
        "    def __init__(self, canvas, animated_artists=()):\n",
        "        \"\"\"\n",
        "        Parameters\n",
        "        ----------\n",
        "        canvas : FigureCanvasAgg\n",
        "            The canvas to work with, this only works for sub-classes of the Agg\n",
        "            canvas which have the `~FigureCanvasAgg.copy_from_bbox` and\n",
        "            `~FigureCanvasAgg.restore_region` methods.\n",
        "\n",
        "        animated_artists : Iterable[Artist]\n",
        "            List of the artists to manage\n",
        "        \"\"\"\n",
        "        self.canvas = canvas\n",
        "        self._bg = None\n",
        "        self._artists = []\n",
        "\n",
        "        for a in animated_artists:\n",
        "            self.add_artist(a)\n",
        "        # grab the background on every draw\n",
        "        self.cid = canvas.mpl_connect(\"draw_event\", self.on_draw)\n",
        "\n",
        "    def on_draw(self, event):\n",
        "        \"\"\"Callback to register with 'draw_event'.\"\"\"\n",
        "        cv = self.canvas\n",
        "        if event is not None:\n",
        "            if event.canvas != cv:\n",
        "                raise RuntimeError\n",
        "        self._bg = cv.copy_from_bbox(cv.figure.bbox)\n",
        "        self._draw_animated()\n",
        "\n",
        "    def add_artist(self, art):\n",
        "        \"\"\"\n",
        "        Add an artist to be managed.\n",
        "\n",
        "        Parameters\n",
        "        ----------\n",
        "        art : Artist\n",
        "\n",
        "            The artist to be added.  Will be set to 'animated' (just\n",
        "            to be safe).  *art* must be in the figure associated with\n",
        "            the canvas this class is managing.\n",
        "\n",
        "        \"\"\"\n",
        "        if art.figure != self.canvas.figure:\n",
        "            raise RuntimeError\n",
        "        art.set_animated(True)\n",
        "        self._artists.append(art)\n",
        "\n",
        "    def _draw_animated(self):\n",
        "        \"\"\"Draw all of the animated artists.\"\"\"\n",
        "        fig = self.canvas.figure\n",
        "        for a in self._artists:\n",
        "            fig.draw_artist(a)\n",
        "\n",
        "    def update(self):\n",
        "        \"\"\"Update the screen with animated artists.\"\"\"\n",
        "        cv = self.canvas\n",
        "        fig = cv.figure\n",
        "        # paranoia in case we missed the draw event,\n",
        "        if self._bg is None:\n",
        "            self.on_draw(None)\n",
        "        else:\n",
        "            # restore the background\n",
        "            cv.restore_region(self._bg)\n",
        "            # draw all of the animated artists\n",
        "            self._draw_animated()\n",
        "            # update the GUI state\n",
        "            cv.blit(fig.bbox)\n",
        "        # let the GUI event loop process anything it has to do\n",
        "        cv.flush_events()\n"
      ],
      "execution_count": 3,
      "outputs": []
    },
    {
      "cell_type": "markdown",
      "metadata": {
        "id": "1iY3Dof2vjS4"
      },
      "source": [
        "여기에 우리가 수업을 사용하는 방법이 있습니다. 이것은 텍스트 프레임 카운터도 추가하므로 첫 번째 경우보다 약간 더 복잡한 예입니다."
      ]
    },
    {
      "cell_type": "code",
      "metadata": {
        "id": "ebtyEx3EvkT4"
      },
      "source": [
        "# make a new figure\n",
        "fig, ax = plt.subplots()\n",
        "# add a line\n",
        "(ln,) = ax.plot(x, np.sin(x), animated=True)\n",
        "# add a frame number\n",
        "fr_number = ax.annotate(\n",
        "    \"0\",\n",
        "    (0, 1),\n",
        "    xycoords=\"axes fraction\",\n",
        "    xytext=(10, -10),\n",
        "    textcoords=\"offset points\",\n",
        "    ha=\"left\",\n",
        "    va=\"top\",\n",
        "    animated=True,\n",
        ")\n",
        "bm = BlitManager(fig.canvas, [ln, fr_number])\n",
        "# make sure our window is on the screen and drawn\n",
        "plt.show(block=False)\n",
        "plt.pause(.1)\n",
        "\n",
        "for j in range(100):\n",
        "    # update the artists\n",
        "    ln.set_ydata(np.sin(x + (j / 100) * np.pi))\n",
        "    fr_number.set_text(\"frame: {j}\".format(j=j))\n",
        "    # tell the blitting manager to do it's thing\n",
        "    bm.update()\n"
      ],
      "execution_count": null,
      "outputs": []
    },
    {
      "cell_type": "markdown",
      "metadata": {
        "id": "jbKUUFsCvonG"
      },
      "source": [
        "이 클래스는 의존하지 않으며 pyplot더 큰 GUI 애플리케이션에 임베드하기에 적합합니다."
      ]
    }
  ]
}