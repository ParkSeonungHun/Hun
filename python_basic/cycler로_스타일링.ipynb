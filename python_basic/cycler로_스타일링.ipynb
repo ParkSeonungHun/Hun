{
  "nbformat": 4,
  "nbformat_minor": 0,
  "metadata": {
    "colab": {
      "name": "cycler로 스타일링.ipynb",
      "provenance": [],
      "authorship_tag": "ABX9TyPDQoUR6yjioR8TUvbV8MNd",
      "include_colab_link": true
    },
    "kernelspec": {
      "name": "python3",
      "display_name": "Python 3"
    }
  },
  "cells": [
    {
      "cell_type": "markdown",
      "metadata": {
        "id": "view-in-github",
        "colab_type": "text"
      },
      "source": [
        "<a href=\"https://colab.research.google.com/github/ParkSeonungHun/Hun/blob/main/python_basic/cycler%EB%A1%9C_%EC%8A%A4%ED%83%80%EC%9D%BC%EB%A7%81.ipynb\" target=\"_parent\"><img src=\"https://colab.research.google.com/assets/colab-badge.svg\" alt=\"Open In Colab\"/></a>"
      ]
    },
    {
      "cell_type": "markdown",
      "metadata": {
        "id": "_8U8kndzZq5R"
      },
      "source": [
        "# Cycler로 스타일링 \n",
        "\n",
        "다중 라인 플롯의 색상 및 기타 스타일 속성을 제어하기위한 사용자 정의 속성주기 설정 데모.\n",
        "\n",
        "노트\n",
        "\n",
        "cyclerAPI 에 대한 더 완전한 문서는 여기 에서 찾을 수 있습니다 .\n",
        "\n",
        "이 예는 두 가지 다른 API를 보여줍니다.\n",
        "\n",
        "1. 기본 속성주기를 지정하는 rc 매개 변수 설정. 이는 모든 후속 axes에 영향을 미칩니다(이미 생성 된 axes는 아님.).\n",
        "2. 단일 축 쌍에 대한 속성주기 설정\n"
      ]
    },
    {
      "cell_type": "code",
      "metadata": {
        "id": "WB008g7eZ7cQ"
      },
      "source": [
        "from cycler import cycler\n",
        "import numpy as np\n",
        "import matplotlib.pyplot as plt"
      ],
      "execution_count": 1,
      "outputs": []
    },
    {
      "cell_type": "markdown",
      "metadata": {
        "id": "KbkvDYI2Z-h7"
      },
      "source": [
        "먼저 샘플 데이터 (이 경우 4 개의 오프셋 사인 곡선)를 생성합니다."
      ]
    },
    {
      "cell_type": "code",
      "metadata": {
        "id": "T-EfMeGQZ_UB"
      },
      "source": [
        "x = np.linspace(0, 2 * np.pi, 50)\n",
        "offsets = np.linspace(0, 2 * np.pi, 4, endpoint=False)\n",
        "yy = np.transpose([np.sin(x + phi) for phi in offsets])"
      ],
      "execution_count": 2,
      "outputs": []
    },
    {
      "cell_type": "markdown",
      "metadata": {
        "id": "XgPvzvXPaAb_"
      },
      "source": [
        "이제 yy모양이 있습니다"
      ]
    },
    {
      "cell_type": "code",
      "metadata": {
        "id": "EJynKuihaB2Y"
      },
      "source": [
        "print(yy.shape)"
      ],
      "execution_count": null,
      "outputs": []
    },
    {
      "cell_type": "markdown",
      "metadata": {
        "id": "YkHpV9gQaDkp"
      },
      "source": [
        "그래서 당신에게 줄 것이다 번째 오프셋 사인 곡선을. 을 사용 하여 기본값 을 설정하겠습니다 . ( ) 두 개를 함께 추가하여 색상 순환기와 선 스타일 순환기를 결합합니다. 다른 Cycler를 결합하는 방법에 대한 자세한 내용은이 자습서의 하단을 참조하십시오.yy[:, i]iprop_cyclematplotlib.pyplot.rc()+cycler"
      ]
    },
    {
      "cell_type": "code",
      "metadata": {
        "id": "LV_iLoAcaEYz"
      },
      "source": [
        "default_cycler = (cycler(color=['r', 'g', 'b', 'y']) +\n",
        "                  cycler(linestyle=['-', '--', ':', '-.']))\n",
        "\n",
        "plt.rc('lines', linewidth=4)\n",
        "plt.rc('axes', prop_cycle=default_cycler)"
      ],
      "execution_count": 4,
      "outputs": []
    },
    {
      "cell_type": "markdown",
      "metadata": {
        "id": "aJWuvHSOaGLB"
      },
      "source": [
        "이제 우리는 두 개의 축이 다른 하나의 위에있는 그림을 생성 할 것입니다. 첫 번째 축에서 기본 사이 클러로 플로팅합니다. 두 번째 축에서 prop_cycleusing을 matplotlib.axes.Axes.set_prop_cycle()설정 prop_cycle하여이 matplotlib.axes.Axes 인스턴스에 대해서만 설정합니다 . cycler색상 순환기와 선폭 순환기를 결합한 두 번째 를 사용합니다 ."
      ]
    },
    {
      "cell_type": "code",
      "metadata": {
        "id": "DJF4xFumaHVh"
      },
      "source": [
        "custom_cycler = (cycler(color=['c', 'm', 'y', 'k']) +\n",
        "                 cycler(lw=[1, 2, 3, 4]))\n",
        "\n",
        "fig, (ax0, ax1) = plt.subplots(nrows=2)\n",
        "ax0.plot(yy)\n",
        "ax0.set_title('Set default color cycle to rgby')\n",
        "ax1.set_prop_cycle(custom_cycler)\n",
        "ax1.plot(yy)\n",
        "ax1.set_title('Set axes color cycle to cmyk')\n",
        "\n",
        "# Add a bit more space between the two plots.\n",
        "fig.subplots_adjust(hspace=0.3)\n",
        "plt.show()"
      ],
      "execution_count": null,
      "outputs": []
    },
    {
      "cell_type": "markdown",
      "metadata": {
        "id": "MtSWQuEQaJRy"
      },
      "source": [
        "## 설정 prop_cycle에서 matplotlibrc파일이나 스타일 파일 \n",
        "\n",
        "사용자 정의 cycler는 matplotlibrc 파일 또는 다음에서 스타일 파일 ( style.mplstyle)에서 설정할 수 있습니다 axes.prop_cycle."
      ]
    },
    {
      "cell_type": "code",
      "metadata": {
        "id": "dKP5MEY0aMTT"
      },
      "source": [
        "axes.prop_cycle : cycler(color='bgrcmyk')"
      ],
      "execution_count": null,
      "outputs": []
    },
    {
      "cell_type": "markdown",
      "metadata": {
        "id": "riA9N2C3aOR7"
      },
      "source": [
        "## 여러 속성 순환\n",
        "\n",
        "Cycler를 추가 할 수 있습니다."
      ]
    },
    {
      "cell_type": "code",
      "metadata": {
        "id": "PorMPykYaR46"
      },
      "source": [
        "from cycler import cycler\n",
        "cc = (cycler(color=list('rgb')) +\n",
        "      cycler(linestyle=['-', '--', '-.']))\n",
        "for d in cc:\n",
        "    print(d)"
      ],
      "execution_count": null,
      "outputs": []
    },
    {
      "cell_type": "markdown",
      "metadata": {
        "id": "1BfbwjA5aU5C"
      },
      "source": [
        "Cycler를 곱할 수 있습니다."
      ]
    },
    {
      "cell_type": "code",
      "metadata": {
        "id": "Ga4F-sX5aWR5"
      },
      "source": [
        "from cycler import cycler\n",
        "cc = (cycler(color=list('rgb')) *\n",
        "      cycler(linestyle=['-', '--', '-.']))\n",
        "for d in cc:\n",
        "    print(d)\n"
      ],
      "execution_count": null,
      "outputs": []
    }
  ]
}