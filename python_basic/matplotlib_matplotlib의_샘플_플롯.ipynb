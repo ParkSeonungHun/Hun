{
  "nbformat": 4,
  "nbformat_minor": 0,
  "metadata": {
    "colab": {
      "name": "matplotlib matplotlib의 샘플 플롯.ipynb",
      "provenance": [],
      "toc_visible": true,
      "authorship_tag": "ABX9TyNg8LVg/UxN+fugByiORU9P",
      "include_colab_link": true
    },
    "kernelspec": {
      "name": "python3",
      "display_name": "Python 3"
    }
  },
  "cells": [
    {
      "cell_type": "markdown",
      "metadata": {
        "id": "view-in-github",
        "colab_type": "text"
      },
      "source": [
        "<a href=\"https://colab.research.google.com/github/ParkSeonungHun/Hun/blob/main/python_basic/matplotlib_matplotlib%EC%9D%98_%EC%83%98%ED%94%8C_%ED%94%8C%EB%A1%AF.ipynb\" target=\"_parent\"><img src=\"https://colab.research.google.com/assets/colab-badge.svg\" alt=\"Open In Colab\"/></a>"
      ]
    },
    {
      "cell_type": "markdown",
      "metadata": {
        "id": "0JT3W8cgxwDn"
      },
      "source": [
        "# Matplotlib의 샘플 플롯\n",
        "\n",
        "여기에서 생성 한 코드가 포함 된 예제 플롯을 찾을 수 있습니다."
      ]
    },
    {
      "cell_type": "markdown",
      "metadata": {
        "id": "W--t7dpjx1_D"
      },
      "source": [
        "## 라인 플롯\n",
        "\n",
        "라인 플롯을 사용하여 텍스트 레이블이있는 선 그림을 만드는 방법은 다음과 같습니다 plot()."
      ]
    },
    {
      "cell_type": "markdown",
      "metadata": {
        "id": "i4y9vQsSx-Ng"
      },
      "source": [
        "## 하나의 그림에 여러 서브 플롯\n",
        "\n",
        "다음 subplot()함수를 사용하여 여러 축 (예: 서브 플롯)이 생성됩니다."
      ]
    },
    {
      "cell_type": "markdown",
      "metadata": {
        "id": "vBNLXAzHyFbC"
      },
      "source": [
        "## 이미지\n",
        "\n",
        "Matplotlib는 imshow()함수를 사용하여 이미지를 표시 할 수 있습니다 (동일한 간격의 수평 치수 가정) ."
      ]
    },
    {
      "cell_type": "markdown",
      "metadata": {
        "id": "ddsNpuK6yI-y"
      },
      "source": [
        "## 윤곽과 유사 색\n",
        "\n",
        "이 pcolormesh()함수는 수평 차원의 간격이 고르지 않은 경우에도 2 차원 배열의 색상 표현을 만들 수 있습니다. contour()함수는 동일한 데이터를 표현하는 또 다른 방법이다 :\n",
        "\n"
      ]
    },
    {
      "cell_type": "markdown",
      "metadata": {
        "id": "RnMZFiE6yMDp"
      },
      "source": [
        "## 히스토그램\n",
        "\n",
        "이 hist()함수는 자동으로 히스토그램을 생성하고 빈 개수 또는 확률을 반환합니다."
      ]
    },
    {
      "cell_type": "markdown",
      "metadata": {
        "id": "HsMBuDRayQVo"
      },
      "source": [
        "## 경로\n",
        "\n",
        "matplotlib.path모듈을 사용하여 Matplotlib에서 임의의 경로를 추가 할 수 있습니다 ."
      ]
    },
    {
      "cell_type": "markdown",
      "metadata": {
        "id": "IKe113tCySrh"
      },
      "source": [
        "## 3차원 플로팅\n",
        "\n",
        "mplot3d 툴킷 ( 시작하기 및 3D 플로팅 참조 )은 표면, 와이어 프레임, 분산 형 및 막대 차트를 포함한 간단한 3D 그래프를 지원합니다.\n",
        "\n",
        "Surface3d \n",
        "\n",
        "mplot3d툴킷에 대해 John Porter, Jonathon Taylor, Reinier Heeres 및 Ben Root에게 감사드립니다 . 이 툴킷은 모든 표준 Matplotlib 설치에 포함되어 있습니다."
      ]
    },
    {
      "cell_type": "markdown",
      "metadata": {
        "id": "8UyDvq2iyYA4"
      },
      "source": [
        "## 스트림 플롯\n",
        "\n",
        "이 streamplot()함수는 벡터 장의 유선을 플로팅합니다. 유선을 단순히 플로팅하는 것 외에도 유선의 색상 및 / 또는 선 너비를 벡터 필드의 속도 또는 로컬 강도와 같은 별도의 매개 변수에 매핑 할 수 있습니다.\n",
        "\n",
        "이 기능은 quiver()벡터 필드 플로팅 기능을 보완 합니다. streamplot 기능을 추가 해준 Tom Flannaghan과 Tony Yu에게 감사드립니다."
      ]
    },
    {
      "cell_type": "markdown",
      "metadata": {
        "id": "AEAaDEJIycmr"
      },
      "source": [
        "## 타원\n",
        "\n",
        "화성 에 대한 Phoenix 임무 (Matplotlib를 사용하여 우주선의 지상 추적 표시)를 지원하기 위해 Michael Droettboom은 Charlie Moad의 작업을 기반으로 Arc하여 확대 / 축소 수준에 민감하지 않은 타원 호에 대해 매우 정확한 8- 스플라인 근사치를 제공했습니다 (참조 ). ."
      ]
    },
    {
      "cell_type": "markdown",
      "metadata": {
        "id": "AqTt4Jznyfd5"
      },
      "source": [
        "## 막대 차트\n",
        "\n",
        "bar()함수를 사용하여 오차 막대와 같은 사용자 지정을 포함하는 막대 차트를 만듭니다.\n",
        "\n",
        "누적 막대 ( bar_stacked.py ) 또는 가로 막대 차트 ( barh.py )를 만들 수도 있습니다 ."
      ]
    },
    {
      "cell_type": "markdown",
      "metadata": {
        "id": "GLURFExSyi16"
      },
      "source": [
        "## 파이 차트\n",
        "\n",
        "이 pie()기능을 사용하면 원형 차트를 만들 수 있습니다. 선택적 기능에는 영역 비율 자동 레이블 지정, 파이 중앙에서 하나 이상의 쐐기 폭발 및 그림자 효과가 포함됩니다. 몇 줄의 코드로이 그림을 생성하는 첨부 된 코드를 자세히 살펴보십시오."
      ]
    },
    {
      "cell_type": "markdown",
      "metadata": {
        "id": "ni_NB5_1ylOJ"
      },
      "source": [
        "## 테이블\n",
        "\n",
        "이 table()함수는 좌표축에 텍스트 테이블을 추가합니다."
      ]
    },
    {
      "cell_type": "markdown",
      "metadata": {
        "id": "ne9U5vaoym_Y"
      },
      "source": [
        "## 산점도\n",
        "\n",
        "이 scatter()함수는 (선택 사항) 크기 및 색상 인수를 사용하여 산점도를 만듭니다. 이 예는 거래량을 반영하는 마커 크기와 시간에 따라 달라지는 색상으로 Google 주가의 변화를 표시합니다. 여기서 alpha 속성은 반투명 원 마커를 만드는 데 사용됩니다."
      ]
    },
    {
      "cell_type": "markdown",
      "metadata": {
        "id": "cxeoNu98ypNy"
      },
      "source": [
        "## GUI 위젯\n",
        "\n",
        "Matplotlib에는 사용중인 그래픽 사용자 인터페이스와 독립적 인 기본 GUI 위젯이있어 교차 GUI 그림 및 위젯을 작성할 수 있습니다. matplotlib.widgets및 위젯 예제를 참조하십시오 .\n",
        "\n"
      ]
    },
    {
      "cell_type": "markdown",
      "metadata": {
        "id": "L0UMPTK8yryZ"
      },
      "source": [
        "## 채워진 곡선\n",
        "\n",
        "이 fill()함수를 사용하면 채워진 곡선과 다각형을 그릴 수 있습니다.\n",
        "\n",
        "이 기능을 추가 한 Andrew Straw에게 감사드립니다."
      ]
    },
    {
      "cell_type": "markdown",
      "metadata": {
        "id": "0SCS9VMkyv3q"
      },
      "source": [
        "## 날짜 처리\n",
        "\n",
        "메이저 및 마이너 틱과 두 가지 모두에 대한 사용자 지정 틱 포맷터를 사용하여 시계열 데이터를 플로팅 할 수 있습니다.\n",
        "\n",
        "참조 matplotlib.ticker및 matplotlib.dates자세한 내용 및 사용에 대한."
      ]
    },
    {
      "cell_type": "markdown",
      "metadata": {
        "id": "Oos_5BYVyySD"
      },
      "source": [
        "## 로그 플롯\n",
        "\n",
        "semilogx(), semilogy()및 loglog()함수는 대수 플롯의 생성을 단순화.\n",
        "\n",
        "\n",
        "로그 스케일링 인프라에 기여한 Andrew Straw, Darren Dale 및 Gregory Lielens에게 감사드립니다."
      ]
    },
    {
      "cell_type": "markdown",
      "metadata": {
        "id": "RhQbhHqhy38f"
      },
      "source": [
        "## 극좌표\n",
        "\n",
        "이 polar()함수는 극좌표를 생성합니다."
      ]
    },
    {
      "cell_type": "markdown",
      "metadata": {
        "id": "bXIXMrFly6BS"
      },
      "source": [
        "## 범례\n",
        "\n",
        "이 legend()함수는 MATLAB과 호환되는 범례 배치 함수를 사용하여 그림 범례를 자동으로 생성합니다.\n",
        "\n",
        "범례 기능에 대한 의견을 보내 주신 Charles Twardy에게 감사드립니다."
      ]
    },
    {
      "cell_type": "markdown",
      "metadata": {
        "id": "ZzlQSqaoy_yN"
      },
      "source": [
        "## 텍스트 객체에 대한 TeX 표기법\n",
        "\n",
        "다음은 Matplotlib의 내부 수학 텍스트 엔진에서 지원하는 많은 TeX 표현식의 샘플입니다. mathtext 모듈은 FreeType 및 DejaVu, BaKoMa 컴퓨터 모던 또는 STIX 글꼴을 사용하여 TeX 스타일의 수학 표현식을 제공합니다 . matplotlib.mathtext추가 세부 사항 은 모듈을 참조 하십시오.\n",
        "\n",
        "Matplotlib의 수학 텍스트 인프라는 독립적으로 구현되며 TeX 또는 컴퓨터에 설치된 외부 패키지가 필요하지 않습니다. 수학 표현식 작성 의 튜토리얼을 참조하십시오 ."
      ]
    },
    {
      "cell_type": "markdown",
      "metadata": {
        "id": "wnMx1N-ZzE_L"
      },
      "source": [
        "## 네이티브 TeX 렌더링\n",
        "\n",
        "Matplotlib의 내부 수학 렌더링 엔진은 매우 강력하지만 때로는 TeX가 필요합니다. Matplotlib는 usetex 옵션을 사용하여 문자열의 외부 TeX 렌더링을 지원합니다 .\n",
        "\n"
      ]
    },
    {
      "cell_type": "markdown",
      "metadata": {
        "id": "lsM6Yz_zzMUT"
      },
      "source": [
        "## EEG GUI\n",
        "\n",
        "Matplotlib를 pygtk, wx, Tk 또는 Qt 애플리케이션에 포함 할 수 있습니다. 다음은 pbrain 이라는 EEG 뷰어의 스크린 샷입니다 .\n",
        "\n",
        "아래쪽 축은 specgram() EEG 채널 중 하나의 스펙트로 그램을 그리는 데 사용 합니다.\n",
        "\n",
        "다른 툴킷에 Matplotlib를 포함하는 방법의 예는 다음을 참조하십시오."
      ]
    },
    {
      "cell_type": "markdown",
      "metadata": {
        "id": "lXiJI0lUzRlS"
      },
      "source": [
        "\n",
        "\n",
        "*   GTK3에 포함\n",
        "*   wx # 2에 포함\n",
        "*   Glade 3이있는 Matplotlib\n",
        "*   Qt에 포함\n",
        "*   Tk에 포함\n",
        "\n"
      ]
    },
    {
      "cell_type": "markdown",
      "metadata": {
        "id": "JuhI7mtMzeQT"
      },
      "source": [
        "## XKCD 스타일 스케치 플롯\n",
        "\n",
        "재미로 Matplotlib는 xkcd 스타일의 플로팅을 지원합니다 ."
      ]
    },
    {
      "cell_type": "markdown",
      "metadata": {
        "id": "ypR23Erlzh_S"
      },
      "source": [
        "## 서브 플롯 예제\n",
        "\n",
        "많은 플롯 유형을 하나의 그림으로 결합하여 강력하고 유연한 데이터 표현을 만들 수 있습니다."
      ]
    },
    {
      "cell_type": "code",
      "metadata": {
        "id": "G-nF7J1fzkur"
      },
      "source": [
        "import matplotlib.pyplot as plt\n",
        "import numpy as np\n",
        "\n",
        "np.random.seed(19680801)\n",
        "data = np.random.randn(2, 100)\n",
        "\n",
        "fig, axs = plt.subplots(2, 2, figsize=(5, 5))\n",
        "axs[0, 0].hist(data[0])\n",
        "axs[1, 0].scatter(data[0], data[1])\n",
        "axs[0, 1].plot(data[0], data[1])\n",
        "axs[1, 1].hist2d(data[0], data[1])\n",
        "\n",
        "plt.show()"
      ],
      "execution_count": null,
      "outputs": []
    }
  ]
}