{
  "nbformat": 4,
  "nbformat_minor": 0,
  "metadata": {
    "colab": {
      "name": "seaborn 그림 미학 제어.ipynb",
      "provenance": [],
      "authorship_tag": "ABX9TyOec3IzD/+t/SA7+V+5x44p",
      "include_colab_link": true
    },
    "kernelspec": {
      "name": "python3",
      "display_name": "Python 3"
    }
  },
  "cells": [
    {
      "cell_type": "markdown",
      "metadata": {
        "id": "view-in-github",
        "colab_type": "text"
      },
      "source": [
        "<a href=\"https://colab.research.google.com/github/ParkSeonungHun/Hun/blob/main/python_basic/seaborn_%EA%B7%B8%EB%A6%BC_%EB%AF%B8%ED%95%99_%EC%A0%9C%EC%96%B4.ipynb\" target=\"_parent\"><img src=\"https://colab.research.google.com/assets/colab-badge.svg\" alt=\"Open In Colab\"/></a>"
      ]
    },
    {
      "cell_type": "markdown",
      "metadata": {
        "id": "Xty8VSMjRR4G"
      },
      "source": [
        "# 그림 미학 제어하기\n",
        "\n",
        "매력적인 인물을 그리는 것이 중요합니다. 직접 수치를 만들 때 데이터 세트를 탐색 할 때보기 편한 플롯을 갖는 것이 좋습니다. 시각화는 또한 청중에게 정량적 통찰력을 전달하는 데 핵심적인 역할을하며, 그 설정에서 관심을 끌고 시청자를 끌어들이는 인물이 더 필요합니다.\n",
        "\n",
        "Matplotlib는 고도로 사용자 정의 할 수 있지만 매력적인 플롯을 얻기 위해 어떤 설정을 조정해야하는지 알기가 어려울 수 있습니다. Seaborn은 다양한 맞춤형 테마와 matplotlib 그림의 모양을 제어하기위한 고급 인터페이스를 제공합니다."
      ]
    },
    {
      "cell_type": "code",
      "metadata": {
        "id": "sQHeeDl2RV1V"
      },
      "source": [
        "import numpy as np\n",
        "import seaborn as sns\n",
        "import matplotlib.pyplot as plt"
      ],
      "execution_count": 4,
      "outputs": []
    },
    {
      "cell_type": "markdown",
      "metadata": {
        "id": "1vWiUBy-RYj9"
      },
      "source": [
        "약간의 오프셋 사인파를 플로팅하는 간단한 함수를 정의하여 조정할 수있는 다른 스타일 매개 변수를 확인하는 데 도움이됩니다."
      ]
    },
    {
      "cell_type": "code",
      "metadata": {
        "id": "qyhgu0uDRar1"
      },
      "source": [
        "def sinplot(flip=1):\n",
        "  x = np.linspace(0, 14, 100)\n",
        "  for i in range(1, 7):\n",
        "    plt.plot(x, np.sin(x + i * .5) * (7 - i) * flip)"
      ],
      "execution_count": 5,
      "outputs": []
    },
    {
      "cell_type": "markdown",
      "metadata": {
        "id": "3oW4M-JlRs19"
      },
      "source": [
        "다음은 matplotlib 기본값을 사용한 플롯의 모습입니다."
      ]
    },
    {
      "cell_type": "code",
      "metadata": {
        "id": "XqdN0N8NRuGl"
      },
      "source": [
        "sinplot()"
      ],
      "execution_count": null,
      "outputs": []
    },
    {
      "cell_type": "markdown",
      "metadata": {
        "id": "ziCvXt-ERxgN"
      },
      "source": [
        "seaborn 기본값으로 전환하려면 set_theme()함수 를 호출하기 만하면 됩니다."
      ]
    },
    {
      "cell_type": "code",
      "metadata": {
        "id": "d42psqmLRyn1"
      },
      "source": [
        "sns.set_theme()\n",
        "sinplot()"
      ],
      "execution_count": null,
      "outputs": []
    },
    {
      "cell_type": "markdown",
      "metadata": {
        "id": "SRDRLBHIR2td"
      },
      "source": [
        "(0.8 이전 버전의 seaborn에서는 set_theme()가져올 때 호출되었습니다. 이후 버전에서는 명시 적으로 호출해야합니다).\n",
        "\n",
        "Seaborn은 matplotlib 매개 변수를 두 개의 독립적 인 그룹으로 분할합니다. 첫 번째 그룹은 플롯의 미적 스타일을 설정하고 두 번째 그룹은 그림의 다양한 요소를 조정하여 다른 컨텍스트에 쉽게 통합 될 수 있도록합니다.\n",
        "\n",
        "이러한 매개 변수를 조작하기위한 인터페이스는 두 쌍의 함수입니다. 스타일을 제어하려면 axes_style()및 set_style()기능을 사용하십시오 . 플롯을 스케일링하려면 plotting_context()및 set_context()함수를 사용하십시오 . 두 경우 모두 첫 번째 함수는 매개 변수 사전을 반환하고 두 번째 함수는 matplotlib 기본값을 설정합니다.\n",
        "\n"
      ]
    },
    {
      "cell_type": "markdown",
      "metadata": {
        "id": "tOAPlZlLR3uF"
      },
      "source": [
        "## Seaborn 그림 스타일\n",
        "\n",
        "사전 설정된 5 개의 시본 테마가 있습니다 : darkgrid, whitegrid, dark, white,와 ticks. 그들은 각각 다른 응용 프로그램과 개인 취향에 적합합니다. 기본 테마는 darkgrid입니다. 위에서 언급했듯이 그리드는 플롯이 정량적 정보에 대한 조회 테이블 역할을하는 데 도움이되며 흰색 회색은 그리드가 데이터를 나타내는 선과 경쟁하지 않도록하는 데 도움이됩니다. whitegrid주제는 비슷하지만 더 나은 무거운 데이터 요소와 플롯에 적합합니다 :"
      ]
    },
    {
      "cell_type": "code",
      "metadata": {
        "id": "g_cp_BIyR9mG"
      },
      "source": [
        "sns.set_style(\"whitegrid\")\n",
        "data = np.random.normal(size=(20, 6)) + np.arange(6) / 2\n",
        "sns.boxenplot(data=data);"
      ],
      "execution_count": null,
      "outputs": []
    },
    {
      "cell_type": "markdown",
      "metadata": {
        "id": "8-P7dWDVSMg1"
      },
      "source": [
        "많은 플롯의 경우 (특히 데이터에서 패턴의 인상을 제공하기 위해 주로 그림을 사용하려는 대화와 같은 설정의 경우) 그리드가 덜 필요합니다."
      ]
    },
    {
      "cell_type": "code",
      "metadata": {
        "id": "Oi-7DIIbSNsd"
      },
      "source": [
        "sns.set_style(\"dark\")\n",
        "sinplot()"
      ],
      "execution_count": null,
      "outputs": []
    },
    {
      "cell_type": "code",
      "metadata": {
        "id": "KOEDX494SUh1"
      },
      "source": [
        "sns.set_style(\"white\")\n",
        "sinplot()"
      ],
      "execution_count": null,
      "outputs": []
    },
    {
      "cell_type": "markdown",
      "metadata": {
        "id": "3D_9FWSWSZHd"
      },
      "source": [
        "때로 플롯에 약간의 추가 구조를 제공하고 싶을 수도 있습니다."
      ]
    },
    {
      "cell_type": "code",
      "metadata": {
        "id": "_dCApzEvSa7K"
      },
      "source": [
        "sns.set_style(\"ticks\")\n",
        "sinplot()"
      ],
      "execution_count": null,
      "outputs": []
    },
    {
      "cell_type": "markdown",
      "metadata": {
        "id": "r_bt3VcNSfdn"
      },
      "source": [
        "## 축 척추 제거\n",
        "\n",
        "white및 ticks스타일 모두 필요하지 않은 위쪽 및 오른쪽 축 등뼈를 제거하면 이점을 얻을 수 있습니다. seaborn 함수 despine()를 호출하여 제거 할 수 있습니다."
      ]
    },
    {
      "cell_type": "code",
      "metadata": {
        "id": "BNvh-Oy5SjBN"
      },
      "source": [
        "sinplot()\n",
        "sns.despine()"
      ],
      "execution_count": null,
      "outputs": []
    },
    {
      "cell_type": "markdown",
      "metadata": {
        "id": "-SaHVd2BSoYu"
      },
      "source": [
        "일부 플롯은 데이터에서 척추를 오프셋하는 데 도움이되며을 호출 할 때도 수행 할 수 있습니다 despine(). 눈금이 축의 전체 범위를 포함하지 않는 경우 trim매개 변수는 살아남은 척추의 범위를 제한합니다."
      ]
    },
    {
      "cell_type": "code",
      "metadata": {
        "id": "jZtuT0etSpt-"
      },
      "source": [
        "f, ax = plt.subplots()\n",
        "sns.violinplot(data=data)\n",
        "sns.despine(offset=10, trim=True);"
      ],
      "execution_count": null,
      "outputs": []
    },
    {
      "cell_type": "markdown",
      "metadata": {
        "id": "eQbt68wwS9O4"
      },
      "source": [
        "다음에 대한 추가 인수를 사용하여 제거 할 척추를 제어 할 수도 있습니다 despine()"
      ]
    },
    {
      "cell_type": "code",
      "metadata": {
        "id": "oTI6AeFcS-UW"
      },
      "source": [
        "sns.set_style(\"whitegrid\")\n",
        "sns.boxenplot(data=data, palette=\"deep\")\n",
        "sns.despine(left=True)"
      ],
      "execution_count": null,
      "outputs": []
    },
    {
      "cell_type": "markdown",
      "metadata": {
        "id": "CqJLuPfpTLP-"
      },
      "source": [
        "## 일시적으로 도형 스타일 설정하기\n",
        "\n",
        "앞뒤로 쉽게 전환 할 수 axes_style()있지만 with명령문 에서 함수를 사용하여 플롯 매개 변수를 임시로 설정할 수도 있습니다 . 또한 다른 스타일의 축으로 그림을 만들 수 있습니다."
      ]
    },
    {
      "cell_type": "code",
      "metadata": {
        "id": "VWI9ZArNTOE-"
      },
      "source": [
        "f = plt.figure(figsize=(6, 6))\n",
        "gs = f.add_gridspec(2, 2)\n",
        "\n",
        "with sns.axes_style(\"darkgrid\"):\n",
        "    ax = f.add_subplot(gs[0, 0])\n",
        "    sinplot()\n",
        "\n",
        "with sns.axes_style(\"white\"):\n",
        "    ax = f.add_subplot(gs[0, 1])\n",
        "    sinplot()\n",
        "\n",
        "with sns.axes_style(\"ticks\"):\n",
        "    ax = f.add_subplot(gs[1, 0])\n",
        "    sinplot()\n",
        "\n",
        "with sns.axes_style(\"whitegrid\"):\n",
        "    ax = f.add_subplot(gs[1, 1])\n",
        "    sinplot()\n",
        "\n",
        "f.tight_layout()\n"
      ],
      "execution_count": null,
      "outputs": []
    },
    {
      "cell_type": "markdown",
      "metadata": {
        "id": "lF2BbOauULHh"
      },
      "source": [
        "## Seaborn 스타일의 요소 재정의\n",
        "\n",
        "Seaborn 스타일을 사용자 정의하려면 매개 변수 사전 rc을 axes_style()및 인수에 전달할 수 있습니다 set_style(). 이 메서드를 통해 스타일 정의의 일부인 매개 변수 만 재정의 할 수 있습니다. (그러나 상위 수준 set_theme()함수는 matplotlib 매개 변수의 사전을 사용합니다.)\n",
        "\n",
        "포함 된 매개 변수를 확인하려면 인수없이 함수를 호출하면됩니다. 그러면 현재 설정이 반환됩니다."
      ]
    },
    {
      "cell_type": "code",
      "metadata": {
        "id": "gUiB7B6XUPBP"
      },
      "source": [
        "sns.axes_style()"
      ],
      "execution_count": null,
      "outputs": []
    },
    {
      "cell_type": "markdown",
      "metadata": {
        "id": "XsLYGiLbUSbo"
      },
      "source": [
        "그런 다음 이러한 매개 변수의 다른 버전을 설정할 수 있습니다."
      ]
    },
    {
      "cell_type": "code",
      "metadata": {
        "id": "fvDEwMZVUVHW"
      },
      "source": [
        "sns.set_style(\"darkgrid\", {\"axes.facecolor\": \".9\"})\n",
        "sinplot()"
      ],
      "execution_count": null,
      "outputs": []
    },
    {
      "cell_type": "markdown",
      "metadata": {
        "id": "zVtqOmjEUleP"
      },
      "source": [
        "## 플롯 요소 스케일링\n",
        "\n",
        "별도의 매개 변수 세트는 플롯 요소의 스케일을 제어하므로 동일한 코드를 사용하여 더 크거나 더 작은 플롯이 적합한 설정에서 사용하기에 적합한 플롯을 만들 수 있습니다.\n",
        "\n",
        "먼저 다음을 호출하여 기본 매개 변수를 재설정하겠습니다 set_theme()."
      ]
    },
    {
      "cell_type": "code",
      "metadata": {
        "id": "GDA0hFyxUq1H"
      },
      "source": [
        "sns.set_theme()"
      ],
      "execution_count": 25,
      "outputs": []
    },
    {
      "cell_type": "markdown",
      "metadata": {
        "id": "bP9dOPxcUt9X"
      },
      "source": [
        "네 소정 컨텍스트 상대적 크기의 순서이다 paper, notebook, talk, 및 poster. notebook스타일은 기본이고, 위의 그래프에서 사용되었다."
      ]
    },
    {
      "cell_type": "code",
      "metadata": {
        "id": "J6wc1ch0UvHn"
      },
      "source": [
        "sns.set_context(\"paper\")\n",
        "sinplot()"
      ],
      "execution_count": null,
      "outputs": []
    },
    {
      "cell_type": "code",
      "metadata": {
        "id": "atbYdI0lU0Ev"
      },
      "source": [
        "sns.set_context(\"talk\")\n",
        "sinplot()"
      ],
      "execution_count": null,
      "outputs": []
    },
    {
      "cell_type": "code",
      "metadata": {
        "id": "0aa8FgZCU6cR"
      },
      "source": [
        "sns.set_context(\"poster\")\n",
        "sinplot()"
      ],
      "execution_count": null,
      "outputs": []
    },
    {
      "cell_type": "markdown",
      "metadata": {
        "id": "Cy07wKczU_nI"
      },
      "source": [
        "스타일 함수에 대해 지금 알고있는 대부분의 내용은 컨텍스트 함수로 전달되어야합니다.\n",
        "\n",
        "set_context()이러한 이름 중 하나로 호출 하여 매개 변수를 설정할 수 있으며 매개 변수 값 사전을 제공하여 매개 변수를 대체 할 수 있습니다.\n",
        "\n",
        "컨텍스트를 변경할 때 글꼴 요소의 크기를 독립적으로 조정할 수도 있습니다. (이 옵션은 최상위 set()기능 을 통해서도 사용할 수 있습니다 .)"
      ]
    },
    {
      "cell_type": "code",
      "metadata": {
        "id": "za6sMB_QVBor"
      },
      "source": [
        "sns.set_context(\"notebook\", font_scale=1.5, rc={\"lines.linewidth\": 2.5})\n",
        "sinplot()"
      ],
      "execution_count": null,
      "outputs": []
    },
    {
      "cell_type": "markdown",
      "metadata": {
        "id": "6nTzdxQCVQUY"
      },
      "source": [
        "마찬가지로 with명령문 아래에 중첩 된 그림의 배율을 일시적으로 제어 할 수 있습니다 .\n",
        "\n",
        "스타일과 컨텍스트 모두 set()기능 으로 빠르게 구성 할 수 있습니다 . 이 함수는 또한 기본 색상 팔레트를 설정하지만 자습서 의 다음 섹션 에서 자세히 설명 합니다."
      ]
    }
  ]
}