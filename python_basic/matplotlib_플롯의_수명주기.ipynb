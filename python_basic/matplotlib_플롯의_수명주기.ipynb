{
  "nbformat": 4,
  "nbformat_minor": 0,
  "metadata": {
    "colab": {
      "name": "matplotlib 플롯의 수명주기.ipynb",
      "provenance": [],
      "authorship_tag": "ABX9TyMmM0IR/3QPbp6qQGH7wPLn",
      "include_colab_link": true
    },
    "kernelspec": {
      "name": "python3",
      "display_name": "Python 3"
    }
  },
  "cells": [
    {
      "cell_type": "markdown",
      "metadata": {
        "id": "view-in-github",
        "colab_type": "text"
      },
      "source": [
        "<a href=\"https://colab.research.google.com/github/ParkSeonungHun/Hun/blob/main/python_basic/matplotlib_%ED%94%8C%EB%A1%AF%EC%9D%98_%EC%88%98%EB%AA%85%EC%A3%BC%EA%B8%B0.ipynb\" target=\"_parent\"><img src=\"https://colab.research.google.com/assets/colab-badge.svg\" alt=\"Open In Colab\"/></a>"
      ]
    },
    {
      "cell_type": "markdown",
      "metadata": {
        "id": "tLfWL3Cn1WhA"
      },
      "source": [
        "# 플롯의 수명주기\n",
        "\n",
        "이 튜토리얼은 Matplotlib를 사용하여 단일 시각화의 시작, 중간 및 끝을 표시하는 것을 목표로합니다. 원시 데이터로 시작하여 사용자 지정된 시각화 그림을 저장하여 끝낼 것입니다. 그 과정에서 Matplotlib를 사용하여 몇 가지 깔끔한 기능과 모범 사례를 강조하려고합니다."
      ]
    },
    {
      "cell_type": "markdown",
      "metadata": {
        "id": "B-Xh6kuk1aNa"
      },
      "source": [
        "노트\n",
        "\n",
        "이 튜토리얼은 Chris Moffitt의 훌륭한 블로그 게시물 을 기반으로 합니다 . Chris Holdgraf가이 튜토리얼로 변형했습니다."
      ]
    },
    {
      "cell_type": "markdown",
      "metadata": {
        "id": "-Lx9JvHt1a_v"
      },
      "source": [
        "## 객체 지향 API 대 Pyplot에 대한 참고 사항\n",
        "\n",
        "Matplotlib에는 두 개의 인터페이스가 있습니다. 첫 번째는 객체 지향 (OO) 인터페이스입니다. 이 경우의 인스턴스 axes.Axes 에서 시각화를 렌더링하기 위해의 인스턴스를 사용 figure.Figure합니다.\n",
        "\n",
        "두 번째는 MATLAB을 기반으로하며 상태 기반 인터페이스를 사용합니다. 이것은 pyplot모듈에 캡슐화됩니다 . pyplot 인터페이스에 대한 자세한 내용은 pyplot 튜토리얼 을 참조하십시오 .\n",
        "\n",
        "대부분의 용어는 간단하지만 기억해야 할 주요 사항은 다음과 같습니다.\n",
        "\n",
        "1. Figure는 하나 이상의 축을 포함 할 수있는 최종 이미지입니다.\n",
        "2. 축은 개별 플롯을 나타냅니다 (플롯의 x / y 축을 나타내는 \"축\"이라는 단어와 혼동하지 마십시오).\n",
        "Axes에서 직접 플로팅을 수행하는 메서드를 호출하여 플롯을 사용자 정의 할 때 훨씬 더 많은 유연성과 성능을 제공합니다."
      ]
    },
    {
      "cell_type": "markdown",
      "metadata": {
        "id": "rdN3DIsk1kLr"
      },
      "source": [
        "노트\n",
        "\n",
        "일반적으로 pyplot 인터페이스를 통해 객체 지향 인터페이스를 사용하십시오."
      ]
    },
    {
      "cell_type": "markdown",
      "metadata": {
        "id": "6-8N47Pi1lLr"
      },
      "source": [
        "## 우리의 데이터\n",
        "\n",
        "이 자습서가 파생 된 게시물의 데이터를 사용합니다. 여기에는 여러 회사의 판매 정보가 포함되어 있습니다."
      ]
    },
    {
      "cell_type": "code",
      "metadata": {
        "id": "mvfJODJ81oBI"
      },
      "source": [
        "import numpy as np\n",
        "import matplotlib.pyplot as plt\n",
        "\n",
        "\n",
        "data = {'Barton LLC': 109438.50,\n",
        "        'Frami, Hills and Schmidt': 103569.59,\n",
        "        'Fritsch, Russel and Anderson': 112214.71,\n",
        "        'Jerde-Hilpert': 112591.43,\n",
        "        'Keeling LLC': 100934.30,\n",
        "        'Koepp Ltd': 103660.54,\n",
        "        'Kulas Inc': 137351.96,\n",
        "        'Trantow-Barrows': 123381.38,\n",
        "        'White-Trantow': 135841.99,\n",
        "        'Will LLC': 104437.60}\n",
        "group_data = list(data.values())\n",
        "group_names = list(data.keys())\n",
        "group_mean = np.mean(group_data)"
      ],
      "execution_count": 1,
      "outputs": []
    },
    {
      "cell_type": "markdown",
      "metadata": {
        "id": "1auGzPMD1rxu"
      },
      "source": [
        "## 시작하기\n",
        "\n",
        "이 데이터는 자연스럽게 그룹당 하나의 막대가있는 막대 그래프로 시각화됩니다. 객체 지향 접근 방식으로이를 수행하기 위해 먼저 figure.Figure및 의 인스턴스를 생성합니다 axes.Axes. Figure는 캔버스와 같고 Axes는 특정 시각화를 만들 캔버스의 일부입니다."
      ]
    },
    {
      "cell_type": "markdown",
      "metadata": {
        "id": "5Tn3i2d91tfL"
      },
      "source": [
        "노트\n",
        "\n",
        "그림에는 여러 축이있을 수 있습니다. 이를 수행하는 방법에 대한 정보는 타이트 레이아웃 튜토리얼을 참조하십시오 ."
      ]
    },
    {
      "cell_type": "code",
      "metadata": {
        "id": "NGdqGYk11un0"
      },
      "source": [
        "fig, ax = plt.subplots()"
      ],
      "execution_count": null,
      "outputs": []
    },
    {
      "cell_type": "markdown",
      "metadata": {
        "id": "eu_5ltqP1wUC"
      },
      "source": [
        "이제 Axes 인스턴스가 있으므로 그 위에 플로팅 할 수 있습니다."
      ]
    },
    {
      "cell_type": "code",
      "metadata": {
        "id": "_W7mURib1xHg"
      },
      "source": [
        "fig, ax = plt.subplots()\n",
        "ax.barh(group_names, group_data)"
      ],
      "execution_count": null,
      "outputs": []
    },
    {
      "cell_type": "markdown",
      "metadata": {
        "id": "ARRqzYwc1zPY"
      },
      "source": [
        "## 스타일 제어하기\n",
        "\n",
        "시각화를 필요에 맞게 조정할 수 있도록 Matplotlib에서 사용할 수있는 많은 스타일이 있습니다. 스타일 목록을 보려면 style."
      ]
    },
    {
      "cell_type": "code",
      "metadata": {
        "id": "OTNhO45511JJ"
      },
      "source": [
        "print(plt.style.available)"
      ],
      "execution_count": null,
      "outputs": []
    },
    {
      "cell_type": "markdown",
      "metadata": {
        "id": "f-Lzx2wk126L"
      },
      "source": [
        "다음을 사용하여 스타일을 활성화 할 수 있습니다."
      ]
    },
    {
      "cell_type": "code",
      "metadata": {
        "id": "8xrfYwpi13mS"
      },
      "source": [
        "plt.style.use('fivethirtyeight')"
      ],
      "execution_count": 5,
      "outputs": []
    },
    {
      "cell_type": "markdown",
      "metadata": {
        "id": "3_JjAJd815Rj"
      },
      "source": [
        "이제 어떻게 보이는지보기 위해 위의 플롯을 다시 만들어 보겠습니다"
      ]
    },
    {
      "cell_type": "code",
      "metadata": {
        "id": "Z_95fvav16Wo"
      },
      "source": [
        "fig, ax = plt.subplots()\n",
        "ax.barh(group_names, group_data)"
      ],
      "execution_count": null,
      "outputs": []
    },
    {
      "cell_type": "markdown",
      "metadata": {
        "id": "6Xc2Ld5l19kJ"
      },
      "source": [
        "스타일은 색상, 선폭, 배경 등과 같은 많은 것을 제어합니다."
      ]
    },
    {
      "cell_type": "markdown",
      "metadata": {
        "id": "RCHc5a6K1-sp"
      },
      "source": [
        "## 플롯 사용자 지정\n",
        "\n",
        "이제 우리가 원하는 일반적인 모양의 플롯을 얻었으므로 인쇄 할 준비가되도록 미세 조정하겠습니다. 먼저 레이블이 더 명확하게 표시되도록 x 축에서 레이블을 회전 해 보겠습니다. 다음 axes.Axes.get_xticklabels()방법 으로 이러한 레이블에 액세스 할 수 있습니다 ."
      ]
    },
    {
      "cell_type": "code",
      "metadata": {
        "id": "y5g1tbVh2Ae6"
      },
      "source": [
        "fig, ax = plt.subplots()\n",
        "ax.barh(group_names, group_data)\n",
        "labels = ax.get_xticklabels()"
      ],
      "execution_count": null,
      "outputs": []
    },
    {
      "cell_type": "markdown",
      "metadata": {
        "id": "OaXKxKce2Ddr"
      },
      "source": [
        "한 번에 많은 항목의 속성을 설정하고 싶다면 pyplot.setp()기능 을 사용하는 것이 유용 합니다. 이것은 Matplotlib 객체의 목록 (또는 많은 목록)을 취하고 각각의 스타일 요소를 설정하려고 시도합니다."
      ]
    },
    {
      "cell_type": "code",
      "metadata": {
        "id": "eGvXdtSP2EN5"
      },
      "source": [
        "fig, ax = plt.subplots()\n",
        "ax.barh(group_names, group_data)\n",
        "labels = ax.get_xticklabels()\n",
        "plt.setp(labels, rotation=45, horizontalalignment='right')"
      ],
      "execution_count": null,
      "outputs": []
    },
    {
      "cell_type": "markdown",
      "metadata": {
        "id": "1xkMP-xy2K2g"
      },
      "source": [
        "이렇게하면 바닥에있는 일부 레이블이 잘린 것 같습니다. Matplotlib에 우리가 만든 그림의 요소를위한 공간을 자동으로 만들도록 지시 할 수 있습니다. 이를 위해 autolayoutrcParams 의 값을 설정합니다 . rcParams를 사용하여 플롯의 스타일, 레이아웃 및 기타 기능을 제어하는 ​​방법에 대한 자세한 내용은 스타일 시트 및 rcParams로 Matplotlib 사용자 정의를 참조하십시오 ."
      ]
    },
    {
      "cell_type": "code",
      "metadata": {
        "id": "B1ML40wG2Ls7"
      },
      "source": [
        "plt.rcParams.update({'figure.autolayout': True})\n",
        "\n",
        "fig, ax = plt.subplots()\n",
        "ax.barh(group_names, group_data)\n",
        "labels = ax.get_xticklabels()\n",
        "plt.setp(labels, rotation=45, horizontalalignment='right')"
      ],
      "execution_count": null,
      "outputs": []
    },
    {
      "cell_type": "markdown",
      "metadata": {
        "id": "Q08L-J8h2O0e"
      },
      "source": [
        "다음으로 플롯에 레이블을 추가합니다. OO 인터페이스로이를 수행하기 위해 Artist.set()메서드를 사용 하여이 Axes 객체의 속성을 설정할 수 있습니다 ."
      ]
    },
    {
      "cell_type": "code",
      "metadata": {
        "id": "WlnYLQNQ2QDB"
      },
      "source": [
        "fig, ax = plt.subplots()\n",
        "ax.barh(group_names, group_data)\n",
        "labels = ax.get_xticklabels()\n",
        "plt.setp(labels, rotation=45, horizontalalignment='right')\n",
        "ax.set(xlim=[-10000, 140000], xlabel='Total Revenue', ylabel='Company',\n",
        "       title='Company Revenue')"
      ],
      "execution_count": null,
      "outputs": []
    },
    {
      "cell_type": "markdown",
      "metadata": {
        "id": "roLsAU7b2UpD"
      },
      "source": [
        "pyplot.subplots() 함수를 사용하여이 플롯의 크기를 조정할 수도 있습니다. 우리는 figsizekwarg로 이것을 할 수 있습니다 ."
      ]
    },
    {
      "cell_type": "markdown",
      "metadata": {
        "id": "Cj2_Cq-22Vcz"
      },
      "source": [
        "노트\n",
        "\n",
        "NumPy의 인덱싱은 형식 (행, 열)을 따르지만 figsize kwarg는 형식 (너비, 높이)을 따릅니다. 이것은 시각화의 관습을 따르며, 불행히도 선형 대수의 관습과 다릅니다."
      ]
    },
    {
      "cell_type": "code",
      "metadata": {
        "id": "d9DXx0eA2Wqn"
      },
      "source": [
        "fig, ax = plt.subplots(figsize=(8, 4))\n",
        "ax.barh(group_names, group_data)\n",
        "labels = ax.get_xticklabels()\n",
        "plt.setp(labels, rotation=45, horizontalalignment='right')\n",
        "ax.set(xlim=[-10000, 140000], xlabel='Total Revenue', ylabel='Company',\n",
        "       title='Company Revenue')"
      ],
      "execution_count": null,
      "outputs": []
    },
    {
      "cell_type": "markdown",
      "metadata": {
        "id": "hanGO3hf2ZET"
      },
      "source": [
        "레이블의 경우 함수 형식으로 사용자 지정 형식 지정 지침을 지정할 수 있습니다. 아래에서는 정수를 입력으로 받고 문자열을 출력으로 반환하는 함수를 정의합니다. 와 함께 사용하는 경우 Axis.set_major_formatter또는 Axis.set_minor_formatter, 그들은 자동으로 생성하고 사용하는 ticker.FuncFormatter클래스를.\n",
        "\n",
        "이 함수의 경우 x인수는 원래 눈금 레이블이고 pos 눈금 위치입니다. x여기서 만 사용 하지만 두 인수가 모두 필요합니다."
      ]
    },
    {
      "cell_type": "code",
      "metadata": {
        "id": "UnEcD1eX2aIC"
      },
      "source": [
        "def currency(x, pos):\n",
        "    \"\"\"The two args are the value and tick position\"\"\"\n",
        "    if x >= 1e6:\n",
        "        s = '${:1.1f}M'.format(x*1e-6)\n",
        "    else:\n",
        "        s = '${:1.0f}K'.format(x*1e-3)\n",
        "    return s"
      ],
      "execution_count": 13,
      "outputs": []
    },
    {
      "cell_type": "markdown",
      "metadata": {
        "id": "B9msdgsX2b61"
      },
      "source": [
        "그런 다음이 함수를 플롯의 레이블에 적용 할 수 있습니다. 이를 위해 xaxis축의 속성을 사용합니다 . 이를 통해 플롯의 특정 축에서 작업을 수행 할 수 있습니다."
      ]
    },
    {
      "cell_type": "code",
      "metadata": {
        "id": "kvDhpe8Y2c8a"
      },
      "source": [
        "fig, ax = plt.subplots(figsize=(6, 8))\n",
        "ax.barh(group_names, group_data)\n",
        "labels = ax.get_xticklabels()\n",
        "plt.setp(labels, rotation=45, horizontalalignment='right')\n",
        "\n",
        "ax.set(xlim=[-10000, 140000], xlabel='Total Revenue', ylabel='Company',\n",
        "       title='Company Revenue')\n",
        "ax.xaxis.set_major_formatter(currency)"
      ],
      "execution_count": null,
      "outputs": []
    },
    {
      "cell_type": "markdown",
      "metadata": {
        "id": "6RBrUfig2n0E"
      },
      "source": [
        "## 여러 시각화 결합\n",
        "\n",
        "의 동일한 인스턴스에 여러 플롯 요소를 그릴 수 axes.Axes있습니다. 이렇게하려면 해당 axes 객체에 대한 플롯 메서드 중 하나를 호출하면됩니다."
      ]
    },
    {
      "cell_type": "code",
      "metadata": {
        "id": "nL6PgxKm2qSE"
      },
      "source": [
        "fig, ax = plt.subplots(figsize=(8, 8))\n",
        "ax.barh(group_names, group_data)\n",
        "labels = ax.get_xticklabels()\n",
        "plt.setp(labels, rotation=45, horizontalalignment='right')\n",
        "\n",
        "# Add a vertical line, here we set the style in the function call\n",
        "ax.axvline(group_mean, ls='--', color='r')\n",
        "\n",
        "# Annotate new companies\n",
        "for group in [3, 5, 8]:\n",
        "    ax.text(145000, group, \"New Company\", fontsize=10,\n",
        "            verticalalignment=\"center\")\n",
        "\n",
        "# Now we move our title up since it's getting a little cramped\n",
        "ax.title.set(y=1.05)\n",
        "\n",
        "ax.set(xlim=[-10000, 140000], xlabel='Total Revenue', ylabel='Company',\n",
        "       title='Company Revenue')\n",
        "ax.xaxis.set_major_formatter(currency)\n",
        "ax.set_xticks([0, 25e3, 50e3, 75e3, 100e3, 125e3])\n",
        "fig.subplots_adjust(right=.1)\n",
        "\n",
        "plt.show()"
      ],
      "execution_count": null,
      "outputs": []
    },
    {
      "cell_type": "markdown",
      "metadata": {
        "id": "0pAX7o412uKd"
      },
      "source": [
        "## 플롯 저장하기\n",
        "\n",
        "이제 플롯의 결과에 만족하므로이를 디스크에 저장하려고합니다. Matplotlib에 저장할 수있는 많은 파일 형식이 있습니다. 사용 가능한 옵션 목록을 보려면 다음을 사용하십시오."
      ]
    },
    {
      "cell_type": "code",
      "metadata": {
        "id": "qyWEJMx82vpe"
      },
      "source": [
        "print(fig.canvas.get_supported_filetypes())"
      ],
      "execution_count": null,
      "outputs": []
    },
    {
      "cell_type": "markdown",
      "metadata": {
        "id": "MQzIHdY02zC_"
      },
      "source": [
        "그런 다음 figure.Figure.savefig()그림을 디스크에 저장하기 위해를 사용할 수 있습니다 . 아래에 몇 가지 유용한 플래그가 있습니다.\n",
        "\n",
        "1. transparent=True 형식이 지원하는 경우 저장된 Figure의 배경을 투명하게 만듭니다.\n",
        "2. dpi=80 출력의 해상도 (제곱 인치당 도트 수)를 제어합니다.\n",
        "3. bbox_inches=\"tight\" 그림의 경계를 플롯에 맞 춥니 다."
      ]
    },
    {
      "cell_type": "code",
      "metadata": {
        "id": "LE2yatXG24X1"
      },
      "source": [
        "# Uncomment this line to save the figure.\n",
        "# fig.savefig('sales.png', transparent=False, dpi=80, bbox_inches=\"tight\")"
      ],
      "execution_count": 19,
      "outputs": []
    }
  ]
}