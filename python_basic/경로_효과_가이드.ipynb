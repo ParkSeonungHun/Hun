{
  "nbformat": 4,
  "nbformat_minor": 0,
  "metadata": {
    "colab": {
      "name": "경로 효과 가이드.ipynb",
      "provenance": [],
      "authorship_tag": "ABX9TyPdyMvU04zmW6bpGQr4qvjA",
      "include_colab_link": true
    },
    "kernelspec": {
      "name": "python3",
      "display_name": "Python 3"
    }
  },
  "cells": [
    {
      "cell_type": "markdown",
      "metadata": {
        "id": "view-in-github",
        "colab_type": "text"
      },
      "source": [
        "<a href=\"https://colab.research.google.com/github/ParkSeonungHun/Hun/blob/main/python_basic/%EA%B2%BD%EB%A1%9C_%ED%9A%A8%EA%B3%BC_%EA%B0%80%EC%9D%B4%EB%93%9C.ipynb\" target=\"_parent\"><img src=\"https://colab.research.google.com/assets/colab-badge.svg\" alt=\"Open In Colab\"/></a>"
      ]
    },
    {
      "cell_type": "markdown",
      "metadata": {
        "id": "vvmcxXmAxASu"
      },
      "source": [
        "# 경로 효과 가이드\n",
        "\n",
        "캔버스에서 개체가 따르는 경로를 정의합니다.\n",
        "\n",
        "Matplotlib의 patheffects모듈은 .NET Framework 를 통해 렌더링 할 수있는 모든 아티스트에게 다중 그리기 단계를 적용하는 기능을 제공합니다 path.Path.\n",
        "\n",
        "그들에게 적용되는 경로 영향을 미칠 수있는 예술가 등 patches.Patch, lines.Line2D, collections.Collection심지어 text.Text. 각 아티스트의 경로 효과 Artist.set_path_effects는 반복 가능한 AbstractPathEffect인스턴스 를 사용하는 메서드 를 통해 제어 할 수 있습니다 .\n",
        "\n",
        "가장 간단한 경로 효과는 효과로, Normal효과없이 단순히 아티스트를 그립니다."
      ]
    },
    {
      "cell_type": "code",
      "metadata": {
        "id": "dWx_8sRcxDOh"
      },
      "source": [
        "import matplotlib.pyplot as plt\n",
        "import matplotlib.patheffects as path_effects\n",
        "\n",
        "fig = plt.figure(figsize=(5, 1.5))\n",
        "text = fig.text(0.5, 0.5, 'Hello path effects world!\\nThis is the normal '\n",
        "                          'path effect.\\nPretty dull, huh?',\n",
        "                ha='center', va='center', size=20)\n",
        "text.set_path_effects([path_effects.Normal()])\n",
        "plt.show()"
      ],
      "execution_count": null,
      "outputs": []
    },
    {
      "cell_type": "markdown",
      "metadata": {
        "id": "Lyr-4APyxHAf"
      },
      "source": [
        "플롯이 경로 효과없이 예상되는 것과 다르게 보이지는 않지만 이제 텍스트 그리기가 경로 효과 프레임 워크를 사용하도록 변경되어 더 흥미로운 예제의 가능성이 열립니다."
      ]
    },
    {
      "cell_type": "markdown",
      "metadata": {
        "id": "sdoA33aAxH6o"
      },
      "source": [
        "## 그림자 추가하기\n",
        "\n",
        "Normal경로 기반 아티스트에게 적용 할 수있는 드롭 섀도우 보다 훨씬 더 흥미로운 경로 효과 입니다. 클래스 SimplePatchShadow 와 SimpleLineShadow어떻게 정확하게이 채워진 패치 또는 원래 아티스트 아래 라인 패치 중 하나를 그려서 :"
      ]
    },
    {
      "cell_type": "code",
      "metadata": {
        "id": "n-i8e365xJxY"
      },
      "source": [
        "import matplotlib.patheffects as path_effects\n",
        "\n",
        "text = plt.text(0.5, 0.5, 'Hello path effects world!',\n",
        "                path_effects=[path_effects.withSimplePatchShadow()])\n",
        "\n",
        "plt.plot([0, 3, 2, 5], linewidth=5, color='blue',\n",
        "         path_effects=[path_effects.SimpleLineShadow(),\n",
        "                       path_effects.Normal()])\n",
        "plt.show()"
      ],
      "execution_count": null,
      "outputs": []
    },
    {
      "cell_type": "markdown",
      "metadata": {
        "id": "HqAzqfTqxMMA"
      },
      "source": [
        "이 예제에서 경로 효과를 설정하는 두 가지 방법에 주목하십시오. 첫 번째는 with*클래스를 사용하여 \"일반\"효과와 함께 원하는 기능을 자동으로 포함하는 반면 후자는 그릴 두 경로 효과를 명시 적으로 정의합니다."
      ]
    },
    {
      "cell_type": "markdown",
      "metadata": {
        "id": "LRLr3sRixM-e"
      },
      "source": [
        "## 아티스트를 돋보이게 만들기\n",
        "\n",
        "아티스트를 시각적으로 돋보이게 만드는 한 가지 좋은 방법은 실제 아티스트 아래에 굵은 색으로 윤곽선을 그리는 것입니다. Stroke경로의 영향이 상대적으로 간단한 작업합니다 :"
      ]
    },
    {
      "cell_type": "code",
      "metadata": {
        "id": "gNlN8IOnxPdE"
      },
      "source": [
        "fig = plt.figure(figsize=(7, 1))\n",
        "text = fig.text(0.5, 0.5, 'This text stands out because of\\n'\n",
        "                          'its black border.', color='white',\n",
        "                          ha='center', va='center', size=30)\n",
        "text.set_path_effects([path_effects.Stroke(linewidth=3, foreground='black'),\n",
        "                       path_effects.Normal()])\n",
        "plt.show()"
      ],
      "execution_count": null,
      "outputs": []
    },
    {
      "cell_type": "markdown",
      "metadata": {
        "id": "7_QKEn9CxRbc"
      },
      "source": [
        "이 효과는 텍스트 경로를 두 번 그렸기 때문에 작동한다는 점에 유의해야합니다. 한 번은 굵은 검은 색 선이 있고 한 번은 원래 텍스트 경로가 맨 위에 있습니다.\n",
        "\n",
        "당신의 키워드 것을 눈치 챘을 수도 Stroke와 SimplePatchShadow 그리고 SimpleLineShadow보통 아티스트 키워드 (없는 facecolor의 edgecolor 등). 이는 이러한 경로 효과를 사용하여 Matplotlib의 하위 수준에서 작동하기 때문입니다. 실제로 허용되는 키워드 matplotlib.backend_bases.GraphicsContextBase는 사용자 인터페이스가 아닌 새 백엔드를 쉽게 만들 수 있도록 설계된 인스턴스 용 키워드입니다 ."
      ]
    },
    {
      "cell_type": "markdown",
      "metadata": {
        "id": "1I7BWHwQxSVo"
      },
      "source": [
        "## 경로 이펙트 아티스트의 제어 강화\n",
        "\n",
        "이미 언급했듯이 일부 경로 효과는 대부분의 사용자가 익숙한 수준보다 낮은 수준에서 작동하므로 facecolor 및 edgecolor 와 같은 키워드를 설정 하면 AttributeError가 발생합니다. 다행히 원래 경로 PathPatchEffect로 patches.PathPatch클래스 를 만드는 일반적인 경로 효과가 있습니다. 이 효과에 대한 키워드는 다음의 키워드와 동일합니다 patches.PathPatch."
      ]
    },
    {
      "cell_type": "code",
      "metadata": {
        "id": "TShkSz7kxVbO"
      },
      "source": [
        "fig = plt.figure(figsize=(8, 1))\n",
        "t = fig.text(0.02, 0.5, 'Hatch shadow', fontsize=75, weight=1000, va='center')\n",
        "t.set_path_effects([\n",
        "    path_effects.PathPatchEffect(\n",
        "        offset=(4, -4), hatch='xxxx', facecolor='gray'),\n",
        "    path_effects.PathPatchEffect(\n",
        "        edgecolor='white', linewidth=1.1, facecolor='black')])\n",
        "plt.show()"
      ],
      "execution_count": null,
      "outputs": []
    }
  ]
}