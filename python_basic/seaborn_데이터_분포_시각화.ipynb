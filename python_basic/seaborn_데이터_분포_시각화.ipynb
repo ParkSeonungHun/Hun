{
  "nbformat": 4,
  "nbformat_minor": 0,
  "metadata": {
    "colab": {
      "name": "seaborn 데이터 분포 시각화.ipynb",
      "provenance": [],
      "toc_visible": true,
      "authorship_tag": "ABX9TyOh1b1mbXPw5oqQDa64Wr8W",
      "include_colab_link": true
    },
    "kernelspec": {
      "name": "python3",
      "display_name": "Python 3"
    }
  },
  "cells": [
    {
      "cell_type": "markdown",
      "metadata": {
        "id": "view-in-github",
        "colab_type": "text"
      },
      "source": [
        "<a href=\"https://colab.research.google.com/github/ParkSeonungHun/Hun/blob/main/python_basic/seaborn_%EB%8D%B0%EC%9D%B4%ED%84%B0_%EB%B6%84%ED%8F%AC_%EC%8B%9C%EA%B0%81%ED%99%94.ipynb\" target=\"_parent\"><img src=\"https://colab.research.google.com/assets/colab-badge.svg\" alt=\"Open In Colab\"/></a>"
      ]
    },
    {
      "cell_type": "code",
      "metadata": {
        "id": "RwcZqM6wVjHo"
      },
      "source": [
        "import numpy as np\n",
        "import pandas as pd\n",
        "import matplotlib.pyplot as plt\n",
        "import seaborn as sns\n",
        "sns.set_theme(style=\"darkgrid\")\n"
      ],
      "execution_count": null,
      "outputs": []
    },
    {
      "cell_type": "markdown",
      "metadata": {
        "id": "U3SvHEbmVwi-"
      },
      "source": [
        "# 데이터 분포 시각화\n",
        "\n",
        "데이터를 분석하거나 모델링하려는 모든 노력의 초기 단계는 변수가 어떻게 분포되어 있는지 이해하는 것입니다. 분포 시각화 기술은 많은 중요한 질문에 대한 빠른 답변을 제공 할 수 있습니다. 관찰 범위는 어느 정도입니까? 그들의 중심 경향은 무엇입니까? 한 방향으로 심하게 기울어 져 있습니까? 이중 모드에 대한 증거가 있습니까? 중요한 이상 값이 있습니까? 이러한 질문에 대한 답은 다른 변수로 정의 된 부분 집합에 따라 다릅니 까?\n",
        "\n",
        "분포 모듈은 이와 같은 질문에 대답하기위한 몇 가지 기능이 포함되어 있습니다. 축은 레벨 함수는 histplot(), kdeplot(), ecdfplot(), 및 rugplot(). 이들은 figure-level displot(), : func`jointplot` 및 pairplot()함수 내에서 함께 그룹화됩니다 .\n",
        "\n",
        "분포를 시각화하는 방법에는 여러 가지가 있으며 각각에는 상대적인 장점과 단점이 있습니다. 특정 목표에 가장 적합한 접근 방식을 선택할 수 있도록 이러한 요소를 이해하는 것이 중요합니다.\n",
        "\n"
      ]
    },
    {
      "cell_type": "markdown",
      "metadata": {
        "id": "n-VzqxNMV2dm"
      },
      "source": [
        "## 일 변량 히스토그램 플로팅하기\n",
        "\n",
        "분포를 시각화하는 가장 일반적인 방법은 히스토그램 일 것 입니다. 이것은 displot().NET과 동일한 기본 코드를 사용하는 의 기본 접근 방식입니다 histplot(). 히스토그램은 데이터 변수를 나타내는 축이 불연속 빈 집합으로 나뉘고 각 빈에 속하는 관측치 수가 해당 막대의 높이를 사용하여 표시되는 막대 플롯입니다."
      ]
    },
    {
      "cell_type": "code",
      "metadata": {
        "id": "DUuucwqEV5iu"
      },
      "source": [
        "penguins = sns.load_dataset(\"penguins\")\n",
        "sns.displot(penguins, x=\"flipper_length_mm\");"
      ],
      "execution_count": null,
      "outputs": []
    },
    {
      "cell_type": "markdown",
      "metadata": {
        "id": "S1aCC5P-WIqG"
      },
      "source": [
        "이 플롯은 즉시 flipper_length_mm변수 에 대한 몇 가지 통찰력을 제공 합니다. 예를 들어 가장 일반적인 플리퍼 길이는 약 195mm이지만 분포는 바이 모달로 표시되므로이 숫자는 데이터를 잘 나타내지 않습니다."
      ]
    },
    {
      "cell_type": "markdown",
      "metadata": {
        "id": "a_mhr2x_WKtu"
      },
      "source": [
        "## 빈 크기 선택\n",
        "\n",
        "빈의 크기는 중요한 매개 변수이며 잘못된 빈 크기를 사용하면 데이터의 중요한 특징을 모호하게하거나 임의의 가변성에서 명백한 특징을 생성하여 오해 할 수 있습니다. 기본적으로 displot()/ histplot()데이터의 분산과 관측치 수에 따라 기본 빈 크기를 선택합니다. 그러나 이러한 자동 접근 방식은 데이터 구조에 대한 특정 가정에 의존하기 때문에 지나치게 의존해서는 안됩니다. 분포의 노출이 다양한 빈 크기에서 일관 적인지 항상 확인하는 것이 좋습니다. 크기를 직접 선택하려면 binwidth 매개 변수를 설정하십시오 ."
      ]
    },
    {
      "cell_type": "code",
      "metadata": {
        "id": "yoIjxoI5WNWH"
      },
      "source": [
        "sns.displot(penguins, x=\"flipper_length_mm\", binwidth=3);"
      ],
      "execution_count": null,
      "outputs": []
    },
    {
      "cell_type": "markdown",
      "metadata": {
        "id": "816eAfy-WV02"
      },
      "source": [
        "다른 상황에서는 크기보다 빈 수 를 지정하는 것이 더 합리적 일 수 있습니다 ."
      ]
    },
    {
      "cell_type": "code",
      "metadata": {
        "id": "sGF7O9KIWWrH"
      },
      "source": [
        "sns.displot(penguins, x=\"flipper_length_mm\", bins=20);"
      ],
      "execution_count": null,
      "outputs": []
    },
    {
      "cell_type": "markdown",
      "metadata": {
        "id": "DBjjml6HWecG"
      },
      "source": [
        "기본값이 실패하는 상황의 한 예는 변수가 상대적으로 적은 수의 정수 값을 사용하는 경우입니다. 이 경우 기본 빈 너비가 너무 작아 분포에 어색한 간격이 생길 수 있습니다."
      ]
    },
    {
      "cell_type": "code",
      "metadata": {
        "id": "f15GhH6pWfSe"
      },
      "source": [
        "tips = sns.load_dataset(\"tips\")\n",
        "sns.displot(tips, x=\"size\");"
      ],
      "execution_count": null,
      "outputs": []
    },
    {
      "cell_type": "markdown",
      "metadata": {
        "id": "Z8jy-LYvWnF5"
      },
      "source": [
        "한 가지 방법은 배열을 bins다음 위치 에 전달하여 정확한 빈 나누기를 지정하는 것입니다 ."
      ]
    },
    {
      "cell_type": "code",
      "metadata": {
        "id": "8f_WMZBlWoGn"
      },
      "source": [
        "sns.displot(tips, x=\"size\", bins=[1,2,3,4,5,6,7]);"
      ],
      "execution_count": null,
      "outputs": []
    },
    {
      "cell_type": "markdown",
      "metadata": {
        "id": "uxzYAf5QWyFe"
      },
      "source": [
        "이는 discrete=True해당 값을 중심으로하는 막대가있는 데이터 세트의 고유 한 값을 나타내는 빈 나누기를 선택 하는을 설정하여 수행 할 수도 있습니다 ."
      ]
    },
    {
      "cell_type": "code",
      "metadata": {
        "id": "Zjq1FxeOWy7O"
      },
      "source": [
        "sns.displot(tips, x=\"size\", discrete=True);"
      ],
      "execution_count": null,
      "outputs": []
    },
    {
      "cell_type": "markdown",
      "metadata": {
        "id": "JOgujSdXW5XG"
      },
      "source": [
        "히스토그램 논리를 사용하여 범주 형 변수의 분포를 시각화 할 수도 있습니다. 이산 구간은 범주 형 변수에 대해 자동으로 설정되지만 축의 범주 적 특성을 강조하기 위해 막대를 약간 \"축소\"하는 것도 도움이 될 수 있습니다."
      ]
    },
    {
      "cell_type": "code",
      "metadata": {
        "id": "iaAjVr82W6vG"
      },
      "source": [
        "sns.displot(tips, x=\"day\", shrink=.8);"
      ],
      "execution_count": null,
      "outputs": []
    },
    {
      "cell_type": "markdown",
      "metadata": {
        "id": "P9a9aqrnXA73"
      },
      "source": [
        "## 다른 변수에 대한 컨디셔닝\n",
        "\n",
        "변수의 분포를 이해 한 후 다음 단계는 종종 해당 분포의 특징이 데이터 세트의 다른 변수와 다른지 묻는 것입니다. 예를 들어, 위에서 본 플리퍼 길이의 바이 모달 분포를 설명하는 것은 무엇입니까? displot()을 histplot()통해 조건부 하위 집합을 지원합니다. 각 고유 값에 대해 별도의 히스토그램을 그리고 색상별로 구분합니다.hue``semantic. Assigning a variable to ``hue"
      ]
    },
    {
      "cell_type": "code",
      "metadata": {
        "id": "K2LoXs7lXD-v"
      },
      "source": [
        "sns.displot(penguins, x=\"flipper_length_mm\", hue=\"species\");"
      ],
      "execution_count": null,
      "outputs": []
    },
    {
      "cell_type": "markdown",
      "metadata": {
        "id": "0gPibtkjXMOH"
      },
      "source": [
        "기본적으로 서로 다른 히스토그램은 서로 \"계층화\"되어 있으며 경우에 따라 구분하기 어려울 수 있습니다. 한 가지 옵션은 막대 플롯에서 \"단계\"플롯으로 히스토그램의 시각적 표현을 변경하는 것입니다."
      ]
    },
    {
      "cell_type": "code",
      "metadata": {
        "id": "F5I6YrSVXN0_"
      },
      "source": [
        "sns.displot(penguins, x=\"flipper_length_mm\", hue=\"species\", element=\"step\");"
      ],
      "execution_count": null,
      "outputs": []
    },
    {
      "cell_type": "markdown",
      "metadata": {
        "id": "_vP33j3VXYSe"
      },
      "source": [
        "또는 각 막대를 겹쳐 놓는 대신 \"스택\"하거나 수직으로 이동할 수 있습니다. 이 플롯에서 전체 히스토그램의 윤곽은 단일 변수 만있는 플롯과 일치합니다."
      ]
    },
    {
      "cell_type": "code",
      "metadata": {
        "id": "EcLKBE4aXbzG"
      },
      "source": [
        "sns.displot(penguins, x=\"flipper_length_mm\", hue=\"species\", multiple=\"stack\");"
      ],
      "execution_count": null,
      "outputs": []
    },
    {
      "cell_type": "markdown",
      "metadata": {
        "id": "7qYvKdu_XqSO"
      },
      "source": [
        "누적 히스토그램은 변수 간의 부분-전체 관계를 강조하지만 다른 기능을 가릴 수 있습니다 (예 : Adelie 분포의 모드를 결정하기가 어렵습니다. 또 다른 옵션은 막대를 가로로 이동하고 축소하는 막대를 \"피하다\")입니다. 이렇게하면 겹치는 부분이없고 막대가 높이 측면에서 비슷하게 유지됩니다. 그러나 범주 형 변수의 수준이 적은 경우에만 잘 작동합니다."
      ]
    },
    {
      "cell_type": "code",
      "metadata": {
        "id": "csXq1we0XsNX"
      },
      "source": [
        "sns.displot(penguins, x=\"flipper_length_mm\", hue=\"sex\", multiple=\"dodge\");"
      ],
      "execution_count": null,
      "outputs": []
    },
    {
      "cell_type": "markdown",
      "metadata": {
        "id": "HON5YXpyX2W3"
      },
      "source": [
        "displot()은 그림 수준 함수이고에 그려 지기 때문에 FacetGrid두 번째 변수를에 col또는 row대신 (또는 추가하여) 할당하여 별도의 서브 플롯에 각 개별 분포를 그릴 수도 있습니다 hue. 이것은 각 부분 집합의 분포를 잘 나타내지 만 직접 비교하기가 더 어렵습니다."
      ]
    },
    {
      "cell_type": "code",
      "metadata": {
        "id": "LdyTx68iX5An"
      },
      "source": [
        "sns.displot(penguins, x=\"flipper_length_mm\", col=\"sex\", multiple=\"dodge\");"
      ],
      "execution_count": null,
      "outputs": []
    },
    {
      "cell_type": "markdown",
      "metadata": {
        "id": "Iu6DZJPsYFU3"
      },
      "source": [
        "이러한 접근 방식 중 어느 것도 완벽하지 않으며 곧 비교 작업에 더 적합한 히스토그램에 대한 몇 가지 대안을 보게 될 것입니다.\n",
        "\n"
      ]
    },
    {
      "cell_type": "markdown",
      "metadata": {
        "id": "PJ8i_h7mYGoe"
      },
      "source": [
        "## 정규화 된 히스토그램 통계\n",
        "\n",
        "그 전에 주목해야 할 또 다른 점은 부분 집합의 관측치 수가 같지 않은 경우 개수 측면에서 분포를 비교하는 것이 이상적이지 않을 수 있다는 것입니다. 한 가지 해결책은 매개 변수를 사용하여 개수 를 정규화 하는 것입니다 stat."
      ]
    },
    {
      "cell_type": "code",
      "metadata": {
        "id": "oOZBB2PWYJcY"
      },
      "source": [
        "sns.displot(penguins, x=\"flipper_length_mm\", hue=\"species\", stat=\"density\");"
      ],
      "execution_count": null,
      "outputs": []
    },
    {
      "cell_type": "markdown",
      "metadata": {
        "id": "LToKuM0YYWMH"
      },
      "source": [
        "그러나 기본적으로 정규화는 전체 분포에 적용되므로 단순히 막대의 높이를 다시 조정합니다. 을 설정 common_norm=False하면 각 하위 집합이 독립적으로 정규화됩니다."
      ]
    },
    {
      "cell_type": "code",
      "metadata": {
        "id": "ArnH3UIpYXjn"
      },
      "source": [
        "sns.displot(penguins, x=\"flipper_length_mm\", hue=\"species\", stat=\"density\", common_norm=False);"
      ],
      "execution_count": null,
      "outputs": []
    },
    {
      "cell_type": "markdown",
      "metadata": {
        "id": "m2wV3h9KYoKP"
      },
      "source": [
        "밀도 정규화는 해당 영역의 합이 1이 되도록 막대의 크기를 조정합니다 . 결과적으로 밀도 축은 직접 해석 할 수 없습니다. 또 다른 옵션은 높이의 합이 1이되도록 막대를 정규화하는 것입니다 . 이것은 변수가 이산 형일 때 가장 의미가 있지만 모든 히스토그램에 대한 옵션입니다."
      ]
    },
    {
      "cell_type": "code",
      "metadata": {
        "id": "S8yId5imYprY"
      },
      "source": [
        "sns.displot(penguins, x=\"flipper_length_mm\", hue=\"species\", stat=\"probability\");"
      ],
      "execution_count": null,
      "outputs": []
    },
    {
      "cell_type": "markdown",
      "metadata": {
        "id": "mPOphE21Y2SA"
      },
      "source": [
        "## 커널 밀도 추정\n",
        "\n",
        "히스토그램은 관측 값을 비닝하고 계산하여 데이터를 생성 한 기본 확률 밀도 함수를 근사화하는 것을 목표로합니다. 커널 밀도 추정 (KDE)은 동일한 문제에 대해 다른 해결책을 제시합니다. 이산 빈을 사용하는 대신 KDE 플롯은 가우시안 커널로 관측치를 평활화하여 연속 밀도 추정치를 생성합니다."
      ]
    },
    {
      "cell_type": "code",
      "metadata": {
        "id": "6ubN5q_OY4Kv"
      },
      "source": [
        "sns.displot(penguins, x=\"flipper_length_mm\", kind=\"kde\");"
      ],
      "execution_count": null,
      "outputs": []
    },
    {
      "cell_type": "markdown",
      "metadata": {
        "id": "25TIYQK7ZFqQ"
      },
      "source": [
        "## 평활 대역폭 선택\n",
        "\n",
        "히스토그램의 빈 크기와 마찬가지로 데이터를 정확하게 나타내는 KDE의 기능은 평활 대역폭 선택에 따라 달라집니다. 과도하게 평활화 된 추정치는 의미있는 특징을 지울 수 있지만, 과도하게 평활화 된 추정은 임의 노이즈 내에서 실제 모양을 가릴 수 있습니다. 추정의 견고성을 확인하는 가장 쉬운 방법은 기본 대역폭을 조정하는 것입니다."
      ]
    },
    {
      "cell_type": "code",
      "metadata": {
        "id": "DZv5Q2_cZISb"
      },
      "source": [
        "sns.displot(penguins, x=\"flipper_length_mm\", kind=\"kde\", bw_adjust=.25);"
      ],
      "execution_count": null,
      "outputs": []
    },
    {
      "cell_type": "markdown",
      "metadata": {
        "id": "QwhNdurdZT9f"
      },
      "source": [
        "좁은 대역폭이 bimodality를 훨씬 더 분명하게 만들지 만 곡선은 훨씬 덜 부드럽습니다. 대조적으로, 더 큰 대역폭은 거의 완전히 이중 모드를 모호하게 만듭니다."
      ]
    },
    {
      "cell_type": "code",
      "metadata": {
        "id": "IywI7xNKZU6H"
      },
      "source": [
        "sns.displot(penguins, x=\"flipper_length_mm\", kind=\"kde\", bw_adjust=2);"
      ],
      "execution_count": null,
      "outputs": []
    },
    {
      "cell_type": "markdown",
      "metadata": {
        "id": "EPzZ39ebZeQ3"
      },
      "source": [
        "## 다른 변수에 대한 컨디셔닝\n",
        "\n",
        "히스토그램과 마찬가지로 hue변수 를 할당하면 해당 변수의 각 수준에 대해 별도의 밀도 추정값이 계산됩니다."
      ]
    },
    {
      "cell_type": "code",
      "metadata": {
        "id": "wivuRq14Zhdg"
      },
      "source": [
        "sns.displot(penguins, x=\"flipper_length_mm\", hue=\"species\", kind=\"kde\");"
      ],
      "execution_count": null,
      "outputs": []
    },
    {
      "cell_type": "markdown",
      "metadata": {
        "id": "dUtVnXGZZraw"
      },
      "source": [
        "많은 경우 계층화 된 KDE는 계층화 된 히스토그램보다 해석하기가 더 쉽기 때문에 종종 비교 작업에 좋은 선택입니다. 그러나 여러 배포판을 해결하기위한 동일한 옵션이 KDE에도 적용됩니다."
      ]
    },
    {
      "cell_type": "code",
      "metadata": {
        "id": "dguG1AYWZs_w"
      },
      "source": [
        "sns.displot(penguins, x=\"flipper_length_mm\", hue=\"species\", kind=\"kde\", multiple=\"stack\");"
      ],
      "execution_count": null,
      "outputs": []
    },
    {
      "cell_type": "markdown",
      "metadata": {
        "id": "NrDsPmPTZ33w"
      },
      "source": [
        "누적 플롯이 기본적으로 각 곡선 사이의 영역을 어떻게 채웠는지 확인하십시오. 기본 알파 값 (불투명도)이 다르더라도 단일 밀도 또는 레이어 밀도에 대한 곡선을 채울 수도 있으므로 개별 밀도를 더 쉽게 해결할 수 있습니다."
      ]
    },
    {
      "cell_type": "code",
      "metadata": {
        "id": "h6NoKDN2Z40R"
      },
      "source": [
        "sns.displot(penguins, x=\"flipper_length_mm\", hue=\"species\", kind=\"kde\", fill=True);"
      ],
      "execution_count": null,
      "outputs": []
    },
    {
      "cell_type": "markdown",
      "metadata": {
        "id": "ks3_KVq-aC7w"
      },
      "source": [
        "## 커널 밀도 추정의 함정\n",
        "\n",
        "KDE 플롯에는 많은 장점이 있습니다. 데이터의 중요한 특징은 쉽게 식별 할 수 있으며 (중앙 성향, 이중 모드, 왜곡) 하위 집합간에 쉽게 비교할 수 있습니다. 그러나 KDE가 기본 데이터를 제대로 표현하지 못하는 상황도 있습니다. KDE의 논리는 기본 배포가 매끄럽고 제한되지 않는다고 가정하기 때문입니다. 이 가정이 실패 할 수있는 한 가지 방법은 변수가 자연적으로 한정된 수량을 반영 할 때입니다. 경계에 가까운 관측치가있는 경우 (예 : 음수가 될 수없는 작은 변수 값) KDE 곡선은 비현실적인 값으로 확장 될 수 있습니다."
      ]
    },
    {
      "cell_type": "code",
      "metadata": {
        "id": "FoH0jcCvaF1y"
      },
      "source": [
        "sns.displot(tips, x=\"total_bill\", kind=\"kde\");"
      ],
      "execution_count": null,
      "outputs": []
    },
    {
      "cell_type": "markdown",
      "metadata": {
        "id": "allnpbp1aPh5"
      },
      "source": [
        "이것은 cut곡선이 극단 데이터 포인트를 넘어서는 범위를 지정하는 매개 변수 로 부분적으로 피할 수 있습니다 . 그러나 이것은 곡선이 그려지는 위치에만 영향을줍니다. 밀도 추정치는 데이터가 존재하지 않는 범위에서 여전히 매끄럽게 이루어 지므로 분포의 극단에서 인위적으로 낮습니다."
      ]
    },
    {
      "cell_type": "code",
      "metadata": {
        "id": "XinVGDsjaSAx"
      },
      "source": [
        "sns.displot(tips, x=\"total_bill\", kind=\"kde\", cut=0);"
      ],
      "execution_count": null,
      "outputs": []
    },
    {
      "cell_type": "markdown",
      "metadata": {
        "id": "aLwAiQxQaZmb"
      },
      "source": [
        "KDE 접근 방식은 불연속 데이터 또는 데이터가 자연스럽게 연속적이지만 특정 값이 과도하게 표현되는 경우에도 실패합니다. 명심해야 할 중요한 점 은 데이터 자체가 부드럽 지 않은 경우에도 KDE는 항상 부드러운 곡선을 표시 한다는 것 입니다. 예를 들어 다음과 같은 다이아몬드 가중치 분포를 고려하십시오."
      ]
    },
    {
      "cell_type": "code",
      "metadata": {
        "id": "GQC84G5GabeA"
      },
      "source": [
        "diamonds = sns.load_dataset(\"diamonds\")\n",
        "sns.displot(diamonds, x=\"carat\", kind=\"kde\");"
      ],
      "execution_count": null,
      "outputs": []
    },
    {
      "cell_type": "markdown",
      "metadata": {
        "id": "JrVUGB2RakcS"
      },
      "source": [
        "KDE는 특정 값 주변에 피크가 있다고 제안하지만 히스토그램은 훨씬 더 들쭉날쭉 한 분포를 나타냅니다."
      ]
    },
    {
      "cell_type": "code",
      "metadata": {
        "id": "JdwJe2uUalUS"
      },
      "source": [
        "sns.displot(diamonds, x=\"carat\");"
      ],
      "execution_count": null,
      "outputs": []
    },
    {
      "cell_type": "markdown",
      "metadata": {
        "id": "-HKKJhdUapMR"
      },
      "source": [
        "절충안으로이 두 가지 접근 방식을 결합 할 수 있습니다. 히스토그램 모드에있는 동안 displot()(와 마찬가지로 histplot())에는 평활화 된 KDE 곡선을 포함하는 옵션이 있습니다 (참고 kde=True, 아님 kind=\"kde\") :"
      ]
    },
    {
      "cell_type": "code",
      "metadata": {
        "id": "LgPJdl0maqRZ"
      },
      "source": [
        "sns.displot(diamonds, x=\"carat\", kde=True);"
      ],
      "execution_count": null,
      "outputs": []
    },
    {
      "cell_type": "markdown",
      "metadata": {
        "id": "qeKVI0RuawOa"
      },
      "source": [
        "## 경험적 누적 분포\n",
        "\n",
        "분포 시각화를위한 세 번째 옵션은 \"경험적 누적 분포 함수\"(ECDF)를 계산합니다. 이 플롯은 곡선의 높이가 더 작은 값을 가진 관측치의 비율을 반영하도록 각 데이터 포인트를 통해 단조 증가하는 곡선을 그립니다."
      ]
    },
    {
      "cell_type": "code",
      "metadata": {
        "id": "5Tzlq4acayap"
      },
      "source": [
        "sns.displot(penguins, x=\"flipper_length_mm\", kind=\"ecdf\");"
      ],
      "execution_count": null,
      "outputs": []
    },
    {
      "cell_type": "markdown",
      "metadata": {
        "id": "ilJYHTfia7hr"
      },
      "source": [
        "ECDF 플롯에는 두 가지 주요 이점이 있습니다. 히스토그램 또는 KDE와 달리 각 데이터 포인트를 직접 나타냅니다. 즉, 고려할 빈 크기 또는 평활화 매개 변수가 없습니다. 또한 곡선이 단조롭게 증가하므로 여러 분포를 비교하는 데 적합합니다."
      ]
    },
    {
      "cell_type": "code",
      "metadata": {
        "id": "9eOnAOgja9gZ"
      },
      "source": [
        "sns.displot(penguins, x=\"flipper_length_mm\", hue=\"species\", kind='ecdf');"
      ],
      "execution_count": null,
      "outputs": []
    },
    {
      "cell_type": "markdown",
      "metadata": {
        "id": "1liwn7s7bH9R"
      },
      "source": [
        "ECDF 플롯의 주요 단점은 히스토그램이나 밀도 곡선보다 덜 직관적으로 분포의 모양을 표현한다는 것입니다. 플리퍼 길이의 이중 모드가 히스토그램에서 즉시 어떻게 나타나는지 고려하지만 ECDF 플롯에서 확인하려면 다양한 기울기를 찾아야합니다. 그럼에도 불구하고 연습을 통해 ECDF를 검사하여 배포에 대한 모든 중요한 질문에 답하는 방법을 배울 수 있으며 그렇게하는 것은 강력한 접근 방식이 될 수 있습니다."
      ]
    },
    {
      "cell_type": "markdown",
      "metadata": {
        "id": "Fv4shjpibMiw"
      },
      "source": [
        "## 이변 량 분포 시각화\n",
        "\n",
        "지금까지의 모든 예제는 일 변량 분포, 즉에 할당 된 두 번째 변수에 대한 조건부 인 단일 변수의 분포를 고려 했습니다 hue. y그러나에 두 번째 변수를 할당하면 이변 량 분포가 표시됩니다."
      ]
    },
    {
      "cell_type": "code",
      "metadata": {
        "id": "gTdT10N9bPhh"
      },
      "source": [
        "sns.displot(penguins, x=\"bill_length_mm\", y=\"bill_depth_mm\");"
      ],
      "execution_count": null,
      "outputs": []
    },
    {
      "cell_type": "markdown",
      "metadata": {
        "id": "jRCaYxi5baFx"
      },
      "source": [
        "이변 량 히스토그램은 플롯을 바둑판 식으로 배열하는 직사각형 내의 데이터를 비닝 한 다음 채우기 색상 (a와 유사)으로 각 직사각형 내의 관측치 수를 표시합니다 heatmap(). 마찬가지로 이변 량 KDE 플롯은 2D 가우스를 사용하여 (x, y) 관측치를 평활화합니다. 그러면 기본 표현 에 2D 밀도 의 윤곽 이 표시됩니다 ."
      ]
    },
    {
      "cell_type": "code",
      "metadata": {
        "id": "wIKG1F0VbbVZ"
      },
      "source": [
        "sns.displot(penguins, x=\"bill_length_mm\", y=\"bill_depth_mm\", kind=\"kde\");"
      ],
      "execution_count": null,
      "outputs": []
    },
    {
      "cell_type": "markdown",
      "metadata": {
        "id": "pGJ-MMeub1Lr"
      },
      "source": [
        "hue변수를 할당하면 서로 다른 색상을 사용하여 여러 히트 맵 또는 등고선 세트가 표시됩니다. 이변 량 히스토그램의 경우 조건부 분포 사이에 최소한의 겹침이있는 경우에만 잘 작동합니다."
      ]
    },
    {
      "cell_type": "code",
      "metadata": {
        "id": "X_A5_6xWb2pZ"
      },
      "source": [
        "sns.displot(penguins, x=\"bill_length_mm\", y=\"bill_depth_mm\", hue=\"species\");"
      ],
      "execution_count": null,
      "outputs": []
    },
    {
      "cell_type": "markdown",
      "metadata": {
        "id": "byr3EKGBcJth"
      },
      "source": [
        "이변 량 KDE 플롯의 등고선 접근 방식은 너무 많은 등고선이있는 플롯이 바쁠 수 있지만 중첩을 평가하는 데 더 적합합니다."
      ]
    },
    {
      "cell_type": "code",
      "metadata": {
        "id": "Ilv0KHa7cKj4"
      },
      "source": [
        "sns.displot(penguins, x=\"bill_length_mm\", y=\"bill_depth_mm\", hue=\"species\", kind=\"kde\");"
      ],
      "execution_count": null,
      "outputs": []
    },
    {
      "cell_type": "markdown",
      "metadata": {
        "id": "vhugwbc1cbYo"
      },
      "source": [
        "일 변량 플롯과 마찬가지로 빈 크기 또는 평활 대역폭을 선택하면 플롯이 기본 이변 량 분포를 얼마나 잘 나타내는 지 결정됩니다. 동일한 매개 변수가 적용되지만 값 쌍을 전달하여 각 변수에 대해 조정할 수 있습니다."
      ]
    },
    {
      "cell_type": "code",
      "metadata": {
        "id": "5WIpHkt5cce4"
      },
      "source": [
        "sns.displot(penguins, x=\"bill_length_mm\", y=\"bill_depth_mm\", binwidth=(2, .5));"
      ],
      "execution_count": null,
      "outputs": []
    },
    {
      "cell_type": "markdown",
      "metadata": {
        "id": "M8hhHMqhcwuI"
      },
      "source": [
        "히트 맵의 해석을 돕기 위해 개수와 색상 강도 간의 매핑을 표시하는 컬러 바를 추가합니다."
      ]
    },
    {
      "cell_type": "code",
      "metadata": {
        "id": "Rs38qgZrcxs5"
      },
      "source": [
        "sns.displot(penguins, x=\"bill_length_mm\", y=\"bill_depth_mm\", binwidth=(2, .5), cbar=True);"
      ],
      "execution_count": null,
      "outputs": []
    },
    {
      "cell_type": "markdown",
      "metadata": {
        "id": "9iVlrTrfdBHR"
      },
      "source": [
        "이변 량 밀도 윤곽선의 의미는 덜 간단합니다. 밀도가 직접 해석하지 않기 때문에, 윤곽이 그려있다 이소 비율 각 곡선 쇼 레벨이되도록 설정 즉, 밀도의 일부 비율 (P) 아래 밀도 거짓. (P)의 최저 레벨에 의해 contolled 값으로 균일하게 이격되는 thresh파라미터에 의해 제어되는 번호 levels:"
      ]
    },
    {
      "cell_type": "code",
      "metadata": {
        "id": "YHJBj77ldCf5"
      },
      "source": [
        "sns.displot(penguins, x=\"bill_length_mm\", y=\"bill_depth_mm\", kind=\"kde\", thresh=.2, levels=4);"
      ],
      "execution_count": null,
      "outputs": []
    },
    {
      "cell_type": "markdown",
      "metadata": {
        "id": "-RYfngPedPRg"
      },
      "source": [
        "levels매개 변수는 더 제어 값의리스트를 수용 :"
      ]
    },
    {
      "cell_type": "code",
      "metadata": {
        "id": "E89DUkywdRCI"
      },
      "source": [
        "sns.displot(penguins, x=\"bill_length_mm\", y=\"bill_depth_mm\", kind=\"kde\", levels=[.01, .05, .1, .8]);"
      ],
      "execution_count": null,
      "outputs": []
    },
    {
      "cell_type": "markdown",
      "metadata": {
        "id": "Pju7Rn7OdmmS"
      },
      "source": [
        "이변 량 히스토그램을 사용하면 하나 또는 두 개의 변수가 이산 될 수 있습니다. 하나의 불연속 변수와 하나의 연속 변수를 플로팅하면 조건부 일 변량 분포를 비교하는 또 다른 방법이 제공됩니다."
      ]
    },
    {
      "cell_type": "code",
      "metadata": {
        "id": "5R0aQ40tdnyg"
      },
      "source": [
        "sns.displot(diamonds, x=\"price\", y=\"clarity\", log_scale=(True,False));"
      ],
      "execution_count": null,
      "outputs": []
    },
    {
      "cell_type": "markdown",
      "metadata": {
        "id": "eUijynnwdwnR"
      },
      "source": [
        "반대로 두 개의 이산 변수를 플로팅하면 관측치의 교차 표를 쉽게 표시 할 수 있습니다."
      ]
    },
    {
      "cell_type": "code",
      "metadata": {
        "id": "NJgRylH9dyAg"
      },
      "source": [
        "sns.displot(diamonds, x=\"color\", y=\"clarity\");"
      ],
      "execution_count": null,
      "outputs": []
    },
    {
      "cell_type": "markdown",
      "metadata": {
        "id": "EZvnQZbjd5Zh"
      },
      "source": [
        "## 다른 설정의 분포 시각화\n",
        "\n",
        "seaborn의 몇 가지 다른 그림 수준 플로팅 함수는 histplot()및 kdeplot()함수를 사용 합니다."
      ]
    },
    {
      "cell_type": "markdown",
      "metadata": {
        "id": "HXFI9vXRd_i5"
      },
      "source": [
        "### 관절 및 주변 분포 플로팅\n",
        "\n",
        "첫 번째는 jointplot()두 변수의 주변 분포를 사용하여 이변 량 관계형 또는 분포도를 증가시키는입니다. 기본적으로 jointplot()는 다음을 사용하여 이변 량 분포를 나타내고 다음을 사용 scatterplot()하여 주변 분포를 나타냅니다 histplot()."
      ]
    },
    {
      "cell_type": "code",
      "metadata": {
        "id": "6ieqwNKueC5a"
      },
      "source": [
        "sns.jointplot(data=penguins, x=\"bill_length_mm\", y=\"bill_depth_mm\");"
      ],
      "execution_count": null,
      "outputs": []
    },
    {
      "cell_type": "markdown",
      "metadata": {
        "id": "gBECn1eUeQIx"
      },
      "source": [
        "와 비슷하게 displot()다른 값 kind=\"kde\"을 설정 jointplot()하면 조인트 및 주변 플롯이 모두 변경됩니다 kdeplot()."
      ]
    },
    {
      "cell_type": "code",
      "metadata": {
        "id": "9cm2Jma6eRtZ"
      },
      "source": [
        "sns.jointplot(\n",
        "    data=penguins,\n",
        "    x=\"bill_length_mm\", y=\"bill_depth_mm\", hue=\"species\",\n",
        "    kind=\"kde\"\n",
        ");"
      ],
      "execution_count": null,
      "outputs": []
    },
    {
      "cell_type": "markdown",
      "metadata": {
        "id": "nILY0vd4ef3A"
      },
      "source": [
        "jointplot()JointGrid클래스에 대한 편리한 인터페이스로, 직접 사용할 때 더 많은 유연성을 제공합니다."
      ]
    },
    {
      "cell_type": "code",
      "metadata": {
        "id": "VYYz37qUehFI"
      },
      "source": [
        "g = sns.JointGrid(data=penguins, x=\"bill_length_mm\", y=\"bill_depth_mm\")\n",
        "g.plot_joint(sns.histplot)\n",
        "g.plot_marginals(sns.boxplot);"
      ],
      "execution_count": null,
      "outputs": []
    },
    {
      "cell_type": "markdown",
      "metadata": {
        "id": "XeLhOfeDe73R"
      },
      "source": [
        "경계 분포를 덜 눈에 띄게 표시하는 방법은 \"양탄자\"플롯을 사용합니다.이 플롯의 가장자리에 작은 눈금을 추가하여 각 개별 관측치를 나타냅니다. 이것은 다음에 내장되어 있습니다 displot()."
      ]
    },
    {
      "cell_type": "code",
      "metadata": {
        "id": "RHctbMdVe9ZB"
      },
      "source": [
        "sns.displot(\n",
        "    penguins, x=\"bill_length_mm\", y=\"bill_depth_mm\",\n",
        "    kind=\"kde\", rug=True\n",
        ");"
      ],
      "execution_count": null,
      "outputs": []
    },
    {
      "cell_type": "markdown",
      "metadata": {
        "id": "teAIkHSHfI-5"
      },
      "source": [
        "축 수준 rugplot()함수를 사용하여 다른 종류의 플롯 측면에 깔개를 추가 할 수 있습니다."
      ]
    },
    {
      "cell_type": "code",
      "metadata": {
        "id": "0G_I-IXGfJsp"
      },
      "source": [
        "sns.relplot(data=penguins, x=\"bill_length_mm\", y=\"bill_depth_mm\")\n",
        "sns.rugplot(data=penguins, x=\"bill_length_mm\", y=\"bill_depth_mm\");"
      ],
      "execution_count": null,
      "outputs": []
    },
    {
      "cell_type": "markdown",
      "metadata": {
        "id": "JAaiLI-7faJh"
      },
      "source": [
        "### 많은 분포 그리기\n",
        "\n",
        "이 pairplot()함수는 관절 및 주변 분포의 유사한 혼합을 제공합니다. 그러나 단일 관계에 초점을 맞추는 대신 pairplot()\"소다수\"접근 방식을 사용하여 모든 쌍 관계와 함께 데이터 세트에있는 모든 변수의 일 변량 분포를 시각화합니다."
      ]
    },
    {
      "cell_type": "code",
      "metadata": {
        "id": "lTcej2WlfeIX"
      },
      "source": [
        "sns.pairplot(penguins);"
      ],
      "execution_count": null,
      "outputs": []
    },
    {
      "cell_type": "markdown",
      "metadata": {
        "id": "CtDpIhy3fkn4"
      },
      "source": [
        "jointplot()/ 와 마찬가지로 JointGrid기본을 PairGrid직접 사용하면 약간의 타이핑만으로 더 많은 유연성을 얻을 수 있습니다."
      ]
    },
    {
      "cell_type": "code",
      "metadata": {
        "id": "vYUh7Avtfpfw"
      },
      "source": [
        "g = sns.PairGrid(penguins)\n",
        "g.map_upper(sns.histplot)\n",
        "g.map_lower(sns.kdeplot, fill=True)\n",
        "g.map_diag(sns.histplot, kde=True);"
      ],
      "execution_count": null,
      "outputs": []
    }
  ]
}