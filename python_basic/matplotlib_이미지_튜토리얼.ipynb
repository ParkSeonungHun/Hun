{
  "nbformat": 4,
  "nbformat_minor": 0,
  "metadata": {
    "colab": {
      "name": "matplotlib 이미지 튜토리얼.ipynb",
      "provenance": [],
      "authorship_tag": "ABX9TyMJAblaqAmtYd1RMoI74BTr",
      "include_colab_link": true
    },
    "kernelspec": {
      "name": "python3",
      "display_name": "Python 3"
    }
  },
  "cells": [
    {
      "cell_type": "markdown",
      "metadata": {
        "id": "view-in-github",
        "colab_type": "text"
      },
      "source": [
        "<a href=\"https://colab.research.google.com/github/ParkSeonungHun/Hun/blob/main/python_basic/matplotlib_%EC%9D%B4%EB%AF%B8%EC%A7%80_%ED%8A%9C%ED%86%A0%EB%A6%AC%EC%96%BC.ipynb\" target=\"_parent\"><img src=\"https://colab.research.google.com/assets/colab-badge.svg\" alt=\"Open In Colab\"/></a>"
      ]
    },
    {
      "cell_type": "markdown",
      "metadata": {
        "id": "a9uQqq0jz_9G"
      },
      "source": [
        "# 이미지 튜토리얼\n",
        "\n",
        "Matplotlib로 이미지를 그리는 방법에 대한 짧은 튜토리얼입니다."
      ]
    },
    {
      "cell_type": "markdown",
      "metadata": {
        "id": "DPUJDwef0Dba"
      },
      "source": [
        "## 시작 명령\n",
        "\n",
        "먼저 IPython을 시작하겠습니다. 표준 Python 프롬프트에 대한 가장 뛰어난 개선 사항이며 특히 Matplotlib와 잘 연결됩니다. 쉘에서 직접 IPython을 시작하거나 Jupyter Notebook (IPython을 실행중인 커널)로 시작합니다.\n",
        "\n",
        "IPython이 시작되었으므로 이제 GUI 이벤트 루프에 연결해야합니다. 이것은 IPython에게 플롯을 표시 할 위치 (및 방법)를 알려줍니다. GUI 루프에 연결하려면 IPython 프롬프트에서 % matplotlib 매직을 실행하십시오 . 이것이 GUI 이벤트 루프에 대한 IPython의 문서 에서 정확히 무엇을하는지에 대한 자세한 내용이 있습니다 .\n",
        "\n",
        "Jupyter Notebook을 사용하는 경우 동일한 명령을 사용할 수 있지만 사람들은 일반적으로 % matplotlib 매직에 대한 특정 인수를 사용합니다."
      ]
    },
    {
      "cell_type": "code",
      "metadata": {
        "id": "zgbj5qP90FQs"
      },
      "source": [
        "In [1]: %matplotlib inline"
      ],
      "execution_count": 1,
      "outputs": []
    },
    {
      "cell_type": "markdown",
      "metadata": {
        "id": "A6Ab4xwr0Ij9"
      },
      "source": [
        "그러면 노트북에 플롯 그래픽이 표시되는 인라인 플로팅이 켜집니다. 이것은 상호 작용에 중요한 영향을 미칩니다. 인라인 플로팅의 경우 플롯을 출력하는 셀 아래 셀의 명령은 플롯에 영향을주지 않습니다. 예를 들어, 플롯을 생성하는 셀 아래의 셀에서는 색상 맵을 변경할 수 없습니다. 그러나 별도의 창을 여는 Qt5와 같은 다른 백엔드의 경우 플롯을 생성하는 셀 아래의 셀이 플롯을 변경합니다. 이는 메모리의 라이브 개체입니다.\n",
        "\n",
        "이 튜토리얼에서는 Matplotlib의 명령형 플로팅 인터페이스 인 pyplot을 사용합니다. 이 인터페이스는 전역 상태를 유지하며 다양한 플롯 설정을 빠르고 쉽게 실험하는 데 매우 유용합니다. 대안은 매우 강력하고 일반적으로 대규모 애플리케이션 개발에 더 적합한 객체 지향 인터페이스입니다. 객체 지향 인터페이스에 대해 배우고 싶다면 사용 가이드 를 시작하는 것이 좋습니다 . 지금은 명령형 접근 방식을 살펴 보겠습니다."
      ]
    },
    {
      "cell_type": "code",
      "metadata": {
        "id": "zlMBXoUY0JfL"
      },
      "source": [
        "import matplotlib.pyplot as plt\n",
        "import matplotlib.image as mpimg"
      ],
      "execution_count": 1,
      "outputs": []
    },
    {
      "cell_type": "markdown",
      "metadata": {
        "id": "G48hUZNn0LAh"
      },
      "source": [
        "## Numpt 배열로 이미지 데이터 가져오기\n",
        "\n",
        "Matplotlib는 Pillow 라이브러리를 사용하여 이미지 데이터를로드합니다.\n",
        "\n",
        "다음은 우리가 사용할 이미지입니다.\n",
        "\n",
        "24 비트 RGB PNG 이미지 (R, G, B 각각에 대해 8 비트)입니다. 데이터를 얻는 위치에 따라 가장 많이 접하게 될 다른 종류의 이미지는 투명성을 허용하는 RGBA 이미지 또는 단일 채널 회색조 (광도) 이미지입니다. 이 튜토리얼의 나머지 부분에서 마우스 오른쪽 버튼을 클릭하고 \"다른 이름으로 이미지 저장\"을 선택하여 컴퓨터에 다운로드 할 수 있습니다."
      ]
    },
    {
      "cell_type": "code",
      "metadata": {
        "id": "YaJytF1y0QDs"
      },
      "source": [
        "img = mpimg.imread('../../doc/_static/stinkbug.png')\n",
        "print(img)"
      ],
      "execution_count": null,
      "outputs": []
    },
    {
      "cell_type": "markdown",
      "metadata": {
        "id": "Mwu_Ksq40Wcy"
      },
      "source": [
        "거기에 dtype-float32를 주목하십시오. Matplotlib는 각 채널의 8 비트 데이터를 0.0에서 1.0 사이의 부동 소수점 데이터로 재조정했습니다. 참고로 Pillow가 작업 할 수있는 유일한 데이터 유형은 uint8입니다. Matplotlib 플로팅은 float32 및 uint8을 처리 할 수 ​​있지만 PNG 이외의 형식에 대한 이미지 읽기 / 쓰기는 uint8 데이터로 제한됩니다. 왜 8 비트인가? 대부분의 디스플레이는 색 그라데이션에 해당하는 채널당 8 비트 만 렌더링 할 수 있습니다. 채널당 8 비트 만 렌더링 할 수있는 이유는 무엇입니까? 그것은 인간의 눈으로 볼 수있는 모든 것입니다. 더보기 (사진 관점에서) : Luminous Landscape bit depth tutorial .\n",
        "\n",
        "각 내부 목록은 픽셀을 나타냅니다. 여기에서 RGB 이미지에는 3 개의 값이 있습니다. 흑백 이미지이기 때문에 R, G, B는 모두 비슷합니다. RGBA (A는 알파 또는 투명도)는 내부 목록 당 4 개의 값을 가지며 단순한 휘도 이미지는 하나의 값만 갖습니다 (따라서 3D 배열이 아니라 2D 배열 만 있음). RGB 및 RGBA 이미지의 경우 Matplotlib는 float32 및 uint8 데이터 유형을 지원합니다. 회색조의 경우 Matplotlib는 float32 만 지원합니다. 어레이 데이터가 이러한 설명 중 하나를 충족하지 않는 경우 다시 스케일링해야합니다."
      ]
    },
    {
      "cell_type": "markdown",
      "metadata": {
        "id": "dTX0z-Jd0XkL"
      },
      "source": [
        "## numpy 배열을 이미지로 플로팅하기\n",
        "\n",
        "따라서 데이터를 가져 오거나 생성하여 numpy 배열에 있습니다. 렌더링 해 봅시다. Matplotlib에서는 imshow()함수를 사용하여 수행 됩니다. 여기서 우리는 플롯 객체를 잡을 것입니다. 이 개체를 사용하면 프롬프트에서 플롯을 쉽게 조작 할 수 있습니다."
      ]
    },
    {
      "cell_type": "markdown",
      "metadata": {
        "id": "dUuD13jS0i-7"
      },
      "source": [
        ""
      ]
    },
    {
      "cell_type": "code",
      "metadata": {
        "id": "G8dgigW_0doB"
      },
      "source": [
        "imgplot = plt.imshow(img)"
      ],
      "execution_count": null,
      "outputs": []
    },
    {
      "cell_type": "markdown",
      "metadata": {
        "id": "zl6-UV4h0fxi"
      },
      "source": [
        "numpy 배열을 플로팅 할 수도 있습니다.\n",
        "\n",
        "이미지 플롯에 유사 색상 스키마 적용하기 \n",
        "의사 색상은 대비를 향상시키고 데이터를보다 쉽게 ​​시각화하는 데 유용한 도구가 될 수 있습니다. 이것은 프로젝터를 사용하여 데이터를 표시 할 때 특히 유용합니다. 일반적으로 대비가 매우 낮습니다.\n",
        "\n",
        "유사 색상은 단일 채널, 회색조, 광도 이미지에만 관련됩니다. 현재 RGB 이미지가 있습니다. R, G 및 B는 모두 유사하므로 (위 또는 데이터에서 직접 확인) 데이터의 한 채널 만 선택할 수 있습니다."
      ]
    },
    {
      "cell_type": "code",
      "metadata": {
        "id": "H-lbLpUI0gx7"
      },
      "source": [
        "lum_img = img[:, :, 0]\n",
        "\n",
        "# This is array slicing.  You can read more in the `Numpy tutorial\n",
        "# <https://docs.scipy.org/doc/numpy/user/quickstart.html>`_.\n",
        "\n",
        "plt.imshow(lum_img)"
      ],
      "execution_count": null,
      "outputs": []
    },
    {
      "cell_type": "markdown",
      "metadata": {
        "id": "TO093BDq0kSr"
      },
      "source": [
        "이제 광도 (2D, 색상 없음) 이미지와 함께 기본 컬러 맵 (일명 룩업 테이블, LUT)이 적용됩니다. 기본값은 viridis입니다. 선택할 수있는 다른 것들이 많이 있습니다."
      ]
    },
    {
      "cell_type": "code",
      "metadata": {
        "id": "-_Aat21I0m-f"
      },
      "source": [
        "plt.imshow(lum_img, cmap=\"hot\")"
      ],
      "execution_count": null,
      "outputs": []
    },
    {
      "cell_type": "markdown",
      "metadata": {
        "id": "Pt2AlCU90owy"
      },
      "source": [
        "다음 set_cmap()방법을 사용하여 기존 플롯 객체의 컬러 맵을 변경할 수도 있습니다 ."
      ]
    },
    {
      "cell_type": "code",
      "metadata": {
        "id": "61T_03Dd0pk5"
      },
      "source": [
        "imgplot = plt.imshow(lum_img)\n",
        "imgplot.set_cmap('nipy_spectral')"
      ],
      "execution_count": null,
      "outputs": []
    },
    {
      "cell_type": "markdown",
      "metadata": {
        "id": "aDsvs0Yp0rUp"
      },
      "source": [
        "노트\n",
        "\n",
        "그러나 인라인 백엔드가있는 Jupyter Notebook에서는 이미 렌더링 된 플롯을 변경할 수 없습니다. 여기 한 셀에서 imgplot을 만들면 이후 셀에서 set_cmap ()을 호출 할 수 없으며 이전 플롯이 변경 될 것으로 예상 할 수 없습니다. 이 명령을 한 셀에 함께 입력해야합니다. plt 명령은 이전 셀의 플롯을 변경하지 않습니다."
      ]
    },
    {
      "cell_type": "markdown",
      "metadata": {
        "id": "39IpHegj0sIN"
      },
      "source": [
        "다른 많은 컬러 맵 체계를 사용할 수 있습니다. 컬러 맵 의 목록과 이미지를 참조하십시오 .\n",
        "\n",
        "컬러 스케일 참조 \n",
        "\n",
        "색상이 나타내는 가치를 아는 것이 도움이됩니다. 그림에 색상 막대를 추가하여 이를 수행 할 수 있습니다."
      ]
    },
    {
      "cell_type": "code",
      "metadata": {
        "id": "sy2pLXsM0u6a"
      },
      "source": [
        "imgplot = plt.imshow(lum_img)\n",
        "plt.colorbar()"
      ],
      "execution_count": null,
      "outputs": []
    },
    {
      "cell_type": "markdown",
      "metadata": {
        "id": "7ccN8dMa0yj5"
      },
      "source": [
        "특정 데이터 범위 조사 \n",
        "때로는 이미지의 대비를 향상 시키거나 특정 영역의 대비를 확장하면서 크게 변하지 않거나 중요하지 않은 색상의 세부 사항을 희생하고 싶을 때가 있습니다. 흥미로운 영역을 찾는 좋은 도구는 히스토그램입니다. 이미지 데이터의 히스토그램을 생성하기 위해 hist()함수를 사용합니다 ."
      ]
    },
    {
      "cell_type": "code",
      "metadata": {
        "id": "_Yi-VO_X0zpy"
      },
      "source": [
        "plt.hist(lum_img.ravel(), bins=256, range=(0.0, 1.0), fc='k', ec='k')"
      ],
      "execution_count": null,
      "outputs": []
    },
    {
      "cell_type": "markdown",
      "metadata": {
        "id": "jfCNjjuh01iE"
      },
      "source": [
        "대부분의 경우 이미지의 \"흥미로운\"부분은 피크 주변에 있으며 피크 위 및 / 또는 아래 영역을 클리핑하여 추가 대비를 얻을 수 있습니다. 히스토그램에서는 하이 엔드에 유용한 정보가 많지 않은 것 같습니다 (이미지에 흰색 요소가 많지 않음). 히스토그램의 일부를 효과적으로 \"확대\"할 수 있도록 상한을 조정 해 보겠습니다. imshow에 clim 인수를 전달하여이를 수행합니다. set_clim()이미지 플롯 객체 의 메서드를 호출하여이 작업을 수행 할 수도 있지만 Jupyter 노트북으로 작업 할 때 플롯 명령과 동일한 셀에서 수행해야합니다. 이전 셀의 플롯은 변경되지 않습니다.\n",
        "\n",
        "에 대한 호출에서 clim을 지정할 수 있습니다 plot."
      ]
    },
    {
      "cell_type": "code",
      "metadata": {
        "id": "fAJoocf902UZ"
      },
      "source": [
        "imgplot = plt.imshow(lum_img, clim=(0.0, 0.7))"
      ],
      "execution_count": null,
      "outputs": []
    },
    {
      "cell_type": "markdown",
      "metadata": {
        "id": "FdXjuko8037s"
      },
      "source": [
        "반환 된 객체를 사용하여 clim을 지정할 수도 있습니다."
      ]
    },
    {
      "cell_type": "code",
      "metadata": {
        "id": "UjL_kMkM041h"
      },
      "source": [
        "fig = plt.figure()\n",
        "ax = fig.add_subplot(1, 2, 1)\n",
        "imgplot = plt.imshow(lum_img)\n",
        "ax.set_title('Before')\n",
        "plt.colorbar(ticks=[0.1, 0.3, 0.5, 0.7], orientation='horizontal')\n",
        "ax = fig.add_subplot(1, 2, 2)\n",
        "imgplot = plt.imshow(lum_img)\n",
        "imgplot.set_clim(0.0, 0.7)\n",
        "ax.set_title('After')\n",
        "plt.colorbar(ticks=[0.1, 0.3, 0.5, 0.7], orientation='horizontal')"
      ],
      "execution_count": null,
      "outputs": []
    },
    {
      "cell_type": "markdown",
      "metadata": {
        "id": "etlykv3808LJ"
      },
      "source": [
        "배열 보간 체계 \n",
        "보간은 다양한 수학적 체계에 따라 픽셀의 색상 또는 값이 \"되어야하는\"값을 계산합니다. 이런 일이 발생하는 일반적인 장소 중 하나는 이미지 크기를 조정할 때입니다. 픽셀 수는 변경되지만 동일한 정보를 원합니다. 픽셀은 불연속 적이므로 누락 된 공간이 있습니다. 보간은 그 공간을 채우는 방법입니다. 그렇기 때문에 이미지를 날려 버릴 때 이미지가 픽셀 화되어 표시되는 경우가 있습니다. 원본 이미지와 확장 된 이미지의 차이가 클 때 효과가 더욱 두드러집니다. 이미지를 가져와 축소 해 보겠습니다. 우리는 효과적으로 픽셀을 버리고 선택된 몇 개만 유지합니다. 이제 우리가 그것을 플로팅 할 때, 그 데이터는 화면의 크기로 날아갑니다. 오래된 픽셀은 더 이상 존재하지 않으며 컴퓨터는 해당 공간을 채우기 위해 픽셀을 그려야합니다.\n",
        "\n",
        "이미지를로드하는 데 사용한 Pillow 라이브러리를 사용하여 이미지 크기도 조정합니다."
      ]
    },
    {
      "cell_type": "code",
      "metadata": {
        "id": "-9Bbnyh809Vm"
      },
      "source": [
        "from PIL import Image\n",
        "\n",
        "img = Image.open('../../doc/_static/stinkbug.png')\n",
        "img.thumbnail((64, 64), Image.ANTIALIAS)  # resizes image in-place\n",
        "imgplot = plt.imshow(img)"
      ],
      "execution_count": null,
      "outputs": []
    },
    {
      "cell_type": "markdown",
      "metadata": {
        "id": "H-WXXTGF1Any"
      },
      "source": [
        "여기에는 imshow()보간 인수를 제공하지 않았으므로 기본 보간 인 쌍 선형이 있습니다.\n",
        "\n",
        "다른 것을 시도해 봅시다. 보간을하지 않는 \"nearest\"가 있습니다."
      ]
    },
    {
      "cell_type": "code",
      "metadata": {
        "id": "x_6a-8_j1Bqa"
      },
      "source": [
        "imgplot = plt.imshow(img, interpolation=\"nearest\")"
      ],
      "execution_count": null,
      "outputs": []
    },
    {
      "cell_type": "markdown",
      "metadata": {
        "id": "UeTacHFf1DUl"
      },
      "source": [
        "and bicubic:"
      ]
    },
    {
      "cell_type": "code",
      "metadata": {
        "id": "LrahDgfl1FrR"
      },
      "source": [
        "imgplot = plt.imshow(img, interpolation=\"bicubic\")"
      ],
      "execution_count": null,
      "outputs": []
    },
    {
      "cell_type": "markdown",
      "metadata": {
        "id": "h5RPDeX31IX9"
      },
      "source": [
        "바이 큐빅 보간은 사진을 부 풀릴 때 자주 사용됩니다. 사람들은 픽셀 화 된 것보다 흐릿한 것을 선호하는 경향이 있습니다."
      ]
    }
  ]
}