{
  "nbformat": 4,
  "nbformat_minor": 0,
  "metadata": {
    "colab": {
      "name": "주석.ipynb",
      "provenance": [],
      "authorship_tag": "ABX9TyNfXqAIrbKT1lJmxdAO6eD4",
      "include_colab_link": true
    },
    "kernelspec": {
      "name": "python3",
      "display_name": "Python 3"
    }
  },
  "cells": [
    {
      "cell_type": "markdown",
      "metadata": {
        "id": "view-in-github",
        "colab_type": "text"
      },
      "source": [
        "<a href=\"https://colab.research.google.com/github/ParkSeonungHun/Hun/blob/main/python_basic/%EC%A3%BC%EC%84%9D.ipynb\" target=\"_parent\"><img src=\"https://colab.research.google.com/assets/colab-badge.svg\" alt=\"Open In Colab\"/></a>"
      ]
    },
    {
      "cell_type": "markdown",
      "metadata": {
        "id": "DGUYThSbswJ2"
      },
      "source": [
        "# 주석\n",
        "\n",
        "Matplotlib로 텍스트에 주석 달기.\n",
        "\n",
        "**목차**\n",
        "\n",
        "* 주석\n",
        ">* 기본 주석\n",
        ">* 고급 주석\n",
        ">>* 상자로 텍스트 주석 달기\n",
        ">>* 화살표로 주석 달기\n",
        ">>* 축의 고정 된 위치에 아티스트 배치\n",
        ">>* 주석과 함께 복잡한 좌표 사용\n",
        ">>* ConnectionPatch 사용\n",
        ">* 고급 주제\n",
        ">>* 축 간 확대 / 축소 효과\n",
        ">>* 사용자 정의 BoxStyle 정의"
      ]
    },
    {
      "cell_type": "markdown",
      "metadata": {
        "id": "YNePG0DktErh"
      },
      "source": [
        "## 기본주석\n",
        "\n",
        "기본 text()을 사용 하면 축의 임의 위치에 텍스트가 배치됩니다. 텍스트의 일반적인 사용 사례는 플롯의 일부 기능에 주석을 추가하는 것이며,이 annotate()방법은 주석을 쉽게 만드는 도우미 기능을 제공합니다. 주석에서 고려해야 할 두 가지 사항이 있습니다. xy 인수로 표시되는 주석이 추가 된 위치와 xytext 텍스트의 위치입니다 . 이 두 인수는 모두 튜플입니다.(x, y)\n",
        "\n",
        "이 예에서 xy (화살표) 및 xytext 위치 (텍스트 위치)는 모두 데이터 좌표에 있습니다. 하나를 선택할 수있는 다른 좌표 시스템에는 여러 가지가 있습니다 - 당신의 좌표계를 지정할 수 있습니다 XY 및 xytext을 위한 다음 문자열 중 하나 xycoords 및 textcoords (기본값은 '데이터')"
      ]
    },
    {
      "cell_type": "markdown",
      "metadata": {
        "id": "zB52PurLtJFo"
      },
      "source": [
        "논의 : 좌표계\n",
        "\n",
        "'figure points' : 그림의 왼쪽 하단 모서리에서 점\n",
        "\n",
        "'figure pixels' : 그림의 왼쪽 하단 모서리부터 픽셀\n",
        "\n",
        "'figure fracion' : (0,0)은 그림의 왼쪽 하단이고 (1,1)은 오른쪽 상단입니다.\n",
        "\n",
        "'axes points' : 좌표축의 왼쪽 하단 모서리에서 점\n",
        "\n",
        "'axes pixels' : 좌표축의 왼쪽 하단 모서리부터 픽셀\n",
        "\n",
        "'axes fraction' : (0,0)은 축의 왼쪽 하단이고 (1,1)은 오른쪽 상단입니다.\n",
        "\n",
        "'data' : 좌표축 데이터 좌표게 사용\n",
        "\n",
        "예를 들어 텍스트 좌표를 분수 축 좌표에 배치하려면 다음을 수행 할 수 있습니다."
      ]
    },
    {
      "cell_type": "code",
      "metadata": {
        "id": "HnT6WVwdtwdV"
      },
      "source": [
        "ax.annotate('local max', xy=(3, 1),  xycoords='data',\n",
        "            xytext=(0.8, 0.95), textcoords='axes fraction',\n",
        "            arrowprops=dict(facecolor='black', shrink=0.05),\n",
        "            horizontalalignment='right', verticalalignment='top',\n",
        "            )"
      ],
      "execution_count": null,
      "outputs": []
    },
    {
      "cell_type": "markdown",
      "metadata": {
        "id": "3b1v2cizty4_"
      },
      "source": [
        "물리적 좌표계 (점 또는 픽셀)의 경우 원점은 그림 또는 축의 왼쪽 하단입니다.\n",
        "\n",
        "선택적으로 키워드 인수 arrowprops 에서 화살표 속성 사전을 제공하여 텍스트에서 주석이있는 지점까지 화살표를 그릴 수 있습니다."
      ]
    },
    {
      "cell_type": "markdown",
      "metadata": {
        "id": "iTevXduot0FI"
      },
      "source": [
        "arrowprps키 : 기술\n",
        "\n",
        "width : 화살표의 너비 (포인트)\n",
        "\n",
        "frac : 머리가 차지하는 화살 길이의 비율\n",
        "\n",
        "headwidth : 화살촉 밑면의 폭 (포인트)\n",
        "\n",
        "shrink : 팁과베이스를 주석이있는 지점과 텍스트에서 몇퍼센트 떨어진 곳으로 이동\n",
        "\n",
        "**kwargs : 대한 모든 키  matplotlib.patches.Polygon, 예 :facecolor\n",
        "\n",
        "아래 예에서 xy 점은 기본 좌표에 있습니다 ( xycoords의 기본값은 '데이터'). 극좌표 축의 경우 이것은 (세타, 반경) 공간에 있습니다. 이 예의 텍스트는 분수 좌표계에 배치됩니다. horizontalalignment , verticalalignment 및 fontsize 와 matplotlib.text.Text 같은 키워드 인수가 에서 인스턴스 로 전달됩니다 .annotateText\n",
        "\n",
        "화려한 화살표를 포함하여 주석으로 수행 할 수있는 모든 야생적이고 멋진 작업에 대한 자세한 내용은 고급 주석 및 플롯 주석을 참조하십시오 .\n",
        "\n",
        "이미 읽은하지 않으면 진행하지 마십시오 기본 주석을 , text()와 annotate()!"
      ]
    },
    {
      "cell_type": "markdown",
      "metadata": {
        "id": "beyu5nmAuNRG"
      },
      "source": [
        "## 고급 주석\n",
        "\n",
        "상자로 텍스트 주석 달기\n",
        "\n",
        "간단한 예부터 시작하겠습니다.\n",
        "\n",
        "text텍스트 주위에 상자를 그리는 bbox 키워드 인수를 받습니다 ."
      ]
    },
    {
      "cell_type": "code",
      "metadata": {
        "id": "roUbrEBnuR0f",
        "outputId": "8b4aed00-5856-47b0-8c56-bf36f40b46be",
        "colab": {
          "base_uri": "https://localhost:8080/",
          "height": 205
        }
      },
      "source": [
        "t = ax.text(\n",
        "    0, 0, \"Direction\", ha=\"center\", va=\"center\", rotation=45, size=15,\n",
        "    bbox=dict(boxstyle=\"rarrow,pad=0.3\", fc=\"cyan\", ec=\"b\", lw=2))"
      ],
      "execution_count": 2,
      "outputs": [
        {
          "output_type": "error",
          "ename": "NameError",
          "evalue": "ignored",
          "traceback": [
            "\u001b[0;31m---------------------------------------------------------------------------\u001b[0m",
            "\u001b[0;31mNameError\u001b[0m                                 Traceback (most recent call last)",
            "\u001b[0;32m<ipython-input-2-923d3733f4dc>\u001b[0m in \u001b[0;36m<module>\u001b[0;34m()\u001b[0m\n\u001b[0;32m----> 1\u001b[0;31m t = ax.text(\n\u001b[0m\u001b[1;32m      2\u001b[0m     \u001b[0;36m0\u001b[0m\u001b[0;34m,\u001b[0m \u001b[0;36m0\u001b[0m\u001b[0;34m,\u001b[0m \u001b[0;34m\"Direction\"\u001b[0m\u001b[0;34m,\u001b[0m \u001b[0mha\u001b[0m\u001b[0;34m=\u001b[0m\u001b[0;34m\"center\"\u001b[0m\u001b[0;34m,\u001b[0m \u001b[0mva\u001b[0m\u001b[0;34m=\u001b[0m\u001b[0;34m\"center\"\u001b[0m\u001b[0;34m,\u001b[0m \u001b[0mrotation\u001b[0m\u001b[0;34m=\u001b[0m\u001b[0;36m45\u001b[0m\u001b[0;34m,\u001b[0m \u001b[0msize\u001b[0m\u001b[0;34m=\u001b[0m\u001b[0;36m15\u001b[0m\u001b[0;34m,\u001b[0m\u001b[0;34m\u001b[0m\u001b[0;34m\u001b[0m\u001b[0m\n\u001b[1;32m      3\u001b[0m     bbox=dict(boxstyle=\"rarrow,pad=0.3\", fc=\"cyan\", ec=\"b\", lw=2))\n",
            "\u001b[0;31mNameError\u001b[0m: name 'ax' is not defined"
          ]
        }
      ]
    },
    {
      "cell_type": "markdown",
      "metadata": {
        "id": "INfAsernuUaf"
      },
      "source": [
        "텍스트와 관련된 패치 개체는 다음을 통해 액세스 할 수 있습니다."
      ]
    },
    {
      "cell_type": "code",
      "metadata": {
        "id": "QO21ZvqHuU0J",
        "outputId": "e756fe5f-ec0a-4115-b410-d36f143b1a80",
        "colab": {
          "base_uri": "https://localhost:8080/",
          "height": 170
        }
      },
      "source": [
        "bb = t.get_bbox_patch()"
      ],
      "execution_count": 3,
      "outputs": [
        {
          "output_type": "error",
          "ename": "NameError",
          "evalue": "ignored",
          "traceback": [
            "\u001b[0;31m---------------------------------------------------------------------------\u001b[0m",
            "\u001b[0;31mNameError\u001b[0m                                 Traceback (most recent call last)",
            "\u001b[0;32m<ipython-input-3-fcee54f5803b>\u001b[0m in \u001b[0;36m<module>\u001b[0;34m()\u001b[0m\n\u001b[0;32m----> 1\u001b[0;31m \u001b[0mbb\u001b[0m \u001b[0;34m=\u001b[0m \u001b[0mt\u001b[0m\u001b[0;34m.\u001b[0m\u001b[0mget_bbox_patch\u001b[0m\u001b[0;34m(\u001b[0m\u001b[0;34m)\u001b[0m\u001b[0;34m\u001b[0m\u001b[0;34m\u001b[0m\u001b[0m\n\u001b[0m",
            "\u001b[0;31mNameError\u001b[0m: name 't' is not defined"
          ]
        }
      ]
    },
    {
      "cell_type": "markdown",
      "metadata": {
        "id": "LbypjHTOuV1-"
      },
      "source": [
        "반환 값은 다음과 같습니다 FancyBboxPatch. 패치 속성 (facecolor, edgewidth 등)은 평소와 같이 액세스하고 수정할 수 있습니다. FancyBboxPatch.set_boxstyle상자 모양을 설정합니다."
      ]
    },
    {
      "cell_type": "code",
      "metadata": {
        "id": "aN2GMAq5uWu2"
      },
      "source": [
        "bb.set_boxstyle(\"rarrow\", pad=0.6)"
      ],
      "execution_count": null,
      "outputs": []
    },
    {
      "cell_type": "markdown",
      "metadata": {
        "id": "iZ9oEbt5uXr2"
      },
      "source": [
        "인수는 속성을 키워드 인수로 사용하는 상자 스타일의 이름입니다. 현재 다음과 같은 상자 스타일이 구현되어 있습니다."
      ]
    },
    {
      "cell_type": "markdown",
      "metadata": {
        "id": "gNlRjw6kuYwf"
      },
      "source": [
        "Class : Name : Attrs\n",
        "\n",
        "Circle : circle : pad=0.3\n",
        "\n",
        "DArrow : daroow : pad=0.3\n",
        "\n",
        "Larrow : larrow : pad=0.3 \n",
        "\n",
        "RArrow : rarrow : pad=0.3\n",
        "\n",
        "Round : round : pad=0.3,rounding_size=None\n",
        "\n",
        "Round4 : round4 : pad=0.3,rounding_size=None\n",
        "\n",
        "Roundtooth : roundtooth : pad=0.3,tooth_size=None\n",
        "\n",
        "sawtooth : sawtooth : pad=0.3,tooth_size=None\n",
        "\n",
        "Squre : squre : pad=0.3\n",
        "\n",
        "속성 인수는 쉼표로 구분하여 스타일 이름 내에서 지정할 수 있습니다 (이 형식은 텍스트 인스턴스를 초기화 할 때 bbox 인수의 \"boxstyle\"값으로 사용할 수 있음)."
      ]
    },
    {
      "cell_type": "code",
      "metadata": {
        "id": "gLMK0naFwqsa"
      },
      "source": [
        "bb.set_boxstyle(\"rarrow,pad=0.6\")"
      ],
      "execution_count": null,
      "outputs": []
    },
    {
      "cell_type": "markdown",
      "metadata": {
        "id": "Tu9sccfSwrzP"
      },
      "source": [
        "화살표로 주석 달기 \n",
        "annotate 축의 두 점을 연결하는 화살표를 그립니다."
      ]
    },
    {
      "cell_type": "code",
      "metadata": {
        "id": "ML2MRGuVwuXW"
      },
      "source": [
        "ax.annotate(\"Annotation\",\n",
        "            xy=(x1, y1), xycoords='data',\n",
        "            xytext=(x2, y2), textcoords='offset points',\n",
        "            )"
      ],
      "execution_count": null,
      "outputs": []
    },
    {
      "cell_type": "markdown",
      "metadata": {
        "id": "wolpUIFswwzv"
      },
      "source": [
        "이것은 주어진 좌표 ( xycoords ) 에서 xy 에 있는 점 에 textcoords에서 주어진 xytext에 있는 텍스트와 함께 주석 을 답니다 . 종종 주석이 달린 지점은 데이터 좌표에 지정되고 주석이 달린 텍스트는 오프셋 지점에 지정 됩니다. 사용 가능한 좌표계는을 참조하십시오 .annotate\n",
        "\n",
        "xy 를 xytext에 연결하는 화살표 는 arrowprops 인수 를 지정하여 선택적으로 그릴 수 있습니다 . 화살표 만 그리려면 빈 문자열을 첫 번째 인수로 사용하십시오."
      ]
    },
    {
      "cell_type": "code",
      "metadata": {
        "id": "TqERcp6_wxwJ"
      },
      "source": [
        "ax.annotate(\"\",\n",
        "            xy=(0.2, 0.2), xycoords='data',\n",
        "            xytext=(0.8, 0.8), textcoords='data',\n",
        "            arrowprops=dict(arrowstyle=\"->\",\n",
        "                            connectionstyle=\"arc3\"),\n",
        "            )"
      ],
      "execution_count": null,
      "outputs": []
    },
    {
      "cell_type": "markdown",
      "metadata": {
        "id": "jNxvb5SAwz3f"
      },
      "source": [
        "화살표는 다음과 같이 그려집니다.\n",
        "\n",
        "1. connectionstyle 매개 변수에 지정된대로 두 점을 연결하는 경로가 생성 됩니다.\n",
        "2. 패치 가 설정된 경우 patchA 및 patchB 를 피하기 위해 경로가 잘립니다 .\n",
        "3. 경로는 shrinkA 및 shrinkB (픽셀 단위)에 의해 추가로 축소됩니다 .\n",
        "4. 경로는 arrowstyle 매개 변수에 지정된대로 화살표 패치로 변환됩니다 ."
      ]
    },
    {
      "cell_type": "markdown",
      "metadata": {
        "id": "ker7nCO2w50X"
      },
      "source": [
        "**주석 달기** \n",
        "\n",
        "두 점 사이의 연결 경로 생성은 connectionstyle키로 제어되며 다음 스타일을 사용할 수 있습니다."
      ]
    },
    {
      "cell_type": "markdown",
      "metadata": {
        "id": "Sk-pwv7Uw9kP"
      },
      "source": [
        "Name : Attrs\n",
        "\n",
        "angle : angleA = 90, angleB = 0, rad = 0.0\n",
        "\n",
        "angle3 : angleA = 90, angleB = 0\n",
        "\n",
        "arc : \tangleA = 0, angleB = 0, armA = None, armB = None, rad = 0.0\n",
        "\n",
        "arc3 : rad = 0.0\n",
        "\n",
        "bar : armA=0.0, armB= 0.0, fraction = 0.3 angle = None"
      ]
    },
    {
      "cell_type": "markdown",
      "metadata": {
        "id": "H3RLHr4WxUEx"
      },
      "source": [
        "angle3및의 \"3\" arc3은 결과 경로가 2 차 스플라인 세그먼트 (3 개의 제어점)임을 나타냅니다. 아래에서 설명하는 것처럼 일부 화살표 스타일 옵션은 연결 경로가 2 차 스플라인 인 경우에만 사용할 수 있습니다.\n",
        "\n",
        "각 연결 스타일의 동작은 아래 예제에서 (제한적으로) 설명됩니다. (경고 : bar스타일 의 동작 은 현재 잘 정의되어 있지 않으며 향후 변경 될 수 있습니다.)"
      ]
    },
    {
      "cell_type": "markdown",
      "metadata": {
        "id": "9L7e57wnxVdR"
      },
      "source": [
        "연결 스타일 데모 \n",
        "\n",
        "연결 경로 (클리핑 및 축소 후)는 주어진에 따라 화살표 패치로 변경됩니다 arrowstyle."
      ]
    },
    {
      "cell_type": "markdown",
      "metadata": {
        "id": "Ob38vr0yxWXq"
      },
      "source": [
        "Name : Attrs\n",
        "\n",
        "'-' : None\n",
        "\n",
        "-> : head_length = 0.4, head_width = 0.2\n",
        "\n",
        "-[ : widthB = 1.0, lengthB = 0.2, angleB = None\n",
        "\n",
        "|-| = 너비 A = 1.0, 너비 B = 1.0\n",
        "\n",
        "-|> : head_length = 0.4, head_width = 0.2\n",
        "\n",
        "<- : head_length = 0.4, head_width = 0.2\n",
        "\n",
        "<-> : head_length = 0.4, head_width = 0.2\n",
        "\n",
        "<|- : head_length = 0.4, head_width = 0.2\n",
        "\n",
        "<|-|> : head_length = 0.4, head_width = 0.2\n",
        "\n",
        "fancy : head_length = 0.4, head_width = 0.4, tail_width = 0.4\n",
        "\n",
        "simple : head_length = 0.5, head_width = 0.5, tail_width = 0.2\n",
        "\n",
        "wedge : tail_width=0.3,shrink_factor=0.5"
      ]
    },
    {
      "cell_type": "markdown",
      "metadata": {
        "id": "BufzhFq0yCNE"
      },
      "source": [
        "일부 화살표 스타일은 2 차 스플라인 세그먼트를 생성하는 연결 스타일에서만 작동합니다. 그들은이다 fancy, simple하고 wedge. 이러한 화살표 스타일의 경우 \"angle3\"또는 \"arc3\"연결 스타일을 사용해야합니다.\n",
        "\n",
        "주석 문자열이 제공되면 patchA는 기본적으로 텍스트의 bbox 패치로 설정됩니다.\n",
        "\n"
      ]
    },
    {
      "cell_type": "markdown",
      "metadata": {
        "id": "tgpoJ7vVyDOU"
      },
      "source": [
        "와 마찬가지로 bbox 인수를 text사용하여 텍스트 주위에 상자를 그릴 수 있습니다 ."
      ]
    },
    {
      "cell_type": "markdown",
      "metadata": {
        "id": "WvwlFeCKyE0R"
      },
      "source": [
        "기본적으로 시작점은 텍스트 범위의 중심으로 설정됩니다. 이것은 relpos키 값 으로 조정할 수 있습니다 . 값은 텍스트 범위로 정규화됩니다. 예를 들어, (0, 0)은 왼쪽 하단 모서리를 의미하고 (1, 1)은 오른쪽 상단을 의미합니다."
      ]
    },
    {
      "cell_type": "markdown",
      "metadata": {
        "id": "v4UOApRIyFjx"
      },
      "source": [
        "축의 고정 된 위치에 아티스트 배치 \n",
        "Axes의 고정 된 위치에 배치 할 수있는 아티스트 클래스가 있습니다. 일반적인 예는 범례입니다. 이러한 유형의 아티스트는 OffsetBox클래스 를 사용하여 만들 수 있습니다 . 몇 가지 미리 정의 된 클래스에서 사용할 수있는 matplotlib.offsetbox과에 mpl_toolkits.axes_grid1.anchored_artists."
      ]
    },
    {
      "cell_type": "code",
      "metadata": {
        "id": "cxUkC8jwyHHw"
      },
      "source": [
        "from matplotlib.offsetbox import AnchoredText\n",
        "at = AnchoredText(\"Figure 1a\",\n",
        "                  prop=dict(size=15), frameon=True,\n",
        "                  loc='upper left',\n",
        "                  )\n",
        "at.patch.set_boxstyle(\"round,pad=0.,rounding_size=0.2\")\n",
        "ax.add_artist(at)"
      ],
      "execution_count": null,
      "outputs": []
    },
    {
      "cell_type": "markdown",
      "metadata": {
        "id": "k0XJwGM3yMDl"
      },
      "source": [
        "LOC의 키워드는 전설 명령에서와 같은 의미를 가지고있다.\n",
        "\n",
        "간단한 응용 프로그램은 아티스트 (또는 아티스트 컬렉션)의 크기가 생성되는 동안 픽셀 크기로 알려진 경우입니다. 예를 들어 20 픽셀 x 20 픽셀 (반지름 = 10 픽셀)의 고정 크기로 원을 그리려면 AnchoredDrawingArea. 인스턴스는 그리기 영역의 크기 (픽셀 단위)로 생성되고 임의의 아티스트가 그리기 영역에 추가 될 수 있습니다. 도면 영역에 추가 된 아티스트의 범위는 도면 영역 자체의 배치와 관련이 없습니다. 초기 크기 만 중요합니다."
      ]
    },
    {
      "cell_type": "code",
      "metadata": {
        "id": "SXPeUOxyyNAy"
      },
      "source": [
        "from mpl_toolkits.axes_grid1.anchored_artists import AnchoredDrawingArea\n",
        "\n",
        "ada = AnchoredDrawingArea(20, 20, 0, 0,\n",
        "                          loc='upper right', pad=0., frameon=False)\n",
        "p1 = Circle((10, 10), 10)\n",
        "ada.drawing_area.add_artist(p1)\n",
        "p2 = Circle((30, 10), 5, fc=\"r\")\n",
        "ada.drawing_area.add_artist(p2)"
      ],
      "execution_count": null,
      "outputs": []
    },
    {
      "cell_type": "markdown",
      "metadata": {
        "id": "B_MJw0-myO_6"
      },
      "source": [
        "그리기 영역에 추가 된 아티스트에는 변환 세트가 없어야하며 (재정의 됨) 해당 아티스트의 치수는 픽셀 좌표로 해석됩니다. 즉, 위의 예에서 원의 반경은 10 픽셀과 5 픽셀입니다. , 각각."
      ]
    },
    {
      "cell_type": "markdown",
      "metadata": {
        "id": "nbPm1dacyQJw"
      },
      "source": [
        "고정 된 Box02 \n",
        "\n",
        "때로는 아티스트가 데이터 좌표 (또는 캔버스 픽셀 이외의 좌표)로 크기를 조정하기를 원합니다. AnchoredAuxTransformBox수업 을 사용할 수 있습니다 . 이는 AnchoredDrawingArea지정된 변환에 따라 드로잉 시간 동안 아티스트의 범위가 결정된다는 점 을 제외하면 유사합니다 ."
      ]
    },
    {
      "cell_type": "code",
      "metadata": {
        "id": "f80q8c9gyR0t"
      },
      "source": [
        "from mpl_toolkits.axes_grid1.anchored_artists import AnchoredAuxTransformBox\n",
        "\n",
        "box = AnchoredAuxTransformBox(ax.transData, loc='upper left')\n",
        "el = Ellipse((0, 0), width=0.1, height=0.4, angle=30)  # in data coordinates!\n",
        "box.drawing_area.add_artist(el)"
      ],
      "execution_count": null,
      "outputs": []
    },
    {
      "cell_type": "markdown",
      "metadata": {
        "id": "qLjW8zJ8yTir"
      },
      "source": [
        "위 예제의 타원은 데이터 좌표에서 0.1 및 0.4에 해당하는 너비와 높이를 가지며 축의보기 제한이 변경 될 때 자동으로 크기가 조정됩니다."
      ]
    },
    {
      "cell_type": "markdown",
      "metadata": {
        "id": "tl2Wiy2SyUwS"
      },
      "source": [
        "고정 된 Box03 \n",
        "\n",
        "범례에서와 같이 bbox_to_anchor 인수를 설정할 수 있습니다. HPacker와 VPacker를 사용하면 범례 에서처럼 아티스트의 배열 (?)을 가질 수 있습니다 (사실이게 범례가 만들어지는 방식입니다)."
      ]
    },
    {
      "cell_type": "markdown",
      "metadata": {
        "id": "VvSNksDKyWC0"
      },
      "source": [
        "고정 된 Box04 \n",
        "\n",
        "범례와 달리는 bbox_transform기본적으로 IdentityTransform으로 설정됩니다.\n",
        "\n",
        "주석과 함께 복잡한 좌표 사용 \n",
        "matplotlib의 주석은 기본 주석에 설명 된대로 여러 유형의 좌표를 지원합니다 . 더 많은 제어를 원하는 고급 사용자를 위해 몇 가지 다른 옵션을 지원합니다.\n",
        "\n",
        "1. Transform인스턴스입니다. 예를 들면"
      ]
    },
    {
      "cell_type": "code",
      "metadata": {
        "id": "lwUPUFFoyXMr"
      },
      "source": [
        "ax.annotate(\"Test\", xy=(0.5, 0.5), xycoords=ax.transAxes)"
      ],
      "execution_count": null,
      "outputs": []
    },
    {
      "cell_type": "markdown",
      "metadata": {
        "id": "lHJS9a9tyX9l"
      },
      "source": [
        "~와 동일하다"
      ]
    },
    {
      "cell_type": "code",
      "metadata": {
        "id": "lSu8v612yY2C"
      },
      "source": [
        "ax.annotate(\"Test\", xy=(0.5, 0.5), xycoords=\"axes fraction\")"
      ],
      "execution_count": null,
      "outputs": []
    },
    {
      "cell_type": "markdown",
      "metadata": {
        "id": "fNw-xBmiybxI"
      },
      "source": [
        "이를 통해 다른 축의 점에 주석을 달 수 있습니다."
      ]
    },
    {
      "cell_type": "code",
      "metadata": {
        "id": "qW-G7UHGycJU"
      },
      "source": [
        "ax1, ax2 = subplot(121), subplot(122)\n",
        "ax2.annotate(\"Test\", xy=(0.5, 0.5), xycoords=ax1.transData,\n",
        "             xytext=(0.5, 0.5), textcoords=ax2.transData,\n",
        "             arrowprops=dict(arrowstyle=\"->\"))"
      ],
      "execution_count": null,
      "outputs": []
    },
    {
      "cell_type": "markdown",
      "metadata": {
        "id": "QjYH8uJtyeBt"
      },
      "source": [
        "2. Artist인스턴스입니다. XY의 값 (또는 xytext는 )이 BBOX (의 반환 값의 좌표 분수 A와 해석됩니다 get_window_extent 작가의) :"
      ]
    },
    {
      "cell_type": "code",
      "metadata": {
        "id": "JKlwXH0Ayjhw"
      },
      "source": [
        "an1 = ax.annotate(\"Test 1\", xy=(0.5, 0.5), xycoords=\"data\",\n",
        "                  va=\"center\", ha=\"center\",\n",
        "                  bbox=dict(boxstyle=\"round\", fc=\"w\"))\n",
        "an2 = ax.annotate(\"Test 2\", xy=(1, 0.5), xycoords=an1,  # (1, 0.5) of the an1's bbox\n",
        "                  xytext=(30, 0), textcoords=\"offset points\",\n",
        "                  va=\"center\", ha=\"left\",\n",
        "                  bbox=dict(boxstyle=\"round\", fc=\"w\"),\n",
        "                  arrowprops=dict(arrowstyle=\"->\"))"
      ],
      "execution_count": null,
      "outputs": []
    },
    {
      "cell_type": "markdown",
      "metadata": {
        "id": "NjYTdzCtylOC"
      },
      "source": [
        "단순 좌표가있는 주석 \n",
        "\n",
        "당신이 좌표 아티스트 (의 범위에 있는지 확인해야합니다 AN1 전에 위의 예에서)이 결정된다 AN2이 그려됩니다. 일반적으로이 수단 것을 AN2 요구 후 그려 질 AN1 .\n",
        "\n",
        "3. 렌더러 인스턴스를 단일 인수로 사용하고 a Transform또는 a를 반환하는 호출 가능 개체입니다 BboxBase. 그런 다음 반환 값은 변환의 경우 (1) 또는 bbox의 경우 (2)에서와 같이 처리됩니다. 예를 들면"
      ]
    },
    {
      "cell_type": "code",
      "metadata": {
        "id": "MUdf6GaiypHg"
      },
      "source": [
        "an2 = ax.annotate(\"Test 2\", xy=(1, 0.5), xycoords=an1,\n",
        "                  xytext=(30, 0), textcoords=\"offset points\")"
      ],
      "execution_count": null,
      "outputs": []
    },
    {
      "cell_type": "markdown",
      "metadata": {
        "id": "2zggJH-WyqVy"
      },
      "source": [
        "다음과 동일합니다."
      ]
    },
    {
      "cell_type": "code",
      "metadata": {
        "id": "MducOXzIyrLQ"
      },
      "source": [
        "n2 = ax.annotate(\"Test 2\", xy=(1, 0.5), xycoords=an1.get_window_extent,\n",
        "                  xytext=(30, 0), textcoords=\"offset points\")"
      ],
      "execution_count": null,
      "outputs": []
    },
    {
      "cell_type": "markdown",
      "metadata": {
        "id": "kADBAI3PysPw"
      },
      "source": [
        "4. 한 쌍의 좌표 사양-첫 번째는 x 좌표 용이고 두 번째는 y 좌표 용입니다. 예 :"
      ]
    },
    {
      "cell_type": "code",
      "metadata": {
        "id": "eeaLKQPUyt-Y"
      },
      "source": [
        "annotate(\"Test\", xy=(0.5, 1), xycoords=(\"data\", \"axes fraction\"))\n"
      ],
      "execution_count": null,
      "outputs": []
    },
    {
      "cell_type": "markdown",
      "metadata": {
        "id": "QMeX4psiyvk0"
      },
      "source": [
        "여기서 0.5는 데이터 좌표에 있고 1은 정규화 된 축 좌표에 있습니다. 각 좌표 사양은 아티스트 또는 변형 일 수도 있습니다. 예를 들면\n",
        "\n"
      ]
    },
    {
      "cell_type": "markdown",
      "metadata": {
        "id": "3yPiGmZ4ywRi"
      },
      "source": [
        "단순 좌표가있는 주석 2 \n",
        "\n",
        "5. 때로는 주석이있는 지점이 아닌 다른 지점에서 일부 \"오프셋 지점\"이있는 주석을 원합니다. text.OffsetFrom그러한 경우에 대한 도우미입니다.\n",
        "\n"
      ]
    },
    {
      "cell_type": "markdown",
      "metadata": {
        "id": "76QxAHAByy-4"
      },
      "source": [
        "이 예제 Annotating Plots를 살펴볼 수 있습니다 .\n",
        "\n",
        "**ConnectionPatch** 사용 \n",
        "\n",
        "ConnectionPatch는 텍스트가없는 주석과 같습니다. annotate 대부분의 상황에서 충분 하지만 ConnectionPatch는 다른 축의 점을 연결하려는 경우 유용합니다."
      ]
    },
    {
      "cell_type": "code",
      "metadata": {
        "id": "GsN6UvWjy4ce"
      },
      "source": [
        "from matplotlib.patches import ConnectionPatch\n",
        "xy = (0.2, 0.2)\n",
        "con = ConnectionPatch(xyA=xy, coordsA=ax1.transData,\n",
        "                      xyB=xy, coordsB=ax2.transData)\n",
        "fig.add_artist(con)"
      ],
      "execution_count": null,
      "outputs": []
    },
    {
      "cell_type": "markdown",
      "metadata": {
        "id": "oiEjKdOSy6rX"
      },
      "source": [
        "위의 코드 포인트 연결 의 XY 의 데이터 좌표 ax1점에 XY 의 데이터 좌표 ax2. 다음은 간단한 예입니다.\n",
        "\n",
        "Connect Simple01\n",
        "\n",
        "여기서는 두 축이 아닌 그림 (사용 add_artist)에 ConnectionPatch를 추가했습니다 . 이렇게하면 두 축의 맨 위에 그려지며 축 위치 지정을 위해 constrained_layout 을 사용하는 경우에도 필요합니 ."
      ]
    },
    {
      "cell_type": "markdown",
      "metadata": {
        "id": "fKkF__lNzCaB"
      },
      "source": [
        "## 고급 주제\n",
        "\n",
        "축 간 확대 / 축소 효과 \n",
        "mpl_toolkits.axes_grid1.inset_locator두 축을 상호 연결하는 데 유용한 패치 클래스를 정의합니다. 코드를 이해하려면 Matplotlib의 변환 시스템에 대한 지식이 필요합니다."
      ]
    },
    {
      "cell_type": "markdown",
      "metadata": {
        "id": "JisjwX4tzEyg"
      },
      "source": [
        "축 줌 효과 \n",
        "\n",
        "사용자 정의 **BoxStyle** 정의 \n",
        "\n",
        "사용자 정의 상자 스타일을 사용할 수 있습니다. 의 값 boxstyle은 다음 형식의 호출 가능한 객체 일 수 있습니다. :"
      ]
    },
    {
      "cell_type": "code",
      "metadata": {
        "id": "GzxZJ7POzIVC"
      },
      "source": [
        "def __call__(self, x0, y0, width, height, mutation_size,\n",
        "             aspect_ratio=1.):\n",
        "    '''\n",
        "    Given the location and size of the box, return the path of\n",
        "    the box around it.\n",
        "\n",
        "      - *x0*, *y0*, *width*, *height* : location and size of the box\n",
        "      - *mutation_size* : a reference scale for the mutation.\n",
        "      - *aspect_ratio* : aspect-ratio for the mutation.\n",
        "    '''\n",
        "    path = ...\n",
        "    return path"
      ],
      "execution_count": 11,
      "outputs": []
    },
    {
      "cell_type": "markdown",
      "metadata": {
        "id": "shHi_inSzKaJ"
      },
      "source": [
        "다음은 완전한 예입니다."
      ]
    },
    {
      "cell_type": "markdown",
      "metadata": {
        "id": "X3POp2OLzLVL"
      },
      "source": [
        "**커스텀 Boxstyle01**\n",
        "\n",
        "마찬가지로 사용자 지정 ConnectionStyle 및 사용자 지정 ArrowStyle을 정의 할 수 있습니다. 의 소스 코드를 lib/matplotlib/patches.py보고 각 스타일 클래스가 정의 된 방식을 확인하십시오."
      ]
    }
  ]
}