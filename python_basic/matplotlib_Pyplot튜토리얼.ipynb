{
  "nbformat": 4,
  "nbformat_minor": 0,
  "metadata": {
    "colab": {
      "name": "matplotlib Pyplot튜토리얼.ipynb",
      "provenance": [],
      "toc_visible": true,
      "authorship_tag": "ABX9TyPNIqcuBuGIiel4rbukDdsH",
      "include_colab_link": true
    },
    "kernelspec": {
      "name": "python3",
      "display_name": "Python 3"
    }
  },
  "cells": [
    {
      "cell_type": "markdown",
      "metadata": {
        "id": "view-in-github",
        "colab_type": "text"
      },
      "source": [
        "<a href=\"https://colab.research.google.com/github/ParkSeonungHun/Hun/blob/main/python_basic/matplotlib_Pyplot%ED%8A%9C%ED%86%A0%EB%A6%AC%EC%96%BC.ipynb\" target=\"_parent\"><img src=\"https://colab.research.google.com/assets/colab-badge.svg\" alt=\"Open In Colab\"/></a>"
      ]
    },
    {
      "cell_type": "markdown",
      "metadata": {
        "id": "R4OoBZGSqjSg"
      },
      "source": [
        "# Pyplot 튜토리얼\n",
        "\n",
        "pyplot 인터페이스에 대한 소개입니다."
      ]
    },
    {
      "cell_type": "markdown",
      "metadata": {
        "id": "sbdOEuZaqobA"
      },
      "source": [
        "## Pyplot 소개\n",
        "\n",
        "matplotlib.pyplotmatplotlib가 MATLAB처럼 작동하도록하는 함수 모음입니다. 각 pyplot함수는 그림을 약간 변경합니다. 예를 들어, 그림 생성, 그림에 플로팅 영역 생성, 플로팅 영역에 일부 선 플로팅, 레이블로 플롯 장식 등이 있습니다.\n",
        "\n",
        "에서 matplotlib.pyplot다양한 상태가 현재의 모습과 음모를 꾸미고 지역, 같은 물건을 추적 그래서, 함수 호출시 보존 및 플로팅 기능 \"축\"여기 대부분의 장소에서이 문서가 참조에 있음을하시기 바랍니다 참고 (현재의 축에 연결됩니다 하나 이상의 축에 대한 엄격한 수학적 용어가 아닌 그림 의 축 부분에 )."
      ]
    },
    {
      "cell_type": "markdown",
      "metadata": {
        "id": "Yw80mSY-qrTA"
      },
      "source": [
        "노트\n",
        "\n",
        "pyplot API는 일반적으로 객체 지향 API보다 유연성이 떨어집니다. 여기에서 볼 수있는 대부분의 함수 호출은 Axes객체의 메서드로 호출 될 수도 있습니다 . 이것이 어떻게 작동하는지 알아 보려면 자습서와 예제를 살펴 보는 것이 좋습니다."
      ]
    },
    {
      "cell_type": "markdown",
      "metadata": {
        "id": "1rZVuzGuqssI"
      },
      "source": [
        "pyplot으로 시각화를 생성하는 것은 매우 빠릅니다."
      ]
    },
    {
      "cell_type": "code",
      "metadata": {
        "id": "TPIj-9p7qtkd"
      },
      "source": [
        "import matplotlib.pyplot as plt\n",
        "plt.plot([1, 2, 3, 4])\n",
        "plt.ylabel('some numbers')\n",
        "plt.show()"
      ],
      "execution_count": null,
      "outputs": []
    },
    {
      "cell_type": "markdown",
      "metadata": {
        "id": "HOhsAXWIqxcX"
      },
      "source": [
        "x 축이 0-3이고 y 축이 1-4 인 이유가 궁금 할 수 있습니다. 에 단일 목록 또는 배열을 제공하면 plotmatplotlib는 이것이 y 값의 시퀀스라고 가정하고 자동으로 x 값을 생성합니다. 파이썬 범위는 0으로 시작하므로 기본 x 벡터의 길이는 y와 같지만 0으로 시작합니다. 따라서 x 데이터는 .[0, 1, 2, 3]\n",
        "\n",
        "plot다목적 함수이며 임의의 수의 인수를 사용합니다. 예를 들어 x 대 y를 플로팅하려면 다음과 같이 작성할 수 있습니다."
      ]
    },
    {
      "cell_type": "code",
      "metadata": {
        "id": "I-cvaGfwqyf_"
      },
      "source": [
        "plt.plot([1, 2, 3, 4], [1, 4, 9, 16])"
      ],
      "execution_count": null,
      "outputs": []
    },
    {
      "cell_type": "markdown",
      "metadata": {
        "id": "kDXzEPPRq02H"
      },
      "source": [
        "플롯 스타일 서식 지정\n",
        " \n",
        "모든 x, y 쌍의 인수에 대해 플롯의 색상과 선 유형을 나타내는 형식 문자열 인 선택적 세 번째 인수가 있습니다. 형식 문자열의 문자와 기호는 MATLAB에서 가져 왔으며 색상 문자열을 선 스타일 문자열과 연결합니다. 기본 형식 문자열은 파란색 실선 인 'b-'입니다. 예를 들어, 위를 빨간색 원으로 플로팅하려면 다음을 실행합니다."
      ]
    },
    {
      "cell_type": "code",
      "metadata": {
        "id": "f9rMB6D3q3tp"
      },
      "source": [
        "plt.plot([1, 2, 3, 4], [1, 4, 9, 16], 'ro')\n",
        "plt.axis([0, 6, 0, 20])\n",
        "plt.show()"
      ],
      "execution_count": null,
      "outputs": []
    },
    {
      "cell_type": "markdown",
      "metadata": {
        "id": "WVaTRrPaq6YQ"
      },
      "source": [
        "plot선 스타일 및 형식 문자열의 전체 목록은 설명서를 참조하십시오 . axis위 예제 의 함수 는 축 목록을 가져 와서 좌표축의 뷰포트를 지정합니다.[xmin, xmax, ymin, ymax]\n",
        "\n",
        "matplotlib가 목록 작업으로 제한되면 숫자 처리에 상당히 쓸모가 없습니다. 일반적으로 numpy 배열 을 사용 합니다. 실제로 모든 시퀀스는 내부적으로 numpy 배열로 변환됩니다. 아래 예제는 배열을 사용하여 하나의 함수 호출에서 서로 다른 형식 스타일로 여러 줄을 플로팅하는 것을 보여줍니다."
      ]
    },
    {
      "cell_type": "code",
      "metadata": {
        "id": "eFM7aABFq8Jx"
      },
      "source": [
        "import numpy as np\n",
        "\n",
        "# evenly sampled time at 200ms intervals\n",
        "t = np.arange(0., 5., 0.2)\n",
        "\n",
        "# red dashes, blue squares and green triangles\n",
        "plt.plot(t, t, 'r--', t, t**2, 'bs', t, t**3, 'g^')\n",
        "plt.show()"
      ],
      "execution_count": null,
      "outputs": []
    },
    {
      "cell_type": "markdown",
      "metadata": {
        "id": "KTedzc0yq-b5"
      },
      "source": [
        "## 키워드 문자열로 플로팅하기\n",
        "\n",
        "문자열을 사용하여 특정 변수에 액세스 할 수있는 형식의 데이터가있는 경우가 있습니다. 예를 들어, numpy.recarray또는 pandas.DataFrame.\n",
        "\n",
        "Matplotlib를 사용하면 data키워드 인수 와 함께 이러한 객체를 제공 할 수 있습니다 . 제공된 경우 이러한 변수에 해당하는 문자열로 플롯을 생성 할 수 있습니다."
      ]
    },
    {
      "cell_type": "code",
      "metadata": {
        "id": "DCcacBNhrCVT"
      },
      "source": [
        "data = {'a': np.arange(50),\n",
        "        'c': np.random.randint(0, 50, 50),\n",
        "        'd': np.random.randn(50)}\n",
        "data['b'] = data['a'] + 10 * np.random.randn(50)\n",
        "data['d'] = np.abs(data['d']) * 100\n",
        "\n",
        "plt.scatter('a', 'b', c='c', s='d', data=data)\n",
        "plt.xlabel('entry a')\n",
        "plt.ylabel('entry b')\n",
        "plt.show()"
      ],
      "execution_count": null,
      "outputs": []
    },
    {
      "cell_type": "markdown",
      "metadata": {
        "id": "0Wjc5xBsrFAf"
      },
      "source": [
        "## 범주형 변수로 플로팅하기\n",
        "\n",
        "범주 형 변수를 사용하여 그림을 생성 할 수도 있습니다. Matplotlib를 사용하면 범주 형 변수를 여러 플로팅 함수에 직접 전달할 수 있습니다. 예를 들면 "
      ]
    },
    {
      "cell_type": "code",
      "metadata": {
        "id": "vdBb0o_SrH7X"
      },
      "source": [
        "names = ['group_a', 'group_b', 'group_c']\n",
        "values = [1, 10, 100]\n",
        "\n",
        "plt.figure(figsize=(9, 3))\n",
        "\n",
        "plt.subplot(131)\n",
        "plt.bar(names, values)\n",
        "plt.subplot(132)\n",
        "plt.scatter(names, values)\n",
        "plt.subplot(133)\n",
        "plt.plot(names, values)\n",
        "plt.suptitle('Categorical Plotting')\n",
        "plt.show()"
      ],
      "execution_count": null,
      "outputs": []
    },
    {
      "cell_type": "markdown",
      "metadata": {
        "id": "8ZOIu66MrKUr"
      },
      "source": [
        "## 라인 속성 제어하기\n",
        "\n",
        "선에는 선폭, 대시 스타일, 앤티 앨리어싱 등 설정할 수있는 많은 속성이 있습니다. 참조하십시오 matplotlib.lines.Line2D. 선 속성을 설정하는 방법에는 여러 가지가 있습니다."
      ]
    },
    {
      "cell_type": "markdown",
      "metadata": {
        "id": "_a-7DC9TrNet"
      },
      "source": [
        "\n",
        "*   키워드 인수 사용:\n",
        "\n"
      ]
    },
    {
      "cell_type": "code",
      "metadata": {
        "id": "gU44uIR1rS1x"
      },
      "source": [
        "plt.plot(x, y, linewidth=2.0)"
      ],
      "execution_count": null,
      "outputs": []
    },
    {
      "cell_type": "markdown",
      "metadata": {
        "id": "3f2eNOkOrXZf"
      },
      "source": [
        "\n",
        "\n",
        "*   Line2D인스턴스 의 setter 메서드를 사용합니다 . 객체 plot목록을 반환 Line2D합니다. 예 : . 아래 코드에서 반환 된 목록의 길이가 1이되도록 한 줄만 있다고 가정 합니다. 해당 목록의 첫 번째 요소를 가져 오기 위해 튜플 압축 해제를 사용 합니다.line1, line2 = plot(x1, y1, x2, y2)line,\n",
        "\n",
        "\n"
      ]
    },
    {
      "cell_type": "code",
      "metadata": {
        "id": "jkV3HkKLra_Q"
      },
      "source": [
        "line, = plt.plot(x, y, '-')\n",
        "line.set_antialiased(False) # turn off antialiasing"
      ],
      "execution_count": null,
      "outputs": []
    },
    {
      "cell_type": "markdown",
      "metadata": {
        "id": "RWe-1ylgrcto"
      },
      "source": [
        "\n",
        "\n",
        "*   사용 setp. 아래 예제는 MATLAB 스타일 함수를 사용하여 행 목록에 여러 속성을 설정합니다. setp개체 목록 또는 단일 개체와 투명하게 작동합니다. python 키워드 인수 또는 MATLAB 스타일 문자열 / 값 쌍을 사용할 수 있습니다.\n",
        "\n",
        "\n"
      ]
    },
    {
      "cell_type": "code",
      "metadata": {
        "id": "9mqUq9ncrfyq"
      },
      "source": [
        "lines = plt.plot(x1, y1, x2, y2)\n",
        "# use keyword args\n",
        "plt.setp(lines, color='r', linewidth=2.0)\n",
        "# or MATLAB style string value pairs\n",
        "plt.setp(lines, 'color', 'r', 'linewidth', 2.0)"
      ],
      "execution_count": null,
      "outputs": []
    },
    {
      "cell_type": "markdown",
      "metadata": {
        "id": "7BZRORKDrnYK"
      },
      "source": [
        "다음은 사용 가능한 Line2D속성입니다"
      ]
    },
    {
      "cell_type": "markdown",
      "metadata": {
        "id": "Ex9TNYiXrpxZ"
      },
      "source": [
        "특성 : 값 유형\n",
        "\n",
        "---\n",
        "알파 : float\n",
        "\n",
        "생기 있는 : [True | False]\n",
        "\n",
        "앤티 앨리어싱 또는 aa : [True | False]\n",
        "\n",
        "clip_box : matplotilb.transform.Bbox 인스턴스\n",
        "\n",
        "clip_on : [True | False]\n",
        "\n",
        "clip_path : Path 인스턴스 및 Transfotm 인스턴스, 패치\n",
        "\n",
        "color 또는 c : 모든 matplotlib 색상\n",
        "\n",
        "포함 : 히트 테스트 기능\n",
        "\n",
        "dash_capstyle : ['butt'|'round'|'projecting']\n",
        "\n",
        "dash_joinstyle : ['miter'|'round'|'bevel']\n",
        "\n",
        "dashes : 온/오프 잉크 순서 (포인트 단위)\n",
        "\n",
        "data : (np.array xdata, np.array ydata)\n",
        "\n",
        "figure : matplotlib.figure.Figure 인스턴스\n",
        "\n",
        "label : 모든 문자열\n",
        "\n",
        "linestyle 또는 ls : ['-'|'--'|'-.'|':'|'steps'|...]\n",
        "\n",
        "linewidth 또는 lw : 포인트 단위의 부동 값\n",
        "\n",
        "marker : ['+'|','|'.'|'1'|'2'|'3'|'4']\n",
        "\n",
        "markeredgecolor 또는 mec : 모든 matplotlib 색상\n",
        "\n",
        "markeredgewidth 또는 mew : 포인트 단위의 부동 값\n",
        "\n",
        "markerfacecolor 또는 mfc : 모든 matplotlib 색상\n",
        "\n",
        "markersize 또는 ms : float\n",
        "\n",
        "markevery : [없음|정수|(startind,stride)]\n",
        "\n",
        "picker: 대화식 라인 선택에 사용\n",
        "\n",
        "pickradius : 라인 선택 선택 반경\n",
        "\n",
        "solid_capstyle : ['butt'|'round'|'projecting'] \n",
        "\n",
        "solid_joinstyle : ['miter'|'round'|'bevel']\n",
        "\n",
        "transform : matplotlib.transforms.Transform 인스턴스\n",
        "\n",
        "visible : [True | False]\n",
        "\n",
        "xdata : np.array\n",
        "\n",
        "ydata : np.array\n",
        "\n",
        "zorder : 임의의 숫자"
      ]
    },
    {
      "cell_type": "markdown",
      "metadata": {
        "id": "4ZMUyYipwg4j"
      },
      "source": [
        "설정 가능한 라인 속성 목록을 얻으려면 setp라인을 인수로 사용 하여 함수를 호출하십시오."
      ]
    },
    {
      "cell_type": "code",
      "metadata": {
        "id": "597F3ZJowh4j"
      },
      "source": [
        "In [69]: lines = plt.plot([1, 2, 3])\n",
        "\n",
        "In [70]: plt.setp(lines)\n",
        "  alpha: float\n",
        "  animated: [True | False]\n",
        "  antialiased or aa: [True | False]\n",
        "  ...snip"
      ],
      "execution_count": null,
      "outputs": []
    },
    {
      "cell_type": "markdown",
      "metadata": {
        "id": "WLf0dePcwlt8"
      },
      "source": [
        "## 여러 도형 및 축 작업\n",
        "\n",
        "MATLAB 및 pyplot에는 현재 Figure와 현재 좌표축의 개념이 있습니다. 모든 플로팅 기능은 현재 좌표축에 적용됩니다. 이 함수 gca는 현재 좌표축 ( matplotlib.axes.Axes인스턴스)을 gcf반환하고 현재 Figure ( matplotlib.figure.Figure인스턴스)를 반환합니다 . 일반적으로 이것에 대해 걱정할 필요가 없습니다. 모든 것이 뒤에서 처리되기 때문입니다. 아래는 두 개의 서브 플롯을 만드는 스크립트입니다."
      ]
    },
    {
      "cell_type": "code",
      "metadata": {
        "id": "dxOp_aK5wpOM"
      },
      "source": [
        "def f(t):\n",
        "    return np.exp(-t) * np.cos(2*np.pi*t)\n",
        "\n",
        "t1 = np.arange(0.0, 5.0, 0.1)\n",
        "t2 = np.arange(0.0, 5.0, 0.02)\n",
        "\n",
        "plt.figure()\n",
        "plt.subplot(211)\n",
        "plt.plot(t1, f(t1), 'bo', t2, f(t2), 'k')\n",
        "\n",
        "plt.subplot(212)\n",
        "plt.plot(t2, np.cos(2*np.pi*t2), 'r--')\n",
        "plt.show()"
      ],
      "execution_count": null,
      "outputs": []
    },
    {
      "cell_type": "markdown",
      "metadata": {
        "id": "rv5ETGFOwrsu"
      },
      "source": [
        "figure때문에 여기 호출은 선택 사항이며 figure(1)기본적으로 생성됩니다 단지로, subplot(111) 당신은 수동으로 축을 지정하지 않은 경우 기본적으로 생성됩니다. subplot호 지정 1의 범위이다 . 호출 의 쉼표 는 선택 사항 입니다. 그래서 동일합니다 .numrows, numcols, plot_numberplot_numbernumrows*numcolssubplotnumrows*numcols<10subplot(211)subplot(2, 1, 1)\n",
        "\n",
        "임의의 수의 서브 플롯과 축을 생성 할 수 있습니다. 축을 수동으로 배치하려는 경우, 즉 직사각형 그리드가 아닌 axes을 사용하여 모든 값이 분수 (0 ~ 1) 좌표에 있는 위치를 지정할 수 있습니다 . 축을 수동으로 배치하는 예제는 Axes Demo 를, 많은 서브 플롯이있는 예제는 Basic Subplot Demo 를 참조하십시오 .axes([left, bottom, width, height])\n",
        "\n",
        "figure그림 번호가 증가 하는 여러 호출을 사용하여 여러 그림을 만들 수 있습니다 . 물론 각 그림에는 마음이 원하는만큼 많은 축과 하위 그림이 포함될 수 있습니다."
      ]
    },
    {
      "cell_type": "code",
      "metadata": {
        "id": "cyT_ISjswtXx"
      },
      "source": [
        "import matplotlib.pyplot as plt\n",
        "plt.figure(1)                # the first figure\n",
        "plt.subplot(211)             # the first subplot in the first figure\n",
        "plt.plot([1, 2, 3])\n",
        "plt.subplot(212)             # the second subplot in the first figure\n",
        "plt.plot([4, 5, 6])\n",
        "\n",
        "\n",
        "plt.figure(2)                # a second figure\n",
        "plt.plot([4, 5, 6])          # creates a subplot(111) by default\n",
        "\n",
        "plt.figure(1)                # figure 1 current; subplot(212) still current\n",
        "plt.subplot(211)             # make subplot(211) in figure1 current\n",
        "plt.title('Easy as 1, 2, 3') # subplot 211 title"
      ],
      "execution_count": null,
      "outputs": []
    },
    {
      "cell_type": "markdown",
      "metadata": {
        "id": "8Wi_Cjz5wvLZ"
      },
      "source": [
        "을 사용하여 현재 그림을 clf 지우고을 사용하여 현재 축을 지울 수 있습니다 cla. 상태 (특히 현재 이미지, 그림 및 축)가이면에서 유지되는 것이 성가신 경우, 절망하지 마십시오. 이것은 객체 지향 API를 둘러싼 얇은 상태 저장 래퍼 일 뿐이며 대신 사용할 수 있습니다 ( 아티스트 튜토리얼 참조 )\n",
        "\n",
        "그림을 많이 만드는 경우 한 가지 더 알고 있어야합니다. 그림에 필요한 메모리는 그림이로 명시 적으로 닫힐 때까지 완전히 해제되지 않습니다 close. 그림에 대한 모든 참조를 삭제하고 / 또는 창 관리자를 사용하여 그림이 화면에 나타나는 창을 종료하는 것만으로는 충분하지 않습니다. pyplot close 이 호출 될 때까지 내부 참조를 유지하기 때문 입니다."
      ]
    },
    {
      "cell_type": "markdown",
      "metadata": {
        "id": "Q2t4y3CRwwUo"
      },
      "source": [
        "## 텍스트 작업\n",
        "\n",
        "text임의의 위치에서 텍스트를 추가 할 수 있고 xlabel, ylabel그리고 title표시된 위치에 텍스트를 추가하는 데 사용된다 (참조 : 하기 matplotlib 플롯에서 텍스트 보다 상세한 예)"
      ]
    },
    {
      "cell_type": "code",
      "metadata": {
        "id": "x63frQRMwy81"
      },
      "source": [
        "mu, sigma = 100, 15\n",
        "x = mu + sigma * np.random.randn(10000)\n",
        "\n",
        "# the histogram of the data\n",
        "n, bins, patches = plt.hist(x, 50, density=1, facecolor='g', alpha=0.75)\n",
        "\n",
        "\n",
        "plt.xlabel('Smarts')\n",
        "plt.ylabel('Probability')\n",
        "plt.title('Histogram of IQ')\n",
        "plt.text(60, .025, r'$\\mu=100,\\ \\sigma=15$')\n",
        "plt.axis([40, 160, 0, 0.03])\n",
        "plt.grid(True)\n",
        "plt.show()"
      ],
      "execution_count": null,
      "outputs": []
    },
    {
      "cell_type": "markdown",
      "metadata": {
        "id": "1FezD8Ejw2Ai"
      },
      "source": [
        "모든 text함수는 matplotlib.text.Text 인스턴스를 반환 합니다. 위의 줄과 마찬가지로 키워드 인수를 텍스트 함수에 전달하거나 다음을 사용하여 속성을 사용자 지정할 수 있습니다 setp."
      ]
    },
    {
      "cell_type": "code",
      "metadata": {
        "id": "tabXl6Yiw3OR"
      },
      "source": [
        "t = plt.xlabel('my data', fontsize=14, color='red')"
      ],
      "execution_count": null,
      "outputs": []
    },
    {
      "cell_type": "markdown",
      "metadata": {
        "id": "P5iIfD5-w5es"
      },
      "source": [
        "이러한 속성은 텍스트 속성 및 레이아웃 에서 자세히 다룹니다 ."
      ]
    },
    {
      "cell_type": "markdown",
      "metadata": {
        "id": "ie5Td-Ltw6Ph"
      },
      "source": [
        "텍스트에서 수학 표현식 사용하기 \n",
        "\n",
        "matplotlib는 모든 텍스트 표현식에서 TeX 방정식 표현식을 허용합니다. 예를 들어 표현식을 작성하려면σi=15 제목에서 달러 기호로 둘러싸인 TeX 표현식을 작성할 수 있습니다."
      ]
    },
    {
      "cell_type": "code",
      "metadata": {
        "id": "CCz1mf7-w7Fr"
      },
      "source": [
        "plt.title(r'$\\sigma_i=15$')"
      ],
      "execution_count": null,
      "outputs": []
    },
    {
      "cell_type": "markdown",
      "metadata": {
        "id": "aNNjI5mkw9VE"
      },
      "source": [
        "r위의 제목 문자열은 중요하다 - 그것은 문자열이 있음을 의미 원시 파이썬 이스케이프로 처리 백 슬래시로 문자열 없습니다. matplotlib에는 TeX 표현식 파서 및 레이아웃 엔진이 내장되어 있으며 자체 수학 글꼴을 제공합니다. 자세한 내용은 수학 표현식 작성 을 참조하세요 . 따라서 TeX를 설치하지 않고도 여러 플랫폼에서 수학 텍스트를 사용할 수 있습니다. LaTeX 및 dvipng를 설치 한 사용자는 LaTeX를 사용하여 텍스트 형식을 지정하고 출력을 디스플레이 그림 또는 저장된 포스트 스크립트에 직접 통합 할 수도 있습니다. LaTeX를 사용한 텍스트 렌더링을 참조하십시오 .\n",
        "\n",
        "텍스트 주석 달기 \n",
        "\n",
        "text위 의 기본 기능을 사용 하면 축의 임의 위치에 텍스트를 배치 할 수 있습니다. 텍스트의 일반적인 용도는 플롯의 일부 기능에 주석을 추가하는 것이며,이 annotate방법은 주석을 쉽게 만드는 도우미 기능을 제공합니다. 주석에서 고려해야 할 두 가지 사항이 있습니다. 인수로 표시되는 주석이 추가 된 xy위치와 텍스트 위치입니다 xytext. 이 두 인수는 모두 튜플입니다.(x, y)"
      ]
    },
    {
      "cell_type": "code",
      "metadata": {
        "id": "jfmtBN6jw_l4"
      },
      "source": [
        "ax = plt.subplot(111)\n",
        "\n",
        "t = np.arange(0.0, 5.0, 0.01)\n",
        "s = np.cos(2*np.pi*t)\n",
        "line, = plt.plot(t, s, lw=2)\n",
        "\n",
        "plt.annotate('local max', xy=(2, 1), xytext=(3, 1.5),\n",
        "             arrowprops=dict(facecolor='black', shrink=0.05),\n",
        "             )\n",
        "\n",
        "plt.ylim(-2, 2)\n",
        "plt.show()"
      ],
      "execution_count": null,
      "outputs": []
    },
    {
      "cell_type": "markdown",
      "metadata": {
        "id": "G0sTj1JYxKWF"
      },
      "source": [
        "이 기본 예에서 xy(화살표)와 xytext 위치 (텍스트 위치)는 모두 데이터 좌표에 있습니다. 선택할 수있는 다른 다양한 좌표계가 있습니다 . 자세한 내용 은 기본 주석 및 고급 주석 을 참조하십시오. 더 많은 예제는 Annotating Plots 에서 찾을 수 있습니다 ."
      ]
    },
    {
      "cell_type": "markdown",
      "metadata": {
        "id": "g64OaRqRxLTd"
      },
      "source": [
        "## 로그 및 기타 비선형 축\n",
        "\n",
        "matplotlib.pyplot선형 축 스케일뿐만 아니라 로그 및 로짓 스케일도 지원합니다. 데이터가 수십 배에 걸쳐있는 경우 일반적으로 사용됩니다. 축의 배율을 변경하는 것은 쉽습니다.\n",
        "\n",
        "plt.xscale ( 'log')\n",
        "\n",
        "y 축에 대해 동일한 데이터와 다른 스케일을 가진 4 개의 플롯의 예가 아래에 나와 있습니다."
      ]
    },
    {
      "cell_type": "code",
      "metadata": {
        "id": "EmfGshS6xPPh"
      },
      "source": [
        "# Fixing random state for reproducibility\n",
        "np.random.seed(19680801)\n",
        "\n",
        "# make up some data in the open interval (0, 1)\n",
        "y = np.random.normal(loc=0.5, scale=0.4, size=1000)\n",
        "y = y[(y > 0) & (y < 1)]\n",
        "y.sort()\n",
        "x = np.arange(len(y))\n",
        "\n",
        "# plot with various axes scales\n",
        "plt.figure()\n",
        "\n",
        "# linear\n",
        "plt.subplot(221)\n",
        "plt.plot(x, y)\n",
        "plt.yscale('linear')\n",
        "plt.title('linear')\n",
        "plt.grid(True)\n",
        "\n",
        "# log\n",
        "plt.subplot(222)\n",
        "plt.plot(x, y)\n",
        "plt.yscale('log')\n",
        "plt.title('log')\n",
        "plt.grid(True)\n",
        "\n",
        "# symmetric log\n",
        "plt.subplot(223)\n",
        "plt.plot(x, y - y.mean())\n",
        "plt.yscale('symlog', linthresh=0.01)\n",
        "plt.title('symlog')\n",
        "plt.grid(True)\n",
        "\n",
        "# logit\n",
        "plt.subplot(224)\n",
        "plt.plot(x, y)\n",
        "plt.yscale('logit')\n",
        "plt.title('logit')\n",
        "plt.grid(True)\n",
        "# Adjust the subplot layout, because the logit one may take more space\n",
        "# than usual, due to y-tick labels like \"1 - 10^{-3}\"\n",
        "plt.subplots_adjust(top=0.92, bottom=0.08, left=0.10, right=0.95, hspace=0.25,\n",
        "                    wspace=0.35)\n",
        "\n",
        "plt.show()"
      ],
      "execution_count": null,
      "outputs": []
    },
    {
      "cell_type": "markdown",
      "metadata": {
        "id": "NeLhXcNUxSEd"
      },
      "source": [
        "자신 만의 스케일을 추가 할 수도 있습니다 . 자세한 내용은 스케일 및 변환 생성을위한 개발자 안내서를 참조 하십시오."
      ]
    }
  ]
}