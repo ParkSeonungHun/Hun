{
  "nbformat": 4,
  "nbformat_minor": 0,
  "metadata": {
    "colab": {
      "name": "플롯의 텍스트.ipynb",
      "provenance": [],
      "authorship_tag": "ABX9TyOPl0tacO2/bxZ+KOi6u2zI",
      "include_colab_link": true
    },
    "kernelspec": {
      "name": "python3",
      "display_name": "Python 3"
    }
  },
  "cells": [
    {
      "cell_type": "markdown",
      "metadata": {
        "id": "view-in-github",
        "colab_type": "text"
      },
      "source": [
        "<a href=\"https://colab.research.google.com/github/ParkSeonungHun/Hun/blob/main/python_basic/%ED%94%8C%EB%A1%AF%EC%9D%98_%ED%85%8D%EC%8A%A4%ED%8A%B8.ipynb\" target=\"_parent\"><img src=\"https://colab.research.google.com/assets/colab-badge.svg\" alt=\"Open In Colab\"/></a>"
      ]
    },
    {
      "cell_type": "markdown",
      "metadata": {
        "id": "ZDDgBDKXkAWr"
      },
      "source": [
        "# Matplotlib 플롯의 텍스트\n",
        "\n",
        "Matplotlib에서 텍스트 플로팅 및 작업 소개.\n",
        "\n",
        "Matplotlib는 수학 표현식 지원, 래스터 및 벡터 출력에 대한 트루 타입 지원, 임의 회전이있는 줄 바꿈으로 구분 된 텍스트, 유니 코드 지원을 포함하여 광범위한 텍스트 지원을 제공합니다.\n",
        "\n",
        "포스트 스크립트 또는 PDF와 같은 출력 문서에 직접 글꼴을 포함하기 때문에 화면에 표시되는 내용이 하드 카피에 표시됩니다. FreeType 지원은 작은 래스터 크기에서도 잘 보이는 매우 멋진 앤티 앨리어싱 글꼴을 생성합니다. Matplotlib에는 matplotlib.font_manager크로스 플랫폼, W3C 호환 글꼴 찾기 알고리즘 을 구현하는 자체 (Paul Barrett 덕분에)가 포함되어 있습니다 .\n",
        "\n",
        "사용자는 rc 파일에 설정된 합리적인 기본값을 사용하여 텍스트 속성 (글꼴 크기, 글꼴 두께, 텍스트 위치 및 색상 등)을 많이 제어 할 수 있습니다 . 그리고 중요한 것은 수학적 또는 과학적 수치에 관심이있는 사람들을 위해 Matplotlib는 많은 수의 TeX 수학 기호 및 명령을 구현 하여 그림의 어느 곳에서나 수학적 표현을 지원 합니다."
      ]
    },
    {
      "cell_type": "markdown",
      "metadata": {
        "id": "RjXS0t_pkGSw"
      },
      "source": [
        "## 기본 텍스트 명령\n",
        "\n",
        "다음 명령은 pyplot 인터페이스 및 객체 지향 API에서 텍스트를 만드는 데 사용됩니다."
      ]
    },
    {
      "cell_type": "markdown",
      "metadata": {
        "id": "fd0-zsEqldgA"
      },
      "source": [
        "pyplot API : OO API : 기술\n",
        "\n",
        "text : text : Axes의 임의 위치에 텍스트를 추가합니다.\n",
        "\n",
        "annotate : annotate : Axes의 임의의 위치에 화살표(선택 사항)가  있는 주석을 추가합니다.\n",
        "\n",
        "xlabel : set_xlabel : Axes의 x축에 레이블을 추가합니다.\n",
        "\n",
        "ylabel : set_ylabel : Axes의 y축에 레이블을 추가합니다.\n",
        "\n",
        "title : set_title : Axes에 제목을 추가합니다\n",
        "\n",
        "figtext : text : Figue의 임의 위치에 텍스트를 추가합니다.\n",
        "\n",
        "suptitle ; suptitle : Figue에 제목을 추가합니다 "
      ]
    },
    {
      "cell_type": "markdown",
      "metadata": {
        "id": "9oCqP4n2mXji"
      },
      "source": [
        "이러한 모든 함수 Text는 다양한 글꼴 및 기타 속성으로 구성 할 수 있는 인스턴스를 만들고 반환 합니다. 아래의 예는 이러한 모든 명령이 작동하는 모습을 보여 주며 다음 섹션에서 자세한 내용을 제공합니다."
      ]
    },
    {
      "cell_type": "code",
      "metadata": {
        "id": "oU3ECejbmY-w"
      },
      "source": [
        "import matplotlib\n",
        "import matplotlib.pyplot as plt\n",
        "\n",
        "fig = plt.figure()\n",
        "ax = fig.add_subplot(111)\n",
        "fig.subplots_adjust(top=0.85)\n",
        "\n",
        "# Set titles for the figure and the subplot respectively\n",
        "fig.suptitle('bold figure suptitle', fontsize=14, fontweight='bold')\n",
        "ax.set_title('axes title')\n",
        "\n",
        "ax.set_xlabel('xlabel')\n",
        "ax.set_ylabel('ylabel')\n",
        "\n",
        "# Set both x- and y-axis limits to [0, 10] instead of default [0, 1]\n",
        "ax.axis([0, 10, 0, 10])\n",
        "\n",
        "ax.text(3, 8, 'boxed italics text in data coords', style='italic',\n",
        "        bbox={'facecolor': 'red', 'alpha': 0.5, 'pad': 10})\n",
        "\n",
        "ax.text(2, 6, r'an equation: $E=mc^2$', fontsize=15)\n",
        "\n",
        "ax.text(3, 2, 'unicode: Institut für Festkörperphysik')\n",
        "\n",
        "ax.text(0.95, 0.01, 'colored text in axes coords',\n",
        "        verticalalignment='bottom', horizontalalignment='right',\n",
        "        transform=ax.transAxes,\n",
        "        color='green', fontsize=15)\n",
        "\n",
        "ax.plot([2], [1], 'o')\n",
        "ax.annotate('annotate', xy=(2, 1), xytext=(3, 4),\n",
        "            arrowprops=dict(facecolor='black', shrink=0.05))\n",
        "\n",
        "plt.show()"
      ],
      "execution_count": null,
      "outputs": []
    },
    {
      "cell_type": "markdown",
      "metadata": {
        "id": "V9CYOR9Lmedq"
      },
      "source": [
        "## x축 및 y축 레이블\n",
        "\n",
        "x 및 y 축에 대한 레이블을 지정하는 것은 set_xlabel및 set_ylabel 메서드 를 통해 간단 합니다."
      ]
    },
    {
      "cell_type": "code",
      "metadata": {
        "id": "HZYw-bp-mkTp"
      },
      "source": [
        "import matplotlib.pyplot as plt\n",
        "import numpy as np\n",
        "\n",
        "x1 = np.linspace(0.0, 5.0, 100)\n",
        "y1 = np.cos(2 * np.pi * x1) * np.exp(-x1)\n",
        "\n",
        "fig, ax = plt.subplots(figsize=(5, 3))\n",
        "fig.subplots_adjust(bottom=0.15, left=0.2)\n",
        "ax.plot(x1, y1)\n",
        "ax.set_xlabel('time [s]')\n",
        "ax.set_ylabel('Damped oscillation [V]')\n",
        "\n",
        "plt.show()"
      ],
      "execution_count": null,
      "outputs": []
    },
    {
      "cell_type": "markdown",
      "metadata": {
        "id": "a6IZLM7Umm9W"
      },
      "source": [
        "x 및 y 레이블은 x 및 y 눈금 레이블을 지우도록 자동으로 배치됩니다. 아래 플롯을 위의 플롯과 비교하고 y- 라벨이 위의 플롯 왼쪽에 있습니다."
      ]
    },
    {
      "cell_type": "code",
      "metadata": {
        "id": "zbdzd796mn6H"
      },
      "source": [
        "fig, ax = plt.subplots(figsize=(5, 3))\n",
        "fig.subplots_adjust(bottom=0.15, left=0.2)\n",
        "ax.plot(x1, y1*10000)\n",
        "ax.set_xlabel('time [s]')\n",
        "ax.set_ylabel('Damped oscillation [V]')\n",
        "\n",
        "plt.show()"
      ],
      "execution_count": null,
      "outputs": []
    },
    {
      "cell_type": "markdown",
      "metadata": {
        "id": "TbhbLR_omp2o"
      },
      "source": [
        "레이블을 이동하려는 경우 labelpad 키워드 인수를 지정할 수 있습니다 . 여기서 값은 포인트 (1/72 \", 글꼴 크기 지정에 사용되는 동일한 단위)입니다."
      ]
    },
    {
      "cell_type": "code",
      "metadata": {
        "id": "Bxu9P5vumq1V"
      },
      "source": [
        "fig, ax = plt.subplots(figsize=(5, 3))\n",
        "fig.subplots_adjust(bottom=0.15, left=0.2)\n",
        "ax.plot(x1, y1*10000)\n",
        "ax.set_xlabel('time [s]')\n",
        "ax.set_ylabel('Damped oscillation [V]', labelpad=18)\n",
        "\n",
        "plt.show()"
      ],
      "execution_count": null,
      "outputs": []
    },
    {
      "cell_type": "markdown",
      "metadata": {
        "id": "cM7sQnurms-q"
      },
      "source": [
        "또는 레이블 Text은 position을 포함한 모든 키워드 인수를 허용하며이를 통해 레이블 위치를 수동으로 지정할 수 있습니다. 여기서 우리는 xlabel을 축의 가장 왼쪽에 둡니다. 이 위치의 y 좌표는 효과가 없습니다. y 위치를 조정하려면 labelpad kwarg 를 사용해야합니다 ."
      ]
    },
    {
      "cell_type": "code",
      "metadata": {
        "id": "JPE5LJWOmt5C"
      },
      "source": [
        "fig, ax = plt.subplots(figsize=(5, 3))\n",
        "fig.subplots_adjust(bottom=0.15, left=0.2)\n",
        "ax.plot(x1, y1)\n",
        "ax.set_xlabel('time [s]', position=(0., 1e6), horizontalalignment='left')\n",
        "ax.set_ylabel('Damped oscillation [V]')\n",
        "\n",
        "plt.show()"
      ],
      "execution_count": null,
      "outputs": []
    },
    {
      "cell_type": "markdown",
      "metadata": {
        "id": "BXf82jazmvnK"
      },
      "source": [
        "이 자습서의 모든 레이블은 matplotlib.font_manager.FontProperties메서드 를 조작 하거나 kwargs라는 이름 을 사용하여 변경할 수 있습니다. set_xlabel"
      ]
    },
    {
      "cell_type": "code",
      "metadata": {
        "id": "Gfa0pDgemxUS"
      },
      "source": [
        "from matplotlib.font_manager import FontProperties\n",
        "\n",
        "font = FontProperties()\n",
        "font.set_family('serif')\n",
        "font.set_name('Times New Roman')\n",
        "font.set_style('italic')\n",
        "\n",
        "fig, ax = plt.subplots(figsize=(5, 3))\n",
        "fig.subplots_adjust(bottom=0.15, left=0.2)\n",
        "ax.plot(x1, y1)\n",
        "ax.set_xlabel('time [s]', fontsize='large', fontweight='bold')\n",
        "ax.set_ylabel('Damped oscillation [V]', fontproperties=font)\n",
        "\n",
        "plt.show()"
      ],
      "execution_count": null,
      "outputs": []
    },
    {
      "cell_type": "markdown",
      "metadata": {
        "id": "ryjgFtCimzQ9"
      },
      "source": [
        "마지막으로 모든 텍스트 개체에서 기본 TeX 렌더링을 사용하고 여러 줄을 가질 수 있습니다."
      ]
    },
    {
      "cell_type": "code",
      "metadata": {
        "id": "TubEjr1gm0OI"
      },
      "source": [
        "fig, ax = plt.subplots(figsize=(5, 3))\n",
        "fig.subplots_adjust(bottom=0.2, left=0.2)\n",
        "ax.plot(x1, np.cumsum(y1**2))\n",
        "ax.set_xlabel('time [s] \\n This was a long experiment')\n",
        "ax.set_ylabel(r'$\\int\\ Y^2\\ dt\\ \\ [V^2 s]$')\n",
        "plt.show()"
      ],
      "execution_count": null,
      "outputs": []
    },
    {
      "cell_type": "markdown",
      "metadata": {
        "id": "p2BMTSakm22m"
      },
      "source": [
        "## 제목\n",
        "\n",
        "서브 플롯 제목은 레이블과 거의 동일한 방식으로 설정되지만 기본값 인에서 위치와 정당성을 변경할 수 있는 loc 키워드 인수가 있습니다 loc=center."
      ]
    },
    {
      "cell_type": "code",
      "metadata": {
        "id": "6krzzQ4Em4in"
      },
      "source": [
        "fig, axs = plt.subplots(3, 1, figsize=(5, 6), tight_layout=True)\n",
        "locs = ['center', 'left', 'right']\n",
        "for ax, loc in zip(axs, locs):\n",
        "    ax.plot(x1, y1)\n",
        "    ax.set_title('Title with loc at '+loc, loc=loc)\n",
        "plt.show()"
      ],
      "execution_count": null,
      "outputs": []
    },
    {
      "cell_type": "markdown",
      "metadata": {
        "id": "xfVFl99dm646"
      },
      "source": [
        "제목의 세로 간격은 rcParams[\"axes.titlepad\"](기본값 :)을 통해 제어되며 6.0기본값은 5 포인트입니다. 다른 값으로 설정하면 제목이 이동합니다."
      ]
    },
    {
      "cell_type": "code",
      "metadata": {
        "id": "OytBXQfym8jQ"
      },
      "source": [
        "fig, ax = plt.subplots(figsize=(5, 3))\n",
        "fig.subplots_adjust(top=0.8)\n",
        "ax.plot(x1, y1)\n",
        "ax.set_title('Vertically offset title', pad=30)\n",
        "plt.show()"
      ],
      "execution_count": null,
      "outputs": []
    },
    {
      "cell_type": "markdown",
      "metadata": {
        "id": "-A7LuIx8m-hL"
      },
      "source": [
        "## 틱과 틱 라벨\n",
        "\n",
        "눈금과 눈금 레이블을 배치하는 것은 그림을 만드는 데있어 매우 까다로운 측면입니다. Matplotlib는 작업을 자동으로 수행하기 위해 최선을 다하지만 틱 위치 선택과 레이블 지정 방법을 결정하기위한 매우 유연한 프레임 워크도 제공합니다.\n",
        "\n",
        "용어 \n",
        "\n",
        "축 에는 축의 레이블이 배치되는 방식에 대한 정보가 포함 matplotlib.axis.Axis된 ax.xaxis및에 대한 객체 ax.yaxis가 있습니다.\n",
        "\n",
        "축 API는에 대한 문서에 자세히 설명되어 axis있습니다.\n",
        "\n",
        "Axis 개체에는 주 눈금과 보조 눈금이 있습니다. Axis에는 메이저 틱과 마이너 틱의 위치를 ​​결정하기 위해 플로팅되는 데이터를 사용하는 Axis.set_major_locator및 Axis.set_minor_locator메서드가 있습니다. 눈금 레이블을 형식화하는 Axis.set_major_formatter및 Axis.set_minor_formatter메서드 도 있습니다 .\n",
        "\n",
        "간단한 틱 \n",
        "\n",
        "단순히 눈금 값을 정의하고 때로는 눈금 레이블을 정의하여 기본 로케이터 및 포맷터를 재정의하는 것이 편리합니다. 이것은 플롯의 대화식 탐색을 중단하기 때문에 권장되지 않습니다. 또한 축 제한을 재설정 할 수 있습니다. 두 번째 플롯에는 자동보기 제한을 훨씬 벗어난 것을 포함하여 요청한 눈금이 있습니다."
      ]
    },
    {
      "cell_type": "code",
      "metadata": {
        "id": "RUbx8nvCnCk7"
      },
      "source": [
        "fig, axs = plt.subplots(2, 1, figsize=(5, 3), tight_layout=True)\n",
        "axs[0].plot(x1, y1)\n",
        "axs[1].plot(x1, y1)\n",
        "axs[1].xaxis.set_ticks(np.arange(0., 8.1, 2.))\n",
        "plt.show()"
      ],
      "execution_count": null,
      "outputs": []
    },
    {
      "cell_type": "markdown",
      "metadata": {
        "id": "KEMVgG5WnEFm"
      },
      "source": [
        "물론이 문제를 해결할 수는 있지만 틱 하드 코딩의 약점을 강조합니다. 이 예는 눈금의 형식도 변경합니다."
      ]
    },
    {
      "cell_type": "code",
      "metadata": {
        "id": "nAE9BXIrnE7w"
      },
      "source": [
        "fig, axs = plt.subplots(2, 1, figsize=(5, 3), tight_layout=True)\n",
        "axs[0].plot(x1, y1)\n",
        "axs[1].plot(x1, y1)\n",
        "ticks = np.arange(0., 8.1, 2.)\n",
        "# list comprehension to get all tick labels...\n",
        "tickla = [f'{tick:1.2f}' for tick in ticks]\n",
        "axs[1].xaxis.set_ticks(ticks)\n",
        "axs[1].xaxis.set_ticklabels(tickla)\n",
        "axs[1].set_xlim(axs[0].get_xlim())\n",
        "plt.show()"
      ],
      "execution_count": null,
      "outputs": []
    },
    {
      "cell_type": "markdown",
      "metadata": {
        "id": "u86CW3DUnG6r"
      },
      "source": [
        "틱 로케이터 및 포맷터 \n",
        "\n",
        "모든 티칼 벨 목록을 만드는 대신 matplotlib.ticker.StrMethodFormatter(새 스타일 str.format() 형식 문자열) 또는 matplotlib.ticker.FormatStrFormatter(이전 스타일 '%'형식 문자열)을 사용하여 ax.xaxis. A matplotlib.ticker.StrMethodFormatter는 str포맷터를 명시 적으로 만들지 않고도 a 를 전달하여 만들 수도 있습니다 ."
      ]
    },
    {
      "cell_type": "code",
      "metadata": {
        "id": "r2_WBU88nJXp"
      },
      "source": [
        "fig, axs = plt.subplots(2, 1, figsize=(5, 3), tight_layout=True)\n",
        "axs[0].plot(x1, y1)\n",
        "axs[1].plot(x1, y1)\n",
        "ticks = np.arange(0., 8.1, 2.)\n",
        "axs[1].xaxis.set_ticks(ticks)\n",
        "axs[1].xaxis.set_major_formatter('{x:1.1f}')\n",
        "axs[1].set_xlim(axs[0].get_xlim())\n",
        "plt.show()"
      ],
      "execution_count": null,
      "outputs": []
    },
    {
      "cell_type": "markdown",
      "metadata": {
        "id": "GD7EPUlQnMkQ"
      },
      "source": [
        "물론 틱 위치를 설정하기 위해 기본이 아닌 로케이터를 사용할 수도 있습니다. 여전히 눈금 값을 전달하지만 위에서 사용 된 x 제한 수정은 필요 하지 않습니다."
      ]
    },
    {
      "cell_type": "code",
      "metadata": {
        "id": "tvk3B0wWnNqr"
      },
      "source": [
        "fig, axs = plt.subplots(2, 1, figsize=(5, 3), tight_layout=True)\n",
        "axs[0].plot(x1, y1)\n",
        "axs[1].plot(x1, y1)\n",
        "locator = matplotlib.ticker.FixedLocator(ticks)\n",
        "axs[1].xaxis.set_major_locator(locator)\n",
        "axs[1].xaxis.set_major_formatter('±{x}°')\n",
        "plt.show()"
      ],
      "execution_count": null,
      "outputs": []
    },
    {
      "cell_type": "markdown",
      "metadata": {
        "id": "JlLm0W7InSQz"
      },
      "source": [
        "기본 포맷터는 다음 matplotlib.ticker.MaxNLocator과 같이 호출됩니다 . 단계 키워드에는 눈금 값에 사용할 수있는 배수 목록이 포함되어 있습니다. 즉,이 경우 2, 4, 6은 20, 40, 60 또는 0.2, 0.4, 0.6과 같이 허용되는 틱입니다. 그러나 3, 6, 9는 단계 목록에 3이 표시되지 않으므로 허용되지 않습니다.ticker.MaxNLocator(self, nbins='auto', steps=[1, 2, 2.5, 5, 10])\n",
        "\n",
        "nbins=auto알고리즘을 사용하여 축의 길이에 따라 허용되는 틱 수를 결정합니다. ticklabel의 fontsize는 고려되지만, tick 문자열의 길이는 (아직 알려지지 않았기 때문에) 그렇지 않습니다. 맨 아래 행에서 ticklabels는 상당히 큽니다. 따라서 nbins=4레이블을 오른쪽에 맞추도록 설정 했습니다. 손 플롯."
      ]
    },
    {
      "cell_type": "code",
      "metadata": {
        "id": "277duwxpnTP7"
      },
      "source": [
        "fig, axs = plt.subplots(2, 2, figsize=(8, 5), tight_layout=True)\n",
        "for n, ax in enumerate(axs.flat):\n",
        "    ax.plot(x1*10., y1)\n",
        "\n",
        "formatter = matplotlib.ticker.FormatStrFormatter('%1.1f')\n",
        "locator = matplotlib.ticker.MaxNLocator(nbins='auto', steps=[1, 4, 10])\n",
        "axs[0, 1].xaxis.set_major_locator(locator)\n",
        "axs[0, 1].xaxis.set_major_formatter(formatter)\n",
        "\n",
        "formatter = matplotlib.ticker.FormatStrFormatter('%1.5f')\n",
        "locator = matplotlib.ticker.AutoLocator()\n",
        "axs[1, 0].xaxis.set_major_formatter(formatter)\n",
        "axs[1, 0].xaxis.set_major_locator(locator)\n",
        "\n",
        "formatter = matplotlib.ticker.FormatStrFormatter('%1.5f')\n",
        "locator = matplotlib.ticker.MaxNLocator(nbins=4)\n",
        "axs[1, 1].xaxis.set_major_formatter(formatter)\n",
        "axs[1, 1].xaxis.set_major_locator(locator)\n",
        "\n",
        "plt.show()"
      ],
      "execution_count": null,
      "outputs": []
    },
    {
      "cell_type": "markdown",
      "metadata": {
        "id": "zKM3fCzznVv2"
      },
      "source": [
        "마지막으로를 사용하여 포맷터에 대한 함수를 지정할 수 있습니다 matplotlib.ticker.FuncFormatter. 또한와 같이 matplotlib.ticker.StrMethodFormatter함수를 전달하면 자동으로 matplotlib.ticker.FuncFormatter."
      ]
    },
    {
      "cell_type": "code",
      "metadata": {
        "id": "IYetaEb2nWin"
      },
      "source": [
        "def formatoddticks(x, pos):\n",
        "    \"\"\"Format odd tick positions.\"\"\"\n",
        "    if x % 2:\n",
        "        return f'{x:1.2f}'\n",
        "    else:\n",
        "        return ''\n",
        "\n",
        "\n",
        "fig, ax = plt.subplots(figsize=(5, 3), tight_layout=True)\n",
        "ax.plot(x1, y1)\n",
        "locator = matplotlib.ticker.MaxNLocator(nbins=6)\n",
        "ax.xaxis.set_major_formatter(formatoddticks)\n",
        "ax.xaxis.set_major_locator(locator)\n",
        "\n",
        "plt.show()"
      ],
      "execution_count": null,
      "outputs": []
    },
    {
      "cell_type": "markdown",
      "metadata": {
        "id": "1elXxWOVnZXC"
      },
      "source": [
        "날짜 표시 \n",
        "\n",
        "Matplotlib는 datetime.datetime및 numpy.datetime64 객체를 플로팅 인수로 받아 들일 수 있습니다 . 날짜와 시간에는 특수한 서식이 필요하며, 이는 종종 수동 개입의 이점을 누릴 수 있습니다. 도움을 드리기 위해 날짜에는 matplotlib.dates모듈에 정의 된 특수 로케이터 및 포맷터가 있습니다.\n",
        "\n",
        "간단한 예는 다음과 같습니다. 눈금 레이블이 서로 오버런되지 않도록 어떻게 회전해야하는지 주목하십시오."
      ]
    },
    {
      "cell_type": "code",
      "metadata": {
        "id": "SNheCuYpnaeQ"
      },
      "source": [
        "import datetime\n",
        "\n",
        "fig, ax = plt.subplots(figsize=(5, 3), tight_layout=True)\n",
        "base = datetime.datetime(2017, 1, 1, 0, 0, 1)\n",
        "time = [base + datetime.timedelta(days=x) for x in range(len(x1))]\n",
        "\n",
        "ax.plot(time, y1)\n",
        "ax.tick_params(axis='x', rotation=70)\n",
        "plt.show()"
      ],
      "execution_count": null,
      "outputs": []
    },
    {
      "cell_type": "markdown",
      "metadata": {
        "id": "1zCqYNIUncax"
      },
      "source": [
        "형식을 matplotlib.dates.DateFormatter. 또한 29 일과 다음 달은 매우 가깝습니다. dates.DayLocator사용할 날짜 목록을 지정할 수 있는 클래스 를 사용하여이 문제를 해결할 수 있습니다. 유사한 포맷터가 matplotlib.dates 모듈에 나열됩니다 ."
      ]
    },
    {
      "cell_type": "code",
      "metadata": {
        "id": "WDmaW-QfndZY"
      },
      "source": [
        "import matplotlib.dates as mdates\n",
        "\n",
        "locator = mdates.DayLocator(bymonthday=[1, 15])\n",
        "formatter = mdates.DateFormatter('%b %d')\n",
        "\n",
        "fig, ax = plt.subplots(figsize=(5, 3), tight_layout=True)\n",
        "ax.xaxis.set_major_locator(locator)\n",
        "ax.xaxis.set_major_formatter(formatter)\n",
        "ax.plot(time, y1)\n",
        "ax.tick_params(axis='x', rotation=70)\n",
        "plt.show()"
      ],
      "execution_count": null,
      "outputs": []
    },
    {
      "cell_type": "markdown",
      "metadata": {
        "id": "jcxlTelpnfsy"
      },
      "source": [
        ""
      ]
    }
  ]
}