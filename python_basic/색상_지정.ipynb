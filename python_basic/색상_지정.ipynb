{
  "nbformat": 4,
  "nbformat_minor": 0,
  "metadata": {
    "colab": {
      "name": "색상 지정.ipynb",
      "provenance": [],
      "authorship_tag": "ABX9TyNvoijOP3f+sgBF93r1IneA",
      "include_colab_link": true
    },
    "kernelspec": {
      "name": "python3",
      "display_name": "Python 3"
    }
  },
  "cells": [
    {
      "cell_type": "markdown",
      "metadata": {
        "id": "view-in-github",
        "colab_type": "text"
      },
      "source": [
        "<a href=\"https://colab.research.google.com/github/ParkSeonungHun/Hun/blob/main/python_basic/%EC%83%89%EC%83%81_%EC%A7%80%EC%A0%95.ipynb\" target=\"_parent\"><img src=\"https://colab.research.google.com/assets/colab-badge.svg\" alt=\"Open In Colab\"/></a>"
      ]
    },
    {
      "cell_type": "markdown",
      "metadata": {
        "id": "4ushmFkBzzGc"
      },
      "source": [
        "# 색상 지정\n",
        "\n",
        "Matplotlib는 색상을 지정하기 위해 다음 형식을 인식합니다.\n",
        "\n",
        "* 닫힌 간격 (예 : 또는 ) 에서 부동 소수점 값의 RGB 또는 RGBA (빨간색, 녹색, 파란색, 알파) 튜플 ;[0, 1](0.1, 0.2, 0.5)(0.1, 0.2, 0.5, 0.3)\n",
        "* 16 진수 RGB 또는 RGBA 문자열 (예 : '#0f0f0f'또는 '#0f0f0f80'; 대소 문자 구분 없음);\n",
        "* 각 문자를 복제함으로써 얻어 헥스 RGB 또는 RGBA 스트링 등가 속기 헥스 RGB 또는 RGBA 문자열 (예를 들면 '#abc', 당량 '#aabbcc', 또는 '#abcd', 등가 '#aabbccdd', 대소 문자 구분);\n",
        "* 그레이 레벨 을 포함 하는 플로트 값의 문자열 표현 (예 :) ;[0, 1]'0.5'\n",
        "* 파란색, 녹색, 빨간색, 청록색, 마젠타 색, 노란색, 검은 색 및 흰색 음영에 대한 축약 표기법 인 문자 중 하나입니다 . 색상 은 X11 / CSS4 색상과 일치하지 않습니다. 일반적인 배경에 대한 컬러 라인의 가시성을 높이기 위해 특정 음영이 선택되었습니다.{'b', 'g', 'r', 'c', 'm', 'y', 'k', 'w'}'g', 'c', 'm', 'y'\n",
        "* X11 / CSS4 색상 이름 (대소 문자 구분 없음)\n",
        "* 접두사가 붙은 xkcd 색상 조사 의 이름 'xkcd:'(예 : 대소 문자 구분 없음)'xkcd:sky blue'\n",
        "* 'T10'범주 형 팔레트의 Tableau 색상 중 하나 (기본 색상주기) : (대소 문자를 구분하지 않음);{'tab:blue', 'tab:orange', 'tab:green', 'tab:red', 'tab:purple', 'tab:brown', 'tab:pink', 'tab:gray', 'tab:olive', 'tab:cyan'}\n",
        "* \"CN\"색상 사양, 즉 'C'기본 속성주기에 대한 색인 인 숫자가 뒤 따릅니다 ( rcParams[\"axes.prop_cycle\"](기본값 :) ); 인덱싱은 렌더링시 발생하기위한 것이며주기에 색상이 포함되지 않은 경우 기본값은 검은 색입니다.cycler('color', ['#1f77b4', '#ff7f0e', '#2ca02c', '#d62728', '#9467bd', '#8c564b', '#e377c2', '#7f7f7f', '#bcbd22', '#17becf'])\n",
        "\n",
        "\"빨간색\", \"녹색\"및 \"파란색\"은 색상 공간에 걸쳐있는 조합으로 이러한 색상의 강도입니다.\n",
        "\n",
        "\"알파\"의 작동 방식은 zorder아티스트 에 따라 다릅니다 . 상위 zorder아티스트는 하위 아티스트 위에 그려지며 \"알파\"는 하위 아티스트가 상위 아티스트에 포함되는지 여부를 결정합니다. 픽셀의 이전 RGB가 RGBold이고 추가되는 Artist 픽셀의 RGB RGBnew가 Alpha alpha이면 픽셀의 RGB가 다음으로 업데이트됩니다 . 알파 1은 이전 색상이 새 아티스트에 의해 완전히 덮여 있음을 의미하고 알파 0은 아티스트의 픽셀이 투명 함을 의미합니다.RGB = RGBOld * (1 - Alpha) + RGBnew * Alpha\n",
        "\n",
        "matplotlib의 색상에 대한 자세한 내용은\n",
        "\n",
        "* 컬러 데모 예;\n",
        "* matplotlib.colorsAPI; \n",
        "라는 이름의 색상 목록 예."
      ]
    },
    {
      "cell_type": "markdown",
      "metadata": {
        "id": "YJBKpx6A0LBp"
      },
      "source": [
        "## \"CN\"색상 선택\n",
        "\n",
        "\"CN\"색상은 아티스트가 생성되는 즉시 RGBA로 변환됩니다. 예를 들면"
      ]
    },
    {
      "cell_type": "code",
      "metadata": {
        "id": "gLr9ek-80O3H"
      },
      "source": [
        "import numpy as np\n",
        "import matplotlib.pyplot as plt\n",
        "import matplotlib as mpl\n",
        "\n",
        "th = np.linspace(0, 2*np.pi, 128)\n",
        "\n",
        "\n",
        "def demo(sty):\n",
        "    mpl.style.use(sty)\n",
        "    fig, ax = plt.subplots(figsize=(3, 3))\n",
        "\n",
        "    ax.set_title('style: {!r}'.format(sty), color='C0')\n",
        "\n",
        "    ax.plot(th, np.cos(th), 'C1', label='C1')\n",
        "    ax.plot(th, np.sin(th), 'C2', label='C2')\n",
        "    ax.legend()\n",
        "\n",
        "demo('default')\n",
        "demo('seaborn')"
      ],
      "execution_count": null,
      "outputs": []
    },
    {
      "cell_type": "markdown",
      "metadata": {
        "id": "HS3ihtUM0Tpg"
      },
      "source": [
        "제목에 첫 번째 색상을 사용한 다음 각 스타일의 두 번째 및 세 번째 색상을 사용하여 플롯합니다 rcParams[\"axes.prop_cycle\"](기본값 :) .cycler('color', ['#1f77b4', '#ff7f0e', '#2ca02c', '#d62728', '#9467bd', '#8c564b', '#e377c2', '#7f7f7f', '#bcbd22', '#17becf'])"
      ]
    },
    {
      "cell_type": "markdown",
      "metadata": {
        "id": "dgNCEUXT0U7I"
      },
      "source": [
        "## xkcd v X11 / CSS4\n",
        "\n",
        "xkcd 색상은 webcomic xkcd에서 수행 한 사용자 설문 조사에서 파생되었습니다. 설문 조사에 대한 자세한 내용은 xkcd 블로그에서 확인할 수 있습니다 .\n",
        "\n",
        "CSS 색상 목록의 148 개 색상 중 X11 / CSS4 이름과 xkcd 이름 사이에 95 개의 이름 충돌이 있습니다.이 중 3 개를 제외한 모든 색상은 16 진수 값이 다릅니다. 예를 들어 'blue'매핑 '#0000FF' 곳으로 'xkcd:blue'지도에 '#0343DF'. 이러한 이름 충돌로 인해 모든 xkcd 색상에 'xkcd:'접두사 가 붙습니다. 블로그 게시물에서 언급했듯이 이러한 설문 조사를 기반으로 X11 / CSS4 이름을 다시 정의하는 것이 흥미로울 수 있지만 일방적으로 그렇게하지 않습니다.\n",
        "\n",
        "이름 충돌은 아래 표에 나와 있습니다. 16 진수 값이 일치하는 색상 이름은 굵게 표시됩니다."
      ]
    },
    {
      "cell_type": "code",
      "metadata": {
        "id": "aSzltaLs0Yi-"
      },
      "source": [
        "import matplotlib._color_data as mcd\n",
        "import matplotlib.patches as mpatch\n",
        "\n",
        "overlap = {name for name in mcd.CSS4_COLORS\n",
        "           if \"xkcd:\" + name in mcd.XKCD_COLORS}\n",
        "\n",
        "fig = plt.figure(figsize=[4.8, 16])\n",
        "ax = fig.add_axes([0, 0, 1, 1])\n",
        "\n",
        "for j, n in enumerate(sorted(overlap, reverse=True)):\n",
        "    weight = None\n",
        "    cn = mcd.CSS4_COLORS[n]\n",
        "    xkcd = mcd.XKCD_COLORS[\"xkcd:\" + n].upper()\n",
        "    if cn == xkcd:\n",
        "        weight = 'bold'\n",
        "\n",
        "    r1 = mpatch.Rectangle((0, j), 1, 1, color=cn)\n",
        "    r2 = mpatch.Rectangle((1, j), 1, 1, color=xkcd)\n",
        "    txt = ax.text(2, j+.5, '  ' + n, va='center', fontsize=10,\n",
        "                  weight=weight)\n",
        "    ax.add_patch(r1)\n",
        "    ax.add_patch(r2)\n",
        "    ax.axhline(j, color='k')\n",
        "\n",
        "ax.text(.5, j + 1.5, 'X11', ha='center', va='center')\n",
        "ax.text(1.5, j + 1.5, 'xkcd', ha='center', va='center')\n",
        "ax.set_xlim(0, 3)\n",
        "ax.set_ylim(0, j + 2)\n",
        "ax.axis('off')"
      ],
      "execution_count": null,
      "outputs": []
    }
  ]
}