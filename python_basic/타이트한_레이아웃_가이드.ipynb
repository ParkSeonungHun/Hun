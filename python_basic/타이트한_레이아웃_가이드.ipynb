{
  "nbformat": 4,
  "nbformat_minor": 0,
  "metadata": {
    "colab": {
      "name": "타이트한 레이아웃 가이드.ipynb",
      "provenance": [],
      "toc_visible": true,
      "authorship_tag": "ABX9TyP9QzO2M2HQit5ZiR+J03ST",
      "include_colab_link": true
    },
    "kernelspec": {
      "name": "python3",
      "display_name": "Python 3"
    }
  },
  "cells": [
    {
      "cell_type": "markdown",
      "metadata": {
        "id": "view-in-github",
        "colab_type": "text"
      },
      "source": [
        "<a href=\"https://colab.research.google.com/github/ParkSeonungHun/Hun/blob/main/python_basic/%ED%83%80%EC%9D%B4%ED%8A%B8%ED%95%9C_%EB%A0%88%EC%9D%B4%EC%95%84%EC%9B%83_%EA%B0%80%EC%9D%B4%EB%93%9C.ipynb\" target=\"_parent\"><img src=\"https://colab.research.google.com/assets/colab-badge.svg\" alt=\"Open In Colab\"/></a>"
      ]
    },
    {
      "cell_type": "markdown",
      "metadata": {
        "id": "xDqxsvBGnVs8"
      },
      "source": [
        "# 타이트한 레이아웃 가이드\n",
        "\n",
        "타이트 레이아웃을 사용하여 그림 내에 플롯을 깔끔하게 맞추는 방법.\n",
        "\n",
        "tight_layout 은 서브 플롯이 Figure 영역에 맞도록 서브 플롯 매개 변수를 자동으로 조정합니다. 이것은 실험적 기능이며 일부 경우에는 작동하지 않을 수 있습니다. 눈금 레이블, 축 레이블 및 제목의 범위 만 확인합니다.\n",
        "\n",
        "tight_layout 의 대안 은 constrained_layout 입니다."
      ]
    },
    {
      "cell_type": "markdown",
      "metadata": {
        "id": "DpPx_pQHnZMH"
      },
      "source": [
        "## 간단한 예\n",
        "\n",
        "matplotlib에서 축 (서브 플롯 포함)의 위치는 정규화 된 Figure 좌표로 지정됩니다. 축 레이블 또는 제목 (또는 때로는 눈금 레이블)이 그림 영역을 벗어나서 잘릴 수 있습니다."
      ]
    },
    {
      "cell_type": "code",
      "metadata": {
        "id": "cpohVLx7nbbd"
      },
      "source": [
        "import matplotlib.pyplot as plt\n",
        "import numpy as np\n",
        "\n",
        "plt.rcParams['savefig.facecolor'] = \"0.8\"\n",
        "\n",
        "\n",
        "def example_plot(ax, fontsize=12):\n",
        "    ax.plot([1, 2])\n",
        "\n",
        "    ax.locator_params(nbins=3)\n",
        "    ax.set_xlabel('x-label', fontsize=fontsize)\n",
        "    ax.set_ylabel('y-label', fontsize=fontsize)\n",
        "    ax.set_title('Title', fontsize=fontsize)\n",
        "\n",
        "plt.close('all')\n",
        "fig, ax = plt.subplots()\n",
        "example_plot(ax, fontsize=24)"
      ],
      "execution_count": null,
      "outputs": []
    },
    {
      "cell_type": "markdown",
      "metadata": {
        "id": "3ZWKC72Ent91"
      },
      "source": [
        "이를 방지하려면 축의 위치를 ​​조정해야합니다. 서브 플롯의 경우 서브 플롯 매개 변수를 조정하여 수행 할 수 있습니다 ( 눈금 레이블을위한 공간을 만들기 위해 축의 가장자리 이동 ). Figure.tight_layout이 작업을 자동으로 수행하는 Matplotlib v1.1이 도입되었습니다 ."
      ]
    },
    {
      "cell_type": "code",
      "metadata": {
        "id": "n0wWm8XYnwnk"
      },
      "source": [
        "fig, ax = plt.subplots()\n",
        "example_plot(ax, fontsize=24)\n",
        "plt.tight_layout()"
      ],
      "execution_count": null,
      "outputs": []
    },
    {
      "cell_type": "markdown",
      "metadata": {
        "id": "XEEoK_Ykn1W2"
      },
      "source": [
        "참고 matplotlib.pyplot.tight_layout()가 호출되는 경우에만 부가 적 줄거리의 PARAMS을 조정합니다. 그림을 다시 그릴 때마다이 조정을 수행하려면을 호출 fig.set_tight_layout(True)하거나 rcParams[\"figure.autolayout\"](기본값 :)을로 설정할 False수 True있습니다.\n",
        "\n",
        "여러 개의 서브 플롯이있는 경우 서로 겹치는 서로 다른 축의 레이블을 자주 볼 수 있습니다."
      ]
    },
    {
      "cell_type": "code",
      "metadata": {
        "id": "f35i1VtAn2j8"
      },
      "source": [
        "plt.close('all')\n",
        "\n",
        "fig, ((ax1, ax2), (ax3, ax4)) = plt.subplots(nrows=2, ncols=2)\n",
        "example_plot(ax1)\n",
        "example_plot(ax2)\n",
        "example_plot(ax3)\n",
        "example_plot(ax4)"
      ],
      "execution_count": null,
      "outputs": []
    },
    {
      "cell_type": "markdown",
      "metadata": {
        "id": "KOMWlkFin53W"
      },
      "source": [
        "tight_layout() 겹침을 최소화하기 위해 서브 플롯 사이의 간격도 조정합니다."
      ]
    },
    {
      "cell_type": "code",
      "metadata": {
        "id": "7mP_5867n84N"
      },
      "source": [
        "fig, ((ax1, ax2), (ax3, ax4)) = plt.subplots(nrows=2, ncols=2)\n",
        "example_plot(ax1)\n",
        "example_plot(ax2)\n",
        "example_plot(ax3)\n",
        "example_plot(ax4)\n",
        "plt.tight_layout()"
      ],
      "execution_count": null,
      "outputs": []
    },
    {
      "cell_type": "markdown",
      "metadata": {
        "id": "z6eociyrn_Yd"
      },
      "source": [
        "tight_layout()pad , w_pad 및 h_pad 의 키워드 인수를 사용할 수 있습니다 . 이들은 그림 테두리 주변과 서브 플롯 사이의 추가 패딩을 제어합니다. 패드는 글꼴 크기의 비율로 지정됩니다."
      ]
    },
    {
      "cell_type": "code",
      "metadata": {
        "id": "vQExXh2IoAIt"
      },
      "source": [
        "fig, ((ax1, ax2), (ax3, ax4)) = plt.subplots(nrows=2, ncols=2)\n",
        "example_plot(ax1)\n",
        "example_plot(ax2)\n",
        "example_plot(ax3)\n",
        "example_plot(ax4)\n",
        "plt.tight_layout(pad=0.4, w_pad=0.5, h_pad=1.0)"
      ],
      "execution_count": null,
      "outputs": []
    },
    {
      "cell_type": "markdown",
      "metadata": {
        "id": "owfC1PwSoCfJ"
      },
      "source": [
        "tight_layout()그리드 사양이 호환되는 한 서브 플롯의 크기가 다른 경우에도 작동합니다. 아래 예에서 ax1 및 ax2 는 2x2 그리드의 서브 플롯이고 ax3 은 1x2 그리드의 서브 플롯입니다 ."
      ]
    },
    {
      "cell_type": "code",
      "metadata": {
        "id": "6xE7jPs4oDVF"
      },
      "source": [
        "plt.close('all')\n",
        "fig = plt.figure()\n",
        "\n",
        "ax1 = plt.subplot(221)\n",
        "ax2 = plt.subplot(223)\n",
        "ax3 = plt.subplot(122)\n",
        "\n",
        "example_plot(ax1)\n",
        "example_plot(ax2)\n",
        "example_plot(ax3)\n",
        "\n",
        "plt.tight_layout()"
      ],
      "execution_count": null,
      "outputs": []
    },
    {
      "cell_type": "markdown",
      "metadata": {
        "id": "80V-KOXFoE8i"
      },
      "source": [
        "로 생성 된 서브 플롯에서 작동합니다 subplot2grid(). 일반적으로 gridspec ( GridSpec 및 기타 기능을 사용하여 그림 레이아웃 사용자 정의) 에서 생성 된 서브 플롯 이 작동합니다."
      ]
    },
    {
      "cell_type": "code",
      "metadata": {
        "id": "RM7ftZENoF3S"
      },
      "source": [
        "plt.close('all')\n",
        "fig = plt.figure()\n",
        "\n",
        "ax1 = plt.subplot2grid((3, 3), (0, 0))\n",
        "ax2 = plt.subplot2grid((3, 3), (0, 1), colspan=2)\n",
        "ax3 = plt.subplot2grid((3, 3), (1, 0), colspan=2, rowspan=2)\n",
        "ax4 = plt.subplot2grid((3, 3), (1, 2), rowspan=2)\n",
        "\n",
        "example_plot(ax1)\n",
        "example_plot(ax2)\n",
        "example_plot(ax3)\n",
        "example_plot(ax4)\n",
        "\n",
        "plt.tight_layout()"
      ],
      "execution_count": null,
      "outputs": []
    },
    {
      "cell_type": "markdown",
      "metadata": {
        "id": "PBBF2sOHoH5K"
      },
      "source": [
        "철저히 테스트되지는 않았지만 aspect! = \"auto\"(예 : 이미지가있는 축)의 서브 플롯에서 작동하는 것 같습니다."
      ]
    },
    {
      "cell_type": "code",
      "metadata": {
        "id": "jxMm3juVoIoX"
      },
      "source": [
        "arr = np.arange(100).reshape((10, 10))\n",
        "\n",
        "plt.close('all')\n",
        "fig = plt.figure(figsize=(5, 4))\n",
        "\n",
        "ax = plt.subplot(111)\n",
        "im = ax.imshow(arr, interpolation=\"none\")\n",
        "\n",
        "plt.tight_layout()"
      ],
      "execution_count": null,
      "outputs": []
    },
    {
      "cell_type": "markdown",
      "metadata": {
        "id": "gJcz3Cb7rGZm"
      },
      "source": [
        "## 주의 사항\n",
        "\n",
        "* tight_layout기본적으로 축의 모든 아티스트를 고려합니다. 레이아웃 계산에서 아티스트를 제거하려면을 호출 할 수 있습니다 Artist.set_in_layout.\n",
        "* tight_layout아티스트에게 필요한 추가 공간이 축의 원래 위치와 무관하다고 가정합니다. 이것은 종종 사실이지만 그렇지 않은 경우가 드뭅니다.\n",
        "* pad=0일부 텍스트를 몇 픽셀로자를 수 있습니다. 이것은 현재 알고리즘의 버그 또는 제한 일 수 있으며 그 원인이 명확하지 않습니다. 한편, 0.3보다 큰 패드를 사용하는 것이 좋습니다."
      ]
    },
    {
      "cell_type": "markdown",
      "metadata": {
        "id": "neqRdP0GrNjt"
      },
      "source": [
        "## GridSpec과 함께 사용\n",
        "\n",
        "GridSpec에는 자체 GridSpec.tight_layout메서드가 있습니다 (pyplot api pyplot.tight_layout도 작동 함)."
      ]
    },
    {
      "cell_type": "code",
      "metadata": {
        "id": "n5fH--QxrROU"
      },
      "source": [
        "import matplotlib.gridspec as gridspec\n",
        "\n",
        "plt.close('all')\n",
        "fig = plt.figure()\n",
        "\n",
        "gs1 = gridspec.GridSpec(2, 1)\n",
        "ax1 = fig.add_subplot(gs1[0])\n",
        "ax2 = fig.add_subplot(gs1[1])\n",
        "\n",
        "example_plot(ax1)\n",
        "example_plot(ax2)\n",
        "\n",
        "gs1.tight_layout(fig)"
      ],
      "execution_count": null,
      "outputs": []
    },
    {
      "cell_type": "markdown",
      "metadata": {
        "id": "3hZnjYIirTmk"
      },
      "source": [
        "선택적 rect 매개 변수를 제공 하여 서브 플롯이 내부에 들어갈 경계 상자를 지정할 수 있습니다. 좌표는 정규화 된 그림 좌표 여야하며 기본값은 (0, 0, 1, 1)입니다."
      ]
    },
    {
      "cell_type": "code",
      "metadata": {
        "id": "Cb_fG1ysrUhM",
        "outputId": "48dcc904-084d-48ed-feba-17348df27041",
        "colab": {
          "base_uri": "https://localhost:8080/",
          "height": 297
        }
      },
      "source": [
        "fig = plt.figure()\n",
        "\n",
        "gs1 = gridspec.GridSpec(2, 1)\n",
        "ax1 = fig.add_subplot(gs1[0])\n",
        "ax2 = fig.add_subplot(gs1[1])\n",
        "\n",
        "example_plot(ax1)\n",
        "example_plot(ax2)\n",
        "\n",
        "gs1.tight_layout(fig, rect=[0, 0, 0.5, 1])"
      ],
      "execution_count": 10,
      "outputs": [
        {
          "output_type": "display_data",
          "data": {
            "image/png": "[encoded data removed]",
            "text/plain": [
              "<Figure size 432x288 with 2 Axes>"
            ]
          },
          "metadata": {
            "tags": [],
            "needs_background": "light"
          }
        }
      ]
    },
    {
      "cell_type": "markdown",
      "metadata": {
        "id": "t0Icie8erWdu"
      },
      "source": [
        "예를 들어 여러 gridspec이있는 Figure에 사용할 수 있습니다."
      ]
    },
    {
      "cell_type": "code",
      "metadata": {
        "id": "YbtZxYNbrXkf"
      },
      "source": [
        "fig = plt.figure()\n",
        "\n",
        "gs1 = gridspec.GridSpec(2, 1)\n",
        "ax1 = fig.add_subplot(gs1[0])\n",
        "ax2 = fig.add_subplot(gs1[1])\n",
        "\n",
        "example_plot(ax1)\n",
        "example_plot(ax2)\n",
        "\n",
        "gs1.tight_layout(fig, rect=[0, 0, 0.5, 1])\n",
        "\n",
        "gs2 = gridspec.GridSpec(3, 1)\n",
        "\n",
        "for ss in gs2:\n",
        "    ax = fig.add_subplot(ss)\n",
        "    example_plot(ax)\n",
        "    ax.set_title(\"\")\n",
        "    ax.set_xlabel(\"\")\n",
        "\n",
        "ax.set_xlabel(\"x-label\", fontsize=12)\n",
        "\n",
        "gs2.tight_layout(fig, rect=[0.5, 0, 1, 1], h_pad=0.5)\n",
        "\n",
        "# We may try to match the top and bottom of two grids ::\n",
        "top = min(gs1.top, gs2.top)\n",
        "bottom = max(gs1.bottom, gs2.bottom)\n",
        "\n",
        "gs1.update(top=top, bottom=bottom)\n",
        "gs2.update(top=top, bottom=bottom)\n",
        "plt.show()"
      ],
      "execution_count": null,
      "outputs": []
    },
    {
      "cell_type": "markdown",
      "metadata": {
        "id": "gkXgOjJRraoP"
      },
      "source": [
        "이 정도면 충분하지만 상단과 하단을 조정하려면 hspace를 조정해야 할 수도 있습니다. hspace 및 vspace를 업데이트하려면 업데이트 GridSpec.tight_layout된 rect 인수로 다시 호출 합니다. rect 인수는 ticklabels 등을 포함하는 영역을 지정합니다. 따라서 각 gridspec의 위와 아래 사이의 차이로 아래 (일반적인 경우 0)를 늘립니다. 정상도 마찬가지입니다."
      ]
    },
    {
      "cell_type": "code",
      "metadata": {
        "id": "zfhgPWjbrbn9"
      },
      "source": [
        "fig = plt.gcf()\n",
        "\n",
        "gs1 = gridspec.GridSpec(2, 1)\n",
        "ax1 = fig.add_subplot(gs1[0])\n",
        "ax2 = fig.add_subplot(gs1[1])\n",
        "\n",
        "example_plot(ax1)\n",
        "example_plot(ax2)\n",
        "\n",
        "gs1.tight_layout(fig, rect=[0, 0, 0.5, 1])\n",
        "\n",
        "gs2 = gridspec.GridSpec(3, 1)\n",
        "\n",
        "for ss in gs2:\n",
        "    ax = fig.add_subplot(ss)\n",
        "    example_plot(ax)\n",
        "    ax.set_title(\"\")\n",
        "    ax.set_xlabel(\"\")\n",
        "\n",
        "ax.set_xlabel(\"x-label\", fontsize=12)\n",
        "\n",
        "gs2.tight_layout(fig, rect=[0.5, 0, 1, 1], h_pad=0.5)\n",
        "\n",
        "top = min(gs1.top, gs2.top)\n",
        "bottom = max(gs1.bottom, gs2.bottom)\n",
        "\n",
        "gs1.update(top=top, bottom=bottom)\n",
        "gs2.update(top=top, bottom=bottom)\n",
        "\n",
        "top = min(gs1.top, gs2.top)\n",
        "bottom = max(gs1.bottom, gs2.bottom)\n",
        "\n",
        "gs1.tight_layout(fig, rect=[None, 0 + (bottom-gs1.bottom),\n",
        "                            0.5, 1 - (gs1.top-top)])\n",
        "gs2.tight_layout(fig, rect=[0.5, 0 + (bottom-gs2.bottom),\n",
        "                            None, 1 - (gs2.top-top)],\n",
        "                 h_pad=0.5)"
      ],
      "execution_count": null,
      "outputs": []
    },
    {
      "cell_type": "markdown",
      "metadata": {
        "id": "FkQwSOJoreEG"
      },
      "source": [
        "## 범례 및 주석\n",
        "\n",
        "Matplotlib 2.2 이전 버전, 범례 및 주석은 레이아웃을 결정하는 경계 상자 계산에서 제외되었습니다. 결과적으로 이러한 아티스트가 계산에 추가되었지만 때로는 포함하는 것이 바람직하지 않습니다. 예를 들어,이 경우 범례를위한 공간을 만들기 위해 축을 약간 쪼개는 것이 좋습니다."
      ]
    },
    {
      "cell_type": "code",
      "metadata": {
        "id": "avQapLW5rhKm"
      },
      "source": [
        "fig, ax = plt.subplots(figsize=(4, 3))\n",
        "lines = ax.plot(range(10), label='A simple plot')\n",
        "ax.legend(bbox_to_anchor=(0.7, 0.5), loc='center left',)\n",
        "fig.tight_layout()\n",
        "plt.show()"
      ],
      "execution_count": null,
      "outputs": []
    },
    {
      "cell_type": "markdown",
      "metadata": {
        "id": "Om-3pNzkri_V"
      },
      "source": [
        "그러나 때때로 이것은 바람직하지 않습니다 (를 사용할 때 자주 사용됨 ). 경계 상자 계산에서 범례를 제거하려면 해당 경계를 설정하기 만하면 범례가 무시됩니다.fig.savefig('outname.png', bbox_inches='tight')leg.set_in_layout(False)"
      ]
    },
    {
      "cell_type": "code",
      "metadata": {
        "id": "MhY1TkYwrj1E"
      },
      "source": [
        "fig, ax = plt.subplots(figsize=(4, 3))\n",
        "lines = ax.plot(range(10), label='B simple plot')\n",
        "leg = ax.legend(bbox_to_anchor=(0.7, 0.5), loc='center left',)\n",
        "leg.set_in_layout(False)\n",
        "fig.tight_layout()\n",
        "plt.show()"
      ],
      "execution_count": null,
      "outputs": []
    },
    {
      "cell_type": "markdown",
      "metadata": {
        "id": "KaMM_Ctlrl1f"
      },
      "source": [
        "## AxesGrid1과 함께 사용\n",
        "\n",
        "제한적이지만 mpl_toolkits.axes_grid1지원됩니다."
      ]
    },
    {
      "cell_type": "code",
      "metadata": {
        "id": "9a7QX8yXrpTN"
      },
      "source": [
        "from mpl_toolkits.axes_grid1 import Grid\n",
        "\n",
        "plt.close('all')\n",
        "fig = plt.figure()\n",
        "grid = Grid(fig, rect=111, nrows_ncols=(2, 2),\n",
        "            axes_pad=0.25, label_mode='L',\n",
        "            )\n",
        "\n",
        "for ax in grid:\n",
        "    example_plot(ax)\n",
        "ax.title.set_visible(False)\n",
        "\n",
        "plt.tight_layout()"
      ],
      "execution_count": null,
      "outputs": []
    },
    {
      "cell_type": "markdown",
      "metadata": {
        "id": "XKz3Q8fArq3C"
      },
      "source": [
        "## 컬러 바\n",
        "\n",
        "컬러 바를 사용하여 Figure.colorbar컬러 바를 생성하는 경우 생성 된 컬러 바는 상위 좌표축도 서브 플롯 인 한 서브 플롯에 그려 지므로 Figure.tight_layout작동합니다."
      ]
    },
    {
      "cell_type": "code",
      "metadata": {
        "id": "RhJheG8-rvZE"
      },
      "source": [
        "plt.close('all')\n",
        "arr = np.arange(100).reshape((10, 10))\n",
        "fig = plt.figure(figsize=(4, 4))\n",
        "im = plt.imshow(arr, interpolation=\"none\")\n",
        "\n",
        "plt.colorbar(im)\n",
        "\n",
        "plt.tight_layout()"
      ],
      "execution_count": null,
      "outputs": []
    },
    {
      "cell_type": "markdown",
      "metadata": {
        "id": "eTFyUImJrx49"
      },
      "source": [
        "또 다른 옵션은 AxesGrid1 툴킷을 사용하여 컬러 바에 대한 축을 명시 적으로 생성하는 것입니다."
      ]
    },
    {
      "cell_type": "code",
      "metadata": {
        "id": "KrjIYFaIry4F"
      },
      "source": [
        "from mpl_toolkits.axes_grid1 import make_axes_locatable\n",
        "\n",
        "plt.close('all')\n",
        "arr = np.arange(100).reshape((10, 10))\n",
        "fig = plt.figure(figsize=(4, 4))\n",
        "im = plt.imshow(arr, interpolation=\"none\")\n",
        "\n",
        "divider = make_axes_locatable(plt.gca())\n",
        "cax = divider.append_axes(\"right\", \"5%\", pad=\"3%\")\n",
        "plt.colorbar(im, cax=cax)\n",
        "\n",
        "plt.tight_layout()"
      ],
      "execution_count": null,
      "outputs": []
    }
  ]
}