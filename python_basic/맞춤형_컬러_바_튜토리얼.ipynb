{
  "nbformat": 4,
  "nbformat_minor": 0,
  "metadata": {
    "colab": {
      "name": "맞춤형 컬러 바 튜토리얼.ipynb",
      "provenance": [],
      "toc_visible": true,
      "authorship_tag": "ABX9TyOfnIcjO99Cip4W1i8Qtami",
      "include_colab_link": true
    },
    "kernelspec": {
      "name": "python3",
      "display_name": "Python 3"
    }
  },
  "cells": [
    {
      "cell_type": "markdown",
      "metadata": {
        "id": "view-in-github",
        "colab_type": "text"
      },
      "source": [
        "<a href=\"https://colab.research.google.com/github/ParkSeonungHun/Hun/blob/main/python_basic/%EB%A7%9E%EC%B6%A4%ED%98%95_%EC%BB%AC%EB%9F%AC_%EB%B0%94_%ED%8A%9C%ED%86%A0%EB%A6%AC%EC%96%BC.ipynb\" target=\"_parent\"><img src=\"https://colab.research.google.com/assets/colab-badge.svg\" alt=\"Open In Colab\"/></a>"
      ]
    },
    {
      "cell_type": "markdown",
      "metadata": {
        "id": "KF2bX-Qh0qnu"
      },
      "source": [
        "# 맞춤형 컬러 바 튜토리얼\n",
        "\n",
        "이 튜토리얼은 연결된 플롯없이 독립형 컬러 바를 구축하고 사용자 정의하는 방법을 보여줍니다."
      ]
    },
    {
      "cell_type": "markdown",
      "metadata": {
        "id": "BgRc7iK40tfA"
      },
      "source": [
        "## 맞춤형 컬러 바\n",
        "\n",
        "A 에는 사용할 컬러 맵과 표준을 나타내는 colorbar\"맵핑 가능한\"( matplotlib.cm.ScalarMappable) 객체 (일반적으로 이미지)가 필요합니다. 첨부 된 이미지없이 컬러 바를 생성하려면 대신 ScalarMappable관련 데이터없이 를 사용할 수 있습니다 .\n",
        "\n",
        "기본 연속 컬러 바 \n",
        "\n",
        "여기에서 눈금과 레이블이있는 기본 연속 컬러 바를 만듭니다.\n",
        "\n",
        "colorbar호출에 대한 인수 는 ScalarMappable ( norm 및 cmap 인수를 사용하여 구성됨 ), 컬러 바를 그려야하는 축 및 컬러 바의 방향입니다.\n",
        "\n",
        "자세한 정보는 colorbarAPI를 참조하십시오 ."
      ]
    },
    {
      "cell_type": "code",
      "metadata": {
        "id": "8JO2-Z1T0xt9"
      },
      "source": [
        "import matplotlib.pyplot as plt\n",
        "import matplotlib as mpl\n",
        "\n",
        "fig, ax = plt.subplots(figsize=(6, 1))\n",
        "fig.subplots_adjust(bottom=0.5)\n",
        "\n",
        "cmap = mpl.cm.cool\n",
        "norm = mpl.colors.Normalize(vmin=5, vmax=10)\n",
        "\n",
        "fig.colorbar(mpl.cm.ScalarMappable(norm=norm, cmap=cmap),\n",
        "             cax=ax, orientation='horizontal', label='Some Units')"
      ],
      "execution_count": null,
      "outputs": []
    },
    {
      "cell_type": "markdown",
      "metadata": {
        "id": "GX65rWuA01kq"
      },
      "source": [
        "연속 컬러 스케일로 확장 된 컬러 바 \n",
        "\n",
        "두 번째 예제는 연속적인 cmap을 기반으로 개별 컬러 바를 만드는 방법을 보여줍니다. \"extend\"키워드 인수를 사용하면 확장을 포함하여 색상 공간을 채우기 위해 적절한 색상이 선택됩니다."
      ]
    },
    {
      "cell_type": "code",
      "metadata": {
        "id": "YUDTTS_A03A_"
      },
      "source": [
        "fig, ax = plt.subplots(figsize=(6, 1))\n",
        "fig.subplots_adjust(bottom=0.5)\n",
        "\n",
        "cmap = mpl.cm.viridis\n",
        "bounds = [-1, 2, 5, 7, 12, 15]\n",
        "norm = mpl.colors.BoundaryNorm(bounds, cmap.N, extend='both')\n",
        "cb2 = mpl.colorbar.ColorbarBase(ax, cmap=cmap,\n",
        "                                norm=norm,\n",
        "                                orientation='horizontal')\n",
        "cb2.set_label(\"Discrete intervals with extend='both' keyword\")\n",
        "fig.show()"
      ],
      "execution_count": null,
      "outputs": []
    },
    {
      "cell_type": "markdown",
      "metadata": {
        "id": "fWLCG1Pi05vR"
      },
      "source": [
        "이산 간격 컬러 바 \n",
        "\n",
        "세 번째 예제 ListedColormap는 나열된 색상 세트에서 컬러 맵을 생성하는 a의 사용을 보여줍니다.이 사용은 colors.BoundaryNorm불연속적인 간격과 확장 된 끝을 기반으로 컬러 맵 인덱스를 생성하여 \"오버\"및 \"언더\"값 색상을 표시합니다. 초과 및 미만은 정규화 된 [0, 1] 범위를 벗어난 데이터를 표시하는 데 사용됩니다. 여기서 우리는 0-1 범위의 부동 소수점을 인코딩하는 문자열로 회색 음영으로 색상을 전달합니다.\n",
        "\n",
        "a ListedColormap를 사용 하는 경우 경계 배열의 길이는 색상 목록의 길이보다 하나 커야합니다. 경계는 단조롭게 증가해야합니다.\n",
        "\n",
        "이번에는 추가 인수를 colorbar. 범위를 벗어난 값이 with 확장 키워드를 사용하지 않고 컬러 바에 표시 하려면 컬러 바 호출에서 직접 extend 키워드 인수 colors.BoundaryNorm를 사용 하고 범위의 각 끝에 추가 경계를 제공해야합니다. 여기서는 또한 간격 인수를 사용하여 각 컬러 바 세그먼트의 길이를 해당 간격에 비례하도록 만듭니다."
      ]
    },
    {
      "cell_type": "code",
      "metadata": {
        "id": "kACji4rr07Zg"
      },
      "source": [
        "fig, ax = plt.subplots(figsize=(6, 1))\n",
        "fig.subplots_adjust(bottom=0.5)\n",
        "\n",
        "cmap = mpl.colors.ListedColormap(['red', 'green', 'blue', 'cyan'])\n",
        "cmap.set_over('0.25')\n",
        "cmap.set_under('0.75')\n",
        "\n",
        "bounds = [1, 2, 4, 7, 8]\n",
        "norm = mpl.colors.BoundaryNorm(bounds, cmap.N)\n",
        "fig.colorbar(\n",
        "    mpl.cm.ScalarMappable(cmap=cmap, norm=norm),\n",
        "    cax=ax,\n",
        "    boundaries=[0] + bounds + [13],  # Adding values for extensions.\n",
        "    extend='both',\n",
        "    ticks=bounds,\n",
        "    spacing='proportional',\n",
        "    orientation='horizontal',\n",
        "    label='Discrete intervals, some other units',\n",
        ")"
      ],
      "execution_count": null,
      "outputs": []
    },
    {
      "cell_type": "markdown",
      "metadata": {
        "id": "56dRFJbz0-yu"
      },
      "source": [
        "사용자 지정 확장 길이가있는 컬러 바 \n",
        "\n",
        "여기에서는 개별 간격이있는 컬러 바에서 사용자 지정 길이 컬러 바 확장의 사용을 설명합니다. 각 확장의 길이를 내부 색상의 길이와 동일하게 만들려면을 사용하십시오 extendfrac='auto'."
      ]
    },
    {
      "cell_type": "code",
      "metadata": {
        "id": "IGt1ObV71ASw"
      },
      "source": [
        "fig, ax = plt.subplots(figsize=(6, 1))\n",
        "fig.subplots_adjust(bottom=0.5)\n",
        "\n",
        "cmap = mpl.colors.ListedColormap(['royalblue', 'cyan',\n",
        "                                  'yellow', 'orange'])\n",
        "cmap.set_over('red')\n",
        "cmap.set_under('blue')\n",
        "\n",
        "bounds = [-1.0, -0.5, 0.0, 0.5, 1.0]\n",
        "norm = mpl.colors.BoundaryNorm(bounds, cmap.N)\n",
        "fig.colorbar(\n",
        "    mpl.cm.ScalarMappable(cmap=cmap, norm=norm),\n",
        "    cax=ax,\n",
        "    boundaries=[-10] + bounds + [10],\n",
        "    extend='both',\n",
        "    extendfrac='auto',\n",
        "    ticks=bounds,\n",
        "    spacing='uniform',\n",
        "    orientation='horizontal',\n",
        "    label='Custom extension lengths, some other units',\n",
        ")\n",
        "\n",
        "plt.show()"
      ],
      "execution_count": null,
      "outputs": []
    }
  ]
}