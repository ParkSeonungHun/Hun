{
  "nbformat": 4,
  "nbformat_minor": 0,
  "metadata": {
    "colab": {
      "name": "텍스트 속성과 레이아웃.ipynb",
      "provenance": [],
      "authorship_tag": "ABX9TyPGGEvNzCofJ3NiqhyAWEc9",
      "include_colab_link": true
    },
    "kernelspec": {
      "name": "python3",
      "display_name": "Python 3"
    }
  },
  "cells": [
    {
      "cell_type": "markdown",
      "metadata": {
        "id": "view-in-github",
        "colab_type": "text"
      },
      "source": [
        "<a href=\"https://colab.research.google.com/github/ParkSeonungHun/Hun/blob/main/python_basic/%ED%85%8D%EC%8A%A4%ED%8A%B8_%EC%86%8D%EC%84%B1%EA%B3%BC_%EB%A0%88%EC%9D%B4%EC%95%84%EC%9B%83.ipynb\" target=\"_parent\"><img src=\"https://colab.research.google.com/assets/colab-badge.svg\" alt=\"Open In Colab\"/></a>"
      ]
    },
    {
      "cell_type": "markdown",
      "metadata": {
        "id": "4JQbLmRqnwGn"
      },
      "source": [
        "# 텍스트 속성 및 레이아웃\n",
        "\n",
        "Matplotlib로 텍스트의 속성과 레이아웃을 제어합니다.\n",
        "\n",
        "matplotlib.text.Text인스턴스에 키워드 인수를 통해 구성 할 수있는 다양한 속성이 set_title, set_xlabel, text, 등"
      ]
    },
    {
      "cell_type": "markdown",
      "metadata": {
        "id": "GlM7b1ton639"
      },
      "source": [
        "alpha : float\n",
        "\n",
        "배경색 : 모든 matplotlib 색상\n",
        "\n",
        "bbox : Recangle'pad'ㅠㅗ인트의 패드 인 prop dict plus 키\n",
        "\n",
        "clip_box : matplotlib.transform.Bbox 인스턴스\n",
        "\n",
        "clip_on : bool\n",
        "\n",
        "clip_path : Path인스턴스와 Transform인스턴스를 하는 patch\n",
        "\n",
        "color : 모든 matplotlib 색상\n",
        "\n",
        "famliy : ['seif'|'sans-serif'|'cursive'|'fantasy'|'monospace']\n",
        "\n",
        "fontproperties : FontProperties\n",
        "\n",
        "horizontalalignment 또는 ha : ['center'|'right'|'left']\n",
        "\n",
        "label : 모든 문자열\n",
        "\n",
        "linespacing : float\n",
        "\n",
        "multialignment : ['left'|'right'|'center']\n",
        "\n",
        "name of fontname : 문자열 예 : ['Sans'|'Courier'|'Helveica'...]\n",
        "\n",
        "picker : [None|float|bool|callable]\n",
        "\n",
        "position : (x,y)\n",
        "\n",
        "rotation : [각도|'vertical'|horizontal']\n",
        "\n",
        "size or fontsize : [포인트 단위의 크기 | 상대 크기, 예 : 'smaller' , 'x-large']\n",
        "\n",
        "style or fontstyle : ['normal'|'italic'|'oblique']\n",
        "\n",
        "text : 문자열 또는 '%s'변환으로 인쇄 가능한 모든 것\n",
        "\n",
        "transform : Transform 아강\n",
        "\n",
        "variant : ['normal'|'small-caps']\n",
        "\n",
        "verticalalignment or va : ['center'|'top'|'bottom'|'baseline']\n",
        "\n",
        "visible : bool\n",
        "\n",
        "weight or fontweight : ['normal'|'bold'|'heavy'|'light'|'ultrabold'|'ultralight']\n",
        "\n",
        "x : flort\n",
        "\n",
        "y : flort\n",
        "\n",
        "zorder : 임의의 숫자"
      ]
    },
    {
      "cell_type": "markdown",
      "metadata": {
        "id": "Fkl-KDX0q89b"
      },
      "source": [
        "당신은 정렬 인수 텍스트를 배치 할 수 있습니다 horizontalalignment, verticalalignment하고 multialignment. horizontalalignment텍스트의 x 위치 인수가 텍스트 경계 상자의 왼쪽, 가운데 또는 오른쪽을 나타내는 지 여부를 제어합니다. verticalalignment텍스트의 y 위치 인수가 텍스트 경계 상자의 아래쪽, 가운데 또는 위쪽을 나타내는 지 여부를 제어합니다. multialignment, 줄 바꿈으로 구분 된 문자열의 경우에만 다른 줄을 왼쪽, 가운데 또는 오른쪽 정렬할지 여부를 제어합니다. 다음은 text()명령을 사용 하여 다양한 정렬 가능성을 보여주는 예입니다 . transform=ax.transAxes코드 전체에서를 사용 하면 좌표가 축 경계 상자를 기준으로 지정되며 (0, 0)은 축의 왼쪽 하단이고 (1, 1)은 오른쪽 상단입니다."
      ]
    },
    {
      "cell_type": "code",
      "metadata": {
        "id": "DqhZH6QFq-S2"
      },
      "source": [
        "import matplotlib.pyplot as plt\n",
        "import matplotlib.patches as patches\n",
        "\n",
        "# build a rectangle in axes coords\n",
        "left, width = .25, .5\n",
        "bottom, height = .25, .5\n",
        "right = left + width\n",
        "top = bottom + height\n",
        "\n",
        "fig = plt.figure()\n",
        "ax = fig.add_axes([0, 0, 1, 1])\n",
        "\n",
        "# axes coordinates: (0, 0) is bottom left and (1, 1) is upper right\n",
        "p = patches.Rectangle(\n",
        "    (left, bottom), width, height,\n",
        "    fill=False, transform=ax.transAxes, clip_on=False\n",
        "    )\n",
        "\n",
        "ax.add_patch(p)\n",
        "\n",
        "ax.text(left, bottom, 'left top',\n",
        "        horizontalalignment='left',\n",
        "        verticalalignment='top',\n",
        "        transform=ax.transAxes)\n",
        "\n",
        "ax.text(left, bottom, 'left bottom',\n",
        "        horizontalalignment='left',\n",
        "        verticalalignment='bottom',\n",
        "        transform=ax.transAxes)\n",
        "\n",
        "ax.text(right, top, 'right bottom',\n",
        "        horizontalalignment='right',\n",
        "        verticalalignment='bottom',\n",
        "        transform=ax.transAxes)\n",
        "\n",
        "ax.text(right, top, 'right top',\n",
        "        horizontalalignment='right',\n",
        "        verticalalignment='top',\n",
        "        transform=ax.transAxes)\n",
        "\n",
        "ax.text(right, bottom, 'center top',\n",
        "        horizontalalignment='center',\n",
        "        verticalalignment='top',\n",
        "        transform=ax.transAxes)\n",
        "\n",
        "ax.text(left, 0.5*(bottom+top), 'right center',\n",
        "        horizontalalignment='right',\n",
        "        verticalalignment='center',\n",
        "        rotation='vertical',\n",
        "        transform=ax.transAxes)\n",
        "\n",
        "ax.text(left, 0.5*(bottom+top), 'left center',\n",
        "        horizontalalignment='left',\n",
        "        verticalalignment='center',\n",
        "        rotation='vertical',\n",
        "        transform=ax.transAxes)\n",
        "\n",
        "ax.text(0.5*(left+right), 0.5*(bottom+top), 'middle',\n",
        "        horizontalalignment='center',\n",
        "        verticalalignment='center',\n",
        "        fontsize=20, color='red',\n",
        "        transform=ax.transAxes)\n",
        "\n",
        "ax.text(right, 0.5*(bottom+top), 'centered',\n",
        "        horizontalalignment='center',\n",
        "        verticalalignment='center',\n",
        "        rotation='vertical',\n",
        "        transform=ax.transAxes)\n",
        "\n",
        "ax.text(left, top, 'rotated\\nwith newlines',\n",
        "        horizontalalignment='center',\n",
        "        verticalalignment='center',\n",
        "        rotation=45,\n",
        "        transform=ax.transAxes)\n",
        "\n",
        "ax.set_axis_off()\n",
        "plt.show()"
      ],
      "execution_count": null,
      "outputs": []
    },
    {
      "cell_type": "markdown",
      "metadata": {
        "id": "nU7gYiUgrBAq"
      },
      "source": [
        "# 기본 글꼴\n",
        "\n",
        "기본 기본 글꼴은 rcParams 세트에 의해 제어됩니다. 수학 식의 글꼴을 설정하려면로 시작하는 rcParams를 사용 mathtext 하십시오 ( mathtext 참조 )."
      ]
    },
    {
      "cell_type": "markdown",
      "metadata": {
        "id": "RlX-Ph4ZrFVi"
      },
      "source": [
        "rcParam : 용법\n",
        "\n",
        "'font.family' : 글꼴 또는 .{'cursive','fantasy','monospace','sans','sans serif','sans-serif','serif'}\n",
        "\n",
        "'font.style' : 기본 스타일. 전 'nomal','italic'\n",
        "\n",
        "'font.variant' : 기본 변형. ex 'normal','small-caps'(추정되지 않음)\n",
        "\n",
        "'font.stretch' : 기본 늘이기, ex 'normal','condensed'(불완전)\n",
        "\n",
        "'font.weight' : 기본 무게. 문자열 또는 정수\n",
        "\n",
        "'font.size : 포인트 단위의 기본 글꼴 크기, 상대적 글꼴크기 ('large','x-small')는 이 크기에 대해 계산됩니다."
      ]
    },
    {
      "cell_type": "markdown",
      "metadata": {
        "id": "ZPHVrd4Xr3M-"
      },
      "source": [
        "패밀리 별칭 ( )과 실제 글꼴 이름 간의 매핑 은 다음 rcParams에 의해 제어됩니다.{'cursive', 'fantasy', 'monospace', 'sans', 'sans serif', 'sans-serif', 'serif'}\n",
        "\n",
        "family alias : rcparam with mappings\n",
        "\n",
        "'serif' : 'font_serif'\n",
        "\n",
        "'monospece' : 'font_monospece'\n",
        "\n",
        "'fantasy' : 'font_fantasy'\n",
        "\n",
        "'cursive' : 'font_cursive'\n",
        "\n",
        "{'sans', 'sans serif', 'sans-serif'} : 'font.sans-serif'\n",
        "\n",
        "글꼴 이름 목록입니다."
      ]
    },
    {
      "cell_type": "markdown",
      "metadata": {
        "id": "IZXpO48AsYXC"
      },
      "source": [
        "## 라틴어가 아닌 글리프가 있는 텍스트\n",
        "\n",
        "v2.0부터 기본 글꼴 인 DejaVu에는 많은 서양 알파벳에 대한 글리프가 포함되어 있지만 중국어, 한국어 또는 일본어와 같은 다른 스크립트는 포함되지 않습니다.\n",
        "\n",
        "기본 글꼴을 필요한 코드 포인트를 지원하는 글꼴로 설정하려면 글꼴 이름 'font.family'또는 원하는 별칭 목록 을 앞에 추가하십시오."
      ]
    },
    {
      "cell_type": "code",
      "metadata": {
        "id": "RWun6nlTsbmr",
        "outputId": "b42d15eb-9bbd-4323-b684-5cb17b01d18b",
        "colab": {
          "base_uri": "https://localhost:8080/",
          "height": 172
        }
      },
      "source": [
        "matplotlib.rcParams['font.sans-serif'] = ['Source Han Sans TW', 'sans-serif']"
      ],
      "execution_count": 2,
      "outputs": [
        {
          "output_type": "error",
          "ename": "NameError",
          "evalue": "ignored",
          "traceback": [
            "\u001b[0;31m---------------------------------------------------------------------------\u001b[0m",
            "\u001b[0;31mNameError\u001b[0m                                 Traceback (most recent call last)",
            "\u001b[0;32m<ipython-input-2-d2c86387471a>\u001b[0m in \u001b[0;36m<module>\u001b[0;34m()\u001b[0m\n\u001b[0;32m----> 1\u001b[0;31m \u001b[0mmatplotlib\u001b[0m\u001b[0;34m.\u001b[0m\u001b[0mrcParams\u001b[0m\u001b[0;34m[\u001b[0m\u001b[0;34m'font.sans-serif'\u001b[0m\u001b[0;34m]\u001b[0m \u001b[0;34m=\u001b[0m \u001b[0;34m[\u001b[0m\u001b[0;34m'Source Han Sans TW'\u001b[0m\u001b[0;34m,\u001b[0m \u001b[0;34m'sans-serif'\u001b[0m\u001b[0;34m]\u001b[0m\u001b[0;34m\u001b[0m\u001b[0;34m\u001b[0m\u001b[0m\n\u001b[0m",
            "\u001b[0;31mNameError\u001b[0m: name 'matplotlib' is not defined"
          ]
        }
      ]
    },
    {
      "cell_type": "markdown",
      "metadata": {
        "id": "0v5lWApusc2b"
      },
      "source": [
        "또는 .matplotlibrc파일에 설정 하십시오."
      ]
    },
    {
      "cell_type": "code",
      "metadata": {
        "id": "YBXb7akwsdpK"
      },
      "source": [
        "font.sans-serif: Source Han Sans TW, Arial, sans-serif"
      ],
      "execution_count": null,
      "outputs": []
    },
    {
      "cell_type": "markdown",
      "metadata": {
        "id": "PKPurHbzsfXB"
      },
      "source": [
        "아티스트별로 사용되는 글꼴을 제어하려면 위에 설명 된'name' , 'fontname'또는 'fontproperties'kwargs를 사용하세요 .\n",
        "\n",
        "Linux에서 fc-list 는 글꼴 이름을 찾는 데 유용한 도구가 될 수 있습니다. 예를 들면"
      ]
    },
    {
      "cell_type": "code",
      "metadata": {
        "id": "yuuZ0NgasgSM"
      },
      "source": [
        "$ fc-list :lang=zh family\n",
        "Noto to Sans Mono CJK TC,Noto Sans Mono CJK TC Bold\n",
        "Noto Sans CJK TC,Noto Sans CJK TC Medium\n",
        "Noto Sans CJK TC,Noto Sans CJK TC DemiLight\n",
        "Noto Sans CJK KR,Noto Sans CJK KR Black\n",
        "Noto Sans CJK TC,Noto Sans CJK TC Black\n",
        "Noto Sans Mono CJK TC,Noto Sans Mono CJK TC Regular\n",
        "Noto Sans CJK SC,Noto Sans CJK SC Light"
      ],
      "execution_count": null,
      "outputs": []
    },
    {
      "cell_type": "markdown",
      "metadata": {
        "id": "ArAVR9UdsiXj"
      },
      "source": [
        "중국어를 지원하는 모든 글꼴을 나열합니다."
      ]
    }
  ]
}