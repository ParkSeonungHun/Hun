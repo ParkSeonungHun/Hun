{
  "nbformat": 4,
  "nbformat_minor": 0,
  "metadata": {
    "colab": {
      "name": "아티스트 튜토리얼.ipynb",
      "provenance": [],
      "toc_visible": true,
      "authorship_tag": "ABX9TyOYTSD2tUA1Ce3nA1uDSKfe",
      "include_colab_link": true
    },
    "kernelspec": {
      "name": "python3",
      "display_name": "Python 3"
    }
  },
  "cells": [
    {
      "cell_type": "markdown",
      "metadata": {
        "id": "view-in-github",
        "colab_type": "text"
      },
      "source": [
        "<a href=\"https://colab.research.google.com/github/ParkSeonungHun/Hun/blob/main/python_basic/%EC%95%84%ED%8B%B0%EC%8A%A4%ED%8A%B8_%ED%8A%9C%ED%86%A0%EB%A6%AC%EC%96%BC.ipynb\" target=\"_parent\"><img src=\"https://colab.research.google.com/assets/colab-badge.svg\" alt=\"Open In Colab\"/></a>"
      ]
    },
    {
      "cell_type": "markdown",
      "metadata": {
        "id": "KxbFzA2V7JNJ"
      },
      "source": [
        "# 아티스트 튜토리얼\n",
        "\n",
        "아티스트 개체를 사용하여 캔버스에 렌더링합니다.\n",
        "\n",
        "matplotlib API에는 세 개의 계층이 있습니다.\n",
        "\n",
        "* matplotlib.backend_bases.FigureCanvas은 도면이 묘화되는 영역 인 상\n",
        "* matplotlib.backend_bases.Renderer은 온 그리는 방법을 알고있는 객체입니다 FigureCanvas\n",
        "* 그리고는 matplotlib.artist.Artist캔버스에 페인트 렌더러를 사용하는 방법을 알고있는 개체입니다.\n"
      ]
    },
    {
      "cell_type": "markdown",
      "metadata": {
        "id": "SbuTlQvw7hEK"
      },
      "source": [
        "FigureCanvas및 Renderer모든처럼 사용자 인터페이스 툴킷 이야기의 세부 처리 wxPython에 또는 포스트 스크립트 같은 언어를 그리기, 그리고 Artist모든 핸들 대표와 그림, 텍스트 및 라인 레이아웃과 같은 높은 수준의 구조를. 일반 사용자는 시간의 95 %를 Artists.\n",
        "\n",
        "Artists프리미티브와 컨테이너 의 두 가지 유형이 있습니다 . : 프리미티브는 우리가 우리의 캔버스에 칠하려는 표준 그래픽 객체를 나타냅니다 Line2D, Rectangle, Text, AxesImage, 등, 그리고 용기를 넣어 장소 ( Axis, Axes및 Figure). 표준 사용은 만드는 것입니다 Figure, 사용 예를 Figure하나 개 더 만들 Axes거나 Subplot인스턴스를하고 사용 Axes프리미티브를 생성하는 예 도우미 방법. 아래 예에서는 Figure인스턴스 matplotlib.pyplot.figure()를 인스턴스화 Figure하고 사용자 인터페이스 또는 그리기 도구 키트와 연결 하는 편리한 방법 인를 사용하여 인스턴스를 만듭니다. FigureCanvas. 아래에서 설명 하겠지만, 이것은 필요하지 않습니다. PostScript, PDF Gtk + 또는 wxPython FigureCanvas인스턴스로 Figures 직접 작업하고 직접 인스턴스화하여 직접 연결할 수 있습니다.하지만 여기서는 ArtistAPI 에 초점을 맞추고 pyplot있으므로 일부를 처리 하겠습니다. 우리를위한 그 세부 사항 :"
      ]
    },
    {
      "cell_type": "code",
      "metadata": {
        "id": "fp1s924s8A7K"
      },
      "source": [
        ""
      ],
      "execution_count": null,
      "outputs": []
    },
    {
      "cell_type": "code",
      "metadata": {
        "id": "pIJIx50I7h_o"
      },
      "source": [
        "import matplotlib.pyplot as plt\n",
        "fig = plt.figure()\n",
        "ax = fig.add_subplot(2, 1, 1) # two rows, one column, first plot"
      ],
      "execution_count": null,
      "outputs": []
    },
    {
      "cell_type": "markdown",
      "metadata": {
        "id": "2ewY-dvo74OS"
      },
      "source": [
        "이는 Axes아마도 matplotlib API에서 가장 중요한 클래스이며 대부분의 시간에 작업하게 될 클래스입니다. (가) 때문이다 Axes대부분의 개체가 이동되는 플로팅 영역이며,이 Axes많은 특별한 도우미 메서드 (이 plot(), text(), hist(), imshow()) 가장 일반적인 그래픽 프리미티브를 생성하기를 ( Line2D, Text, Rectangle, AxesImage, 각각). 이러한 도우미 메서드는 데이터 (예 : numpy배열 및 문자열)를 가져와 Artist필요에 따라 기본 인스턴스 (예 :) 를 만들고 Line2D관련 컨테이너에 추가하고 요청시 그립니다. 대부분의 사용자는에 익숙 할 것입니다 Subplot. 이는 Axes열 그리드에 의해 일반 행에 존재하는 의 특수한 경우입니다.Subplot인스턴스. Axes임의의 위치에을 만들려면 0-1 상대 그림 좌표 add_axes()의 값 목록을 가져 오는 방법을 사용하면 됩니다 .[left, bottom, width, height]"
      ]
    },
    {
      "cell_type": "code",
      "metadata": {
        "id": "1Bl3l1ps757K"
      },
      "source": [
        "fig2 = plt.figure()\n",
        "ax2 = fig2.add_axes([0.15, 0.1, 0.7, 0.3])\n"
      ],
      "execution_count": null,
      "outputs": []
    },
    {
      "cell_type": "markdown",
      "metadata": {
        "id": "gRZLqYQ_7_BS"
      },
      "source": [
        "예를 들어 계속 :"
      ]
    },
    {
      "cell_type": "code",
      "metadata": {
        "id": "Qzql92-C8CKK"
      },
      "source": [
        "import numpy as np\n",
        "t = np.arange(0.0, 1.0, 0.01)\n",
        "s = np.sin(2*np.pi*t)\n",
        "line, = ax.plot(t, s, color='blue', lw=2)"
      ],
      "execution_count": 3,
      "outputs": []
    },
    {
      "cell_type": "markdown",
      "metadata": {
        "id": "xvsruRkU8Dv2"
      },
      "source": [
        "이 예에서 ax는 IS Axes에 의해 생성 된 인스턴스 fig.add_subplot위의 호출은 (기억 Subplot단지의 서브 클래스 Axes) 그리고 당신이 호출 할 때 ax.plot, 그것은 생성 Line2D인스턴스를하고에 추가 Axes.lines목록입니다. 아래의 대화 형 ipython 세션에서 Axes.lines목록의 길이가 1이고 호출 에서 반환 된 것과 동일한 줄이 포함되어 있음을 알 수 있습니다 .line, = ax.plot..."
      ]
    },
    {
      "cell_type": "code",
      "metadata": {
        "id": "KGjc0_cc8Ee8"
      },
      "source": [
        "In [101]: ax.lines[0]\n",
        "Out[101]: <matplotlib.lines.Line2D instance at 0x19a95710>\n",
        "\n",
        "In [102]: line\n",
        "Out[102]: <matplotlib.lines.Line2D instance at 0x19a95710>"
      ],
      "execution_count": null,
      "outputs": []
    },
    {
      "cell_type": "markdown",
      "metadata": {
        "id": "HeqkXgh78Ich"
      },
      "source": [
        "다음에에게 전화를 걸면 ax.plot(그리고 보류 상태가 기본값 인 \"on\") 목록에 추가 회선이 추가됩니다. 나중에 단순히 list 메서드를 호출하여 줄을 제거 할 수 있습니다. 다음 중 하나가 작동합니다."
      ]
    },
    {
      "cell_type": "code",
      "metadata": {
        "id": "rNANC61p8Jlh"
      },
      "source": [
        "del ax.lines[0]\n",
        "ax.lines.remove(line)  # one or the other, not both!"
      ],
      "execution_count": null,
      "outputs": []
    },
    {
      "cell_type": "markdown",
      "metadata": {
        "id": "gDMC_55n8LtC"
      },
      "source": [
        "Axes에는 x 축 및 y 축 눈금, 눈금 레이블 및 축 레이블을 구성하고 장식하는 도우미 메서드도 있습니다."
      ]
    },
    {
      "cell_type": "code",
      "metadata": {
        "id": "XUUhy9zg8MfD"
      },
      "source": [
        "xtext = ax.set_xlabel('my xdata') # returns a Text instance\n",
        "ytext = ax.set_ylabel('my ydata')\n"
      ],
      "execution_count": 6,
      "outputs": []
    },
    {
      "cell_type": "markdown",
      "metadata": {
        "id": "sz9k2pLQ8OlK"
      },
      "source": [
        "을 호출하면 ax.set_xlabel의 Text 인스턴스에 대한 정보를 전달 합니다 XAxis. 각 Axes 인스턴스에는 눈금, 눈금 레이블 및 축 레이블의 레이아웃과 그리기를 처리 하는 XAxis및 인스턴스가 포함 YAxis됩니다.\n",
        "\n",
        "아래 그림을 만들어보십시오."
      ]
    },
    {
      "cell_type": "code",
      "metadata": {
        "id": "xsSqK9f28SXS"
      },
      "source": [
        "import numpy as np\n",
        "import matplotlib.pyplot as plt\n",
        "\n",
        "fig = plt.figure()\n",
        "fig.subplots_adjust(top=0.8)\n",
        "ax1 = fig.add_subplot(211)\n",
        "ax1.set_ylabel('volts')\n",
        "ax1.set_title('a sine wave')\n",
        "\n",
        "t = np.arange(0.0, 1.0, 0.01)\n",
        "s = np.sin(2*np.pi*t)\n",
        "line, = ax1.plot(t, s, color='blue', lw=2)\n",
        "\n",
        "# Fixing random state for reproducibility\n",
        "np.random.seed(19680801)\n",
        "\n",
        "ax2 = fig.add_axes([0.15, 0.1, 0.7, 0.3])\n",
        "n, bins, patches = ax2.hist(np.random.randn(1000), 50,\n",
        "                            facecolor='yellow', edgecolor='yellow')\n",
        "ax2.set_xlabel('time (s)')\n",
        "\n",
        "plt.show()"
      ],
      "execution_count": null,
      "outputs": []
    },
    {
      "cell_type": "markdown",
      "metadata": {
        "id": "6g-bj98G8sCT"
      },
      "source": [
        "## 개체 사용자 지정\n",
        "\n",
        "그림의 모든 요소는 matplotlib로 표시되며 각 요소에는 Artist모양을 구성하기위한 광범위한 속성 목록이 있습니다. 그림 자체에는 Rectangle그림의 배경색과 투명도를 설정하는 데 사용할 수있는 그림의 크기와 정확히 일치합니다. 마찬가지로 각 Axes경계 상자 (일반적인 matplotlib 플롯에서 검은 색 가장자리가있는 표준 흰색 상자 Rectangle에는 Axes의 색상, 투명도 및 기타 속성을 결정하는 인스턴스가 있습니다. 이러한 인스턴스는 멤버 변수로 저장 Figure.patch되고 Axes.patch( \"Patch\"는 이름은 MATLAB에서 상속되고 그림에서 색상의 2D \"패치\"입니다 (예 : 직사각형, 원 및 다각형). 모든 matplotlib Artist에는 다음과 같은 속성이 있습니다."
      ]
    },
    {
      "cell_type": "markdown",
      "metadata": {
        "id": "fwCoW7Y19TCk"
      },
      "source": [
        "특성 : 기술\n",
        "\n",
        "animated : 애니메이션 그리기를 용이하게하는 데 사용되는 drawing\n",
        "\n",
        "axes : The axes that the Artist lives in, possibly None\n",
        "\n",
        "clip_box : \tThe bounding box that clips the Artist\n",
        "\n",
        "clip_on : Whether clipping is enabled\n",
        "\n",
        "clip_path\t : The path the artist is clipped to\n",
        "\n",
        "contains : A picking function to test whether the artist contains the pick point\n",
        "\n",
        "figure : The figure instance the artist lives in, possibly None\n",
        "\n",
        "label : A text label (e.g., for auto-labeling)\n",
        "\n",
        "picker : A python object that controls object picking\n",
        "\n",
        "transform : The transformation\n",
        "\n",
        "visible : A boolean whether the artist should be drawn\n",
        "\n",
        "zorder : A number which determines the drawing order\n",
        "\n",
        "rasterized : Boolean; Turns vectors into raster graphics (for compression & eps transparency)\n",
        "\n",
        "\n",
        "각 속성은 구식 setter 또는 getter를 사용하여 액세스합니다 (예, 이것이 Pythonistas를 짜증나게한다는 것을 알고 있으며 속성 또는 특성을 통한 직접 액세스를 지원할 계획이지만 아직 수행되지 않았습니다). 예를 들어, 현재 알파에 반을 곱하려면 다음을 수행하십시오."
      ]
    },
    {
      "cell_type": "code",
      "metadata": {
        "id": "oEky3wBq-lft"
      },
      "source": [
        "a = o.get_alpha()\n",
        "o.set_alpha(0.5*a)"
      ],
      "execution_count": null,
      "outputs": []
    },
    {
      "cell_type": "markdown",
      "metadata": {
        "id": "UtjZp2RU-unl"
      },
      "source": [
        "한 번에 여러 속성을 설정하려면 set키워드 인수와 함께 메서드를 사용할 수도 있습니다 . 예를 들면 :"
      ]
    },
    {
      "cell_type": "code",
      "metadata": {
        "id": "cy2VrsGL-wTs"
      },
      "source": [
        "o.set(alpha=0.5, zorder=2)"
      ],
      "execution_count": null,
      "outputs": []
    },
    {
      "cell_type": "markdown",
      "metadata": {
        "id": "yFS__nNl-yU7"
      },
      "source": [
        "파이썬 셸에서 대화식으로 작업하는 경우 Artist속성 을 검사하는 편리한 방법 은 속성과 해당 값을 나열하는 matplotlib.artist.getp()함수 (단순히 getp()pyplot) 를 사용하는 것 입니다. 이것은 Artist예를 들어 Figure및 에서 파생 된 클래스에서도 작동합니다 Rectangle. Figure위에서 언급 한 사각형 속성 은 다음과 같습니다 ."
      ]
    },
    {
      "cell_type": "code",
      "metadata": {
        "id": "s_ik316h_OKT",
        "outputId": "ee6cb8e6-1f0f-4aeb-d8a3-cd7cbba6e7a1",
        "colab": {
          "base_uri": "https://localhost:8080/",
          "height": 136
        }
      },
      "source": [
        "In [149]: matplotlib.artist.getp(fig.patch)\n",
        "    alpha = 1.0\n",
        "    animated = False\n",
        "    antialiased or aa = True\n",
        "    axes = None\n",
        "    clip_box = None\n",
        "    clip_on = False\n",
        "    clip_path = None\n",
        "    contains = None\n",
        "    edgecolor or ec = w\n",
        "    facecolor or fc = 0.75\n",
        "    figure = Figure(8.125x6.125)\n",
        "    fill = 1\n",
        "    hatch = None\n",
        "    height = 1\n",
        "    label =\n",
        "    linewidth or lw = 1.0\n",
        "    picker = None\n",
        "    transform = <Affine object at 0x134cca84>\n",
        "    verts = ((0, 0), (0, 1), (1, 1), (1, 0))\n",
        "    visible = True\n",
        "    width = 1\n",
        "    window_extent = <Bbox object at 0x134acbcc>\n",
        "    x = 0\n",
        "    y = 0\n",
        "    zorder = 1"
      ],
      "execution_count": 10,
      "outputs": [
        {
          "output_type": "error",
          "ename": "IndentationError",
          "evalue": "ignored",
          "traceback": [
            "\u001b[0;36m  File \u001b[0;32m\"<ipython-input-10-f4c53ee9edfb>\"\u001b[0;36m, line \u001b[0;32m2\u001b[0m\n\u001b[0;31m    alpha = 1.0\u001b[0m\n\u001b[0m    ^\u001b[0m\n\u001b[0;31mIndentationError\u001b[0m\u001b[0;31m:\u001b[0m unexpected indent\n"
          ]
        }
      ]
    },
    {
      "cell_type": "markdown",
      "metadata": {
        "id": "A_xeHniG_RiL"
      },
      "source": [
        "모든 클래스의 독 스트링에는 Artist 속성 도 포함되어 있으므로 주어진 객체의 속성 목록은 대화 형 \"도움말\"또는 matplotlib.artist 를 참조하십시오 ."
      ]
    },
    {
      "cell_type": "markdown",
      "metadata": {
        "id": "GmHJE_G2_UiD"
      },
      "source": [
        "## 객체 컨테이너\n",
        "\n",
        "이제 구성하려는 특정 객체의 속성을 검사하고 설정하는 방법을 알았으므로 해당 객체를 얻는 방법을 알아야합니다. 도입부에서 언급했듯이, 두 종류의 객체가 있습니다 : 프리미티브와 컨테이너. 프리미티브는 일반적으로이 구성 (a의 글꼴 원하는 것들 Text 예, a의 폭 Line2D컨테이너는 또한뿐만 아니라 몇 가지 속성을 가지고 있지만) - 예를 들어,이 플롯의 프리미티브의 많은 들어있는 용기이지만, 또한 x 축이 '선형'인지 '로그'인지 제어하는 것과 같은 속성이 있습니다 . 이 섹션에서는 원하는 컨테이너 개체가 저장되는 위치를 검토합니다 .Axes ArtistxscaleArtists\n",
        "\n",
        "그림 컨테이너\n",
        " \n",
        "최상위 컨테이너 Artist는이며 matplotlib.figure.Figure그림의 모든 것을 포함합니다. 그림의 배경 Rectangle은에 저장되어 Figure.patch있습니다. 그림 에 서브 플롯 ( add_subplot())과 축 ( add_axes())을 추가하면 Figure.axes. 이는 또한이를 생성하는 메서드에 의해 반환됩니다."
      ]
    },
    {
      "cell_type": "code",
      "metadata": {
        "id": "EO_7crQA_YFj"
      },
      "source": [
        "In [156]: fig = plt.figure()\n",
        "\n",
        "In [157]: ax1 = fig.add_subplot(211)\n",
        "\n",
        "In [158]: ax2 = fig.add_axes([0.1, 0.1, 0.7, 0.3])\n",
        "\n",
        "In [159]: ax1\n",
        "Out[159]: <matplotlib.axes.Subplot instance at 0xd54b26c>\n",
        "\n",
        "In [160]: print(fig.axes)\n",
        "[<matplotlib.axes.Subplot instance at 0xd54b26c>,\n",
        "<matplotlib.axes.Axes instance at 0xd3f0b2c>]"
      ],
      "execution_count": null,
      "outputs": []
    },
    {
      "cell_type": "code",
      "metadata": {
        "id": "2mesbGdh_bl8"
      },
      "source": [
        "for ax in fig.axes:\n",
        "    ax.grid(True)"
      ],
      "execution_count": 12,
      "outputs": []
    },
    {
      "cell_type": "markdown",
      "metadata": {
        "id": "Yt_vkJGz_aI0"
      },
      "source": [
        "그림은 \"현재 축\"(참조의 개념을 유지하기 때문에 Figure.gca과 Figure.sca)에 pylab / pyplot 상태 머신을 지원하기를 삽입하지 말아야 또는 제거가 축 목록에서 직접 축, 오히려 사용 add_subplot()하고 add_axes()삽입하는 방법을, 그리고 delaxes()방법 지우는 것. 그러나 Axes사용자 정의하려는 인스턴스에 액세스하기 위해 축 목록을 반복하거나 색인화 할 수 있습니다. 다음은 모든 축 그리드를 켜는 예입니다."
      ]
    },
    {
      "cell_type": "code",
      "metadata": {
        "id": "42K-oCvd_fHS"
      },
      "source": [
        "import matplotlib.lines as lines\n",
        "\n",
        "fig = plt.figure()\n",
        "\n",
        "l1 = lines.Line2D([0, 1], [0, 1], transform=fig.transFigure, figure=fig)\n",
        "l2 = lines.Line2D([0, 1], [1, 0], transform=fig.transFigure, figure=fig)\n",
        "fig.lines.extend([l1, l2])\n",
        "\n",
        "plt.show()"
      ],
      "execution_count": null,
      "outputs": []
    },
    {
      "cell_type": "markdown",
      "metadata": {
        "id": "8U6kg04j_ies"
      },
      "source": [
        "다음은 그림에 포함 된 아티스트 요약입니다."
      ]
    },
    {
      "cell_type": "markdown",
      "metadata": {
        "id": "kS372fUP_jas"
      },
      "source": [
        "Figure attribute : Description\n",
        "\n",
        "axes : Axes 인스턴스 목록(서브 플롯 포함)\n",
        "\n",
        "patch : 직사각형 배경\n",
        "\n",
        "images : FigureImage 패치 목록-원시 픽셀 표시에 유용\n",
        "\n",
        "legends : Figure Legend 인스턴스 목록 (Axes.legends와 다름)\n",
        "\n",
        "lines : Figure Line2D 인스턴스 목록 (드물게 사용됨,Axes.lines 참조)\n",
        "\n",
        "patches : Figure 패치 목록 (드물게 사용됨,Axes.patches 참조) \n",
        "\n",
        "texts : 목록 그림 텍스트 인스턴스"
      ]
    },
    {
      "cell_type": "markdown",
      "metadata": {
        "id": "0h5ID6vjA6qb"
      },
      "source": [
        "axes 컨테이너\n",
        "\n",
        "이것은 matplotlib.axes.Axesmatplotlib 유니버스의 중심입니다. Artists그림에 사용되는 대부분의 것들이 포함되어 있으며, 여기에는이 를 생성하고 Artists자체에 추가하는 많은 도우미 메서드와 Artists포함 된 항목에 액세스하고 사용자 지정하는 도우미 메서드가 포함되어 있습니다. 등 Figure, 그것을 포함 되는 직교 좌표계와 극좌표 용; 이 패치는 플로팅 영역의 모양, 배경 및 테두리를 결정합니다.Patch patchRectangleCircle"
      ]
    },
    {
      "cell_type": "code",
      "metadata": {
        "id": "ItGDCfVfA9W7"
      },
      "source": [
        "ax = fig.add_subplot(111)\n",
        "rect = ax.patch  # a Rectangle instance\n",
        "rect.set_facecolor('green')"
      ],
      "execution_count": null,
      "outputs": []
    },
    {
      "cell_type": "markdown",
      "metadata": {
        "id": "zjEpbA55BJJ9"
      },
      "source": [
        "플로팅 메서드 (예 : 표준 plot()및 배열 또는 값 목록 전달) 를 호출 하면 메서드가 matplotlib.lines.Line2D() 인스턴스 를 만들고, Line2D키워드 인수로 전달 된 모든 속성으로 줄을 업데이트하고 , 줄을 Axes.lines컨테이너에 추가하고 , 당신:"
      ]
    },
    {
      "cell_type": "code",
      "metadata": {
        "id": "4Ng_HOw_BKgt"
      },
      "source": [
        "In [213]: x, y = np.random.rand(2, 100)\n",
        "\n",
        "In [214]: line, = ax.plot(x, y, '-', color='blue', linewidth=2)"
      ],
      "execution_count": 16,
      "outputs": []
    },
    {
      "cell_type": "markdown",
      "metadata": {
        "id": "T0qCbk7qBM_t"
      },
      "source": [
        "plot플롯 할 여러 x, y 쌍을 전달할 수 있기 때문에 라인 목록을 반환하고, 우리는 길이 1 목록의 첫 번째 요소를 line 변수에 압축 해제합니다. 라인이 Axes.lines목록 에 추가되었습니다 ."
      ]
    },
    {
      "cell_type": "code",
      "metadata": {
        "id": "-KfyzFeTBOUt"
      },
      "source": [
        "In [229]: print(ax.lines)"
      ],
      "execution_count": null,
      "outputs": []
    },
    {
      "cell_type": "markdown",
      "metadata": {
        "id": "amLtl8rLBQx0"
      },
      "source": [
        "마찬가지로 bar()사각형 목록을 만드는 것과 같이 패치를 만드는 메서드 는 목록에 패치를 추가 Axes.patches합니다."
      ]
    },
    {
      "cell_type": "code",
      "metadata": {
        "id": "b2Un0biSBRtU"
      },
      "source": [
        "In [233]: n, bins, rectangles = ax.hist(np.random.randn(1000), 50)\n",
        "\n",
        "In [234]: rectangles\n",
        "Out[234]: <a list of 50 Patch objects>\n",
        "\n",
        "In [235]: print(len(ax.patches))"
      ],
      "execution_count": null,
      "outputs": []
    },
    {
      "cell_type": "markdown",
      "metadata": {
        "id": "oP2P3bYWBTmi"
      },
      "source": [
        "에서 객체를 만들고 추가 할 때 몇 가지 작업을 수행해야 하므로 수행중인 작업을 정확히 알지 못하는 경우 Axes.lines또는 Axes.patches목록에 직접 객체를 추가해서는 안됩니다 Axes. 의 figure 및 axes 속성과 Artist기본 Axes변환 (변환이 설정되지 않은 경우)을 설정합니다. 또한에 포함 된 데이터를 검사하여 Artist자동 크기 조정을 제어하는 ​​데이터 구조를 업데이트하므로 플롯 된 데이터를 포함하도록 뷰 제한을 조정할 수 있습니다. 당신은, 그럼에도 불구하고, 객체를 직접 생성하고 직접 추가 할 수 있습니다 Axes같은 사용 헬퍼 메소드 add_line()와 add_patch(). 다음은 진행 상황을 설명하는 주석이 달린 대화 형 세션입니다."
      ]
    },
    {
      "cell_type": "code",
      "metadata": {
        "id": "kWqHOb26BVGw"
      },
      "source": [
        "In [262]: fig, ax = plt.subplots()\n",
        "\n",
        "# create a rectangle instance\n",
        "In [263]: rect = matplotlib.patches.Rectangle((1, 1), width=5, height=12)\n",
        "\n",
        "# by default the axes instance is None\n",
        "In [264]: print(rect.axes)\n",
        "None\n",
        "\n",
        "# and the transformation instance is set to the \"identity transform\"\n",
        "In [265]: print(rect.get_transform())\n",
        "<Affine object at 0x13695544>\n",
        "\n",
        "# now we add the Rectangle to the Axes\n",
        "In [266]: ax.add_patch(rect)\n",
        "\n",
        "# and notice that the ax.add_patch method has set the axes\n",
        "# instance\n",
        "In [267]: print(rect.axes)\n",
        "Axes(0.125,0.1;0.775x0.8)\n",
        "\n",
        "# and the transformation has been set too\n",
        "In [268]: print(rect.get_transform())\n",
        "<Affine object at 0x15009ca4>\n",
        "\n",
        "# the default axes transformation is ax.transData\n",
        "In [269]: print(ax.transData)\n",
        "<Affine object at 0x15009ca4>\n",
        "\n",
        "# notice that the xlimits of the Axes have not been changed\n",
        "In [270]: print(ax.get_xlim())\n",
        "(0.0, 1.0)\n",
        "\n",
        "# but the data limits have been updated to encompass the rectangle\n",
        "In [271]: print(ax.dataLim.bounds)\n",
        "(1.0, 1.0, 5.0, 12.0)\n",
        "\n",
        "# we can manually invoke the auto-scaling machinery\n",
        "In [272]: ax.autoscale_view()\n",
        "\n",
        "# and now the xlim are updated to encompass the rectangle\n",
        "In [273]: print(ax.get_xlim())\n",
        "(1.0, 6.0)\n",
        "\n",
        "# we have to manually force a figure draw\n",
        "In [274]: ax.figure.canvas.draw()"
      ],
      "execution_count": null,
      "outputs": []
    },
    {
      "cell_type": "markdown",
      "metadata": {
        "id": "2CXZFiRJBXyF"
      },
      "source": [
        "Axes프리미티브를 생성 Artists하고 각각의 컨테이너에 추가하기 위한 많은 헬퍼 메소드가 있습니다. 아래 표는 작은 샘플, Artist생성 유형 및 저장 위치를 요약 합니다."
      ]
    },
    {
      "cell_type": "markdown",
      "metadata": {
        "id": "lHTo1VSZBZXW"
      },
      "source": [
        "Helper nethod  : Artist : Container\n",
        "\n",
        "ax.annotate - text annotations : Annotate : ax.texts\n",
        "\n",
        "ax.bar - bar charts : Rectangle : ax.patches\n",
        "\n",
        "ax.errorbar - error bar plots : Line2D and Rectangle : ax.lines and ax.patches\n",
        "\n",
        "ax.fill - shared area : Polygon : ax.patches\n",
        "\n",
        "ax.hist - histograms : Rectangle : ax.patches\n",
        "\n",
        "ax.imshow - image data : AxesImage : ax.images\n",
        "\n",
        "ax.legend - axes legends : Legend : ax.legends\n",
        "\n",
        "ax.plot - xy plots : Line2D : ax.lines\n",
        "\n",
        "ax.scatter - scatter charts : PolygonCollection : ax.collections\n",
        "\n",
        "ax.text - text : Text : ax.texts"
      ]
    },
    {
      "cell_type": "markdown",
      "metadata": {
        "id": "0Q5tVv9ACLlF"
      },
      "source": [
        "이 모든 외에도 Artists는이 Axes두 가지 중요한 포함 Artist을 : 용기 XAxis 와 YAxis눈금 및 레이블의 도면을 처리. 이들은 인스턴스 변수 xaxis및 yaxis. XAxis및 YAxis 용기는 아래에 설명하지만, 될 것이다는 것을 참고 Axes받는 사람에 앞으로 호출 많은 도우미 메서드가 들어 Axis자주 직접 그들과 함께 작업 할 필요가 없습니다 인스턴스가 당신이 원하지 않는다면합니다. 예를 들어 helper 메서드를 XAxis사용하여 ticklabels 의 글꼴 색상을 설정할 수 있습니다 Axes."
      ]
    },
    {
      "cell_type": "code",
      "metadata": {
        "id": "KiIadbK9CPLF"
      },
      "source": [
        "for label in ax.get_xticklabels():\n",
        "    label.set_color('orange')"
      ],
      "execution_count": 20,
      "outputs": []
    },
    {
      "cell_type": "markdown",
      "metadata": {
        "id": "mVWu1HeECRJd"
      },
      "source": [
        "아래는 Axes에 포함 된 아티스트 요약입니다"
      ]
    },
    {
      "cell_type": "markdown",
      "metadata": {
        "id": "MLHPJIWMCTaw"
      },
      "source": [
        "Axes attribute : Description\n",
        "\n",
        "artist : 아티스트 인스턴스 목록\n",
        "patch : Axes 배경에 대한 Rectangle 인스턴스\n",
        "collections : 컬렉션 인스턴스 목록\n",
        "images : AxesImage 목록\n",
        "legends : Legend 인스턴스 목록\n",
        "lines : : Line 2D 인스턴스 목록\n",
        "patches : 패치 인스턴스 목록\n",
        "texts : text 인스턴스 목록\n",
        "xaxis : matplotlib.axis.XAxis 인스턴스\n",
        "yaxis : matplotlib.axis.YAxis 인스턴스"
      ]
    },
    {
      "cell_type": "markdown",
      "metadata": {
        "id": "PtwNYOAgC6fe"
      },
      "source": [
        "Axis Container\n",
        " \n",
        "matplotlib.axis.Axis인스턴스는 눈금 선 그리기, 격자 선, 눈금 레이블과 축 레이블을 처리합니다. y 축에 대해 왼쪽 및 오른쪽 눈금을 별도로 구성하고 x 축에 대해 위쪽 및 아래쪽 눈금을 별도로 구성 할 수 있습니다. 는 Axis 또한 데이터 및 뷰 자동 스케일링에 사용되는 간격, 패닝 및 줌은 물론를 저장 Locator및 Formatter눈금이 배치되고 이들이 문자열로 표현되는 방법을 제어 여기서 인스턴스.\n",
        "\n",
        "각 Axis객체에는 label속성 ( 및 pyplot에 대한 호출에서 수정 되는 항목)과 메이저 및 마이너 틱 목록이 포함되어 있습니다. 틱 있습니다 및 진드기 및 ticklabels 렌더링 실제 라인과 텍스트 프리미티브를 포함 할 경우,. (예를 들어, 패닝 및 줌 경우) 필요에 따라 진드기가 동적으로 생성되기 때문에 주요의 목록을 액세스해야하며, 미성년자는 접근 방법을 통해 틱 하고 . 눈금에는 모든 기본 요소가 포함되어 있으며 아래에서 다룰 예정이지만 인스턴스에는 눈금 선, 눈금 레이블, 눈금 위치 등을 반환하는 접근 자 메서드가 있습니다.xlabelylabelaxis.XTickaxis.YTickaxis.Axis.get_major_ticksaxis.Axis.get_minor_ticksAxis"
      ]
    },
    {
      "cell_type": "code",
      "metadata": {
        "id": "yOn2a5nCDEOT"
      },
      "source": [
        "fig, ax = plt.subplots()\n",
        "axis = ax.xaxis\n",
        "axis.get_ticklocs()"
      ],
      "execution_count": null,
      "outputs": []
    },
    {
      "cell_type": "code",
      "metadata": {
        "id": "7Q-9roocDHBc"
      },
      "source": [
        "axis.get_ticklabels()"
      ],
      "execution_count": null,
      "outputs": []
    },
    {
      "cell_type": "markdown",
      "metadata": {
        "id": "faFE1aZbDInJ"
      },
      "source": [
        "기본적으로 위쪽과 아래쪽에 눈금 선이 있지만 x 축 아래에는 눈금 레이블 만 있기 때문에 눈금 선이 레이블보다 두 배 더 많습니다. 그러나 이것은 사용자 정의 할 수 있습니다."
      ]
    },
    {
      "cell_type": "code",
      "metadata": {
        "id": "x90cJCABDJVp"
      },
      "source": [
        "axis.get_ticklines()"
      ],
      "execution_count": null,
      "outputs": []
    },
    {
      "cell_type": "markdown",
      "metadata": {
        "id": "lIeKz_0iDLB9"
      },
      "source": [
        "위의 방법을 사용하면 기본적으로 주요 틱 목록 만 가져올 수 있지만 보조 틱을 요청할 수도 있습니다"
      ]
    },
    {
      "cell_type": "code",
      "metadata": {
        "id": "YIAR-0ZzDMH7"
      },
      "source": [
        "axis.get_ticklabels(minor=True)\n",
        "axis.get_ticklines(minor=True)"
      ],
      "execution_count": null,
      "outputs": []
    },
    {
      "cell_type": "markdown",
      "metadata": {
        "id": "nPYx_z8HDOk-"
      },
      "source": [
        "다음은 유용한 접근 자 메서드 중 일부에 대한 요약입니다 Axis (예 : 유용한 경우 해당 setter가 있음 set_major_formatter())."
      ]
    },
    {
      "cell_type": "markdown",
      "metadata": {
        "id": "8g0pu8AzTgI4"
      },
      "source": [
        "Accessor method : Descrption\n",
        "\n",
        "get_scale : axis의 스케일 (예 'log'또는 'linear')\n",
        "\n",
        "get_view_interval : axis 보기 제한의 간격 인스턴스\n",
        "\n",
        "get_data_interval : axis 데이터 제한의 간격 인스턴스\n",
        "\n",
        "get_gridlines : axis에 대한 격자 선 목록\n",
        "\n",
        "get_label : axis 레이블-Text 인스턴스\n",
        "\n",
        "get_ticklabels : 텍스트 인스턴스 목록-키워드 minor=True | False\n",
        "\n",
        "get_ticklines : Line2D 인스턴스 목록-키워드 minor=True | False\n",
        "\n",
        "get_ticklocs : Tick 위치 목록-키워드 minor=True | False\n",
        "\n",
        "get_major_locator : ticker.Locator주요 Tick에 대한 예\n",
        "\n",
        "get_major_fomatter : ticker.formatter 주요 Tick에 대한 예\n",
        "\n",
        "get_minor_locator : ticker.Locator 작은 Tick의 인스턴스\n",
        "\n",
        "get_minor_formatter : ticker.Formatter 작은 Tick의 인스턴스\n",
        "\n",
        "get_major_ticks : 주요 Tick에 대한 Tick 인스턴스 목록\n",
        "\n",
        "get_minor_ticks : 마니어 틱에 대한 Tick 인스턴스 목록\n",
        "\n",
        "grid : 주 눈금 또는 보조 눈금에 대한 그리드를 켜거나 끔"
      ]
    },
    {
      "cell_type": "markdown",
      "metadata": {
        "id": "O9Kqo6PHV9Kl"
      },
      "source": [
        "다음은 축 및 눈금 속성을 사용자 지정하는 아름다움에 권장되지 않는 예입니다."
      ]
    },
    {
      "cell_type": "code",
      "metadata": {
        "id": "7Pc3JBxQV-JI"
      },
      "source": [
        "# plt.figure creates a matplotlib.figure.Figure instance\n",
        "fig = plt.figure()\n",
        "rect = fig.patch  # a rectangle instance\n",
        "rect.set_facecolor('lightgoldenrodyellow')\n",
        "\n",
        "ax1 = fig.add_axes([0.1, 0.3, 0.4, 0.4])\n",
        "rect = ax1.patch\n",
        "rect.set_facecolor('lightslategray')\n",
        "\n",
        "\n",
        "for label in ax1.xaxis.get_ticklabels():\n",
        "    # label is a Text instance\n",
        "    label.set_color('red')\n",
        "    label.set_rotation(45)\n",
        "    label.set_fontsize(16)\n",
        "\n",
        "for line in ax1.yaxis.get_ticklines():\n",
        "    # line is a Line2D instance\n",
        "    line.set_color('green')\n",
        "    line.set_markersize(25)\n",
        "    line.set_markeredgewidth(3)\n",
        "\n",
        "plt.show()"
      ],
      "execution_count": null,
      "outputs": []
    },
    {
      "cell_type": "markdown",
      "metadata": {
        "id": "b4L_Rm6sWE7d"
      },
      "source": [
        "Tick containers\n",
        "\n",
        " matplotlib.axis.Tick로부터 우리의 후손의 마지막 컨테이너 개체입니다 Figure받는 사람 Axes받는 사람 Axis 받는 사람 Tick. 는 Tick진드기와 그리드 선 인스턴스뿐만 아니라 상하 진드기의 레이블 인스턴스가 포함되어 있습니다. 이들 각각은의 속성으로 직접 액세스 할 수 있습니다 Tick."
      ]
    },
    {
      "cell_type": "markdown",
      "metadata": {
        "id": "5uOXKusCWRz8"
      },
      "source": [
        "Tick attribute : Description\n",
        "\n",
        "tick1line : Line2D 인스턴스\n",
        "\n",
        "tick2line : Line2D 인스턴스\n",
        "\n",
        "gridline : Line2D 인스턴스\n",
        "\n",
        "label1 : 텍스트 인스턴스\n",
        "\n",
        "label2 : 텍스트 인스턴스"
      ]
    },
    {
      "cell_type": "markdown",
      "metadata": {
        "id": "T_VIS_eGWr00"
      },
      "source": [
        "다음은 달러 기호가있는 오른쪽 눈금의 포맷터를 설정하고 y 축 오른쪽에서 녹색으로 표시하는 예입니다."
      ]
    },
    {
      "cell_type": "code",
      "metadata": {
        "id": "Dn9xF75ZWsz4"
      },
      "source": [
        "import numpy as np\n",
        "import matplotlib.pyplot as plt\n",
        "\n",
        "# Fixing random state for reproducibility\n",
        "np.random.seed(19680801)\n",
        "\n",
        "fig, ax = plt.subplots()\n",
        "ax.plot(100*np.random.rand(20))\n",
        "\n",
        "# Use automatic StrMethodFormatter\n",
        "ax.yaxis.set_major_formatter('${x:1.2f}')\n",
        "\n",
        "ax.yaxis.set_tick_params(which='major', labelcolor='green',\n",
        "                         labelleft=False, labelright=True)\n",
        "\n",
        "plt.show()"
      ],
      "execution_count": null,
      "outputs": []
    }
  ]
}