{
  "nbformat": 4,
  "nbformat_minor": 0,
  "metadata": {
    "colab": {
      "name": "seaborn 회귀 모델 시각화.ipynb",
      "provenance": [],
      "toc_visible": true,
      "authorship_tag": "ABX9TyNiKgQ1NNa4q7Mnskjkh63t",
      "include_colab_link": true
    },
    "kernelspec": {
      "name": "python3",
      "display_name": "Python 3"
    }
  },
  "cells": [
    {
      "cell_type": "markdown",
      "metadata": {
        "id": "view-in-github",
        "colab_type": "text"
      },
      "source": [
        "<a href=\"https://colab.research.google.com/github/ParkSeonungHun/Hun/blob/main/python_basic/seaborn_%ED%9A%8C%EA%B7%80_%EB%AA%A8%EB%8D%B8_%EC%8B%9C%EA%B0%81%ED%99%94.ipynb\" target=\"_parent\"><img src=\"https://colab.research.google.com/assets/colab-badge.svg\" alt=\"Open In Colab\"/></a>"
      ]
    },
    {
      "cell_type": "markdown",
      "metadata": {
        "id": "X0v5BCimnqEb"
      },
      "source": [
        "# 회귀 모델 시각화\n",
        "\n",
        "많은 데이터 세트에는 여러 정량 변수가 포함되어 있으며 분석의 목표는 종종 해당 변수를 서로 관련시키는 것입니다. 우리는 이전에 논의 된 두 변수의 결합 분포를 도시함으로써이를 달성 할 수있는 기능. 그러나 통계 모델을 사용하여 잡음이 많은 두 관측 세트 간의 단순한 관계를 추정하는 것은 매우 유용 할 수 있습니다. 이 장에서 설명하는 함수는 선형 회귀의 공통 프레임 워크를 통해이를 수행합니다.\n",
        "\n",
        "Tukey의 정신에 따라 seaborn의 회귀 플롯은 주로 탐색 데이터 분석 중에 데이터 세트의 패턴을 강조하는 데 도움이되는 시각적 가이드를 추가하기위한 것입니다. 즉, seaborn 자체는 통계 분석을위한 패키지가 아닙니다. 회귀 모델의 적합도와 관련된 정량적 측정 값을 얻으려면 statsmodels 를 사용해야합니다 . 그러나 seaborn의 목표는 시각화를 통해 데이터 세트를 빠르고 쉽게 탐색 할 수 있도록하는 것입니다. 통계 표를 통해 데이터 세트를 탐색하는 것보다 중요하기 때문입니다."
      ]
    },
    {
      "cell_type": "code",
      "metadata": {
        "id": "rHA0ZbGnnsAp"
      },
      "source": [
        "import numpy as np\n",
        "import seaborn as sns\n",
        "import matplotlib.pyplot as plt"
      ],
      "execution_count": 2,
      "outputs": []
    },
    {
      "cell_type": "code",
      "metadata": {
        "id": "GNnH57gSnvOZ"
      },
      "source": [
        "sns.set_theme(color_codes=True)"
      ],
      "execution_count": 3,
      "outputs": []
    },
    {
      "cell_type": "code",
      "metadata": {
        "id": "QSkDwNBUny2h"
      },
      "source": [
        "tips = sns.load_dataset(\"tips\")"
      ],
      "execution_count": 4,
      "outputs": []
    },
    {
      "cell_type": "markdown",
      "metadata": {
        "id": "dU0oveEUn7ER"
      },
      "source": [
        "## 선형 회귀 모델을 그리는 함수\n",
        "\n",
        "seaborn의 두 가지 주요 함수는 회귀를 통해 결정된 선형 관계를 시각화하는 데 사용됩니다. 이러한 기능 regplot()과 lmplot()밀접하게 관련되어, 공유 많은 핵심 기능. 그러나 특정 작업에 적합한 도구를 신속하게 선택할 수 있도록 차이점을 이해하는 것이 중요합니다.\n",
        "\n",
        "가장 간단한 호출에서 두 함수는 두 변수 x및 의 산점도를 그린 y다음 회귀 모델을 피팅 하고 결과 회귀선과 해당 회귀에 대한 95 % 신뢰 구간을 플로팅합니다.y ~ x"
      ]
    },
    {
      "cell_type": "code",
      "metadata": {
        "id": "-ug9_UDNn_ka"
      },
      "source": [
        "sns.regplot(x=\"total_bill\", y=\"tip\", data=tips);"
      ],
      "execution_count": null,
      "outputs": []
    },
    {
      "cell_type": "code",
      "metadata": {
        "id": "UgRxlwHdoFaZ"
      },
      "source": [
        "sns.lmplot(x=\"total_bill\", y=\"tip\", data=tips);"
      ],
      "execution_count": null,
      "outputs": []
    },
    {
      "cell_type": "markdown",
      "metadata": {
        "id": "hJVYMu4noNii"
      },
      "source": [
        "결과 플롯은 그림 모양이 다르다는 점을 제외하고 동일하다는 점에 유의해야합니다. 그 이유를 곧 설명하겠습니다. 지금 당장 알아야 할 또 다른 주요 차이점은 간단한 numpy 배열, pandas 객체를 포함한 다양한 형식 regplot()의 x및 y변수를 Series받거나에 DataFrame전달 된 pandas 객체의 변수에 대한 참조로 받아 들인다는 것 data입니다. 반대로 lmplot()has data를 필수 매개 변수로 사용하고 x및 y변수를 문자열로 지정해야합니다. 이 데이터 형식을 \"긴 형식\"또는 \"정리\" 데이터 라고 합니다. 이 입력 유연성 외에 의 기능 regplot()중 일부를 보유하고 lmplot()있으므로 후자를 사용하여 시연합니다.\n",
        "\n",
        "변수 중 하나가 이산 값을 취할 때 선형 회귀를 피팅 할 수 있지만, 이러한 종류의 데이터 세트에 의해 생성 된 단순 산점도는 종종 최적이 아닙니다."
      ]
    },
    {
      "cell_type": "code",
      "metadata": {
        "id": "HMT08ETGoOdi"
      },
      "source": [
        "sns.lmplot(x=\"size\", y=\"tip\", data=tips);"
      ],
      "execution_count": null,
      "outputs": []
    },
    {
      "cell_type": "markdown",
      "metadata": {
        "id": "cA3CXZbKoU2T"
      },
      "source": [
        "한 가지 옵션은 이산 값에 임의의 노이즈 ( \"지터\")를 추가하여 해당 값의 분포를보다 명확하게 만드는 것입니다. 지터는 산점도 데이터에만 적용되며 회귀선 적합 자체에는 영향을주지 않습니다."
      ]
    },
    {
      "cell_type": "code",
      "metadata": {
        "id": "3fhhSHvkoVoK"
      },
      "source": [
        "sns.lmplot(x=\"size\", y=\"tip\", data=tips, x_jitter=.05);"
      ],
      "execution_count": null,
      "outputs": []
    },
    {
      "cell_type": "markdown",
      "metadata": {
        "id": "BfYPDKsxob8i"
      },
      "source": [
        "두 번째 옵션은 각 불연속 빈의 관측치를 축소하여 신뢰 구간과 함께 중심 경향 추정치를 플로팅하는 것입니다."
      ]
    },
    {
      "cell_type": "code",
      "metadata": {
        "id": "6z4AUA13odSZ"
      },
      "source": [
        "sns.lmplot(x=\"size\", y=\"tip\", data=tips, x_estimator=np.mean);"
      ],
      "execution_count": null,
      "outputs": []
    },
    {
      "cell_type": "markdown",
      "metadata": {
        "id": "VnpOepLiokmB"
      },
      "source": [
        "## 다른 종류의 모델 맞추기\n",
        "\n",
        "위에서 사용 된 단순 선형 회귀 모델은 적합하기가 매우 간단하지만 일부 데이터 세트에는 적합하지 않습니다. Anscombe의 중주 세트 프로그램은 단순 회귀 분석의 관계를 단순한 육안 분명히 나타낸다 차이의 동일한 추정치를 제공하는 몇 가지 예. 예를 들어 첫 번째 경우 선형 회귀는 좋은 모델입니다."
      ]
    },
    {
      "cell_type": "code",
      "metadata": {
        "id": "4_MSIZpoonmC"
      },
      "source": [
        "anscombe = sns.load_dataset(\"anscombe\")"
      ],
      "execution_count": 10,
      "outputs": []
    },
    {
      "cell_type": "code",
      "metadata": {
        "id": "MWpHpY0sorD7"
      },
      "source": [
        "sns.lmplot(x=\"x\", y=\"y\", data=anscombe.query(\"dataset == 'I'\"),\n",
        "           ci=None, scatter_kws={\"s\": 80});"
      ],
      "execution_count": null,
      "outputs": []
    },
    {
      "cell_type": "markdown",
      "metadata": {
        "id": "0SShWTICo7jS"
      },
      "source": [
        "두 번째 데이터 세트의 선형 관계는 동일하지만 플롯은 이것이 좋은 모델이 아님을 분명히 보여줍니다."
      ]
    },
    {
      "cell_type": "code",
      "metadata": {
        "id": "vr6xn2JNo8iq"
      },
      "source": [
        "sns.lmplot(x=\"x\", y=\"y\", data=anscombe.query(\"dataset == 'II'\"),\n",
        "           ci=None, scatter_kws={\"s\": 80});"
      ],
      "execution_count": null,
      "outputs": []
    },
    {
      "cell_type": "markdown",
      "metadata": {
        "id": "7PF7DVDFpNRK"
      },
      "source": [
        "고차원의 관계 이런 종류의 존재, lmplot()그리고 regplot()데이터 세트에서 비선형 추세의 간단한 종류를 탐험하는 다항식 회귀 모형을 적합 할 수 있습니다 :"
      ]
    },
    {
      "cell_type": "code",
      "metadata": {
        "id": "anO-fX-BpOnC"
      },
      "source": [
        "sns.lmplot(x=\"x\", y=\"y\", data=anscombe.query(\"dataset == 'II'\"),\n",
        "           order=2, ci=None, scatter_kws={\"s\": 80});"
      ],
      "execution_count": null,
      "outputs": []
    },
    {
      "cell_type": "markdown",
      "metadata": {
        "id": "ku-ewUdkpb3C"
      },
      "source": [
        "다른 문제는 연구중인 주요 관계 이외의 이유에서 벗어난 \"이상 값\"관찰에 의해 제기됩니다."
      ]
    },
    {
      "cell_type": "code",
      "metadata": {
        "id": "vwDQBAn3pc1i"
      },
      "source": [
        "sns.lmplot(x=\"x\", y=\"y\", data=anscombe.query(\"dataset == 'III'\"),\n",
        "           ci=None, scatter_kws={\"s\": 80});"
      ],
      "execution_count": null,
      "outputs": []
    },
    {
      "cell_type": "markdown",
      "metadata": {
        "id": "TJw3TKeZppZD"
      },
      "source": [
        "특이 치가있는 경우 상대적으로 큰 잔차의 가중치를 낮추기 위해 다른 손실 함수를 사용하는 강력한 회귀를 적합하는 것이 유용 할 수 있습니다."
      ]
    },
    {
      "cell_type": "code",
      "metadata": {
        "id": "rWFH-tE-pqoT"
      },
      "source": [
        "sns.lmplot(x=\"x\", y=\"y\", data=anscombe.query(\"dataset == 'III'\"),\n",
        "           robust=True, ci=None, scatter_kws={\"s\": 80});"
      ],
      "execution_count": null,
      "outputs": []
    },
    {
      "cell_type": "markdown",
      "metadata": {
        "id": "QzFFO51Cp4dq"
      },
      "source": [
        "때 y변수는 바이너리, 단순 선형 회귀는 \"작품\"하지만 믿기 어려운 예측을 제공합니다 :"
      ]
    },
    {
      "cell_type": "code",
      "metadata": {
        "id": "SfzvjvLKp5zU"
      },
      "source": [
        "tips[\"big_tip\"] = (tips.tip / tips.total_bill) > .15\n",
        "sns.lmplot(x=\"total_bill\", y=\"big_tip\", data=tips,\n",
        "           y_jitter=.03);"
      ],
      "execution_count": null,
      "outputs": []
    },
    {
      "cell_type": "markdown",
      "metadata": {
        "id": "dIIJIXZLqJ4c"
      },
      "source": [
        "이 경우 솔루션은 로지스틱 회귀를 적합하여 회귀선 이 주어진 값에 대해 추정 된 확률을 표시 하도록하는 것입니다 .y = 1x"
      ]
    },
    {
      "cell_type": "code",
      "metadata": {
        "id": "cl2oDrmSqK8c"
      },
      "source": [
        "sns.lmplot(x=\"total_bill\", y=\"big_tip\", data=tips,\n",
        "           logistic=True, y_jitter=.03);"
      ],
      "execution_count": null,
      "outputs": []
    },
    {
      "cell_type": "markdown",
      "metadata": {
        "id": "2ftNO6eyqU_6"
      },
      "source": [
        "로지스틱 회귀 추정은 단순 회귀보다 훨씬 더 계산 집약적이며 (강력한 회귀에도 해당됨), 회귀선 주변의 신뢰 구간이 부트 스트랩 절차를 사용하여 계산되기 때문에이 기능을 더 빨리 끌 수 있습니다. 반복 (사용 ci=None).\n",
        "\n",
        "완전히 다른 접근 방식은 lowess smoother를 사용하여 비모수 적 회귀를 맞추는 것 입니다. 이 접근 방식은 계산 집약적이므로 현재 신뢰 구간이 전혀 계산되지 않지만 가정이 가장 적습니다."
      ]
    },
    {
      "cell_type": "code",
      "metadata": {
        "id": "qTLnKs8rqWZ7"
      },
      "source": [
        "sns.lmplot(x=\"total_bill\", y=\"tip\", data=tips,\n",
        "           lowess=True);"
      ],
      "execution_count": null,
      "outputs": []
    },
    {
      "cell_type": "markdown",
      "metadata": {
        "id": "HaTj_Oaoqc7c"
      },
      "source": [
        "이 residplot()함수는 단순 회귀 모델이 데이터 세트에 적합한 지 확인하는 데 유용한 도구가 될 수 있습니다. 단순 선형 회귀를 적합 및 제거한 다음 각 관측치에 대한 잔차 값을 플로팅합니다. 이상적으로 이러한 값은 다음 주변에 무작위로 흩어져 있어야합니다 .y = 0"
      ]
    },
    {
      "cell_type": "code",
      "metadata": {
        "id": "W2LQ2os_qeKS"
      },
      "source": [
        "sns.residplot(x=\"x\", y=\"y\", data=anscombe.query(\"dataset == 'I'\"),\n",
        "              scatter_kws={\"s\": 80});"
      ],
      "execution_count": null,
      "outputs": []
    },
    {
      "cell_type": "markdown",
      "metadata": {
        "id": "21EX_O3tqoQb"
      },
      "source": [
        "잔차에 구조가 있으면 단순 선형 회귀가 적절하지 않음을 나타냅니다."
      ]
    },
    {
      "cell_type": "code",
      "metadata": {
        "id": "I07Is-2tqpNb"
      },
      "source": [
        "sns.residplot(x=\"x\", y=\"y\", data=anscombe.query(\"dataset == 'II'\"),\n",
        "              scatter_kws={\"s\": 80});"
      ],
      "execution_count": null,
      "outputs": []
    },
    {
      "cell_type": "markdown",
      "metadata": {
        "id": "EsSrilcUqzsr"
      },
      "source": [
        "## 다른 변수에 대한 컨디셔닝\n",
        "\n",
        "위의 그림은 한 쌍의 변수 간의 관계를 탐색하는 여러 방법을 보여줍니다. 그러나 종종 더 흥미로운 질문은 \"이 두 변수 간의 관계가 세 번째 변수의 함수로 어떻게 변하는가?\"입니다. 이 사이 어디 차이 regplot()와 lmplot()나타납니다. 하지만 regplot()항상 하나의 관계를 보여줍니다, lmplot()콤바인 regplot()와 함께 FacetGrid사용하면 최대 세 개의 추가 범주 변수의 상호 작용을 탐구 할 수 있도록 \"기리\"플롯의 선형 회귀를 표시 할 수있는 쉬운 인터페이스를 제공합니다.\n",
        "\n",
        "관계를 분리하는 가장 좋은 방법은 두 수준을 동일한 축에 플로팅하고 색상을 사용하여 구분하는 것입니다."
      ]
    },
    {
      "cell_type": "code",
      "metadata": {
        "id": "aDVCj_bmq17E"
      },
      "source": [
        "sns.lmplot(x=\"total_bill\", y=\"tip\", hue=\"smoker\", data=tips);"
      ],
      "execution_count": null,
      "outputs": []
    },
    {
      "cell_type": "markdown",
      "metadata": {
        "id": "LZvCWmcvq9gE"
      },
      "source": [
        "색상 외에도 다양한 산점도 마커를 사용하여 플롯을 흑백으로 더 잘 재현 할 수 있습니다. 또한 사용 된 색상을 완전히 제어 할 수 있습니다."
      ]
    },
    {
      "cell_type": "code",
      "metadata": {
        "id": "4DTCfOAPq-U0"
      },
      "source": [
        "sns.lmplot(x=\"total_bill\", y=\"tip\", hue=\"smoker\", data=tips,\n",
        "           markers=[\"o\", \"x\"], palette=\"Set1\");"
      ],
      "execution_count": null,
      "outputs": []
    },
    {
      "cell_type": "markdown",
      "metadata": {
        "id": "rFlu6ElhrTRc"
      },
      "source": [
        "다른 변수를 추가하려면 그리드의 행 또는 열에 나타나는 변수의 각 수준을 나타내는 여러 \"패싯\"을 그릴 수 있습니다."
      ]
    },
    {
      "cell_type": "code",
      "metadata": {
        "id": "rxr8xbyrrUc8"
      },
      "source": [
        "sns.lmplot(x=\"total_bill\", y=\"tip\", hue=\"smoker\", col=\"time\", data=tips);"
      ],
      "execution_count": null,
      "outputs": []
    },
    {
      "cell_type": "code",
      "metadata": {
        "id": "hwjPsJ3frd4G"
      },
      "source": [
        "sns.lmplot(x=\"total_bill\", y=\"tip\", hue=\"smoker\",\n",
        "           col=\"time\", row=\"sex\", data=tips);"
      ],
      "execution_count": null,
      "outputs": []
    },
    {
      "cell_type": "markdown",
      "metadata": {
        "id": "xjGggzsWrskc"
      },
      "source": [
        "## 플롯의 크기와 모양 제어하기\n",
        "\n",
        "우리는 기본 플롯에 의해 주목하기 전에 regplot()및 lmplot()다른 크기와 모양이 동일하지만,에 축 본다. 이는 regplot()\"축 수준\"함수가 특정 축에 그려 지기 때문 입니다. 즉, 다중 패널 그림을 직접 만들고 회귀 플롯이가는 위치를 정확하게 제어 할 수 있습니다. axes 객체가 명시 적으로 제공되지 않으면 단순히 \"현재 활성\"축을 사용하기 때문에 기본 플롯이 대부분의 다른 matplotlib 함수와 동일한 크기와 모양을 갖습니다. 크기를 제어하려면 Figure 개체를 직접 만들어야합니다."
      ]
    },
    {
      "cell_type": "code",
      "metadata": {
        "id": "DTaRA34Frurc"
      },
      "source": [
        "f, ax = plt.subplots(figsize=(5, 6))\n",
        "sns.regplot(x=\"total_bill\", y=\"tip\", data=tips, ax=ax);"
      ],
      "execution_count": null,
      "outputs": []
    },
    {
      "cell_type": "markdown",
      "metadata": {
        "id": "elqc3Txkr7Fc"
      },
      "source": [
        "대조적으로 lmplot()그림 의 크기와 모양은 전체 그림 자체가 아니라 플롯의 각면 에 적용되는 및 매개 변수를 FacetGrid사용하여 인터페이스를 통해 제어 됩니다.heightaspect"
      ]
    },
    {
      "cell_type": "code",
      "metadata": {
        "id": "sj_OiP46r8CE"
      },
      "source": [
        "sns.lmplot(x=\"total_bill\", y=\"tip\", col=\"day\", data=tips,\n",
        "           col_wrap=2, height=3);"
      ],
      "execution_count": null,
      "outputs": []
    },
    {
      "cell_type": "code",
      "metadata": {
        "id": "SsgYurjUsIGU"
      },
      "source": [
        "sns.lmplot(x=\"total_bill\", y=\"tip\", col=\"day\", data=tips,\n",
        "           aspect=.5);"
      ],
      "execution_count": null,
      "outputs": []
    },
    {
      "cell_type": "markdown",
      "metadata": {
        "id": "mKUIQkx2sRsc"
      },
      "source": [
        "## 다른 컨텍스트에서 회귀 그리기\n",
        "\n",
        "regplot()더 크고 복잡한 플롯의 맥락에서 몇 가지 다른 seaborn 함수를 사용 합니다. 첫 번째는 배포 튜토리얼jointplot() 에서 소개 한 기능입니다 . 이전에 논의한 플롯 스타일 외에도 다음을 전달하여 관절 축에 대한 선형 회귀 피팅을 표시하는 데 사용할 수 있습니다 .jointplot()regplot()kind=\"reg\""
      ]
    },
    {
      "cell_type": "code",
      "metadata": {
        "id": "ifPj3-YLsVLL"
      },
      "source": [
        "sns.jointplot(x=\"total_bill\", y=\"tip\", data=tips, kind=\"reg\");"
      ],
      "execution_count": null,
      "outputs": []
    },
    {
      "cell_type": "markdown",
      "metadata": {
        "id": "1pzRQCvFsb87"
      },
      "source": [
        "결합 과 pairplot()함께 함수를 사용하여 데이터 세트에서 변수 간의 선형 관계를 표시합니다. 이것이와 어떻게 다른지주의하십시오 . 아래 그림에서 두 축은 세 번째 변수의 두 수준에서 조건이 지정된 동일한 관계를 보여주지 않습니다. 오히려 데이터 세트에서 서로 다른 변수 쌍 간의 여러 관계를 표시하는 데 사용됩니다.kind=\"reg\"regplot()PairGridlmplot()PairGrid()"
      ]
    },
    {
      "cell_type": "code",
      "metadata": {
        "id": "Zb0FuOoPsczM"
      },
      "source": [
        "sns.pairplot(tips, x_vars=[\"total_bill\", \"size\"], y_vars=[\"tip\"],\n",
        "             height=5, aspect=.8, kind=\"reg\");"
      ],
      "execution_count": null,
      "outputs": []
    },
    {
      "cell_type": "markdown",
      "metadata": {
        "id": "fQM4FKRLsoQU"
      },
      "source": [
        "과 유사 lmplot()하지만과 달리 jointplot()추가 범주 형 변수에 대한 조건화 pairplot()는 hue매개 변수 를 사용하여 내장됩니다 ."
      ]
    },
    {
      "cell_type": "code",
      "metadata": {
        "id": "uuB9AiTNspU0"
      },
      "source": [
        "sns.pairplot(tips, x_vars=[\"total_bill\", \"size\"], y_vars=[\"tip\"],\n",
        "             hue=\"smoker\", height=5, aspect=.8, kind=\"reg\");"
      ],
      "execution_count": null,
      "outputs": []
    }
  ]
}