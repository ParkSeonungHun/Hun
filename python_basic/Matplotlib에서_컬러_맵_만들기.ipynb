{
  "nbformat": 4,
  "nbformat_minor": 0,
  "metadata": {
    "colab": {
      "name": "Matplotlib에서 컬러 맵 만들기.ipynb",
      "provenance": [],
      "authorship_tag": "ABX9TyPi2E4oV3emsks43ZRgF57t",
      "include_colab_link": true
    },
    "kernelspec": {
      "name": "python3",
      "display_name": "Python 3"
    }
  },
  "cells": [
    {
      "cell_type": "markdown",
      "metadata": {
        "id": "view-in-github",
        "colab_type": "text"
      },
      "source": [
        "<a href=\"https://colab.research.google.com/github/ParkSeonungHun/Hun/blob/main/python_basic/Matplotlib%EC%97%90%EC%84%9C_%EC%BB%AC%EB%9F%AC_%EB%A7%B5_%EB%A7%8C%EB%93%A4%EA%B8%B0.ipynb\" target=\"_parent\"><img src=\"https://colab.research.google.com/assets/colab-badge.svg\" alt=\"Open In Colab\"/></a>"
      ]
    },
    {
      "cell_type": "markdown",
      "metadata": {
        "id": "KuLtcgNW1P0m"
      },
      "source": [
        "# Matplotlib에서 컬러 맵 만들기\n",
        "\n",
        "Matplotlib에는 .NET을 통해 액세스 할 수있는 여러 내장 컬러 맵이 있습니다 matplotlib.cm.get_cmap. 많은 추가 컬러 맵이있는 palettable 과 같은 외부 라이브러리도 있습니다 .\n",
        "\n",
        "그러나 우리는 종종 Matplotlib에서 컬러 맵을 생성하거나 조작하려고합니다. 이것은 클래스 ListedColormap또는 LinearSegmentedColormap. 외부에서 보면 두 컬러 맵 클래스 모두 0과 1 사이의 값을 여러 색상에 매핑합니다. 그러나 약간의 차이가 있으며 그 중 일부는 다음과 같습니다.\n",
        "\n",
        "컬러 맵을 수동으로 생성하거나 조작하기 전에 먼저 기존 컬러 맵 클래스에서 컬러 맵과 해당 색상을 얻는 방법을 살펴 보겠습니다."
      ]
    },
    {
      "cell_type": "markdown",
      "metadata": {
        "id": "5Od9zLiu1U0x"
      },
      "source": [
        "## 컬러 맵 가져 오기 및 값 액세스 \n",
        "\n",
        "먼저 Matplotlib 에서 컬러 맵 선택에 나열된 대부분의 명명 된 컬러 맵을 가져 오는 것은 컬러matplotlib.cm.get_cmap 맵 객체를 반환 하는를 사용하여 수행 할 수 있습니다 . 두 번째 인수는 컬러 맵을 정의하는 데 사용되는 색상 목록의 크기를 제공하며 아래에서는 볼 수있는 값이 많지 않도록 적당한 값인 8을 사용합니다."
      ]
    },
    {
      "cell_type": "code",
      "metadata": {
        "id": "Satc2TzJ1XDl"
      },
      "source": [
        "import numpy as np\n",
        "import matplotlib.pyplot as plt\n",
        "from matplotlib import cm\n",
        "from matplotlib.colors import ListedColormap, LinearSegmentedColormap\n",
        "\n",
        "viridis = cm.get_cmap('viridis', 8)"
      ],
      "execution_count": 1,
      "outputs": []
    },
    {
      "cell_type": "markdown",
      "metadata": {
        "id": "dsk-sAy31bAQ"
      },
      "source": [
        "객체 viridis는 콜 러블이며 0과 1 사이의 부동 소수점이 전달되면 컬러 맵에서 RGBA 값을 반환합니다."
      ]
    },
    {
      "cell_type": "code",
      "metadata": {
        "id": "UFooDSUD1byW"
      },
      "source": [
        "print(viridis(0.56))"
      ],
      "execution_count": null,
      "outputs": []
    },
    {
      "cell_type": "markdown",
      "metadata": {
        "id": "v955n47D1dgX"
      },
      "source": [
        "**ListedColormap** \n",
        "\n",
        "ListedColormaps는 .colors속성에 색상 값을 저장 합니다. 컬러 맵을 구성하는 색상 목록은 colors속성을 사용하여 직접 액세스 하거나 컬러 맵 viridis의 길이와 일치하는 값 배열을 호출 하여 간접적으로 액세스 할 수 있습니다 . 반환 된 목록은 RGBA Nx4 배열 형식이며 여기서 N은 컬러 맵의 길이입니다."
      ]
    },
    {
      "cell_type": "code",
      "metadata": {
        "id": "2crH491w1gno"
      },
      "source": [
        "print('viridis.colors', viridis.colors)\n",
        "print('viridis(range(8))', viridis(range(8)))\n",
        "print('viridis(np.linspace(0, 1, 8))', viridis(np.linspace(0, 1, 8)))"
      ],
      "execution_count": null,
      "outputs": []
    },
    {
      "cell_type": "markdown",
      "metadata": {
        "id": "Y1a8keZv1ixr"
      },
      "source": [
        "컬러 맵은 룩업 테이블이므로 컬러 맵을 \"오버 샘플링\"하면 가장 가까운 이웃 보간이 반환됩니다 (아래 목록에서 반복되는 색상에 유의하십시오)."
      ]
    },
    {
      "cell_type": "code",
      "metadata": {
        "id": "tlU291aE1j1N"
      },
      "source": [
        "print('viridis(np.linspace(0, 1, 12))', viridis(np.linspace(0, 1, 12)))"
      ],
      "execution_count": null,
      "outputs": []
    },
    {
      "cell_type": "markdown",
      "metadata": {
        "id": "9Au83gLH1lPA"
      },
      "source": [
        "**LinearSegmentedColormap** \n",
        "\n",
        "LinearSegmentedColormap에 .colors속성 이 없습니다 . 그러나 정수 배열 또는 0과 1 사이의 부동 배열을 사용하여 컬러 맵을 호출 할 수 있습니다."
      ]
    },
    {
      "cell_type": "code",
      "metadata": {
        "id": "WYnmT08v1nqI"
      },
      "source": [
        "copper = cm.get_cmap('copper', 8)\n",
        "\n",
        "print('copper(range(8))', copper(range(8)))\n",
        "print('copper(np.linspace(0, 1, 8))', copper(np.linspace(0, 1, 8)))"
      ],
      "execution_count": null,
      "outputs": []
    },
    {
      "cell_type": "markdown",
      "metadata": {
        "id": "5OldkR501pHI"
      },
      "source": [
        "## 나열된 컬러 맵 만들기\n",
        "\n",
        "컬러 맵을 생성하는 것은 기본적으로 위와 반대되는 작업으로, ListedColormap새로운 컬러 맵을 만들기 위해 컬러 사양의 목록이나 배열을 제공합니다 .\n",
        "\n",
        "튜토리얼을 계속하기 전에 하나 이상의 컬러 맵을 입력으로 사용하고 임의의 데이터를 생성하고 해당 데이터 셋의 이미지 플롯에 컬러 맵을 적용하는 도우미 함수를 정의 해 보겠습니다."
      ]
    },
    {
      "cell_type": "code",
      "metadata": {
        "id": "2NmVNJNQ1rPN"
      },
      "source": [
        "def plot_examples(colormaps):\n",
        "    \"\"\"\n",
        "    Helper function to plot data with associated colormap.\n",
        "    \"\"\"\n",
        "    np.random.seed(19680801)\n",
        "    data = np.random.randn(30, 30)\n",
        "    n = len(colormaps)\n",
        "    fig, axs = plt.subplots(1, n, figsize=(n * 2 + 2, 3),\n",
        "                            constrained_layout=True, squeeze=False)\n",
        "    for [ax, cmap] in zip(axs.flat, colormaps):\n",
        "        psm = ax.pcolormesh(data, cmap=cmap, rasterized=True, vmin=-4, vmax=4)\n",
        "        fig.colorbar(psm, ax=ax)\n",
        "    plt.show()"
      ],
      "execution_count": 6,
      "outputs": []
    },
    {
      "cell_type": "markdown",
      "metadata": {
        "id": "3nYHcKs41tRd"
      },
      "source": [
        "가장 간단한 경우에는 색상 이름 목록을 입력하여 색상 맵을 만들 수 있습니다."
      ]
    },
    {
      "cell_type": "code",
      "metadata": {
        "id": "xwjZRwnz1uAw"
      },
      "source": [
        "cmap = ListedColormap([\"darkorange\", \"gold\", \"lawngreen\", \"lightseagreen\"])\n",
        "plot_examples([cmap])"
      ],
      "execution_count": null,
      "outputs": []
    },
    {
      "cell_type": "markdown",
      "metadata": {
        "id": "iYi5p7RK1yA-"
      },
      "source": [
        "실제로 해당 목록에는 유효한 matplotlib 색상 사양 이 포함될 수 있습니다 . 커스텀 컬러 맵을 만드는 데 특히 유용한 것은 Nx4 numpy 배열입니다. 이러한 배열에서 수행 할 수있는 다양한 numpy 작업으로 인해 기존 컬러 맵에서 새 컬러 맵을 목공하는 작업이 매우 간단 해집니다.\n",
        "\n",
        "예를 들어, 어떤 이유로 256 길이 \"viridis\"컬러 맵의 처음 25 개 항목을 분홍색으로 만들고 싶다고 가정합니다."
      ]
    },
    {
      "cell_type": "code",
      "metadata": {
        "id": "zEHEH-OJ1zFU"
      },
      "source": [
        "viridis = cm.get_cmap('viridis', 256)\n",
        "newcolors = viridis(np.linspace(0, 1, 256))\n",
        "pink = np.array([248/256, 24/256, 148/256, 1])\n",
        "newcolors[:25, :] = pink\n",
        "newcmp = ListedColormap(newcolors)\n",
        "\n",
        "plot_examples([viridis, newcmp])"
      ],
      "execution_count": null,
      "outputs": []
    },
    {
      "cell_type": "markdown",
      "metadata": {
        "id": "64uHwTdj11HZ"
      },
      "source": [
        "컬러 맵의 동적 범위를 쉽게 줄일 수 있습니다. 여기서 우리는 컬러 맵의 중간 0.5를 선택합니다. 그러나 더 큰 컬러 맵에서 보간해야합니다. 그렇지 않으면 새 컬러 맵에 반복되는 값이 있습니다."
      ]
    },
    {
      "cell_type": "code",
      "metadata": {
        "id": "YET2dKy0117H"
      },
      "source": [
        "viridis_big = cm.get_cmap('viridis', 512)\n",
        "newcmp = ListedColormap(viridis_big(np.linspace(0.25, 0.75, 256)))\n",
        "plot_examples([viridis, newcmp])"
      ],
      "execution_count": null,
      "outputs": []
    },
    {
      "cell_type": "markdown",
      "metadata": {
        "id": "ckA91dcX13en"
      },
      "source": [
        "두 개의 컬러 맵을 쉽게 연결할 수 있습니다."
      ]
    },
    {
      "cell_type": "code",
      "metadata": {
        "id": "u_2TsnzZ14us"
      },
      "source": [
        "top = cm.get_cmap('Oranges_r', 128)\n",
        "bottom = cm.get_cmap('Blues', 128)\n",
        "\n",
        "newcolors = np.vstack((top(np.linspace(0, 1, 128)),\n",
        "                       bottom(np.linspace(0, 1, 128))))\n",
        "newcmp = ListedColormap(newcolors, name='OrangeBlue')\n",
        "plot_examples([viridis, newcmp])"
      ],
      "execution_count": null,
      "outputs": []
    },
    {
      "cell_type": "markdown",
      "metadata": {
        "id": "7CIlJ0Rt16ZA"
      },
      "source": [
        "물론 이름이 지정된 컬러 맵에서 시작할 필요는 없습니다 ListedColormap. 전달하기 위해 Nx4 배열을 생성하기 만하면됩니다 . 여기에서 갈색 (RGB : 90, 40, 40)에서 흰색 (RGB : 255, 255, 255)으로가는 컬러 맵을 만듭니다."
      ]
    },
    {
      "cell_type": "code",
      "metadata": {
        "id": "dALuoSos17cW"
      },
      "source": [
        "N = 256\n",
        "vals = np.ones((N, 4))\n",
        "vals[:, 0] = np.linspace(90/256, 1, N)\n",
        "vals[:, 1] = np.linspace(40/256, 1, N)\n",
        "vals[:, 2] = np.linspace(40/256, 1, N)\n",
        "newcmp = ListedColormap(vals)\n",
        "plot_examples([viridis, newcmp])"
      ],
      "execution_count": null,
      "outputs": []
    },
    {
      "cell_type": "markdown",
      "metadata": {
        "id": "JZrcwG_k1-TL"
      },
      "source": [
        "## 선형 세그먼트 컬러 맵 만들기\n",
        "\n",
        "LinearSegmentedColormap 클래스는 RGB (A) 값이 보간되는 앵커 포인트를 사용하여 컬러 맵을 지정합니다.\n",
        "\n",
        "이러한 컬러 맵을 지정하는 형식은 앵커 포인트에서 불연속성을 허용합니다. 각각의 앵커 포인트 형태의 매트릭스의 행으로서 특정되어 , 앵커이고, 및 기준점 양쪽의 색의 값이다.[x[i] yleft[i] yright[i]]x[i]yleft[i]yright[i]\n",
        "\n",
        "불연속성이없는 경우 yleft[i]=yright[i]:"
      ]
    },
    {
      "cell_type": "code",
      "metadata": {
        "id": "Q3cWSJKd2A7A"
      },
      "source": [
        "cdict = {'red':   [[0.0,  0.0, 0.0],\n",
        "                   [0.5,  1.0, 1.0],\n",
        "                   [1.0,  1.0, 1.0]],\n",
        "         'green': [[0.0,  0.0, 0.0],\n",
        "                   [0.25, 0.0, 0.0],\n",
        "                   [0.75, 1.0, 1.0],\n",
        "                   [1.0,  1.0, 1.0]],\n",
        "         'blue':  [[0.0,  0.0, 0.0],\n",
        "                   [0.5,  0.0, 0.0],\n",
        "                   [1.0,  1.0, 1.0]]}\n",
        "\n",
        "\n",
        "def plot_linearmap(cdict):\n",
        "    newcmp = LinearSegmentedColormap('testCmap', segmentdata=cdict, N=256)\n",
        "    rgba = newcmp(np.linspace(0, 1, 256))\n",
        "    fig, ax = plt.subplots(figsize=(4, 3), constrained_layout=True)\n",
        "    col = ['r', 'g', 'b']\n",
        "    for xx in [0.25, 0.5, 0.75]:\n",
        "        ax.axvline(xx, color='0.7', linestyle='--')\n",
        "    for i in range(3):\n",
        "        ax.plot(np.arange(256)/256, rgba[:, i], color=col[i])\n",
        "    ax.set_xlabel('index')\n",
        "    ax.set_ylabel('RGB')\n",
        "    plt.show()\n",
        "\n",
        "plot_linearmap(cdict)"
      ],
      "execution_count": null,
      "outputs": []
    },
    {
      "cell_type": "markdown",
      "metadata": {
        "id": "BcSxhEPp2DS7"
      },
      "source": [
        "앵커 포인트에서 불연속성을 만들기 위해 세 번째 열은 두 번째 열과 다릅니다. \"red\", \"green\", \"blue\"및 선택적으로 \"alpha\"각각에 대한 매트릭스는 다음과 같이 설정됩니다.\n",
        "\n",
        "cdict['red'] = [...\n",
        "                \n",
        "                [x[i]      yleft[i]     yright[i]],\n",
        "\n",
        "                [x[i+1]    yleft[i+1]   yright[i+1]],\n",
        "                \n",
        "               ...]\n",
        "\n",
        "및 값에 대한 컬러 맵 사이에 전달 x[i]하고 x[i+1], 상기 보간은 사이 yright[i]와 yleft[i+1].\n",
        "\n",
        "아래 예에서는 0.5에서 빨간색으로 불연속성이 있습니다. 0과 0.5 사이의 보간은 0.3에서 1로, 0.5와 1 사이에서는 0.9에서 1로 이동합니다. red [0, 1] 및 red [2, 2]는 모두 보간에 불필요합니다. red [0 , 1]은 0의 왼쪽에있는 값이고 red [2, 2]는 1.0의 오른쪽에있는 값입니다.\n",
        "\n"
      ]
    },
    {
      "cell_type": "code",
      "metadata": {
        "id": "A4aU1IYC2NFG"
      },
      "source": [
        "cdict['red'] = [[0.0,  0.0, 0.3],\n",
        "                [0.5,  1.0, 0.9],\n",
        "                [1.0,  1.0, 1.0]]\n",
        "plot_linearmap(cdict)"
      ],
      "execution_count": null,
      "outputs": []
    },
    {
      "cell_type": "markdown",
      "metadata": {
        "id": "iCWZLcqY2aSK"
      },
      "source": [
        "목록에서 직접 분할 된 컬러 맵 만들기 \n",
        "위에서 설명한 방법은 매우 다양한 접근 방식이지만 구현하기가 다소 번거 롭습니다. 일부 기본적인 경우에는 사용 LinearSegmentedColormap.from_list이 더 쉬울 수 있습니다. 이렇게하면 제공된 색상 목록에서 동일한 간격으로 분할 된 컬러 맵이 생성됩니다."
      ]
    },
    {
      "cell_type": "code",
      "metadata": {
        "id": "1gzJjXpm2bQH"
      },
      "source": [
        "colors = [\"darkorange\", \"gold\", \"lawngreen\", \"lightseagreen\"]\n",
        "cmap1 = LinearSegmentedColormap.from_list(\"mycmap\", colors)"
      ],
      "execution_count": 14,
      "outputs": []
    },
    {
      "cell_type": "markdown",
      "metadata": {
        "id": "A4rGLUlM2cno"
      },
      "source": [
        "원하는 경우 컬러 맵의 노드를 0과 1 사이의 숫자로 지정할 수 있습니다. 예를 들어 붉은 부분이 컬러 맵에서 더 많은 공간을 차지하도록 할 수 있습니다."
      ]
    },
    {
      "cell_type": "code",
      "metadata": {
        "id": "NVfjU2Mt2db3"
      },
      "source": [
        "nodes = [0.0, 0.4, 0.8, 1.0]\n",
        "cmap2 = LinearSegmentedColormap.from_list(\"mycmap\", list(zip(nodes, colors)))\n",
        "\n",
        "plot_examples([cmap1, cmap2])"
      ],
      "execution_count": null,
      "outputs": []
    },
    {
      "cell_type": "markdown",
      "metadata": {
        "id": "G1cq1IZK2f0q"
      },
      "source": [
        "참조 \n",
        "\n",
        "이 예제에서는 다음 함수, 메서드, 클래스 및 모듈의 사용을 보여줍니다."
      ]
    },
    {
      "cell_type": "code",
      "metadata": {
        "id": "XpTWMYmt2iDT"
      },
      "source": [
        "import matplotlib\n",
        "matplotlib.axes.Axes.pcolormesh\n",
        "matplotlib.figure.Figure.colorbar\n",
        "matplotlib.colors\n",
        "matplotlib.colors.LinearSegmentedColormap\n",
        "matplotlib.colors.ListedColormap\n",
        "matplotlib.cm\n",
        "matplotlib.cm.get_cmap"
      ],
      "execution_count": null,
      "outputs": []
    }
  ]
}