{
  "nbformat": 4,
  "nbformat_minor": 0,
  "metadata": {
    "colab": {
      "name": "seeborn 색상파레트 선택.ipynb",
      "provenance": [],
      "authorship_tag": "ABX9TyPt61mZhLkpqC3XhuBiPUtC",
      "include_colab_link": true
    },
    "kernelspec": {
      "name": "python3",
      "display_name": "Python 3"
    }
  },
  "cells": [
    {
      "cell_type": "markdown",
      "metadata": {
        "id": "view-in-github",
        "colab_type": "text"
      },
      "source": [
        "<a href=\"https://colab.research.google.com/github/ParkSeonungHun/Hun/blob/main/python_basic/seeborn_%EC%83%89%EC%83%81%ED%8C%8C%EB%A0%88%ED%8A%B8_%EC%84%A0%ED%83%9D.ipynb\" target=\"_parent\"><img src=\"https://colab.research.google.com/assets/colab-badge.svg\" alt=\"Open In Colab\"/></a>"
      ]
    },
    {
      "cell_type": "code",
      "metadata": {
        "id": "Jci_ZKT4Q_9E"
      },
      "source": [
        "import numpy as np\n",
        "import seaborn as sns\n",
        "import matplotlib.pyplot as plt"
      ],
      "execution_count": 1,
      "outputs": []
    },
    {
      "cell_type": "markdown",
      "metadata": {
        "id": "y6ixMv-7RJi3"
      },
      "source": [
        "# 색상 팔레트 선택\n",
        "\n",
        "Seaborn을 사용하면 데이터의 특성과 시각화 목표에 적합한 색상을 쉽게 사용할 수 있습니다. 이 장에서는 선택을 안내해야하는 일반 원칙과 주어진 응용 프로그램에 대한 최상의 솔루션을 빠르게 찾는 데 도움이되는 seaborn의 도구에 대해 설명합니다.\n",
        "\n"
      ]
    },
    {
      "cell_type": "markdown",
      "metadata": {
        "id": "4SexG0EKRQ7m"
      },
      "source": [
        "## 플롯에서 색상을 사용하기위한 일반 원칙"
      ]
    },
    {
      "cell_type": "markdown",
      "metadata": {
        "id": "esCzgCaHRU6G"
      },
      "source": [
        "### 색상의 구성 요소\n",
        "\n",
        "우리의 눈이 작동하는 방식 때문에 세 가지 구성 요소를 사용하여 색상을 정의 할 수 있습니다. 일반적으로 컴퓨터에서 RGB 값을 지정하여 색상을 프로그래밍합니다.이 값은 디스플레이에서 빨간색, 녹색 및 파란색 채널의 강도를 설정합니다. 그러나 색상의 지각 적 속성을 분석하려면 색조 , 채도 및 휘도 채널 측면에서 생각하는 것이 좋습니다 .\n",
        "\n",
        "Hue는 기술적이지 않은 의미에서 \"다른 색상\"을 구별하는 구성 요소입니다. \"빨강\"및 \"파랑\"과 같은 첫 번째 이름으로 이어지는 것은 색상의 속성입니다.\n",
        "\n",
        "\n",
        "\n",
        "*   채도는 색상 입니다. 채도가 높을수록 색조가 다른 두가지 색상이 더 뚜렷하게 보입니다.\n",
        "*   밝기는 검정색에서 흰색까지의 빛이 얼마나 많이 방출되는지 ( 또는 인쇄 된 색상의 경우 반사 됨)에 해당합니다.\n",
        "\n",
        "\n"
      ]
    },
    {
      "cell_type": "markdown",
      "metadata": {
        "id": "nbIINBNhRqlk"
      },
      "source": [
        "### 카테고리를 구별하기 위해 다양한 색상\n",
        "\n",
        "플롯에서 여러 범주를 나타내려면 일반적으로 요소의 색상을 변경해야합니다. 이 간단한 예를 고려하십시오.이 두 플롯 중 삼각형 점의 수를 계산하는 것이 더 쉬운 것은 무엇입니까?"
      ]
    },
    {
      "cell_type": "markdown",
      "metadata": {
        "id": "_ABH-pyLSMsF"
      },
      "source": [
        "오른쪽 그림에서 주황색 삼각형이 \"튀어 나와\"원과 쉽게 구분할 수 있습니다. 이 팝 아웃 효과는 시각적 시스템이 색상 차이를 우선시하기 때문에 발생합니다.\n",
        "\n",
        "파란색과 주황색은 대부분 색조가 다릅니다. 색조는 대부분의 사람들이 비교적 쉽게 적당한 수의 색조를 구별 할 수 있고 색조는 다르지만 밝기 나 강도는 비슷한 점이 똑같이 중요해 보이기 때문에 범주를 나타내는 데 유용합니다. 또한 플롯에 대해 더 쉽게 이야기 할 수 있습니다. 이 예를 고려하십시오."
      ]
    },
    {
      "cell_type": "markdown",
      "metadata": {
        "id": "NvZ0XIjdSORU"
      },
      "source": [
        "점이 모두 파란색이지만 휘도와 채도가 다른 오른쪽의 플롯에서는 고유 한 범주가 몇 개 있는지 말하기가 더 어렵습니다. 특정 카테고리에 대해 어떻게 이야기할까요? \"그렇지만 너무 푸른 점은?\" 또한 회색 점은 배경으로 희미 해져 더 강렬한 파란색 점에 비해 강조되지 않습니다. 카테고리가 똑같이 중요하다면 이는 잘못된 표현입니다.\n",
        "\n",
        "따라서 일반적으로 색상 변형을 사용하여 범주를 나타냅니다. 여기에 몇 가지주의 사항이 있습니다. 플롯에 소수 이상의 색상이있는 경우 범주와 색상을 나타내는 데 사용 된 색상간에 기존 연관성이없는 경우 각 색상이 의미하는 바를 기억하기 어려울 수 있습니다. 이로 인해 플롯을 해석하기가 더 어려워집니다. 뷰어는 데이터에 초점을 맞추기보다는 표시되는 내용을 이해하기 위해 계속해서 범례를 참조해야합니다. 따라서 너무 복잡한 플롯을 만들지 않도록 노력해야합니다. 모든 사람이 색상을 똑같이 보는 것은 아니라는 점을 염두에 두어야합니다. 모양 (또는 다른 속성)과 색상을 변경하면 변칙적 인 색각을 가진 사람들이 플롯을 이해하는 데 도움이 될 수 있으며 흑백으로 인쇄되는 경우 (다소) 해석 가능하게 유지할 수 있습니다."
      ]
    },
    {
      "cell_type": "markdown",
      "metadata": {
        "id": "j6qlJf9DST3B"
      },
      "source": [
        "### 슷자를 표현하기 위해 휘도 변경\n",
        "\n",
        "반면에 색조 변형은 숫자 데이터를 나타내는 데 적합하지 않습니다. 이변 량 히스토그램에서 개수를 나타 내기 위해 색상이 필요한이 예를 고려하십시오. 왼쪽에는 원형 컬러 맵을 사용합니다. 여기서 색조의 점진적인 변화는 각 빈 내에서 관찰 횟수의 점진적인 변화에 해당합니다. 오른쪽에서는 더 밝은 색상을 사용하여 더 많은 수의 빈을 나타내는 팔레트를 사용합니다."
      ]
    },
    {
      "cell_type": "markdown",
      "metadata": {
        "id": "AD3y90TaSXbU"
      },
      "source": [
        "색조 기반 팔레트를 사용하면 이변 량 분포의 모양을 확인하기가 매우 어렵습니다. 대조적으로, 휘도 팔레트는 두 개의 눈에 띄는 피크가 있음을 훨씬 더 명확하게합니다.\n",
        "\n",
        "다양한 휘도는 데이터의 구조를 확인하는 데 도움이되며 휘도의 변화는 중요성의 변화에 ​​따라보다 직관적으로 처리됩니다. 그러나 오른쪽의 플롯은 그레이 스케일 컬러 맵이 아닙니다. 그것의 색채가 더 흥미롭고 미묘한 색조 변화는 두 값 사이의 지각 거리를 증가시켜 작은 차이를 해결하기가 약간 더 쉽습니다.\n",
        "\n",
        "이 예제는 색상 팔레트 선택이 미학 이상이라는 것을 보여줍니다. 선택한 색상은 효과적으로 사용하면 데이터에서 패턴을 표시하거나 잘못 사용하면 숨길 수 있습니다. 최적의 팔레트는 없지만 특정 데이터 세트 및 시각화 접근 방식에 대해 더 좋거나 더 나쁜 팔레트가 있습니다.\n",
        "\n",
        "그리고 미학은 중요합니다. 사람들이 당신의 인물을 더 많이보고 싶어할수록, 그들로부터 무언가를 배울 기회가 더 커집니다. 이것은 자신을 위해 플롯을 만들 때도 마찬가지입니다. 탐색 적 데이터 분석 중에 유사한 수치를 많이 생성 할 수 있습니다. 색상 팔레트를 다양 화하면 참신함이 더해져 데이터의 흥미로운 특징을 알아 차릴 준비가되어 있습니다.\n",
        "\n",
        "그렇다면 데이터를 잘 나타내고 매력적으로 보이는 색상 팔레트를 어떻게 선택할 수 있습니까?"
      ]
    },
    {
      "cell_type": "markdown",
      "metadata": {
        "id": "9uH8JvKgSaa5"
      },
      "source": [
        "## 색상 팔레트 선택 도구\n",
        "\n",
        "색상 팔레트로 작업하는 데 가장 중요한 기능은 적절하게 color_palette(). 이 기능은 seaborn에서 컬러 팔레트를 생성 할 수있는 대부분의 가능한 방법에 대한 인터페이스를 제공합니다. palette인수가 있는 모든 함수에서 내부적으로 사용됩니다 .\n",
        "\n",
        "의 기본 인수 color_palette()는 일반적으로 문자열입니다. 특정 팔레트의 이름 또는 패밀리 이름 및 특정 구성원을 선택하기위한 추가 인수입니다. 후자의 경우 color_palette()는 cubehelix_palette(). matplotlib에서 허용하는 방식 (RGB 튜플, 16 진수 코드 또는 X11 테이블의 이름)을 지정하여 지정된 색상 목록을 전달할 수도 있습니다. 반환 값은 16 진수 코드로의 변환 및 풍부한 HTML 표현과 같은 몇 가지 유용한 방법으로 RGB 튜플 목록을 래핑하는 객체입니다.\n",
        "\n",
        "color_palette()인수없이 호출 하면 색상이 별도로 지정되지 않은 경우 matplotlib (및 대부분의 seaborn 함수)에서 사용할 현재 기본 색상 팔레트가 반환됩니다. 이 기본 팔레트는 내부적 set_palette()으로 호출 color_palette()하고 동일한 인수를 허용 하는 해당 함수 로 설정할 수 있습니다 .\n",
        "\n",
        "color_palette()제공 하는 다양한 옵션에 동기를 부여하려면 색상 팔레트에 대한 분류 체계를 도입하는 것이 유용 할 것입니다. 일반적으로 팔레트는 세 가지 범주 중 하나에 속합니다.\n",
        "\n",
        "\n",
        "\n",
        "*   범주 형 데이터를 나타내는 데 적합한 정 성적 팔레트\n",
        "*   숫자 데이터를 나타내는 데 적합한 순차 팔레트\n",
        "*   범주 형 경계를 사용하여 숫자 데이터를 나타내는 데 적합한 다양한 팔레트\n",
        "\n",
        "\n"
      ]
    },
    {
      "cell_type": "markdown",
      "metadata": {
        "id": "fIZeRTOsSccT"
      },
      "source": [
        "## 질적 색상 팔레트\n",
        "\n",
        "정성 팔레트는 대부분의 변형이 색조 구성 요소에 있기 때문에 범주 형 데이터를 나타내는 데 적합합니다. seaborn의 기본 색상 팔레트는 10 가지 고유 한 색조가있는 정 성적 팔레트입니다."
      ]
    },
    {
      "cell_type": "code",
      "metadata": {
        "id": "qVVb-KV8Swhz"
      },
      "source": [
        "sns.color_palette()"
      ],
      "execution_count": null,
      "outputs": []
    },
    {
      "cell_type": "markdown",
      "metadata": {
        "id": "6uB7YIyDSz5k"
      },
      "source": [
        "이러한 색상은 기본 matplotlib 색상 팔레트와 순서가 동일 \"tab10\"하지만 약간 덜 강합니다. 비교:"
      ]
    },
    {
      "cell_type": "code",
      "metadata": {
        "id": "EmfotU_FS1Gg"
      },
      "source": [
        "sns.color_palette(\"tab10\")"
      ],
      "execution_count": null,
      "outputs": []
    },
    {
      "cell_type": "markdown",
      "metadata": {
        "id": "VBrSz6QUS9XT"
      },
      "source": [
        "사실 시본 호출하기 matplotlib의 팔레트, 여섯 변화를 가지고 deep, muted, pastel, bright, dark,와 colorblind. 평균 휘도 및 채도 값 범위 :"
      ]
    },
    {
      "cell_type": "markdown",
      "metadata": {
        "id": "_tbcBYywTADU"
      },
      "source": [
        "많은 사람들이 기본 \"deep\"팔레트 의 중간 색조 가 미학적으로 만족 스럽지만 덜 뚜렷하다고 생각합니다. 결과적으로 일부 상황에서는 구별하기가 더 어려울 수 있으며 이는 출판 그래픽을 만들 때 염두에 두어야 할 사항입니다. 이 비교 는 다양한 형태의 색맹을 시뮬레이션 할 때 seaborn 색상 팔레트의 성능을 추정하는 데 유용 할 수 있습니다."
      ]
    },
    {
      "cell_type": "markdown",
      "metadata": {
        "id": "2y55QhoATCZC"
      },
      "source": [
        "### 원형 색상 시스템 사용\n",
        "\n",
        "임의의 수의 범주가있는 경우 고유 한 색상을 찾는 가장 쉬운 방법은 원형 색상 공간 (밝기와 채도를 일정하게 유지하면서 색상이 변경되는 색상)에 균일 한 간격의 색상을 그리는 것입니다. 이것은 대부분의 seaborn 함수가 현재 기본 색상주기에 설정된 것보다 더 많은 색상을 사용해야 할 때 기본값으로 설정되는 것입니다.\n",
        "\n",
        "이를 수행하는 가장 일반적인 방법 hls은 RGB 값의 간단한 변형 인 색상 공간을 사용 합니다. 이전에 히스토그램을 그리는 방법에 대한 반례로이 색상 팔레트를 보았습니다."
      ]
    },
    {
      "cell_type": "code",
      "metadata": {
        "id": "Q7RbWA-6TGGj"
      },
      "source": [
        "sns.color_palette(\"hls\", 8)"
      ],
      "execution_count": null,
      "outputs": []
    },
    {
      "cell_type": "markdown",
      "metadata": {
        "id": "41tXgkjOTNlp"
      },
      "source": [
        "인간의 시각 시스템이 작동하는 방식으로 인해 RGB 값 측면에서 동일한 광도와 채도를 가진 색상이 반드시 똑같이 강렬 해 보이지는 않습니다.이 문제를 해결하기 위해 seaborn은 husl 시스템에 대한 인터페이스를 제공합니다 (HSLuv로 이름이 변경됨). 색상환 주위를 회전 할 때 강도 변화가 적습니다."
      ]
    },
    {
      "cell_type": "code",
      "metadata": {
        "id": "Izvi3-IQTOhK"
      },
      "source": [
        "sns.color_palette(\"husl\", 8)"
      ],
      "execution_count": null,
      "outputs": []
    },
    {
      "cell_type": "markdown",
      "metadata": {
        "id": "jD8KpMqmTR5b"
      },
      "source": [
        "seaborn이 현재 기본값에서 사용할 수있는 것보다 더 많은 색상이있는 범주 형 팔레트가 필요한 경우이 방법을 사용합니다."
      ]
    },
    {
      "cell_type": "markdown",
      "metadata": {
        "id": "Oy7BLrhsTTmc"
      },
      "source": [
        "### 범주 형 Color Brewer 팔레트 사용\n",
        "\n",
        "시각적으로 만족스러운 범주 형 팔레트의 또 다른 소스는 Color Brewer 도구 에서 비롯됩니다 (아래에서 볼 수 있듯이 순차적이고 다양한 팔레트도 있습니다)."
      ]
    },
    {
      "cell_type": "code",
      "metadata": {
        "id": "CwMGqstuTX7h"
      },
      "source": [
        "sns.color_palette(\"Set2\")"
      ],
      "execution_count": null,
      "outputs": []
    },
    {
      "cell_type": "markdown",
      "metadata": {
        "id": "kTSJbwS3Tb0z"
      },
      "source": [
        "질적 Color Brewer 팔레트는 길이가 다르며의 기본 동작은 color_palette()전체 목록을 제공하는 것입니다."
      ]
    },
    {
      "cell_type": "code",
      "metadata": {
        "id": "3B2didXhTc9W"
      },
      "source": [
        "sns.color_palette(\"Paired\")"
      ],
      "execution_count": null,
      "outputs": []
    },
    {
      "cell_type": "markdown",
      "metadata": {
        "id": "Hm81NdOwTmpc"
      },
      "source": [
        "## 순차 색상 팔레트\n",
        "\n",
        "두 번째 주요 색상 팔레트는 \"순차적\"이라고합니다. 이러한 종류의 매핑은 데이터가 상대적으로 낮거나 흥미롭지 않은 값에서 상대적으로 높거나 흥미로운 값까지 (또는 그 반대) 범위에있을 때 적합합니다. 위에서 보았 듯이 순차 팔레트에서 변화의 주요 차원은 광도입니다. 일부 seaborn 함수는 숫자 데이터를 매핑 할 때 기본적으로 순차적 팔레트로 설정됩니다. (역사적인 이유로, 범주 및 숫자 매핑 모두로 지정한 hue같은 함수에 파라미터 relplot()또는 displot()숫자 매핑 비교적 작은 색조의 변화와 컬러 팔레트를 사용하더라도)."
      ]
    },
    {
      "cell_type": "markdown",
      "metadata": {
        "id": "v1OwU2ldTsas"
      },
      "source": [
        "### 지각 적으로 균일 한 팔레트\n",
        "\n",
        "숫자 값을 나타 내기위한 것이기 때문에 최상의 순차 팔레트는 지각 적으로 균일합니다 . 즉, 두 색상의 상대적 구별 성은 해당 데이터 값 간의 차이에 비례합니다. 시본 네 지각 균일 한 연속 색상 맵을 포함한다 : \"rocket\", \"mako\", \"flare\",와 \"crest\". 처음 두 개는 매우 넓은 휘도 범위를 가지며 색상이 플로팅되는 공간을 채우는 히트 맵과 같은 애플리케이션에 적합합니다."
      ]
    },
    {
      "cell_type": "code",
      "metadata": {
        "id": "31fXPFrETvZF"
      },
      "source": [
        "sns.color_palette(\"rocket\", as_cmap=True)"
      ],
      "execution_count": null,
      "outputs": []
    },
    {
      "cell_type": "code",
      "metadata": {
        "id": "0cd5Xy-XT3wb"
      },
      "source": [
        "sns.color_palette(\"mako\", as_cmap=True)"
      ],
      "execution_count": null,
      "outputs": []
    },
    {
      "cell_type": "markdown",
      "metadata": {
        "id": "CYvvCsfKT9MC"
      },
      "source": [
        "이러한 컬러 맵의 극단적 인 값은 흰색에 가까워지기 때문에 선이나 점과 같은 요소를 채색하는 데 적합하지 않습니다. 흰색 또는 회색 배경에서 중요한 값을 구별하기가 어렵습니다. 이러한 플롯에는 \"플레어\"및 \"크레스트\"컬러 맵이 더 나은 선택입니다. 그들은 더 제한된 범위의 휘도 변화를 가지고 있으며 약간 더 뚜렷한 색조 변화로 보상합니다. 휘도 램프의 기본 방향도 반대로되어 값이 작을수록 색상이 더 밝아집니다."
      ]
    },
    {
      "cell_type": "code",
      "metadata": {
        "id": "0wsi5oRvT-Nz"
      },
      "source": [
        "sns.color_palette(\"flare\", as_cmap=True)"
      ],
      "execution_count": null,
      "outputs": []
    },
    {
      "cell_type": "code",
      "metadata": {
        "id": "Aep0LgV5UD71"
      },
      "source": [
        "sns.color_palette(\"crest\", as_cmap=True)"
      ],
      "execution_count": null,
      "outputs": []
    },
    {
      "cell_type": "markdown",
      "metadata": {
        "id": "eteL04xuUI7c"
      },
      "source": [
        "이는 예컨대하기 matplotlib 의해 제공된 균일 한 색상 맵인지, 사용하는 것도 가능하다 \"magma\"와 \"viridis\":"
      ]
    },
    {
      "cell_type": "code",
      "metadata": {
        "id": "YmFLVH2TUJ-v"
      },
      "source": [
        "sns.color_palette(\"magma\", as_cmap=True)"
      ],
      "execution_count": null,
      "outputs": []
    },
    {
      "cell_type": "markdown",
      "metadata": {
        "id": "fmhta0bqUPm2"
      },
      "source": [
        "matplotlib의 규칙과 마찬가지로 모든 연속 컬러 맵에는 접미사가있는 반전 된 버전이 있습니다 \"_r\"."
      ]
    },
    {
      "cell_type": "code",
      "metadata": {
        "id": "6tTkcyoNUQhS"
      },
      "source": [
        "sns.color_palette(\"rocket_r\", as_cmap=True)"
      ],
      "execution_count": null,
      "outputs": []
    },
    {
      "cell_type": "markdown",
      "metadata": {
        "id": "D3lsxeY7UVwq"
      },
      "source": [
        "### 이산 대 연속 매핑\n",
        "\n",
        "한 가지주의해야 할 점은 seaborn이 순차 컬러 맵에서 이산 값을 생성 할 수 있으며 그렇게 할 때 가장 극단적 인 값을 사용하지 않는다는 것입니다. 의 개별 버전을 \"rocket\"위에 표시된 연속 버전과 비교하십시오 ."
      ]
    },
    {
      "cell_type": "code",
      "metadata": {
        "id": "USQIEPSZUYkS"
      },
      "source": [
        "sns.color_palette(\"rocket\")"
      ],
      "execution_count": null,
      "outputs": []
    },
    {
      "cell_type": "markdown",
      "metadata": {
        "id": "sEDXu8fEUcCJ"
      },
      "source": [
        "내부적으로 seaborn은 범주 형 데이터에 대해 불연속 버전을 사용하고 숫자 매핑 모드에있을 때 연속 버전을 사용합니다. 이산 순차 컬러 맵은 특히 색조 변화가있는 경우 고유 한 순서로 범주 형 데이터를 시각화하는 데 적합 할 수 있습니다.\n",
        "\n"
      ]
    },
    {
      "cell_type": "markdown",
      "metadata": {
        "id": "yDyFu5uZUdI9"
      },
      "source": [
        "### 순차적 인\"cubehelix\"팔레트\n",
        "\n",
        "지각 적으로 균일 한 컬러 맵은 RGB 색상 공간을 기반으로하지 않기 때문에 프로그래밍 방식으로 생성하기가 어렵습니다. cubehelix의 시스템에 제공하는 RGB 기반 타협 : 그것은 선형 증가 또는 감소의 밝기 및 색상 변화의 일부 연속 순차 팔레트를 생성한다. 완벽하게 지각 적으로 균일하지는 않지만 결과 컬러 맵에는 많은 좋은 속성이 있습니다. 중요한 것은 설계 프로세스의 여러 측면을 매개 변수화 할 수 있다는 것입니다.\n",
        "\n",
        "Matplotlib에는 기본 cubehelix 버전이 내장되어 있습니다."
      ]
    },
    {
      "cell_type": "code",
      "metadata": {
        "id": "ZCyJbgAfUkkU"
      },
      "source": [
        "sns.color_palette(\"cubehelix\", as_cmap=True)"
      ],
      "execution_count": null,
      "outputs": []
    },
    {
      "cell_type": "markdown",
      "metadata": {
        "id": "ME-B7ZOHUqHE"
      },
      "source": [
        "seaborn cubehelix_palette()함수에 의해 반환 된 기본 팔레트 는 색조 휠 주위로 멀리 회전하지 않거나 광범위한 강도를 포함하지 않는다는 점에서 matplotlib 기본값과 약간 다릅니다. 또한 휘도 램프를 반대로합니다."
      ]
    },
    {
      "cell_type": "code",
      "metadata": {
        "id": "o0OfolYPUrka"
      },
      "source": [
        "sns.cubehelix_palette(as_cmap=True)"
      ],
      "execution_count": null,
      "outputs": []
    },
    {
      "cell_type": "markdown",
      "metadata": {
        "id": "mfa9hXhvUvv7"
      },
      "source": [
        "cubehelix_palette()팔레트의 모양 을 제어하는 기타 인수 . 변경할 두 가지 주요 사항은 start(0과 3 사이의 값) 및 rot또는 회전 수 (임의의 값이지만 일반적으로 -1과 1 사이)입니다."
      ]
    },
    {
      "cell_type": "code",
      "metadata": {
        "id": "OvFs5i3jUxnF"
      },
      "source": [
        "sns.cubehelix_palette(start=.5, rot=-.5, as_cmap=True)"
      ],
      "execution_count": null,
      "outputs": []
    },
    {
      "cell_type": "markdown",
      "metadata": {
        "id": "f-cpdng7Vc4K"
      },
      "source": [
        "더 많이 회전할수록 더 많은 색조 변화를 볼 수 있습니다."
      ]
    },
    {
      "cell_type": "code",
      "metadata": {
        "id": "L6FAJjlgVeJa"
      },
      "source": [
        "sns.cubehelix_palette(start=2, rot=0, dark=0, light=.95, reverse=True, as_cmap=True)"
      ],
      "execution_count": null,
      "outputs": []
    },
    {
      "cell_type": "markdown",
      "metadata": {
        "id": "3WhKKQ3-Vo9a"
      },
      "source": [
        "는 color_palette()시작으로 캐릭터 코드를 받아 \"ch:\"임의 cubehelix 팔레트를 생성. 문자열에 매개 변수 이름을 전달할 수 있습니다."
      ]
    },
    {
      "cell_type": "code",
      "metadata": {
        "id": "gmgJgaSTVrgQ"
      },
      "source": [
        "sns.color_palette(\"ch:start=.2,rot=-.3\", as_cmap=True)"
      ],
      "execution_count": null,
      "outputs": []
    },
    {
      "cell_type": "markdown",
      "metadata": {
        "id": "9QtSoDD5V0i6"
      },
      "source": [
        "간결함을 위해 각 매개 변수는 첫 글자로 지정할 수 있습니다."
      ]
    },
    {
      "cell_type": "code",
      "metadata": {
        "id": "e9pFh2_FV1ZW"
      },
      "source": [
        "sns.color_palette(\"ch:s=-.2,r=.6\", as_cmap=True)"
      ],
      "execution_count": null,
      "outputs": []
    },
    {
      "cell_type": "markdown",
      "metadata": {
        "id": "0lz6Hx9zV89a"
      },
      "source": [
        "### 커스텀 순차 팔레트\n",
        "\n",
        "사용자 정의 순차적 팔레트에 대한 간단한 인터페이스를 들어, 사용 light_palette()하거나 dark_palette(), 둘 다 단일 색상으로 접종하는과 팔레트를 생산하는 해당 색상에 밝거나 어두운 채도 값에서 하나 램프 :"
      ]
    },
    {
      "cell_type": "code",
      "metadata": {
        "id": "iRI8FC1AV_ON"
      },
      "source": [
        "sns.light_palette(\"seagreen\", as_cmap=True)"
      ],
      "execution_count": null,
      "outputs": []
    },
    {
      "cell_type": "code",
      "metadata": {
        "id": "2LSssOeJWDsQ"
      },
      "source": [
        "sns.dark_palette(\"#69d\", reverse=True, as_cmap=True)"
      ],
      "execution_count": null,
      "outputs": []
    },
    {
      "cell_type": "markdown",
      "metadata": {
        "id": "lRkOpfjwWLpp"
      },
      "source": [
        "cubehelix 팔레트와 마찬가지로, 당신은 또한을 통해 밝거나 어두운 팔레트 지정할 수 있습니다 color_palette()어디 또는 palette수락을 :"
      ]
    },
    {
      "cell_type": "code",
      "metadata": {
        "id": "7sGy1Z5mWMez"
      },
      "source": [
        "sns.color_palette(\"light:b\", as_cmap=True)"
      ],
      "execution_count": null,
      "outputs": []
    },
    {
      "cell_type": "markdown",
      "metadata": {
        "id": "Li-kD3izWkXE"
      },
      "source": [
        "다음을 추가하여 컬러 맵을 반전합니다 \"_r\"."
      ]
    },
    {
      "cell_type": "code",
      "metadata": {
        "id": "iOghV3RoWlda"
      },
      "source": [
        "sns.color_palette(\"dark:salmon_r\", as_cmap=True)"
      ],
      "execution_count": null,
      "outputs": []
    },
    {
      "cell_type": "markdown",
      "metadata": {
        "id": "QKzN7a1ZWqph"
      },
      "source": [
        "### 순차 색상 Brewer 팔레트\n",
        "\n",
        "Color Brewer 라이브러리에는 순차 팔레트에 대한 몇 가지 좋은 옵션도 있습니다. 여기에는 하나의 기본 색상이있는 팔레트가 포함됩니다."
      ]
    },
    {
      "cell_type": "code",
      "metadata": {
        "id": "4pFEIQevWuQ2"
      },
      "source": [
        "sns.color_palette(\"Blues\", as_cmap=True)"
      ],
      "execution_count": null,
      "outputs": []
    },
    {
      "cell_type": "markdown",
      "metadata": {
        "id": "wUjMt-WpWzA0"
      },
      "source": [
        "다중 색상 옵션과 함께 :"
      ]
    },
    {
      "cell_type": "code",
      "metadata": {
        "id": "1xu1vUhSWz5V"
      },
      "source": [
        "sns.color_palette(\"YlOrBr\", as_cmap=True)"
      ],
      "execution_count": null,
      "outputs": []
    },
    {
      "cell_type": "markdown",
      "metadata": {
        "id": "qPIT1AJzXD4x"
      },
      "source": [
        "## 다양한 색상 팔레트\n",
        "\n",
        "세 번째 등급의 색상 팔레트는 \"다양\"이라고합니다. 이는 큰 낮은 값과 높은 값이 모두 흥미롭고 디 파싱되어야하는 중간 값 (종종 0)에 걸쳐있는 데이터에 사용됩니다. 좋은 발산 팔레트를 선택하는 규칙은 컬러 맵에 두 개의 지배적 인 색조가 있어야한다는 점을 제외하면 순차 팔레트와 비슷합니다. 시작 값이 비슷한 밝기와 채도를 갖는 것도 중요합니다."
      ]
    },
    {
      "cell_type": "markdown",
      "metadata": {
        "id": "NdSvXf_xXaac"
      },
      "source": [
        "### 지각 적으로 균일 한 다이버 링 팔레트\n",
        "\n",
        "시본은이 지각 적으로 균일하게 발산 팔레트를 포함 \"vlag\"하고 \"icefire\". 둘 다 극에 파란색과 빨간색을 사용하며, 많은 사람들이 직관적으로 \"차가운\"및 \"뜨거운\"것으로 처리합니다."
      ]
    },
    {
      "cell_type": "code",
      "metadata": {
        "id": "dtQfSf1cXe3e"
      },
      "source": [
        "sns.color_palette(\"vlag\", as_cmap=True)"
      ],
      "execution_count": null,
      "outputs": []
    },
    {
      "cell_type": "code",
      "metadata": {
        "id": "dQtynnx2XmTS"
      },
      "source": [
        "sns.color_palette(\"icefire\", as_cmap=True)"
      ],
      "execution_count": null,
      "outputs": []
    },
    {
      "cell_type": "markdown",
      "metadata": {
        "id": "aYSohIjTaXqL"
      },
      "source": [
        "### 사용자 지정 발산 팔레트\n",
        "\n",
        "seaborn 함수 diverging_palette()를 사용하여 데이터 발산을위한 사용자 정의 컬러 맵을 만들 수도 있습니다 . 이 기능은 husl컬러 시스템을 사용하여 다양한 팔레트를 만듭니다 . 두 가지 색상 (도 단위)과 선택적으로 극단에 대한 밝기 및 채도 값을 전달합니다. 사용 husl은 극한 값과 그 결과 중간 지점까지의 램프가 완벽하게 지각 적으로 균일하지는 않지만 균형이 잘 잡힌다는 것을 의미합니다."
      ]
    },
    {
      "cell_type": "code",
      "metadata": {
        "id": "Uj9qWckxaaDf"
      },
      "source": [
        "sns.diverging_palette(200, 20, as_cmap=True)"
      ],
      "execution_count": null,
      "outputs": []
    },
    {
      "cell_type": "markdown",
      "metadata": {
        "id": "UauDn58TafD1"
      },
      "source": [
        "이것은 차갑고 뜨거운 접근 방식의 지루한 경계에서 벗어나고 싶을 때 편리합니다."
      ]
    },
    {
      "cell_type": "code",
      "metadata": {
        "id": "4EymyVRYagic"
      },
      "source": [
        "sns.diverging_palette(145, 300, s=60, as_cmap=True)"
      ],
      "execution_count": null,
      "outputs": []
    },
    {
      "cell_type": "markdown",
      "metadata": {
        "id": "5EVNQIKDatpr"
      },
      "source": [
        "중간 점이 밝지 않고 어둡게 팔레트를 만드는 것도 가능합니다."
      ]
    },
    {
      "cell_type": "code",
      "metadata": {
        "id": "UkZhYzM1axJO"
      },
      "source": [
        "sns.diverging_palette(250, 30, l=65, center=\"dark\", as_cmap=True)"
      ],
      "execution_count": null,
      "outputs": []
    },
    {
      "cell_type": "markdown",
      "metadata": {
        "id": "asbxa7accd96"
      },
      "source": [
        "여기서 강조하는 것은 직관적이지만 빨간색과 녹색을 사용하는 것은 피해야한다는 점 입니다."
      ]
    },
    {
      "cell_type": "markdown",
      "metadata": {
        "id": "Bt9Xyua4cgmE"
      },
      "source": [
        "### 기타 다양한 팔레트\n",
        "\n",
        "Color Brewer 팔레트를 포함하여 matplotlib에 내장 된 몇 가지 다른 좋은 발산 팔레트가 있습니다."
      ]
    },
    {
      "cell_type": "code",
      "metadata": {
        "id": "-TyML6oecjWL"
      },
      "source": [
        "sns.color_palette(\"Spectral\", as_cmap=True)"
      ],
      "execution_count": null,
      "outputs": []
    },
    {
      "cell_type": "markdown",
      "metadata": {
        "id": "N0kC8K4Jcpcl"
      },
      "source": [
        "그리고 coolwarm중간 값과 극단 사이의 대비가 적은 팔레트 :"
      ]
    },
    {
      "cell_type": "code",
      "metadata": {
        "id": "vFdHOADEcrYz"
      },
      "source": [
        "sns.color_palette(\"coolwarm\", as_cmap=True)"
      ],
      "execution_count": null,
      "outputs": []
    },
    {
      "cell_type": "markdown",
      "metadata": {
        "id": "53deSs6-cwjz"
      },
      "source": [
        "보시다시피 시각화에서 색상을 사용하기위한 많은 옵션이 있습니다. Seaborn은 좋은 기본값을 사용하고 많은 유연성을 제공하려고합니다.\n",
        "\n",
        "이 토론은 시작에 불과하며 시각화에서 색상을 사용하는 기술에 대해 자세히 알아볼 수있는 좋은 리소스가 많이 있습니다. 한 가지 좋은 예는 NASA Earth Observatory 의이 일련의 블로그 게시물 입니다. matplotlib 문서에는 컬러 맵의 지각 속성 중 일부를 보여주는 멋진 자습서 도 있습니다 ."
      ]
    }
  ]
}