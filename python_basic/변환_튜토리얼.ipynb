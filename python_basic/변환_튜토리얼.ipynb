{
  "nbformat": 4,
  "nbformat_minor": 0,
  "metadata": {
    "colab": {
      "name": "변환 튜토리얼.ipynb",
      "provenance": [],
      "authorship_tag": "ABX9TyN5FowYimsRNzpzSdXrPFsh",
      "include_colab_link": true
    },
    "kernelspec": {
      "name": "python3",
      "display_name": "Python 3"
    }
  },
  "cells": [
    {
      "cell_type": "markdown",
      "metadata": {
        "id": "view-in-github",
        "colab_type": "text"
      },
      "source": [
        "<a href=\"https://colab.research.google.com/github/ParkSeonungHun/Hun/blob/main/python_basic/%EB%B3%80%ED%99%98_%ED%8A%9C%ED%86%A0%EB%A6%AC%EC%96%BC.ipynb\" target=\"_parent\"><img src=\"https://colab.research.google.com/assets/colab-badge.svg\" alt=\"Open In Colab\"/></a>"
      ]
    },
    {
      "cell_type": "markdown",
      "metadata": {
        "id": "cTB8AmtoxlAt"
      },
      "source": [
        "# 변환 튜토리얼\n",
        "\n",
        "다른 그래픽 패키지와 마찬가지로 Matplotlib는 좌표계, 사용자 영역 데이터 좌표계, 축 좌표계, 그림 좌표계 및 디스플레이 좌표계 사이를 쉽게 이동할 수 있도록 변환 프레임 워크 위에 구축됩니다 . 플로팅의 95 %에서는 내부적으로 발생하므로 이에 대해 생각할 필요가 없지만 사용자 지정 도형 생성의 한계를 넘어 서면 이러한 개체를 이해하는 데 도움이되므로 기존 개체를 재사용 할 수 있습니다. Matplotlib에서 사용할 수있는 변환을 만들거나 직접 만들 수 있습니다 (matplotlib.transforms). 아래 표에는 유용한 좌표계, 해당 좌표계에서 작업하는 데 사용해야하는 변환 객체 및 해당 시스템에 대한 설명이 요약되어 있습니다. 에서 열 A는 인스턴스 및 A는 예.Transformation ObjectaxAxesfigFigure"
      ]
    },
    {
      "cell_type": "markdown",
      "metadata": {
        "id": "XfkVB6HGxoLv"
      },
      "source": [
        "좌표 : 변형 개체 : 기술\n",
        "\n",
        "\"data\" : ax.transData : xlim 및 ylim에 의해 제어되는 데이터의 좌표계입니다.\n",
        "\n",
        "\"axes\" : ax.transAxes : 의 좌표계 Axes; (0, 0)은 좌표축의 왼쪽 하단이고 (1, 1)은 좌표축의 오른쪽 상단입니다.\n",
        "\n",
        "\"figure : fig.transFigure : 의 좌표계 Figure; (0, 0)은 그림의 왼쪽 하단이고 (1, 1)은 그림의 오른쪽 상단입니다.\n",
        "\n",
        "\"figure-inches\" : fig.dpi_scale_trans : \tFigure인치 단위 의 좌표계입니다 . (0, 0)은 그림의 왼쪽 하단이고 (너비, 높이)는 그림의 오른쪽 상단 (인치)입니다.\n",
        "\n",
        "\"display\" : None, 또는 IdentityTransform() : 디스플레이 창의 픽셀 좌표계. (0, 0)은 창의 왼쪽 하단이고 (너비, 높이)는 디스플레이 창의 오른쪽 상단 (픽셀 단위)입니다.\n",
        "\n",
        "\"xaxis\",\"yaxis\" : ax.get_xaxis_transform(), : 혼합 좌표계; 축 중 하나에 데이터 좌표를 사용하고 다른 축에 축 좌표를 사용합니다.\n",
        " ax.get_yaxis_transform()\n"
      ]
    },
    {
      "cell_type": "markdown",
      "metadata": {
        "id": "T4ob7i5kyWRO"
      },
      "source": [
        "위 표의 모든 변환 객체는 좌표계에서 입력을 받고 입력을 디스플레이 좌표계 로 변환합니다 . 이것이 바로 디스플레이 좌표계가 열에 None대한 이유 입니다. 이미 디스플레이 좌표에 있습니다. 변환은 또한 디스플레이 에서 기본 좌표계로 돌아 가기 위해 자신을 반전하는 방법을 알고 있습니다. 이는 일반적으로 디스플레이 공간에서 발생하는 사용자 인터페이스의 이벤트를 처리하고 데이터 좌표계 에서 마우스 클릭 또는 키 누름이 발생한 위치를 알고 자 할 때 특히 유용 합니다.Transformation Object\n",
        "\n",
        "표시 좌표 에서 객체를 지정 dpi하면 그림의가 변경 되면 해당 위치가 변경 됩니다. 개체가 위치와 크기를 변경할 수 있으므로 인쇄하거나 화면 해상도를 변경할 때 혼동을 일으킬 수 있습니다. 따라서 축이나 도형에 배치 된 아티스트가 자신의 변형을 다른 것으로 설정하는 것이 가장 일반적입니다 IdentityTransform(). 아티스트가를 사용하여 축에 배치 될 때의 기본값 add_artist은 변환이 ax.transData."
      ]
    },
    {
      "cell_type": "markdown",
      "metadata": {
        "id": "iO_BMyoAyZ12"
      },
      "source": [
        "## 데이터 좌표\n",
        "\n",
        "가장 일반적으로 사용되는 좌표 인 데이터 좌표계 부터 시작하겠습니다 . 좌표축에 데이터를 추가 할 때마다 Matplotlib는 데이터 제한을 업데이트하며, 가장 일반적으로 set_xlim()및 set_ylim()메서드로 업데이트됩니다 . 예를 들어 아래 그림에서 데이터 제한은 x 축에서 0에서 10까지, y 축에서 -1에서 1로 늘어납니다."
      ]
    },
    {
      "cell_type": "code",
      "metadata": {
        "id": "_ACzV7zMycU7"
      },
      "source": [
        "import numpy as np\n",
        "import matplotlib.pyplot as plt\n",
        "import matplotlib.patches as mpatches\n",
        "\n",
        "x = np.arange(0, 10, 0.005)\n",
        "y = np.exp(-x/2.) * np.sin(2*np.pi*x)\n",
        "\n",
        "fig, ax = plt.subplots()\n",
        "ax.plot(x, y)\n",
        "ax.set_xlim(0, 10)\n",
        "ax.set_ylim(-1, 1)\n",
        "\n",
        "plt.show()"
      ],
      "execution_count": null,
      "outputs": []
    },
    {
      "cell_type": "markdown",
      "metadata": {
        "id": "HpOHxWayyiJA"
      },
      "source": [
        "ax.transData인스턴스를 사용 하여 데이터 에서 디스플레이 좌표계 로 변환 할 수 있습니다 ( 아래에 표시된 것처럼 단일 지점 또는 일련의 지점)."
      ]
    },
    {
      "cell_type": "code",
      "metadata": {
        "id": "hG1mlStXykGG"
      },
      "source": [
        "In [14]: type(ax.transData)\n",
        "Out[14]: <class 'matplotlib.transforms.CompositeGenericTransform'>\n",
        "\n",
        "In [15]: ax.transData.transform((5, 0))\n",
        "Out[15]: array([ 335.175,  247.   ])\n",
        "\n",
        "In [16]: ax.transData.transform([(5, 0), (1, 2)])\n",
        "Out[16]:\n",
        "array([[ 335.175,  247.   ],\n",
        "       [ 132.435,  642.2  ]])"
      ],
      "execution_count": null,
      "outputs": []
    },
    {
      "cell_type": "markdown",
      "metadata": {
        "id": "5-nf_Gm2yl4G"
      },
      "source": [
        "이 inverted() 메서드를 사용하여 디스플레이 에서 데이터 좌표로 이동 하는 변환을 만들 수 있습니다 ."
      ]
    },
    {
      "cell_type": "code",
      "metadata": {
        "id": "1LSkfJqeynKm"
      },
      "source": [
        "In [41]: inv = ax.transData.inverted()\n",
        "\n",
        "In [42]: type(inv)\n",
        "Out[42]: <class 'matplotlib.transforms.CompositeGenericTransform'>\n",
        "\n",
        "In [43]: inv.transform((335.175,  247.))\n",
        "Out[43]: array([ 5.,  0.])"
      ],
      "execution_count": null,
      "outputs": []
    },
    {
      "cell_type": "markdown",
      "metadata": {
        "id": "Gc1ocyCsyoUV"
      },
      "source": [
        "이 자습서와 함께 입력 하는 경우 창 크기 또는 dpi 설정이 다르면 표시 좌표 의 정확한 값 이 다를 수 있습니다. 마찬가지로, 아래 그림에서, 문서 그림 크기 기본값이 다르기 때문에 포인트 레이블이 표시된 디스플레이는 ipython 세션에서와 동일하지 않을 수 있습니다."
      ]
    },
    {
      "cell_type": "code",
      "metadata": {
        "id": "sFbxl07Iyp-o"
      },
      "source": [
        "x = np.arange(0, 10, 0.005)\n",
        "y = np.exp(-x/2.) * np.sin(2*np.pi*x)\n",
        "\n",
        "fig, ax = plt.subplots()\n",
        "ax.plot(x, y)\n",
        "ax.set_xlim(0, 10)\n",
        "ax.set_ylim(-1, 1)\n",
        "\n",
        "xdata, ydata = 5, 0\n",
        "xdisplay, ydisplay = ax.transData.transform((xdata, ydata))\n",
        "\n",
        "bbox = dict(boxstyle=\"round\", fc=\"0.8\")\n",
        "arrowprops = dict(\n",
        "    arrowstyle=\"->\",\n",
        "    connectionstyle=\"angle,angleA=0,angleB=90,rad=10\")\n",
        "\n",
        "offset = 72\n",
        "ax.annotate('data = (%.1f, %.1f)' % (xdata, ydata),\n",
        "            (xdata, ydata), xytext=(-2*offset, offset), textcoords='offset points',\n",
        "            bbox=bbox, arrowprops=arrowprops)\n",
        "\n",
        "disp = ax.annotate('display = (%.1f, %.1f)' % (xdisplay, ydisplay),\n",
        "                   (xdisplay, ydisplay), xytext=(0.5*offset, -offset),\n",
        "                   xycoords='figure pixels',\n",
        "                   textcoords='offset points',\n",
        "                   bbox=bbox, arrowprops=arrowprops)\n",
        "\n",
        "plt.show()"
      ],
      "execution_count": null,
      "outputs": []
    },
    {
      "cell_type": "markdown",
      "metadata": {
        "id": "gOzaWqwuysV3"
      },
      "source": [
        "**노트**\n",
        "\n",
        "GUI 백엔드에서 위 예제의 소스 코드를 실행하면 데이터 및 디스플레이 주석에 대한 두 개의 화살표 가 정확히 동일한 지점을 가리 키지 않을 수도 있습니다. 이는 Figure가 표시되기 전에 디스플레이 포인트가 계산되었고 GUI 백엔드가 Figure가 생성 될 때 약간의 크기를 조정할 수 있기 때문입니다. 그림의 크기를 직접 조정하면 효과가 더욱 두드러집니다. 이것이 디스플레이 공간 에서 거의 작업하고 싶지 않은 좋은 이유 중 하나 이지만에 연결하여 그림 그리기의 그림 좌표 'on_draw' Event를 업데이트 할 수 있습니다 . 이벤트 처리 및 선택을 참조하십시오 ."
      ]
    },
    {
      "cell_type": "markdown",
      "metadata": {
        "id": "kiNWyZYwyusf"
      },
      "source": [
        "좌표축의 x 또는 y 제한을 변경하면 데이터 제한이 업데이트되어 변환이 새 표시 점을 생성합니다. ylim 만 변경하면 y 표시 좌표 만 변경되고 xlim도 변경하면 둘 다 변경됩니다. 나중에 우리가 Bbox."
      ]
    },
    {
      "cell_type": "code",
      "metadata": {
        "id": "aqiSMnnhywJ8"
      },
      "source": [
        "In [54]: ax.transData.transform((5, 0))\n",
        "Out[54]: array([ 335.175,  247.   ])\n",
        "\n",
        "In [55]: ax.set_ylim(-1, 2)\n",
        "Out[55]: (-1, 2)\n",
        "\n",
        "In [56]: ax.transData.transform((5, 0))\n",
        "Out[56]: array([ 335.175     ,  181.13333333])\n",
        "\n",
        "In [57]: ax.set_xlim(10, 20)\n",
        "Out[57]: (10, 20)\n",
        "\n",
        "In [58]: ax.transData.transform((5, 0))\n",
        "Out[58]: array([-171.675     ,  181.13333333])"
      ],
      "execution_count": null,
      "outputs": []
    },
    {
      "cell_type": "markdown",
      "metadata": {
        "id": "Rcp7eJaEyxFw"
      },
      "source": [
        "## 축 좌표\n",
        "\n",
        "애프터 데이터가 시스템 좌표 축이 아마 두 번째로 유용 좌표 시스템이다. 여기서 점 (0, 0)은 축 또는 서브 플롯의 왼쪽 하단, (0.5, 0.5)는 중심, (1.0, 1.0)은 오른쪽 상단입니다. 범위 밖의 점을 참조 할 수도 있으므로 (-0.1, 1.1)은 축의 왼쪽과 위쪽에 있습니다. 이 좌표계는 축에 텍스트를 배치 할 때 매우 유용합니다. 종종 고정 된 위치 (예 : 축 창의 왼쪽 상단)에 텍스트 풍선을 원하고 이동하거나 확대 / 축소 할 때 해당 위치를 고정 상태로 유지하기 때문입니다. 다음은 4 개의 패널을 만들고 저널에서 자주 볼 수있는 'A', 'B', 'C', 'D'레이블을 지정하는 간단한 예입니다."
      ]
    },
    {
      "cell_type": "code",
      "metadata": {
        "id": "o-VIySU4yzn5"
      },
      "source": [
        "fig = plt.figure()\n",
        "for i, label in enumerate(('A', 'B', 'C', 'D')):\n",
        "    ax = fig.add_subplot(2, 2, i+1)\n",
        "    ax.text(0.05, 0.95, label, transform=ax.transAxes,\n",
        "            fontsize=16, fontweight='bold', va='top')\n",
        "\n",
        "plt.show()"
      ],
      "execution_count": null,
      "outputs": []
    },
    {
      "cell_type": "markdown",
      "metadata": {
        "id": "gJANpO6uy1HH"
      },
      "source": [
        "축 좌표계 에서 선이나 패치를 만들 수도 있지만 이것은 ax.transAxes텍스트를 배치하는 데 사용 하는 것보다 제 경험상 덜 유용 합니다. 그럼에도 불구하고 데이터 공간에 임의의 점을 플로팅 Circle하고 축의 1/4 반경으로 축의 중앙에 반투명을 오버레이하는 어리석은 예가 있습니다. 축이 종횡비를 유지하지 않는 경우 (참조 set_aspect()) , 이것은 타원처럼 보일 것입니다. 이동 / 확대 / 축소 도구를 사용하여 이동하거나 데이터 xlim 및 ylim을 수동으로 변경하면 데이터 이동이 표시되지만 원은 데이터 좌표에 있지 않고 항상 축의 중심에 남아 있기 때문에 고정 된 상태로 유지됩니다."
      ]
    },
    {
      "cell_type": "code",
      "metadata": {
        "id": "yimFHeGgy2rX"
      },
      "source": [
        "fig, ax = plt.subplots()\n",
        "x, y = 10*np.random.rand(2, 1000)\n",
        "ax.plot(x, y, 'go', alpha=0.2)  # plot some data in data coordinates\n",
        "\n",
        "circ = mpatches.Circle((0.5, 0.5), 0.25, transform=ax.transAxes,\n",
        "                       facecolor='blue', alpha=0.75)\n",
        "ax.add_patch(circ)\n",
        "plt.show()"
      ],
      "execution_count": null,
      "outputs": []
    },
    {
      "cell_type": "markdown",
      "metadata": {
        "id": "eXQYdOU4y4pN"
      },
      "source": [
        "## 혼합 변환\n",
        "\n",
        "축을 데이터 좌표 와 혼합하는 혼합 좌표 공간 에서 그리는 것은 매우 유용합니다. 예를 들어 y 데이터의 일부 영역을 강조 표시하지만 데이터 제한, 이동 또는 확대 / 축소 수준 등에 관계없이 x 축을 가로 지르는 가로 범위를 만드는 데 매우 유용합니다. 이러한 혼합 라인과 스팬이 너무 유용 사실. 우리는 음모에 쉽게들을 수 있도록 기능을 내장했다 (참조 , , , )하지만 교훈적인 목적을 위해 우리는 혼합 변환을 사용하여 여기에 수평 범위를 구현합니다. 이 트릭은 일반 데카르트 좌표계에서 볼 수있는 분리 가능한 변환에만 작동하지만 .axhline()axvline()axhspan()axvspan()PolarTransform"
      ]
    },
    {
      "cell_type": "code",
      "metadata": {
        "id": "In5WANAgy6Y3"
      },
      "source": [
        "import matplotlib.transforms as transforms\n",
        "\n",
        "fig, ax = plt.subplots()\n",
        "x = np.random.randn(1000)\n",
        "\n",
        "ax.hist(x, 30)\n",
        "ax.set_title(r'$\\sigma=1 \\/ \\dots \\/ \\sigma=2$', fontsize=16)\n",
        "\n",
        "# the x coords of this transformation are data, and the y coord are axes\n",
        "trans = transforms.blended_transform_factory(\n",
        "    ax.transData, ax.transAxes)\n",
        "# highlight the 1..2 stddev region with a span.\n",
        "# We want x to be in data coordinates and y to span from 0..1 in axes coords.\n",
        "rect = mpatches.Rectangle((1, 0), width=1, height=1, transform=trans,\n",
        "                          color='yellow', alpha=0.5)\n",
        "ax.add_patch(rect)\n",
        "\n",
        "plt.show()"
      ],
      "execution_count": null,
      "outputs": []
    },
    {
      "cell_type": "markdown",
      "metadata": {
        "id": "AunM_RgRy9DF"
      },
      "source": [
        "**노트**\n",
        "\n",
        "x가 데이터 좌표에 있고 y가 축 좌표 에있는 혼합 변환 은 매우 유용하여 Matplotlib가 눈금, 눈금 레이블 등을 그리기 위해 내부적으로 사용하는 버전을 반환하는 도우미 메서드가 있습니다 . 메서드는 matplotlib.axes.Axes.get_xaxis_transform()및 matplotlib.axes.Axes.get_yaxis_transform()입니다. 따라서 위의 예에서에 대한 호출 blended_transform_factory()은 다음으로 대체 될 수 있습니다 get_xaxis_transform.\n",
        "\n",
        "trans = ax.get_xaxis_transform()"
      ]
    },
    {
      "cell_type": "markdown",
      "metadata": {
        "id": "xFYu-WsvzBom"
      },
      "source": [
        "## 물리적 좌표로 플로팅하기\n",
        "\n",
        "때로는 물체가 플롯에서 특정 물리적 크기가되기를 원합니다. 여기서 우리는 위와 같은 원을 그리지 만 물리적 좌표로 그립니다. 대화식으로 수행하면 그림의 크기를 변경해도 왼쪽 아래 모서리에서 원의 오프셋이 변경되지 않고 크기가 변경되지 않으며 원은 축의 종횡비에 관계없이 원으로 유지된다는 것을 알 수 있습니다."
      ]
    },
    {
      "cell_type": "code",
      "metadata": {
        "id": "OHwHVifNzEMF"
      },
      "source": [
        "fig, ax = plt.subplots(figsize=(5, 4))\n",
        "x, y = 10*np.random.rand(2, 1000)\n",
        "ax.plot(x, y*10., 'go', alpha=0.2)  # plot some data in data coordinates\n",
        "# add a circle in fixed-coordinates\n",
        "circ = mpatches.Circle((2.5, 2), 1.0, transform=fig.dpi_scale_trans,\n",
        "                       facecolor='blue', alpha=0.75)\n",
        "ax.add_patch(circ)\n",
        "plt.show()"
      ],
      "execution_count": null,
      "outputs": []
    },
    {
      "cell_type": "markdown",
      "metadata": {
        "id": "9Cy9kjM4zGdc"
      },
      "source": [
        "그림 크기를 변경하면 원은 절대 위치를 변경하지 않고 잘립니다."
      ]
    },
    {
      "cell_type": "code",
      "metadata": {
        "id": "gD8AwKFdzHYE"
      },
      "source": [
        "fig, ax = plt.subplots(figsize=(7, 2))\n",
        "x, y = 10*np.random.rand(2, 1000)\n",
        "ax.plot(x, y*10., 'go', alpha=0.2)  # plot some data in data coordinates\n",
        "# add a circle in fixed-coordinates\n",
        "circ = mpatches.Circle((2.5, 2), 1.0, transform=fig.dpi_scale_trans,\n",
        "                       facecolor='blue', alpha=0.75)\n",
        "ax.add_patch(circ)\n",
        "plt.show()"
      ],
      "execution_count": null,
      "outputs": []
    },
    {
      "cell_type": "markdown",
      "metadata": {
        "id": "1aXMPrPjzJBI"
      },
      "source": [
        "또 다른 용도는 축의 데이터 포인트 주위에 물리적 차원이 설정된 패치를 배치하는 것입니다. 여기에 두 개의 변환을 더합니다. 첫 번째는 타원의 크기 조정을 설정하고 두 번째는 위치를 설정합니다. 그런 다음 타원을 원점에 배치 한 다음 도우미 변환 ScaledTranslation 을 사용 하여 ax.transData좌표계 의 올바른 위치로 이동합니다 . 이 도우미는 다음으로 인스턴스화됩니다.\n",
        "\n",
        "trans = ScaledTranslation(xt, yt, scale_trans)"
      ]
    },
    {
      "cell_type": "markdown",
      "metadata": {
        "id": "PnCJeR99zRZ-"
      },
      "source": [
        "여기서 xt 및 yt 는 변환 오프셋이고 scale_trans 는 오프셋을 적용하기 전에 변환 시간에 xt 및 yt 를 조정하는 변환입니다 .\n",
        "\n",
        "아래 변환에서 더하기 연산자를 사용합니다. 이 코드는 말합니다 : 첫째 스케일 변환을 적용 fig.dpi_scale_trans 하여 데이터를 변환 한 후 타원 적절한 크기 있도록,하지만 여전히 (0, 0)을 중심으로, 그리고 xdata[0]및 ydata[0]데이터 공간에.\n",
        "\n",
        "대화식 사용에서 축 제한이 확대 / 축소를 통해 변경 되더라도 타원은 동일한 크기를 유지합니다."
      ]
    },
    {
      "cell_type": "code",
      "metadata": {
        "id": "IKnPC6l5zSwS"
      },
      "source": [
        "fig, ax = plt.subplots()\n",
        "xdata, ydata = (0.2, 0.7), (0.5, 0.5)\n",
        "ax.plot(xdata, ydata, \"o\")\n",
        "ax.set_xlim((0, 1))\n",
        "\n",
        "trans = (fig.dpi_scale_trans +\n",
        "         transforms.ScaledTranslation(xdata[0], ydata[0], ax.transData))\n",
        "\n",
        "# plot an ellipse around the point that is 150 x 130 points in diameter...\n",
        "circle = mpatches.Ellipse((0, 0), 150/72, 130/72, angle=40,\n",
        "                          fill=None, transform=trans)\n",
        "ax.add_patch(circle)\n",
        "plt.show()\n"
      ],
      "execution_count": null,
      "outputs": []
    },
    {
      "cell_type": "markdown",
      "metadata": {
        "id": "cNciTSNBzUpk"
      },
      "source": [
        "**노트**\n",
        "\n",
        "변화의 순서가 중요합니다. 여기서 타원은 먼저 디스플레이 공간에서 올바른 치수를 지정한 다음 데이터 공간에서 올바른 지점으로 이동합니다. 우리가했던 경우 ScaledTranslation다음, 첫 번째 xdata[0]와 ydata[0]첫 번째로 변환 될 디스플레이 (좌표 로 확장 할 것이다 200 dpi의 모니터 제외) 한 후 그 좌표가 아니라 화면 (즉, 오프 타원의 중심을 밀어 ).[ 358.4  475.2]fig.dpi_scale_trans[ 71680.  95040.]"
      ]
    },
    {
      "cell_type": "markdown",
      "metadata": {
        "id": "Tis3EtlhzXAJ"
      },
      "source": [
        "## 오프셋 변환을 사용하여 그림자 효과 만들기\n",
        "\n",
        "의 또 다른 용도는 ScaledTranslation다른 변형에서 오프셋되는 새 변형을 만드는 것입니다. 예를 들어, 다른 객체에 대해 약간 이동 한 객체를 배치하는 것입니다. 일반적으로 이동 효과가 다른 확대 / 축소 수준 및 dpi 설정에서 일정하도록 데이터 좌표가 아닌 포인트 또는 인치와 같은 일부 물리적 차원으로 이동하려고합니다 .\n",
        "\n",
        "오프셋의 한 가지 용도는 그림자 효과를 만드는 것입니다. 첫 번째 개체와 동일한 개체를 바로 오른쪽에 그리고 바로 아래에 그려서 zorder를 조정하여 그림자를 먼저 그린 다음 개체를 그립니다. 그 위에 그림자.\n",
        "\n",
        "여기서 우리 는 위 의 사용과 반대 순서로 변환을 적용합니다 ScaledTranslation. 플롯은 먼저 데이터 좌표 ( ax.transData)에서 만든 다음를 사용하여 dx및 dy포인트 만큼 이동합니다 fig.dpi_scale_trans. (타이포그래피에서 포인트 는 1/72 인치이며, 오프셋을 포인트로 지정하면 저장된 dpi 해상도에 관계없이 그림이 동일하게 보입니다.)"
      ]
    },
    {
      "cell_type": "code",
      "metadata": {
        "id": "BAtypxsrzaAx"
      },
      "source": [
        "fig, ax = plt.subplots()\n",
        "\n",
        "# make a simple sine wave\n",
        "x = np.arange(0., 2., 0.01)\n",
        "y = np.sin(2*np.pi*x)\n",
        "line, = ax.plot(x, y, lw=3, color='blue')\n",
        "\n",
        "# shift the object over 2 points, and down 2 points\n",
        "dx, dy = 2/72., -2/72.\n",
        "offset = transforms.ScaledTranslation(dx, dy, fig.dpi_scale_trans)\n",
        "shadow_transform = ax.transData + offset\n",
        "\n",
        "# now plot the same data with our offset transform;\n",
        "# use the zorder to make sure we are below the line\n",
        "ax.plot(x, y, lw=3, color='gray',\n",
        "        transform=shadow_transform,\n",
        "        zorder=0.5*line.get_zorder())\n",
        "\n",
        "ax.set_title('creating a shadow effect with an offset transform')\n",
        "plt.show()"
      ],
      "execution_count": null,
      "outputs": []
    },
    {
      "cell_type": "markdown",
      "metadata": {
        "id": "zEOBJow9zb-C"
      },
      "source": [
        "**노트**\n",
        "\n",
        "dpi 및 인치 오프셋은 matplotlib.transforms.offset_copy()오프셋을 추가 한 새 변환을 반환하는 에서 만들 수있는 특수 도우미 함수가있는 일반적인 사용 사례입니다 . 그래서 위에서 우리는 할 수있었습니다 :\n",
        "\n",
        "shadow_transform = transforms.offset_copy(ax.transData,\n",
        "         fig=fig, dx, dy, units='inches')"
      ]
    },
    {
      "cell_type": "markdown",
      "metadata": {
        "id": "K4_AZ9qAzfL8"
      },
      "source": [
        "## 변환 파이프 라인\n",
        "\n",
        "이 ax.transData에서 변환 파이프 라인을 포함하는 세 가지 변환의 복합 인이 튜토리얼에서 작업 한 변환 데이터 > - 디스플레이 좌표. Michael Droettboom은 이동 및 확대 / 축소 할 때 발생하는 선형 아핀 변환에서 극좌표 및 로그 플롯에서 발생하는 비선형 투영 및 스케일을 분리하는 깨끗한 API를 제공하기 위해 변환 프레임 워크를 구현했습니다. 여기에는 아핀 변환에 영향을주는 축을 이동하고 확대 할 수 있기 때문에 효율성이 있지만 간단한 탐색 이벤트에서 잠재적으로 비용이 많이 드는 비선형 배율 또는 투영을 계산할 필요가 없을 수 있습니다. 아핀 변환 행렬을 함께 곱한 다음 한 단계로 좌표에 적용 할 수도 있습니다. 가능한 모든 변환에 해당되는 것은 아닙니다.\n",
        "\n",
        "다음은 ax.transData분리 가능한 기본 축 Axes클래스 에서 인스턴스를 정의 하는 방법입니다 .\n",
        "\n",
        "self.transData = self.transScale + (self.transLimits + self.transAxes)\n",
        "축의 (0, 0), (1, 1) 모서리 또는 서브 플롯 경계 상자를 매핑하여 공간 을 표시 하는 Axes coordinatestransAxes 에서 위 의 인스턴스를 소개 했으므로이 다른 두 부분을 살펴 보겠습니다.\n",
        "\n",
        "self.transLimits데이터 에서 축 좌표 로 이동 하는 변환입니다 . 즉, 뷰 xlim 및 ylim을 축의 단위 공간에 매핑 transAxes한 다음 해당 단위 공간을 사용하여 공간을 표시합니다. 여기에서 실제로 작동하는 것을 볼 수 있습니다."
      ]
    },
    {
      "cell_type": "code",
      "metadata": {
        "id": "cV5XCYkRzh-D"
      },
      "source": [
        "\n",
        "In [81]: ax.set_xlim(0, 10)\n",
        "Out[81]: (0, 10)\n",
        "\n",
        "In [82]: ax.set_ylim(-1, 1)\n",
        "Out[82]: (-1, 1)\n",
        "\n",
        "In [84]: ax.transLimits.transform((0, -1))\n",
        "Out[84]: array([ 0.,  0.])\n",
        "\n",
        "In [85]: ax.transLimits.transform((10, -1))\n",
        "Out[85]: array([ 1.,  0.])\n",
        "\n",
        "In [86]: ax.transLimits.transform((10, 1))\n",
        "Out[86]: array([ 1.,  1.])\n",
        "\n",
        "In [87]: ax.transLimits.transform((5, 0))\n",
        "Out[87]: array([ 0.5,  0.5])"
      ],
      "execution_count": null,
      "outputs": []
    },
    {
      "cell_type": "markdown",
      "metadata": {
        "id": "eSieicA0zi7V"
      },
      "source": [
        "이 동일한 역변환을 사용하여 단위 축 좌표에서 데이터 좌표로 다시 이동할 수 있습니다 ."
      ]
    },
    {
      "cell_type": "code",
      "metadata": {
        "id": "hd48AiLAzjzb"
      },
      "source": [
        "In [90]: inv.transform((0.25, 0.25))\n",
        "Out[90]: array([ 2.5, -0.5])"
      ],
      "execution_count": null,
      "outputs": []
    },
    {
      "cell_type": "markdown",
      "metadata": {
        "id": "pcn0gFHDzlEl"
      },
      "source": [
        "마지막 부분은 self.transScale데이터의 선택적 비선형 스케일링 (예 : 로그 축)을 담당 하는 속성입니다. 축이 초기에 설정되면,이 단지 기본적인하기 matplotlib 축 때문에, 변환 신분으로 설정되어 리니어 스케일을 가지고 있지만, 당신은 로그 스케일링과 같은 함수를 호출 할 때 semilogx()와 로그에 규모를 설정 명시 적 또는 set_xscale(), 그 ax.transScale속성은 핸들로 설정 비선형 투영. 스케일 변환은 각각 xaxis및 yaxis Axis인스턴스의 속성입니다 . 예를 들어를 호출 ax.set_xscale('log')하면 xaxis가 해당 배율을 matplotlib.scale.LogScale인스턴스로 업데이트 합니다.\n",
        "\n",
        "분리 할 수없는 축인 PolarAxes의 경우 고려해야 할 부분이 하나 더 있습니다. 투영 변환입니다. 이는 transData matplotlib.projections.polar.PolarAxes일반적인 분리 가능한 matplotlib 축의 경우와 유사하며 하나의 추가 조각이 있습니다 transProjection.\n",
        "\n",
        "self.transData = self.transScale + self.transProjection + \\\n",
        "    (self.transProjectionAffine + self.transAxes)\n",
        "    \n",
        "transProjection지도 데이터의 경우 위도와 경도, 극지방 데이터의 경우 반경 및 세타와 같은 공간에서 분리 가능한 데카르트 좌표계로의 투영을 처리합니다. matplotlib.projections패키지 에는 여러 프로젝션 예제가 있으며 , 더 많은 것을 배우는 가장 좋은 방법은 Matplotlib가 확장 가능한 축과 프로젝션을 지원하기 때문에 해당 패키지의 소스를 열고 직접 만드는 방법을 확인하는 것입니다. Michael Droettboom은 Hammer 투영 축을 만드는 멋진 튜토리얼 예제를 제공했습니다. 사용자 정의 투영을 참조하십시오 ."
      ]
    }
  ]
}